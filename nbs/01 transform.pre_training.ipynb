{
 "cells": [
  {
   "attachments": {},
   "cell_type": "markdown",
   "metadata": {},
   "source": [
    "# Making the Reference Genome more easily usable\n",
    "\n",
    "> \"Preparing genomic DNA for pre-training.\""
   ]
  },
  {
   "attachments": {},
   "cell_type": "markdown",
   "metadata": {},
   "source": [
    "## Steps\n",
    "\n",
    "1. Identify the latest genomic dna file in the downloaded data\n",
    "2. Extract the accession sequence records from the reference genome annotation\n",
    "3. Extract the DNA feature sequences, write to csv\n",
    "4. Extract the mRNA feature sequences, write to csv\n",
    "5. Extract the protein feature sequences, write to csv"
   ]
  },
  {
   "attachments": {},
   "cell_type": "markdown",
   "metadata": {},
   "source": [
    "### 0. Setup"
   ]
  },
  {
   "cell_type": "code",
   "execution_count": 1,
   "metadata": {},
   "outputs": [],
   "source": [
    "#| default_exp pre_training.transform"
   ]
  },
  {
   "cell_type": "code",
   "execution_count": 2,
   "metadata": {},
   "outputs": [],
   "source": [
    "#| hide\n",
    "from nbdev.showdoc import *"
   ]
  },
  {
   "cell_type": "code",
   "execution_count": 23,
   "metadata": {},
   "outputs": [],
   "source": [
    "#| export\n",
    "from pathlib import Path\n",
    "from Bio import SeqIO, SeqRecord, SeqFeature, Seq\n",
    "from tqdm.auto import tqdm\n",
    "from yaml import safe_load\n",
    "import gzip\n",
    "import pandas as pd\n",
    "import typing\n",
    "from tqdm.notebook import tqdm\n",
    "\n",
    "from llm_mito_scanner.data.download import load_config"
   ]
  },
  {
   "cell_type": "code",
   "execution_count": 4,
   "metadata": {},
   "outputs": [],
   "source": [
    "#| hide\n",
    "config = load_config()"
   ]
  },
  {
   "cell_type": "code",
   "execution_count": 5,
   "metadata": {},
   "outputs": [
    {
     "data": {
      "text/plain": [
       "True"
      ]
     },
     "execution_count": 5,
     "metadata": {},
     "output_type": "execute_result"
    }
   ],
   "source": [
    "#| hide\n",
    "data_path = Path(config.get(\"data_path\"))\n",
    "data_path_raw = data_path / \"raw\"\n",
    "data_path_raw.exists()"
   ]
  },
  {
   "attachments": {},
   "cell_type": "markdown",
   "metadata": {},
   "source": [
    "### 1. Identify the latest genomic reference file"
   ]
  },
  {
   "cell_type": "code",
   "execution_count": 6,
   "metadata": {},
   "outputs": [
    {
     "data": {
      "text/plain": [
       "[Path('/mnt/e/Data/llm-mito-scanner-data/data/raw/GCF_000001405.40_GRCh38.p14')]"
      ]
     },
     "execution_count": 6,
     "metadata": {},
     "output_type": "execute_result"
    }
   ],
   "source": [
    "#| hide\n",
    "annotations = [d for d in data_path_raw.iterdir() if d.is_dir()]\n",
    "annotations"
   ]
  },
  {
   "cell_type": "code",
   "execution_count": 7,
   "metadata": {},
   "outputs": [],
   "source": [
    "#| export\n",
    "def get_latest_annotation_path(\n",
    "        path: Path # Raw data path\n",
    "        ) -> Path: # Path of the latest annotation\n",
    "    \"Get the latest annotation path.\"\n",
    "    annotations = [d for d in path.iterdir() if d.is_dir()]\n",
    "    annotations_df = pd.DataFrame(annotations, columns=['path'])\n",
    "    annotations_df.loc[:, 'accession'] = annotations_df.path.apply(lambda p: p.name)\n",
    "    annotations_df.loc[:, 'accession_prefix'] = annotations_df.accession.apply(\n",
    "        lambda acc: acc.split(\".\", 1)[0]\n",
    "    )\n",
    "    annotations_df.sort_values(\"accession_prefix\", inplace=True, ascending=False)\n",
    "    return annotations_df.iloc[0, 0]"
   ]
  },
  {
   "cell_type": "code",
   "execution_count": 8,
   "metadata": {},
   "outputs": [
    {
     "data": {
      "text/plain": [
       "Path('/mnt/e/Data/llm-mito-scanner-data/data/raw/GCF_000001405.40_GRCh38.p14')"
      ]
     },
     "execution_count": 8,
     "metadata": {},
     "output_type": "execute_result"
    }
   ],
   "source": [
    "#| hide\n",
    "latest_annotation_path = get_latest_annotation_path(data_path_raw)\n",
    "latest_annotation_path"
   ]
  },
  {
   "attachments": {},
   "cell_type": "markdown",
   "metadata": {},
   "source": [
    "### 2. Extract the accession sequence records from the reference genome annotation"
   ]
  },
  {
   "cell_type": "code",
   "execution_count": 9,
   "metadata": {},
   "outputs": [],
   "source": [
    "#| export\n",
    "def get_latest_feature_table_path(\n",
    "        path: Path # Latest annotation path\n",
    "        ) -> Path: # Path of the feature table\n",
    "    \"Return latest feature table path.\"\n",
    "    return next(path.glob(\"*_feature_table.txt.gz\"), None)\n",
    "\n",
    "\n",
    "def read_latest_feature_table(\n",
    "        path: Path # Feature table path\n",
    "        ) -> pd.DataFrame: # Dataframe of features\n",
    "    \"Return latest feature table.\"\n",
    "    return pd.read_csv(\n",
    "        path,\n",
    "        compression=\"gzip\",\n",
    "        sep='\\t'\n",
    "    )"
   ]
  },
  {
   "cell_type": "code",
   "execution_count": 10,
   "metadata": {},
   "outputs": [
    {
     "name": "stderr",
     "output_type": "stream",
     "text": [
      "/tmp/ipykernel_749/2127894616.py:13: DtypeWarning: Columns (5) have mixed types. Specify dtype option on import or set low_memory=False.\n",
      "  return pd.read_csv(\n"
     ]
    }
   ],
   "source": [
    "#| hide\n",
    "# Where is the information for genes?\n",
    "feature_table = read_latest_feature_table(\n",
    "    get_latest_feature_table_path(latest_annotation_path)\n",
    ")"
   ]
  },
  {
   "cell_type": "code",
   "execution_count": 11,
   "metadata": {},
   "outputs": [
    {
     "data": {
      "text/plain": [
       "# feature\n",
       "CDS              145312\n",
       "mRNA             144434\n",
       "gene              67127\n",
       "ncRNA             36872\n",
       "misc_RNA          14995\n",
       "precursor_RNA      2139\n",
       "tRNA                691\n",
       "V_segment           664\n",
       "J_segment           128\n",
       "rRNA                 80\n",
       "D_segment            61\n",
       "C_region             44\n",
       "Name: count, dtype: int64"
      ]
     },
     "execution_count": 11,
     "metadata": {},
     "output_type": "execute_result"
    }
   ],
   "source": [
    "#| hide\n",
    "feature_table['# feature'].value_counts()"
   ]
  },
  {
   "cell_type": "code",
   "execution_count": 12,
   "metadata": {},
   "outputs": [
    {
     "data": {
      "text/html": [
       "<div>\n",
       "<style scoped>\n",
       "    .dataframe tbody tr th:only-of-type {\n",
       "        vertical-align: middle;\n",
       "    }\n",
       "\n",
       "    .dataframe tbody tr th {\n",
       "        vertical-align: top;\n",
       "    }\n",
       "\n",
       "    .dataframe thead th {\n",
       "        text-align: right;\n",
       "    }\n",
       "</style>\n",
       "<table border=\"1\" class=\"dataframe\">\n",
       "  <thead>\n",
       "    <tr style=\"text-align: right;\">\n",
       "      <th></th>\n",
       "      <th># feature</th>\n",
       "      <th>class</th>\n",
       "      <th>assembly</th>\n",
       "      <th>assembly_unit</th>\n",
       "      <th>seq_type</th>\n",
       "      <th>chromosome</th>\n",
       "      <th>genomic_accession</th>\n",
       "      <th>start</th>\n",
       "      <th>end</th>\n",
       "      <th>strand</th>\n",
       "      <th>product_accession</th>\n",
       "      <th>non-redundant_refseq</th>\n",
       "      <th>related_accession</th>\n",
       "      <th>name</th>\n",
       "      <th>symbol</th>\n",
       "      <th>GeneID</th>\n",
       "      <th>locus_tag</th>\n",
       "      <th>feature_interval_length</th>\n",
       "      <th>product_length</th>\n",
       "      <th>attributes</th>\n",
       "    </tr>\n",
       "  </thead>\n",
       "  <tbody>\n",
       "    <tr>\n",
       "      <th>0</th>\n",
       "      <td>gene</td>\n",
       "      <td>transcribed_pseudogene</td>\n",
       "      <td>GCF_000001405.40</td>\n",
       "      <td>Primary Assembly</td>\n",
       "      <td>chromosome</td>\n",
       "      <td>1</td>\n",
       "      <td>NC_000001.11</td>\n",
       "      <td>11874</td>\n",
       "      <td>14409</td>\n",
       "      <td>+</td>\n",
       "      <td>NaN</td>\n",
       "      <td>NaN</td>\n",
       "      <td>NaN</td>\n",
       "      <td>DEAD/H-box helicase 11 like 1 (pseudogene)</td>\n",
       "      <td>DDX11L1</td>\n",
       "      <td>100287102</td>\n",
       "      <td>NaN</td>\n",
       "      <td>2536</td>\n",
       "      <td>NaN</td>\n",
       "      <td>pseudo</td>\n",
       "    </tr>\n",
       "    <tr>\n",
       "      <th>1</th>\n",
       "      <td>misc_RNA</td>\n",
       "      <td>NaN</td>\n",
       "      <td>GCF_000001405.40</td>\n",
       "      <td>Primary Assembly</td>\n",
       "      <td>chromosome</td>\n",
       "      <td>1</td>\n",
       "      <td>NC_000001.11</td>\n",
       "      <td>11874</td>\n",
       "      <td>14409</td>\n",
       "      <td>+</td>\n",
       "      <td>NR_046018.2</td>\n",
       "      <td>NaN</td>\n",
       "      <td>NaN</td>\n",
       "      <td>DEAD/H-box helicase 11 like 1 (pseudogene)</td>\n",
       "      <td>DDX11L1</td>\n",
       "      <td>100287102</td>\n",
       "      <td>NaN</td>\n",
       "      <td>1652</td>\n",
       "      <td>1652.0</td>\n",
       "      <td>pseudo</td>\n",
       "    </tr>\n",
       "    <tr>\n",
       "      <th>2</th>\n",
       "      <td>gene</td>\n",
       "      <td>transcribed_pseudogene</td>\n",
       "      <td>GCF_000001405.40</td>\n",
       "      <td>Primary Assembly</td>\n",
       "      <td>chromosome</td>\n",
       "      <td>1</td>\n",
       "      <td>NC_000001.11</td>\n",
       "      <td>14362</td>\n",
       "      <td>29370</td>\n",
       "      <td>-</td>\n",
       "      <td>NaN</td>\n",
       "      <td>NaN</td>\n",
       "      <td>NaN</td>\n",
       "      <td>WASP family homolog 7, pseudogene</td>\n",
       "      <td>WASH7P</td>\n",
       "      <td>653635</td>\n",
       "      <td>NaN</td>\n",
       "      <td>15009</td>\n",
       "      <td>NaN</td>\n",
       "      <td>pseudo</td>\n",
       "    </tr>\n",
       "    <tr>\n",
       "      <th>3</th>\n",
       "      <td>misc_RNA</td>\n",
       "      <td>NaN</td>\n",
       "      <td>GCF_000001405.40</td>\n",
       "      <td>Primary Assembly</td>\n",
       "      <td>chromosome</td>\n",
       "      <td>1</td>\n",
       "      <td>NC_000001.11</td>\n",
       "      <td>14362</td>\n",
       "      <td>29370</td>\n",
       "      <td>-</td>\n",
       "      <td>NR_024540.1</td>\n",
       "      <td>NaN</td>\n",
       "      <td>NaN</td>\n",
       "      <td>WASP family homolog 7, pseudogene</td>\n",
       "      <td>WASH7P</td>\n",
       "      <td>653635</td>\n",
       "      <td>NaN</td>\n",
       "      <td>1769</td>\n",
       "      <td>1786.0</td>\n",
       "      <td>pseudo</td>\n",
       "    </tr>\n",
       "    <tr>\n",
       "      <th>4</th>\n",
       "      <td>gene</td>\n",
       "      <td>miRNA</td>\n",
       "      <td>GCF_000001405.40</td>\n",
       "      <td>Primary Assembly</td>\n",
       "      <td>chromosome</td>\n",
       "      <td>1</td>\n",
       "      <td>NC_000001.11</td>\n",
       "      <td>17369</td>\n",
       "      <td>17436</td>\n",
       "      <td>-</td>\n",
       "      <td>NaN</td>\n",
       "      <td>NaN</td>\n",
       "      <td>NaN</td>\n",
       "      <td>microRNA 6859-1</td>\n",
       "      <td>MIR6859-1</td>\n",
       "      <td>102466751</td>\n",
       "      <td>NaN</td>\n",
       "      <td>68</td>\n",
       "      <td>NaN</td>\n",
       "      <td>NaN</td>\n",
       "    </tr>\n",
       "  </tbody>\n",
       "</table>\n",
       "</div>"
      ],
      "text/plain": [
       "  # feature                   class          assembly     assembly_unit   \n",
       "0      gene  transcribed_pseudogene  GCF_000001405.40  Primary Assembly  \\\n",
       "1  misc_RNA                     NaN  GCF_000001405.40  Primary Assembly   \n",
       "2      gene  transcribed_pseudogene  GCF_000001405.40  Primary Assembly   \n",
       "3  misc_RNA                     NaN  GCF_000001405.40  Primary Assembly   \n",
       "4      gene                   miRNA  GCF_000001405.40  Primary Assembly   \n",
       "\n",
       "     seq_type chromosome genomic_accession  start    end strand   \n",
       "0  chromosome          1      NC_000001.11  11874  14409      +  \\\n",
       "1  chromosome          1      NC_000001.11  11874  14409      +   \n",
       "2  chromosome          1      NC_000001.11  14362  29370      -   \n",
       "3  chromosome          1      NC_000001.11  14362  29370      -   \n",
       "4  chromosome          1      NC_000001.11  17369  17436      -   \n",
       "\n",
       "  product_accession  non-redundant_refseq related_accession   \n",
       "0               NaN                   NaN               NaN  \\\n",
       "1       NR_046018.2                   NaN               NaN   \n",
       "2               NaN                   NaN               NaN   \n",
       "3       NR_024540.1                   NaN               NaN   \n",
       "4               NaN                   NaN               NaN   \n",
       "\n",
       "                                         name     symbol     GeneID   \n",
       "0  DEAD/H-box helicase 11 like 1 (pseudogene)    DDX11L1  100287102  \\\n",
       "1  DEAD/H-box helicase 11 like 1 (pseudogene)    DDX11L1  100287102   \n",
       "2           WASP family homolog 7, pseudogene     WASH7P     653635   \n",
       "3           WASP family homolog 7, pseudogene     WASH7P     653635   \n",
       "4                             microRNA 6859-1  MIR6859-1  102466751   \n",
       "\n",
       "   locus_tag  feature_interval_length  product_length attributes  \n",
       "0        NaN                     2536             NaN     pseudo  \n",
       "1        NaN                     1652          1652.0     pseudo  \n",
       "2        NaN                    15009             NaN     pseudo  \n",
       "3        NaN                     1769          1786.0     pseudo  \n",
       "4        NaN                       68             NaN        NaN  "
      ]
     },
     "execution_count": 12,
     "metadata": {},
     "output_type": "execute_result"
    }
   ],
   "source": [
    "#| hide\n",
    "feature_table.head()"
   ]
  },
  {
   "cell_type": "code",
   "execution_count": 13,
   "metadata": {},
   "outputs": [],
   "source": [
    "#| export\n",
    "def get_genomic_fasta_path(\n",
    "        annotation_path: Path # Annotation path,\n",
    "        ) -> Path: # Fasta path\n",
    "    return next(annotation_path.glob(\"*[!from]_genomic.fna.gz\"), None)"
   ]
  },
  {
   "cell_type": "code",
   "execution_count": 14,
   "metadata": {},
   "outputs": [],
   "source": [
    "#| hide\n",
    "latest_genomic_fasta_path = get_genomic_fasta_path(latest_annotation_path)"
   ]
  },
  {
   "cell_type": "code",
   "execution_count": 24,
   "metadata": {},
   "outputs": [],
   "source": [
    "#| export\n",
    "def extract_accession_sequence_records(\n",
    "        gzip_fasta_path: Path,\n",
    "        write_path: Path,\n",
    "        expected_accessions: int = None\n",
    "):\n",
    "    pbar = None\n",
    "    if isinstance(expected_accessions, int):\n",
    "        pbar = tqdm(total=expected_accessions, ncols=80, leave=True)\n",
    "    with gzip.open(str(gzip_fasta_path.resolve()), mode='rt') as f:\n",
    "        for record in SeqIO.parse(f, \"fasta\"):\n",
    "            record_write_path = write_path / f\"{record.id}.fasta\"\n",
    "            if not record_write_path.exists():\n",
    "                SeqIO.write(record, record_write_path, \"fasta\")\n",
    "            if pbar is not None:\n",
    "                pbar.update(1)\n",
    "    if pbar is not None:\n",
    "        pbar.close()"
   ]
  },
  {
   "cell_type": "code",
   "execution_count": 25,
   "metadata": {},
   "outputs": [
    {
     "data": {
      "application/vnd.jupyter.widget-view+json": {
       "model_id": "f2d258733098481e8db4cc9223f007e4",
       "version_major": 2,
       "version_minor": 0
      },
      "text/plain": [
       "  0%|                                                   | 0/538 [00:00<?, ?it/s]"
      ]
     },
     "metadata": {},
     "output_type": "display_data"
    }
   ],
   "source": [
    "#| hide\n",
    "accession_path = data_path_raw / \"genomic_accessions\"\n",
    "if not accession_path.exists():\n",
    "    accession_path.mkdir()\n",
    "\n",
    "extract_accession_sequence_records(\n",
    "    latest_genomic_fasta_path,\n",
    "    accession_path,\n",
    "    feature_table.genomic_accession.unique().size\n",
    ")"
   ]
  },
  {
   "cell_type": "code",
   "execution_count": 27,
   "metadata": {},
   "outputs": [],
   "source": [
    "#| export\n",
    "def get_accession_sequence_record(\n",
    "        accession_path: str,\n",
    ") -> SeqRecord:\n",
    "    with accession_path.open(\"r\") as f:\n",
    "        return next(SeqIO.parse(f, \"fasta\"), None)"
   ]
  },
  {
   "cell_type": "code",
   "execution_count": 28,
   "metadata": {},
   "outputs": [],
   "source": [
    "#| hide\n",
    "example_accession = get_accession_sequence_record(\n",
    "    accession_path / \"NC_000001.11.fasta\"\n",
    ")"
   ]
  },
  {
   "cell_type": "code",
   "execution_count": 29,
   "metadata": {},
   "outputs": [
    {
     "data": {
      "text/plain": [
       "SeqRecord(seq=Seq('NNNNNNNNNNNNNNNNNNNNNNNNNNNNNNNNNNNNNNNNNNNNNNNNNNNNNN...NNN'), id='NC_000001.11', name='NC_000001.11', description='NC_000001.11 Homo sapiens chromosome 1, GRCh38.p14 Primary Assembly', dbxrefs=[])"
      ]
     },
     "execution_count": 29,
     "metadata": {},
     "output_type": "execute_result"
    }
   ],
   "source": [
    "#| hide\n",
    "example_accession"
   ]
  },
  {
   "cell_type": "code",
   "execution_count": 37,
   "metadata": {},
   "outputs": [],
   "source": [
    "#| hide\n",
    "# Some validation we can find everything in the feature table\n",
    "assert len(set(feature_table.genomic_accession.unique().tolist()) - set([f.stem for f in accession_path.glob(\"*.fasta\")])) == 0"
   ]
  },
  {
   "attachments": {},
   "cell_type": "markdown",
   "metadata": {},
   "source": [
    "### 3. Extract the DNA feature sequences, write to csv"
   ]
  },
  {
   "cell_type": "code",
   "execution_count": 53,
   "metadata": {},
   "outputs": [],
   "source": [
    "#| export\n",
    "def yield_dna_feature_sequences(\n",
    "        feature_table: pd.DataFrame, # Feature DataFrame\n",
    "        accessions_path_parent: Path\n",
    "        ) -> typing.Generator[typing.Tuple[int, str], None, None]: # Yield nucleotide strings denoting the feature\n",
    "    \"For each accession in the feature table, yield the index and sequence of the features.\"\n",
    "    for accession in feature_table.genomic_accession.unique():\n",
    "        accession_features = feature_table[feature_table.genomic_accession == accession]\n",
    "        accession_path = accessions_path_parent / f\"{accession}.fasta\"\n",
    "        if not accession_path.exists():\n",
    "            raise FileNotFoundError(accession_path)\n",
    "        accession_sequence_record = get_accession_sequence_record(accession_path)\n",
    "        for idx, feature in accession_features.iterrows():\n",
    "            feature_start = feature.start\n",
    "            feature_end = feature.end\n",
    "            feature_strand = feature.strand\n",
    "            feature_interval_length = feature.feature_interval_length\n",
    "            feature_sequence_record = accession_sequence_record[feature_start - 1: feature_end]\n",
    "            if feature_strand == \"-\":\n",
    "                feature_sequence_record = feature_sequence_record.reverse_complement()\n",
    "            feature_sequence = feature_sequence_record.seq\n",
    "            # assert len(feature_sequence) == feature_interval_length\n",
    "            yield idx, str(feature_sequence)"
   ]
  },
  {
   "cell_type": "code",
   "execution_count": 54,
   "metadata": {},
   "outputs": [
    {
     "data": {
      "text/plain": [
       "(412547, 181676)"
      ]
     },
     "execution_count": 54,
     "metadata": {},
     "output_type": "execute_result"
    }
   ],
   "source": [
    "#| hide\n",
    "feature_table.shape[0], feature_table.drop_duplicates(subset=[\"genomic_accession\", \"start\", \"end\", \"strand\", \"GeneID\"]).shape[0]"
   ]
  },
  {
   "cell_type": "code",
   "execution_count": 55,
   "metadata": {},
   "outputs": [],
   "source": [
    "#| hide\n",
    "example_feature_sequence_generator = yield_dna_feature_sequences(\n",
    "    feature_table,\n",
    "    accession_path\n",
    ")\n",
    "\n",
    "(example_feature_idx, example_feature_sequence) = next(example_feature_sequence_generator)\n",
    "(example_feature_idx_2, example_feature_sequence_2) = next(example_feature_sequence_generator)\n",
    "(example_feature_idx_3, example_feature_sequence_3) = next(example_feature_sequence_generator)"
   ]
  },
  {
   "cell_type": "code",
   "execution_count": 56,
   "metadata": {},
   "outputs": [
    {
     "data": {
      "text/html": [
       "<div>\n",
       "<style scoped>\n",
       "    .dataframe tbody tr th:only-of-type {\n",
       "        vertical-align: middle;\n",
       "    }\n",
       "\n",
       "    .dataframe tbody tr th {\n",
       "        vertical-align: top;\n",
       "    }\n",
       "\n",
       "    .dataframe thead th {\n",
       "        text-align: right;\n",
       "    }\n",
       "</style>\n",
       "<table border=\"1\" class=\"dataframe\">\n",
       "  <thead>\n",
       "    <tr style=\"text-align: right;\">\n",
       "      <th></th>\n",
       "      <th># feature</th>\n",
       "      <th>class</th>\n",
       "      <th>assembly</th>\n",
       "      <th>assembly_unit</th>\n",
       "      <th>seq_type</th>\n",
       "      <th>chromosome</th>\n",
       "      <th>genomic_accession</th>\n",
       "      <th>start</th>\n",
       "      <th>end</th>\n",
       "      <th>strand</th>\n",
       "      <th>product_accession</th>\n",
       "      <th>non-redundant_refseq</th>\n",
       "      <th>related_accession</th>\n",
       "      <th>name</th>\n",
       "      <th>symbol</th>\n",
       "      <th>GeneID</th>\n",
       "      <th>locus_tag</th>\n",
       "      <th>feature_interval_length</th>\n",
       "      <th>product_length</th>\n",
       "      <th>attributes</th>\n",
       "    </tr>\n",
       "  </thead>\n",
       "  <tbody>\n",
       "    <tr>\n",
       "      <th>0</th>\n",
       "      <td>gene</td>\n",
       "      <td>transcribed_pseudogene</td>\n",
       "      <td>GCF_000001405.40</td>\n",
       "      <td>Primary Assembly</td>\n",
       "      <td>chromosome</td>\n",
       "      <td>1</td>\n",
       "      <td>NC_000001.11</td>\n",
       "      <td>11874</td>\n",
       "      <td>14409</td>\n",
       "      <td>+</td>\n",
       "      <td>NaN</td>\n",
       "      <td>NaN</td>\n",
       "      <td>NaN</td>\n",
       "      <td>DEAD/H-box helicase 11 like 1 (pseudogene)</td>\n",
       "      <td>DDX11L1</td>\n",
       "      <td>100287102</td>\n",
       "      <td>NaN</td>\n",
       "      <td>2536</td>\n",
       "      <td>NaN</td>\n",
       "      <td>pseudo</td>\n",
       "    </tr>\n",
       "    <tr>\n",
       "      <th>1</th>\n",
       "      <td>misc_RNA</td>\n",
       "      <td>NaN</td>\n",
       "      <td>GCF_000001405.40</td>\n",
       "      <td>Primary Assembly</td>\n",
       "      <td>chromosome</td>\n",
       "      <td>1</td>\n",
       "      <td>NC_000001.11</td>\n",
       "      <td>11874</td>\n",
       "      <td>14409</td>\n",
       "      <td>+</td>\n",
       "      <td>NR_046018.2</td>\n",
       "      <td>NaN</td>\n",
       "      <td>NaN</td>\n",
       "      <td>DEAD/H-box helicase 11 like 1 (pseudogene)</td>\n",
       "      <td>DDX11L1</td>\n",
       "      <td>100287102</td>\n",
       "      <td>NaN</td>\n",
       "      <td>1652</td>\n",
       "      <td>1652.0</td>\n",
       "      <td>pseudo</td>\n",
       "    </tr>\n",
       "    <tr>\n",
       "      <th>2</th>\n",
       "      <td>gene</td>\n",
       "      <td>transcribed_pseudogene</td>\n",
       "      <td>GCF_000001405.40</td>\n",
       "      <td>Primary Assembly</td>\n",
       "      <td>chromosome</td>\n",
       "      <td>1</td>\n",
       "      <td>NC_000001.11</td>\n",
       "      <td>14362</td>\n",
       "      <td>29370</td>\n",
       "      <td>-</td>\n",
       "      <td>NaN</td>\n",
       "      <td>NaN</td>\n",
       "      <td>NaN</td>\n",
       "      <td>WASP family homolog 7, pseudogene</td>\n",
       "      <td>WASH7P</td>\n",
       "      <td>653635</td>\n",
       "      <td>NaN</td>\n",
       "      <td>15009</td>\n",
       "      <td>NaN</td>\n",
       "      <td>pseudo</td>\n",
       "    </tr>\n",
       "  </tbody>\n",
       "</table>\n",
       "</div>"
      ],
      "text/plain": [
       "  # feature                   class          assembly     assembly_unit   \n",
       "0      gene  transcribed_pseudogene  GCF_000001405.40  Primary Assembly  \\\n",
       "1  misc_RNA                     NaN  GCF_000001405.40  Primary Assembly   \n",
       "2      gene  transcribed_pseudogene  GCF_000001405.40  Primary Assembly   \n",
       "\n",
       "     seq_type chromosome genomic_accession  start    end strand   \n",
       "0  chromosome          1      NC_000001.11  11874  14409      +  \\\n",
       "1  chromosome          1      NC_000001.11  11874  14409      +   \n",
       "2  chromosome          1      NC_000001.11  14362  29370      -   \n",
       "\n",
       "  product_accession  non-redundant_refseq related_accession   \n",
       "0               NaN                   NaN               NaN  \\\n",
       "1       NR_046018.2                   NaN               NaN   \n",
       "2               NaN                   NaN               NaN   \n",
       "\n",
       "                                         name   symbol     GeneID  locus_tag   \n",
       "0  DEAD/H-box helicase 11 like 1 (pseudogene)  DDX11L1  100287102        NaN  \\\n",
       "1  DEAD/H-box helicase 11 like 1 (pseudogene)  DDX11L1  100287102        NaN   \n",
       "2           WASP family homolog 7, pseudogene   WASH7P     653635        NaN   \n",
       "\n",
       "   feature_interval_length  product_length attributes  \n",
       "0                     2536             NaN     pseudo  \n",
       "1                     1652          1652.0     pseudo  \n",
       "2                    15009             NaN     pseudo  "
      ]
     },
     "execution_count": 56,
     "metadata": {},
     "output_type": "execute_result"
    }
   ],
   "source": [
    "#| hide\n",
    "feature_table.iloc[[example_feature_idx, example_feature_idx_2, example_feature_idx_3], :]"
   ]
  },
  {
   "cell_type": "code",
   "execution_count": 57,
   "metadata": {},
   "outputs": [
    {
     "data": {
      "text/plain": [
       "count    4.125470e+05\n",
       "mean     6.561172e+04\n",
       "std      1.277448e+05\n",
       "min      7.000000e+00\n",
       "25%      6.873000e+03\n",
       "50%      2.335000e+04\n",
       "75%      6.994100e+04\n",
       "max      2.473619e+06\n",
       "dtype: float64"
      ]
     },
     "execution_count": 57,
     "metadata": {},
     "output_type": "execute_result"
    }
   ],
   "source": [
    "#| hide\n",
    "(feature_table.end - feature_table.start).describe()"
   ]
  },
  {
   "cell_type": "code",
   "execution_count": 58,
   "metadata": {},
   "outputs": [],
   "source": [
    "#| export\n",
    "def write_dna_feature_sequences(\n",
    "        feature_generator: typing.Generator[typing.Tuple[int, str], None, None], # Feature sequence generator\n",
    "        file_path: Path, # Where we're writing to\n",
    "        feature_num: int = None, # Number of features we expect to write, creates a progress bar\n",
    "        batch_limit_len: int = 5000 # Number of features we gather before we write\n",
    "        ):\n",
    "    \"Get features and their sequences, write to disk.\"\n",
    "    batch_size = 0\n",
    "    batch = []\n",
    "    write_header = ~file_path.exists()\n",
    "    pbar = None\n",
    "    if isinstance(feature_num, int):\n",
    "        pbar = tqdm(total=feature_num, position=0, ncols=80)\n",
    "        pbar.set_description(\"Collecting\")\n",
    "    for feature_idx, feature_sequence in feature_generator:\n",
    "        batch.append([feature_idx, feature_sequence])\n",
    "        batch_size += 1\n",
    "        if batch_size >= batch_limit_len:\n",
    "            pbar.set_description(\"Writing\")\n",
    "            pd.DataFrame(\n",
    "                batch,\n",
    "                columns=['idx', 'sequence'],\n",
    "            ).to_csv(\n",
    "                file_path, \n",
    "                header=write_header, \n",
    "                index=False,\n",
    "                mode=\"w+\" if write_header else \"a\")\n",
    "            if pbar is not None:\n",
    "                pbar.update(batch_size)\n",
    "                pbar.set_description(\"Collecting\")\n",
    "            write_header = False\n",
    "            batch = []\n",
    "            batch_size = 0\n",
    "    if pbar is not None:\n",
    "        pbar.set_description(\"Final Write\")\n",
    "    pd.DataFrame(\n",
    "        batch,\n",
    "        columns=['idx', 'sequence']\n",
    "    ).to_csv(\n",
    "        file_path, \n",
    "        header=write_header, \n",
    "        index=False,\n",
    "        mode=\"w+\" if write_header else \"a\")\n",
    "    if pbar is not None:\n",
    "        pbar.update(len(batch))\n",
    "        pbar.close()"
   ]
  },
  {
   "cell_type": "code",
   "execution_count": 59,
   "metadata": {},
   "outputs": [
    {
     "data": {
      "text/plain": [
       "101676"
      ]
     },
     "execution_count": 59,
     "metadata": {},
     "output_type": "execute_result"
    }
   ],
   "source": [
    "#| hide\n",
    "feature_table_dedupe = feature_table.drop_duplicates(subset=[\"genomic_accession\", \"start\", \"end\", \"strand\", \"GeneID\"])\n",
    "# Remove features already written\n",
    "pretrain_path = data_path / \"pre-train\"\n",
    "if not pretrain_path.exists():\n",
    "    pretrain_path.mkdir(parents=True)\n",
    "\n",
    "dna_feature_file_path = pretrain_path / \"dna_features.csv\"\n",
    "\n",
    "feature_table_to_write = feature_table_dedupe\n",
    "if dna_feature_file_path.exists():\n",
    "    written_feature_idx = pd.read_csv(dna_feature_file_path, usecols=['idx']).idx.unique()\n",
    "\n",
    "    feature_table_to_write = feature_table_dedupe[feature_table_dedupe.index.isin(written_feature_idx) == False]\n",
    "feature_table_to_write.shape[0]"
   ]
  },
  {
   "cell_type": "code",
   "execution_count": 60,
   "metadata": {},
   "outputs": [],
   "source": [
    "#| hide\n",
    "dna_feature_generator = yield_dna_feature_sequences(\n",
    "    feature_table_to_write,\n",
    "    accession_path\n",
    ")\n",
    "for _ in dna_feature_generator:\n",
    "    pass"
   ]
  },
  {
   "cell_type": "code",
   "execution_count": 61,
   "metadata": {},
   "outputs": [
    {
     "data": {
      "application/vnd.jupyter.widget-view+json": {
       "model_id": "183c284ebb0e446ea3d37f86facbbfcf",
       "version_major": 2,
       "version_minor": 0
      },
      "text/plain": [
       "  0%|                                                | 0/101676 [00:00<?, ?it/s]"
      ]
     },
     "metadata": {},
     "output_type": "display_data"
    }
   ],
   "source": [
    "#| hide\n",
    "if feature_table_to_write.shape[0] > 0:\n",
    "    dna_feature_generator = yield_dna_feature_sequences(\n",
    "        feature_table_to_write,\n",
    "        accession_path\n",
    "    )\n",
    "    write_dna_feature_sequences(\n",
    "        dna_feature_generator,\n",
    "        dna_feature_file_path,\n",
    "        feature_num=feature_table_to_write.shape[0]\n",
    "    )"
   ]
  },
  {
   "attachments": {},
   "cell_type": "markdown",
   "metadata": {},
   "source": [
    "### 4. Extract the mRNA feature sequences, write to csv"
   ]
  },
  {
   "attachments": {},
   "cell_type": "markdown",
   "metadata": {},
   "source": [
    "The mRNA sequences we have from NCBI remove introns. We want sequences that line up 1-to-1 with the gene the mRNA came from.\n",
    "\n",
    "So we need to be able to;\n",
    "\n",
    "1. Read mRNA sequences\n",
    "2. Identify intronic sequences\n",
    "3. Align with the source gene\n",
    "4. Insert intron sequences to the sequence\n",
    "5. Write transformed sequences for pre-training"
   ]
  },
  {
   "cell_type": "code",
   "execution_count": 64,
   "metadata": {},
   "outputs": [],
   "source": [
    "#| export\n",
    "def get_latest_rna_annotation_file(annotation_path: Path # Annotation path,\n",
    "        ) -> Path: # Fasta path\n",
    "    # GCF_000001405.40_GRCh38.p14_rna_from_genomic.fna.gz\n",
    "    return next(annotation_path.glob(\"*_rna_from_genomic.fna.gz\"), None)"
   ]
  },
  {
   "cell_type": "code",
   "execution_count": 66,
   "metadata": {},
   "outputs": [
    {
     "data": {
      "text/plain": [
       "Path('/mnt/e/Data/llm-mito-scanner-data/data/raw/GCF_000001405.40_GRCh38.p14/GCF_000001405.40_GRCh38.p14_rna_from_genomic.fna.gz')"
      ]
     },
     "execution_count": 66,
     "metadata": {},
     "output_type": "execute_result"
    }
   ],
   "source": [
    "#| hide\n",
    "latest_rna_annotation_file = get_latest_rna_annotation_file(latest_annotation_path)\n",
    "latest_rna_annotation_file"
   ]
  },
  {
   "cell_type": "code",
   "execution_count": 68,
   "metadata": {},
   "outputs": [
    {
     "data": {
      "text/plain": [
       "SeqRecord(seq=Seq('CTTGCCGTCAGCCTTTTCTTTGACCTCTTCTTTCTGTTCATGTGTATTTGCTGT...CTG'), id='lcl|NC_000001.11_miscrna_NR_046018.2_1', name='lcl|NC_000001.11_miscrna_NR_046018.2_1', description='lcl|NC_000001.11_miscrna_NR_046018.2_1 [gene=DDX11L1] [db_xref=GeneID:100287102] [product=DEAD/H-box helicase 11 like 1 (pseudogene)] [pseudo=true] [transcript_id=NR_046018.2] [location=join(11874..12227,12613..12721,13221..14409)] [gbkey=misc_RNA]', dbxrefs=[])"
      ]
     },
     "execution_count": 68,
     "metadata": {},
     "output_type": "execute_result"
    }
   ],
   "source": [
    "#| hide\n",
    "with gzip.open(str(latest_rna_annotation_file.resolve()), mode='rt') as f:\n",
    "    for example_rna_record in SeqIO.parse(f, \"fasta\"):\n",
    "        break\n",
    "example_rna_record"
   ]
  },
  {
   "cell_type": "code",
   "execution_count": 79,
   "metadata": {},
   "outputs": [
    {
     "data": {
      "text/plain": [
       "'lcl|NC_000001.11_miscrna_NR_046018.2_1'"
      ]
     },
     "execution_count": 79,
     "metadata": {},
     "output_type": "execute_result"
    }
   ],
   "source": [
    "#| hide\n",
    "example_rna_record.name"
   ]
  },
  {
   "cell_type": "code",
   "execution_count": 80,
   "metadata": {},
   "outputs": [
    {
     "data": {
      "text/plain": [
       "'lcl|NC_000001.11_miscrna_NR_046018.2_1'"
      ]
     },
     "execution_count": 80,
     "metadata": {},
     "output_type": "execute_result"
    }
   ],
   "source": [
    "#| hide\n",
    "example_rna_record.id"
   ]
  },
  {
   "cell_type": "code",
   "execution_count": 78,
   "metadata": {},
   "outputs": [
    {
     "data": {
      "text/plain": [
       "'lcl|NC_000001.11_miscrna_NR_046018.2_1 [gene=DDX11L1] [db_xref=GeneID:100287102] [product=DEAD/H-box helicase 11 like 1 (pseudogene)] [pseudo=true] [transcript_id=NR_046018.2] [location=join(11874..12227,12613..12721,13221..14409)] [gbkey=misc_RNA]'"
      ]
     },
     "execution_count": 78,
     "metadata": {},
     "output_type": "execute_result"
    }
   ],
   "source": [
    "#| hide\n",
    "example_rna_record.description"
   ]
  },
  {
   "cell_type": "code",
   "execution_count": 86,
   "metadata": {},
   "outputs": [],
   "source": [
    "#| export\n",
    "def parse_ncbi_fasta_description(seq_record: SeqRecord) -> typing.Tuple[str, dict[str, str]]:\n",
    "    description = seq_record.description.split(\"|\")[-1]\n",
    "    description_split = description.split(\" [\")\n",
    "    uid, features = description_split[0], description_split[1:]\n",
    "    print(uid, features)\n",
    "    features = [f.replace(\"[\", \"\").replace(\"]\", \"\").split(\"=\") for f in features]\n",
    "    # parse features\n",
    "    features_dict = {\n",
    "        f[0]: f[1] for f in features  \n",
    "    }\n",
    "    return uid, features_dict"
   ]
  },
  {
   "cell_type": "code",
   "execution_count": 90,
   "metadata": {},
   "outputs": [
    {
     "name": "stdout",
     "output_type": "stream",
     "text": [
      "NC_000001.11_miscrna_NR_046018.2_1 ['gene=DDX11L1]', 'db_xref=GeneID:100287102]', 'product=DEAD/H-box helicase 11 like 1 (pseudogene)]', 'pseudo=true]', 'transcript_id=NR_046018.2]', 'location=join(11874..12227,12613..12721,13221..14409)]', 'gbkey=misc_RNA]']\n"
     ]
    },
    {
     "data": {
      "text/plain": [
       "('NC_000001.11_miscrna_NR_046018.2_1',\n",
       " {'gene': 'DDX11L1',\n",
       "  'db_xref': 'GeneID:100287102',\n",
       "  'product': 'DEAD/H-box helicase 11 like 1 (pseudogene)',\n",
       "  'pseudo': 'true',\n",
       "  'transcript_id': 'NR_046018.2',\n",
       "  'location': 'join(11874..12227,12613..12721,13221..14409)',\n",
       "  'gbkey': 'misc_RNA'})"
      ]
     },
     "execution_count": 90,
     "metadata": {},
     "output_type": "execute_result"
    }
   ],
   "source": [
    "#| hide\n",
    "example_rna_record_uid, example_rna_record_description_features = parse_ncbi_fasta_description(example_rna_record)\n",
    "example_rna_record_uid, example_rna_record_description_features"
   ]
  },
  {
   "cell_type": "code",
   "execution_count": 92,
   "metadata": {},
   "outputs": [],
   "source": [
    "#| export\n",
    "def get_rna_sequence_locations(description_features: dict[str, str]) -> typing.List[typing.Tuple[int, int]]:\n",
    "    location_str = description_features.get(\"location\").replace(\n",
    "        \"join(\", \"\"\n",
    "    ).replace(\")\", \"\")\n",
    "    location_str_split = location_str.split(\",\")\n",
    "    locations = [tuple(map(int, l.split(\"..\"))) for l in location_str_split]\n",
    "    return locations"
   ]
  },
  {
   "cell_type": "code",
   "execution_count": 93,
   "metadata": {},
   "outputs": [
    {
     "data": {
      "text/plain": [
       "[(11874, 12227), (12613, 12721), (13221, 14409)]"
      ]
     },
     "execution_count": 93,
     "metadata": {},
     "output_type": "execute_result"
    }
   ],
   "source": [
    "#| hide\n",
    "example_rna_record_locations = get_rna_sequence_locations(\n",
    "    example_rna_record_description_features\n",
    ")\n",
    "example_rna_record_locations"
   ]
  },
  {
   "attachments": {},
   "cell_type": "markdown",
   "metadata": {},
   "source": [
    "### 5. Extract the protein feature sequences, write to csv"
   ]
  },
  {
   "cell_type": "code",
   "execution_count": null,
   "metadata": {},
   "outputs": [],
   "source": []
  },
  {
   "cell_type": "code",
   "execution_count": 63,
   "metadata": {},
   "outputs": [],
   "source": [
    "#| hide\n",
    "import nbdev; nbdev.nbdev_export()"
   ]
  },
  {
   "cell_type": "code",
   "execution_count": null,
   "metadata": {},
   "outputs": [],
   "source": []
  }
 ],
 "metadata": {
  "kernelspec": {
   "display_name": "python3",
   "language": "python",
   "name": "python3"
  },
  "language_info": {
   "codemirror_mode": {
    "name": "ipython",
    "version": 3
   },
   "file_extension": ".py",
   "mimetype": "text/x-python",
   "name": "python",
   "nbconvert_exporter": "python",
   "pygments_lexer": "ipython3",
   "version": "3.10.6"
  }
 },
 "nbformat": 4,
 "nbformat_minor": 4
}
