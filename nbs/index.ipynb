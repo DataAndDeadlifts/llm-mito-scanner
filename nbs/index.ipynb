{
 "cells": [
  {
   "cell_type": "code",
   "execution_count": null,
   "metadata": {},
   "outputs": [],
   "source": [
    "#| hide\n",
    "from llm_mito_scanner.core import *"
   ]
  },
  {
   "cell_type": "markdown",
   "metadata": {},
   "source": [
    "# llm-mito-scanner\n",
    "\n",
    "> An LLM trained to identify sequences of DNA likely related to Mitochondrial function."
   ]
  },
  {
   "cell_type": "markdown",
   "metadata": {},
   "source": [
    "## Install"
   ]
  },
  {
   "cell_type": "markdown",
   "metadata": {},
   "source": [
    "```sh\n",
    "pip install llm_mito_scanner\n",
    "```"
   ]
  },
  {
   "cell_type": "markdown",
   "metadata": {},
   "source": [
    "## Plan"
   ]
  },
  {
   "cell_type": "markdown",
   "metadata": {},
   "source": [
    "1. Get data from Entrez, MitoMAP for genome, mitochondrial DNA\n",
    "2. Pre-train a Transformer to;\n",
    "    1. Translate DNA to mRNA\n",
    "    2. Translate mRNA to Protein\n",
    "    3. Identify regulatory sequences\n",
    "    4. Identify protein structures\n",
    "3. Fine-tuned pre-trained transformer to identify sequences that contribute to mitochondrial disease\n",
    "    1. Scoring method\n",
    "    2. Evaluation\n",
    "4. Apply model from [3] on entire genome, compare to sequences known to contribute to mitochondrial disease\n",
    "5. Report"
   ]
  },
  {
   "cell_type": "markdown",
   "metadata": {},
   "source": [
    "## How to use"
   ]
  },
  {
   "cell_type": "markdown",
   "metadata": {},
   "source": [
    "TODO"
   ]
  },
  {
   "cell_type": "markdown",
   "metadata": {},
   "source": [
    "## TODO"
   ]
  },
  {
   "cell_type": "markdown",
   "metadata": {},
   "source": [
    "TODO:\n",
    "\n",
    "1. Extract input DNA, output Protein for training task\n",
    "2. Build training script"
   ]
  },
  {
   "cell_type": "code",
   "execution_count": null,
   "metadata": {},
   "outputs": [],
   "source": []
  }
 ],
 "metadata": {
  "kernelspec": {
   "display_name": "python3",
   "language": "python",
   "name": "python3"
  }
 },
 "nbformat": 4,
 "nbformat_minor": 4
}
