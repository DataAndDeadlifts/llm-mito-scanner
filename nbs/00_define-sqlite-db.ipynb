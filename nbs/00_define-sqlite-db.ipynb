{
 "cells": [
  {
   "cell_type": "markdown",
   "metadata": {},
   "source": [
    "# Making the Reference Genome more easily usable\n",
    "\n",
    "> \"Using BioPython to convert the reference human genome into a sqlite database.\""
   ]
  },
  {
   "cell_type": "code",
   "execution_count": null,
   "metadata": {},
   "outputs": [],
   "source": [
    "#| default_exp features.database"
   ]
  },
  {
   "cell_type": "code",
   "execution_count": null,
   "metadata": {},
   "outputs": [],
   "source": [
    "#| hide\n",
    "from nbdev.showdoc import *"
   ]
  },
  {
   "cell_type": "code",
   "execution_count": null,
   "metadata": {},
   "outputs": [
    {
     "name": "stderr",
     "output_type": "stream",
     "text": [
      "/home/jdb/projects/llm-mito-scanner/venv/lib/python3.10/site-packages/Bio/__init__.py:138: BiopythonWarning: You may be importing Biopython from inside the source tree. This is bad practice and might lead to downstream issues. In particular, you might encounter ImportErrors due to missing compiled C extensions. We recommend that you try running your code from outside the source tree. If you are outside the source tree then you have a setup.py file in an unexpected directory: /home/jdb/projects/llm-mito-scanner/venv/lib/python3.10/site-packages\n",
      "  warnings.warn(\n"
     ]
    }
   ],
   "source": [
    "#| export\n",
    "from pathlib import Path\n",
    "import sqlite3\n",
    "from Bio import SeqIO\n",
    "import requests_cache"
   ]
  },
  {
   "cell_type": "code",
   "execution_count": null,
   "metadata": {},
   "outputs": [],
   "source": [
    "#| hide\n",
    "# !gzip ../data/raw/GRCh38_latest_genomic.fna.gz -d"
   ]
  },
  {
   "cell_type": "code",
   "execution_count": null,
   "metadata": {},
   "outputs": [],
   "source": [
    "#| hide\n",
    "# !gzip ../data/raw/GRCh38_latest_genomic.gff.gz -d"
   ]
  },
  {
   "cell_type": "code",
   "execution_count": null,
   "metadata": {},
   "outputs": [],
   "source": [
    "#| hide\n",
    "data_path = Path(\"../data\")"
   ]
  },
  {
   "cell_type": "code",
   "execution_count": null,
   "metadata": {},
   "outputs": [],
   "source": [
    "#| export\n",
    "def get_or_make_sqlite_connection(data_path: Path) -> sqlite3.Connection:\n",
    "    \"\"\"\n",
    "    Get or make a sqlite database connection.\n",
    "    \"\"\"\n",
    "    return sqlite3.connect(data_path / \"genome.db\")\n",
    "\n",
    "def sqlite_table_exists(table_name: str, connection: sqlite3.Connection) -> bool:\n",
    "    \"\"\"\n",
    "    Return True is table exists in sqlite database, else False.\n",
    "    \"\"\"\n",
    "    cursor = connection.cursor()\n",
    "    result = cursor.execute(f\"SELECT name FROM sqlite_master WHERE name='{table_name}'\")\n",
    "    table_exists = result.fetchone()\n",
    "    cursor.close()\n",
    "    return table_exists is not None\n",
    "\n",
    "def setup_sqlite(connection: sqlite3.Connection, overwrite: bool = False):\n",
    "    cursor = connection.cursor()\n",
    "    # Tables\n",
    "    if not sqlite_table_exists(\"sequence\", connection):\n",
    "        cursor.execute(\"CREATE TABLE sequence(id, name, description, sequence)\")\n",
    "    if not sqlite_table_exists(\"sequence_idx\", connection):\n",
    "        cursor.execute(\"CREATE UNIQUE INDEX sequence_idx ON sequence(id)\")\n",
    "    if not sqlite_table_exists(\"mitochondria_related\", connection):\n",
    "        cursor.execute(\"CREATE TABLE mitochondria_related(id)\")\n",
    "    if not sqlite_table_exists(\"mitochondria_related_idx\", connection):\n",
    "        cursor.execute(\"CREATE UNIQUE INDEX mitochondria_related_idx ON mitochondria_related(id)\")\n",
    "    cursor.close()"
   ]
  },
  {
   "cell_type": "code",
   "execution_count": null,
   "metadata": {},
   "outputs": [],
   "source": [
    "#| hide\n",
    "conn = get_or_make_sqlite_connection(data_path)\n",
    "setup_sqlite(conn)"
   ]
  },
  {
   "cell_type": "code",
   "execution_count": null,
   "metadata": {},
   "outputs": [],
   "source": [
    "#| export\n",
    "def format_sequence_for_insert(sequence_record: SeqIO.SeqRecord) -> str:\n",
    "    \"\"\"\n",
    "    Format a SeqIO.SeqRecord for insertion to the sqlite database.\n",
    "    \"\"\"\n",
    "    return f\"('{sequence_record.id}', '{sequence_record.name}', '{sequence_record.description}', '{sequence_record.seq}')\"\n",
    "\n",
    "\n",
    "def format_mitochondria_related_sequence_for_insert(record: SeqIO.SeqRecord):\n",
    "        return f\"('{record.id}')\"\n",
    "\n",
    "\n",
    "def insert_sequences(records: list[SeqIO.SeqRecord], connection: sqlite3.Connection):\n",
    "    \"\"\"\n",
    "    Insert a batch of SeqIO.SeqRecords into the sqlite database.\n",
    "    \"\"\"\n",
    "    values_str = \",\".join(map(format_sequence_for_insert, records))\n",
    "    cursor = connection.cursor()\n",
    "    try:\n",
    "        cursor.execute(\n",
    "            f\"\"\"\n",
    "            INSERT INTO sequence VALUES {values_str} \n",
    "            ON CONFLICT(id) DO NOTHING;\n",
    "            \"\"\"\n",
    "        )\n",
    "    except Exception as e:\n",
    "        raise e\n",
    "    finally:\n",
    "        cursor.close()\n",
    "    connection.commit()\n",
    "        \n",
    "        \n",
    "def insert_mitochondria_related_sequences(records: list[SeqIO.SeqRecord], connection: sqlite3.Connection):\n",
    "    \"\"\"\n",
    "    Insert a batch of SeqIO.SeqRecords into the sqlite database.\n",
    "    \"\"\"\n",
    "    values_str = \",\".join(map(format_mitochondria_related_sequence_for_insert, records))\n",
    "    cursor = connection.cursor()\n",
    "    try:\n",
    "        cursor.execute(\n",
    "            f\"\"\"\n",
    "            INSERT INTO mitochondria_related VALUES {values_str} \n",
    "            ON CONFLICT(id) DO NOTHING;\n",
    "            \"\"\"\n",
    "        )\n",
    "    except Exception as e:\n",
    "        raise e\n",
    "    finally:\n",
    "        cursor.close()\n",
    "    connection.commit()"
   ]
  },
  {
   "cell_type": "code",
   "execution_count": null,
   "metadata": {},
   "outputs": [],
   "source": [
    "#| hide\n",
    "conn.close()"
   ]
  },
  {
   "cell_type": "code",
   "execution_count": null,
   "metadata": {},
   "outputs": [],
   "source": [
    "#| hide\n",
    "import nbdev; nbdev.nbdev_export()"
   ]
  },
  {
   "cell_type": "code",
   "execution_count": null,
   "metadata": {},
   "outputs": [],
   "source": []
  }
 ],
 "metadata": {
  "kernelspec": {
   "display_name": "python3",
   "language": "python",
   "name": "python3"
  }
 },
 "nbformat": 4,
 "nbformat_minor": 4
}
