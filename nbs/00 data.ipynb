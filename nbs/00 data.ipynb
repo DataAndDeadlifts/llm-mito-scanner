{
 "cells": [
  {
   "attachments": {},
   "cell_type": "markdown",
   "metadata": {},
   "source": [
    "# Getting data from NCBI\n",
    "\n",
    "> 1. Reference Genome Sequence (fasta)\n",
    "> 2. RefSeq Reference Genome Annotation (gff3)\n",
    "> 3. RefSeq Transcripts (fasta)\n",
    "> 4. RefSeq Proteins (fasta)"
   ]
  },
  {
   "cell_type": "code",
   "execution_count": 4,
   "metadata": {},
   "outputs": [],
   "source": [
    "#| default_exp data.download"
   ]
  },
  {
   "cell_type": "code",
   "execution_count": 5,
   "metadata": {},
   "outputs": [],
   "source": [
    "#| hide\n",
    "from nbdev.showdoc import *"
   ]
  },
  {
   "cell_type": "code",
   "execution_count": 31,
   "metadata": {},
   "outputs": [],
   "source": [
    "#| export\n",
    "from yaml import safe_load\n",
    "from pathlib import Path\n",
    "import typing\n",
    "import subprocess"
   ]
  },
  {
   "cell_type": "code",
   "execution_count": 7,
   "metadata": {},
   "outputs": [],
   "source": [
    "#| export\n",
    "def load_config(path: Path = Path(\"../config.yml\")) -> dict[typing.Any, typing.Any]:\n",
    "    with open(path) as f:\n",
    "        return safe_load(f)"
   ]
  },
  {
   "cell_type": "code",
   "execution_count": 8,
   "metadata": {},
   "outputs": [],
   "source": [
    "#| hide\n",
    "config = load_config()\n",
    "\n",
    "data_path = Path(config.get(\"data_path\"))"
   ]
  },
  {
   "cell_type": "code",
   "execution_count": 28,
   "metadata": {},
   "outputs": [],
   "source": [
    "#| export\n",
    "def download_data(data_path: Path):\n",
    "    data_path_raw = data_path / \"raw\"\n",
    "    if not data_path_raw.exists():\n",
    "        data_path_raw.mkdir()\n",
    "    # Get latest reference genome data\n",
    "    subprocess.call([\n",
    "        \"rsync\", \"--copy-links\", \"--recursive\", \"--times\", \"--verbose\",\n",
    "        \"--exclude=Annotation_comparison\",\n",
    "        \"--exclude=*_assembly_structure\",\n",
    "        \"--exclude=*_major_release_seqs_for_alignment_pipelines\",\n",
    "        \"--exclude=RefSeq_historical_alignments\",\n",
    "        \"--exclude=RefSeq_transcripts_alignments\",\n",
    "        \"rsync://ftp.ncbi.nlm.nih.gov/genomes/refseq/vertebrate_mammalian/Homo_sapiens/reference/\",\n",
    "        str(data_path_raw.resolve())\n",
    "    ])    "
   ]
  },
  {
   "cell_type": "code",
   "execution_count": 29,
   "metadata": {},
   "outputs": [
    {
     "name": "stdout",
     "output_type": "stream",
     "text": [
      "\n",
      "Warning Notice!\n",
      "\n",
      "You are accessing a U.S. Government information system which includes this\n",
      "computer, network, and all attached devices. This system is for\n",
      "Government-authorized use only. Unauthorized use of this system may result in\n",
      "disciplinary action and civil and criminal penalties. System users have no\n",
      "expectation of privacy regarding any communications or data processed by this\n",
      "system. At any time, the government may monitor, record, or seize any\n",
      "communication or data transiting or stored on this information system.\n",
      "\n",
      "-------------------------------------------------------------------------------\n",
      "\n",
      "Welcome to the NCBI rsync server.\n",
      "\n",
      "\n",
      "receiving incremental file list\n",
      "GCF_000001405.40_GRCh38.p14/\n",
      "\n",
      "sent 200 bytes  received 998 bytes  798.67 bytes/sec\n",
      "total size is 3,601,107,022  speedup is 3,005,932.41\n"
     ]
    }
   ],
   "source": [
    "#| hide\n",
    "download_data(data_path)"
   ]
  },
  {
   "cell_type": "code",
   "execution_count": 33,
   "metadata": {},
   "outputs": [],
   "source": [
    "#| hide\n",
    "import nbdev; nbdev.nbdev_export()"
   ]
  },
  {
   "cell_type": "code",
   "execution_count": null,
   "metadata": {},
   "outputs": [],
   "source": []
  }
 ],
 "metadata": {
  "kernelspec": {
   "display_name": "venv",
   "language": "python",
   "name": "python3"
  },
  "language_info": {
   "codemirror_mode": {
    "name": "ipython",
    "version": 3
   },
   "file_extension": ".py",
   "mimetype": "text/x-python",
   "name": "python",
   "nbconvert_exporter": "python",
   "pygments_lexer": "ipython3",
   "version": "3.10.6"
  },
  "orig_nbformat": 4
 },
 "nbformat": 4,
 "nbformat_minor": 2
}
