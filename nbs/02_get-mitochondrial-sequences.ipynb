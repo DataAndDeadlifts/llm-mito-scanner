{
 "cells": [
  {
   "cell_type": "markdown",
   "id": "90b2f8c6-25fe-4bb7-9f6c-55a7922c9df7",
   "metadata": {},
   "source": [
    "# Getting our positive sample of sequences from MITOMAP\n",
    "\n",
    "> \"Using pandas and Genbank to get mitochondrial dna sequences.\""
   ]
  },
  {
   "cell_type": "code",
   "execution_count": null,
   "id": "79cb360e-054c-4fb6-976b-569a9f2f1041",
   "metadata": {},
   "outputs": [],
   "source": [
    "#| default_exp features.mitochondria"
   ]
  },
  {
   "cell_type": "code",
   "execution_count": null,
   "id": "7cf3c0b7-aa36-4811-b75f-227b1820c16c",
   "metadata": {},
   "outputs": [],
   "source": [
    "#| hide\n",
    "from nbdev.showdoc import *"
   ]
  },
  {
   "cell_type": "code",
   "execution_count": null,
   "id": "2ac82ea9-59c9-4f57-878b-c2084cad6a4d",
   "metadata": {},
   "outputs": [],
   "source": [
    "#| export\n",
    "import pandas as pd\n",
    "from xml.etree import ElementTree\n",
    "from Bio import SeqIO, Entrez\n",
    "from io import StringIO\n",
    "import sqlite3\n",
    "from lxml import etree\n",
    "from tqdm.auto import tqdm\n",
    "from tqdm import contrib as tqdm_contrib\n",
    "import time\n",
    "import functools\n",
    "from yaml import safe_load\n",
    "from pathlib import Path\n",
    "\n",
    "from llm_mito_scanner.features import database"
   ]
  },
  {
   "cell_type": "code",
   "execution_count": null,
   "id": "198bdb7e-9da6-4062-8c65-b292df2e4f7f",
   "metadata": {},
   "outputs": [],
   "source": [
    "#| hide\n",
    "with open(\"../config.yml\", 'r') as f:\n",
    "    config = safe_load(f)"
   ]
  },
  {
   "cell_type": "code",
   "execution_count": null,
   "id": "c9e6ffbb-fe47-45d1-9acb-8adf2b709e51",
   "metadata": {},
   "outputs": [],
   "source": [
    "#| hide\n",
    "Entrez.email = config.get(\"email\")\n",
    "Entrez.api_key = config.get(\"nih_api_key\")\n",
    "Entrez.sleep_between_tries = 1"
   ]
  },
  {
   "cell_type": "code",
   "execution_count": null,
   "id": "05a19032-6c8f-4d53-9b73-3fde8f12f633",
   "metadata": {},
   "outputs": [
    {
     "data": {
      "text/plain": [
       "True"
      ]
     },
     "execution_count": null,
     "metadata": {},
     "output_type": "execute_result"
    }
   ],
   "source": [
    "#| hide\n",
    "data_path = Path(config.get(\"data_path\"))\n",
    "data_path.exists()"
   ]
  },
  {
   "cell_type": "code",
   "execution_count": null,
   "id": "39d0b94f-7bbe-46a0-ac89-5b60b2e1299e",
   "metadata": {},
   "outputs": [],
   "source": [
    "#| export\n",
    "# Download sequences from MITOMAP\n",
    "def get_structural_nuclear_genes_for_mitochondrial_diseases() -> pd.DataFrame:\n",
    "    \"\"\"\n",
    "    Get structural nuclear genes for mitochondrial diseases from MITOMAP.\n",
    "    \"\"\"\n",
    "    genes = pd.read_html(\n",
    "        \"https://www.mitomap.org/foswiki/bin/view/MITOMAP/NuclearGenesStructural\",\n",
    "        match=\"Complex\"\n",
    "    )[0].dropna(how='all')\n",
    "    genes.loc[:, 'Complex'] = genes.Complex.fillna(method='ffill')\n",
    "    genes.reset_index(drop=True, inplace=True)\n",
    "    genes.loc[:, 'OMIM'] = genes.OMIM.astype(int).astype(str)\n",
    "    return genes"
   ]
  },
  {
   "cell_type": "code",
   "execution_count": null,
   "id": "15e3de59-64e0-4957-aa7b-a573a3dc30d6",
   "metadata": {},
   "outputs": [
    {
     "data": {
      "text/html": [
       "<div>\n",
       "<style scoped>\n",
       "    .dataframe tbody tr th:only-of-type {\n",
       "        vertical-align: middle;\n",
       "    }\n",
       "\n",
       "    .dataframe tbody tr th {\n",
       "        vertical-align: top;\n",
       "    }\n",
       "\n",
       "    .dataframe thead th {\n",
       "        text-align: right;\n",
       "    }\n",
       "</style>\n",
       "<table border=\"1\" class=\"dataframe\">\n",
       "  <thead>\n",
       "    <tr style=\"text-align: right;\">\n",
       "      <th></th>\n",
       "      <th>Complex</th>\n",
       "      <th>Name</th>\n",
       "      <th>OMIM</th>\n",
       "      <th>Function</th>\n",
       "      <th>Chromosome</th>\n",
       "      <th>Inheritance</th>\n",
       "      <th>Clinical Phenotype</th>\n",
       "      <th>References</th>\n",
       "    </tr>\n",
       "  </thead>\n",
       "  <tbody>\n",
       "    <tr>\n",
       "      <th>0</th>\n",
       "      <td>Complex I</td>\n",
       "      <td>NDUFS1</td>\n",
       "      <td>157655</td>\n",
       "      <td>IP fraction</td>\n",
       "      <td>2q33-q34</td>\n",
       "      <td>AR</td>\n",
       "      <td>LS</td>\n",
       "      <td>[i]</td>\n",
       "    </tr>\n",
       "    <tr>\n",
       "      <th>1</th>\n",
       "      <td>Complex I</td>\n",
       "      <td>NDUFS2</td>\n",
       "      <td>602985</td>\n",
       "      <td>IP fraction</td>\n",
       "      <td>1q23</td>\n",
       "      <td>AR</td>\n",
       "      <td>Encephalopathy, Cardiomyopathy</td>\n",
       "      <td>[ii]</td>\n",
       "    </tr>\n",
       "    <tr>\n",
       "      <th>2</th>\n",
       "      <td>Complex I</td>\n",
       "      <td>NDUFS3</td>\n",
       "      <td>603846</td>\n",
       "      <td>IP fraction</td>\n",
       "      <td>11p11.11</td>\n",
       "      <td>AR</td>\n",
       "      <td>LS</td>\n",
       "      <td>[iii]</td>\n",
       "    </tr>\n",
       "    <tr>\n",
       "      <th>3</th>\n",
       "      <td>Complex I</td>\n",
       "      <td>NDUFS4</td>\n",
       "      <td>602694</td>\n",
       "      <td>IP fraction</td>\n",
       "      <td>5q11.1</td>\n",
       "      <td>AR</td>\n",
       "      <td>LS</td>\n",
       "      <td>[iv]</td>\n",
       "    </tr>\n",
       "    <tr>\n",
       "      <th>4</th>\n",
       "      <td>Complex I</td>\n",
       "      <td>NDUFS6</td>\n",
       "      <td>603848</td>\n",
       "      <td>IP fraction</td>\n",
       "      <td>5pter-p15.33</td>\n",
       "      <td>AR</td>\n",
       "      <td>Fatal Infantile Lactic Acidosis</td>\n",
       "      <td>[v]</td>\n",
       "    </tr>\n",
       "  </tbody>\n",
       "</table>\n",
       "</div>"
      ],
      "text/plain": [
       "     Complex    Name    OMIM     Function    Chromosome Inheritance   \n",
       "0  Complex I  NDUFS1  157655  IP fraction      2q33-q34          AR  \\\n",
       "1  Complex I  NDUFS2  602985  IP fraction          1q23          AR   \n",
       "2  Complex I  NDUFS3  603846  IP fraction      11p11.11          AR   \n",
       "3  Complex I  NDUFS4  602694  IP fraction        5q11.1          AR   \n",
       "4  Complex I  NDUFS6  603848  IP fraction  5pter-p15.33          AR   \n",
       "\n",
       "                Clinical Phenotype References  \n",
       "0                               LS        [i]  \n",
       "1   Encephalopathy, Cardiomyopathy       [ii]  \n",
       "2                               LS      [iii]  \n",
       "3                               LS       [iv]  \n",
       "4  Fatal Infantile Lactic Acidosis        [v]  "
      ]
     },
     "metadata": {},
     "output_type": "display_data"
    },
    {
     "data": {
      "text/plain": [
       "Complex\n",
       "Complex I      20\n",
       "Complex II      4\n",
       "Complex IV      4\n",
       "Complex V       3\n",
       "Complex III     2\n",
       "Name: count, dtype: int64"
      ]
     },
     "execution_count": null,
     "metadata": {},
     "output_type": "execute_result"
    }
   ],
   "source": [
    "#| hide\n",
    "if not (data_path / \"raw/structural_nuclear_genes_for_mitochondrial_diseases.csv\").exists():\n",
    "    structural_genes = get_structural_nuclear_genes_for_mitochondrial_diseases()\n",
    "    structural_genes.to_csv(data_path / \"raw/structural_nuclear_genes_for_mitochondrial_diseases.csv\", index=False)\n",
    "else:\n",
    "    structural_genes = pd.read_csv(data_path / \"raw/structural_nuclear_genes_for_mitochondrial_diseases.csv\")\n",
    "display(structural_genes.head())\n",
    "structural_genes.Complex.value_counts()"
   ]
  },
  {
   "cell_type": "code",
   "execution_count": null,
   "id": "269a1157-2416-4f5e-8b94-9b8c9a242352",
   "metadata": {},
   "outputs": [],
   "source": [
    "def get_non_structural_nuclear_genes_for_mitochondrial_diseases() -> pd.DataFrame:\n",
    "    \"\"\"\n",
    "    Get non-structural nuclear genes for mitochondrial diseases from MITOMAP.\n",
    "    \"\"\"\n",
    "    genes = pd.read_html(\n",
    "        \"https://www.mitomap.org/foswiki/bin/view/MITOMAP/NuclearGenesNonStructural\",\n",
    "        match=\"Complex\"\n",
    "    )[0].dropna(how='all')\n",
    "    genes = genes.iloc[1:, :]\n",
    "    genes.loc[:, 'Complex'] = genes.Complex.fillna(method='ffill')\n",
    "    genes.reset_index(drop=True, inplace=True)\n",
    "    genes.loc[:, 'OMIM'] = genes.OMIM.str.split(\" \")\n",
    "    # Expand the OMIM column\n",
    "    genes = genes.explode('OMIM')\n",
    "    return genes"
   ]
  },
  {
   "cell_type": "code",
   "execution_count": null,
   "id": "ca783e4a-8973-4242-8812-66f8f9b55315",
   "metadata": {},
   "outputs": [
    {
     "data": {
      "text/html": [
       "<div>\n",
       "<style scoped>\n",
       "    .dataframe tbody tr th:only-of-type {\n",
       "        vertical-align: middle;\n",
       "    }\n",
       "\n",
       "    .dataframe tbody tr th {\n",
       "        vertical-align: top;\n",
       "    }\n",
       "\n",
       "    .dataframe thead th {\n",
       "        text-align: right;\n",
       "    }\n",
       "</style>\n",
       "<table border=\"1\" class=\"dataframe\">\n",
       "  <thead>\n",
       "    <tr style=\"text-align: right;\">\n",
       "      <th></th>\n",
       "      <th>Complex</th>\n",
       "      <th>Name</th>\n",
       "      <th>OMIM</th>\n",
       "      <th>Function</th>\n",
       "      <th>Chromosome</th>\n",
       "      <th>Inheritance</th>\n",
       "      <th>Clinical Phenotype</th>\n",
       "      <th>References</th>\n",
       "    </tr>\n",
       "  </thead>\n",
       "  <tbody>\n",
       "    <tr>\n",
       "      <th>0</th>\n",
       "      <td>Complex I</td>\n",
       "      <td>NDUFAF1(CIA30)</td>\n",
       "      <td>606934</td>\n",
       "      <td>Assembly</td>\n",
       "      <td>15q13.3</td>\n",
       "      <td>AR</td>\n",
       "      <td>Cardioencephalomyopathy</td>\n",
       "      <td>[i]</td>\n",
       "    </tr>\n",
       "    <tr>\n",
       "      <th>1</th>\n",
       "      <td>Complex I</td>\n",
       "      <td>NDUFAF2 (B17.2L)</td>\n",
       "      <td>609653</td>\n",
       "      <td>Assembly</td>\n",
       "      <td>5q12.1</td>\n",
       "      <td>AR</td>\n",
       "      <td>Early onset progressive encephalopathy</td>\n",
       "      <td>[ii]</td>\n",
       "    </tr>\n",
       "    <tr>\n",
       "      <th>2</th>\n",
       "      <td>Complex I</td>\n",
       "      <td>NDUFAF3</td>\n",
       "      <td>612911</td>\n",
       "      <td>Assembly</td>\n",
       "      <td>3p21.31</td>\n",
       "      <td>AR</td>\n",
       "      <td>Neonatal encephalopathy</td>\n",
       "      <td>[iii]</td>\n",
       "    </tr>\n",
       "    <tr>\n",
       "      <th>3</th>\n",
       "      <td>Complex I</td>\n",
       "      <td>NDUFAF4 (HRPAP2)</td>\n",
       "      <td>611776</td>\n",
       "      <td>Assembly</td>\n",
       "      <td>6q16.1</td>\n",
       "      <td>AR</td>\n",
       "      <td>Infantile encephalopathy</td>\n",
       "      <td>[iv]</td>\n",
       "    </tr>\n",
       "    <tr>\n",
       "      <th>4</th>\n",
       "      <td>Complex I</td>\n",
       "      <td>NDUFAF5 (C20orf7)</td>\n",
       "      <td>612360</td>\n",
       "      <td>Assembly</td>\n",
       "      <td>20p12.1</td>\n",
       "      <td>AR</td>\n",
       "      <td>LS</td>\n",
       "      <td>[v]</td>\n",
       "    </tr>\n",
       "  </tbody>\n",
       "</table>\n",
       "</div>"
      ],
      "text/plain": [
       "     Complex               Name    OMIM  Function Chromosome Inheritance   \n",
       "0  Complex I     NDUFAF1(CIA30)  606934  Assembly    15q13.3          AR  \\\n",
       "1  Complex I   NDUFAF2 (B17.2L)  609653  Assembly     5q12.1          AR   \n",
       "2  Complex I            NDUFAF3  612911  Assembly    3p21.31          AR   \n",
       "3  Complex I   NDUFAF4 (HRPAP2)  611776  Assembly     6q16.1          AR   \n",
       "4  Complex I  NDUFAF5 (C20orf7)  612360  Assembly    20p12.1          AR   \n",
       "\n",
       "                       Clinical Phenotype References  \n",
       "0                 Cardioencephalomyopathy        [i]  \n",
       "1  Early onset progressive encephalopathy       [ii]  \n",
       "2                 Neonatal encephalopathy      [iii]  \n",
       "3                Infantile encephalopathy       [iv]  \n",
       "4                                      LS        [v]  "
      ]
     },
     "metadata": {},
     "output_type": "display_data"
    },
    {
     "data": {
      "text/plain": [
       "Complex\n",
       "Mitochondrial Protein Synthesis    37\n",
       "MtDNA Maintenance                  16\n",
       "Complex IV                         14\n",
       "Iron Homeostasis                   11\n",
       "Coenzyme Q10 biogenesis            10\n",
       "Complex I                           9\n",
       "Mitochondrial Metabolism            4\n",
       "Complex III                         3\n",
       "Complex V                           3\n",
       "Mitochondrial Integrity             3\n",
       "Complex II                          2\n",
       "Mitochondrial Import                2\n",
       "Chaperone Function                  2\n",
       "Name: count, dtype: int64"
      ]
     },
     "execution_count": null,
     "metadata": {},
     "output_type": "execute_result"
    }
   ],
   "source": [
    "#| hide\n",
    "if not (data_path / \"raw/non_structural_nuclear_genes_for_mitochondrial_diseases.csv\").exists():\n",
    "    non_structural_genes = get_non_structural_nuclear_genes_for_mitochondrial_diseases()\n",
    "    non_structural_genes.to_csv(data_path / \"raw/non_structural_nuclear_genes_for_mitochondrial_diseases.csv\", index=False)\n",
    "else:\n",
    "    non_structural_genes = pd.read_csv(data_path / \"raw/non_structural_nuclear_genes_for_mitochondrial_diseases.csv\")\n",
    "display(non_structural_genes.head())\n",
    "non_structural_genes.Complex.value_counts()"
   ]
  },
  {
   "cell_type": "markdown",
   "id": "933227d5-fe92-494b-a7ae-efa1e435ff78",
   "metadata": {},
   "source": [
    "Now that we've got the sequence references (via protein names), lets get their fasta sequences from entrez.\n",
    "\n",
    "NOTE: I would use OMIM if I had a valid institutional email - but unfortunately they limit access to institutional researchers only."
   ]
  },
  {
   "cell_type": "code",
   "execution_count": null,
   "id": "d6c08bb7-f603-4ca6-8a9b-7701853e6564",
   "metadata": {},
   "outputs": [],
   "source": [
    "#| export\n",
    "def load_omim_map(data_path: Path):\n",
    "    omim_map_df = pd.read_csv(data_path / \"raw/mim2gene.txt\", sep=\"\\t\", skiprows=4)\n",
    "    omim_map_df.columns = [\"OMIM\", \"entry_type\", \"entrez_gene_id\", \"gene_symbol\", \"ensembl_gene_id\"]\n",
    "    omim_map_df.loc[:, 'OMIM'] = omim_map_df.OMIM.astype(str)\n",
    "    return omim_map_df"
   ]
  },
  {
   "cell_type": "code",
   "execution_count": null,
   "id": "b1ea2534-d15a-45cc-a0f6-e0e5737f0699",
   "metadata": {},
   "outputs": [
    {
     "data": {
      "text/html": [
       "<div>\n",
       "<style scoped>\n",
       "    .dataframe tbody tr th:only-of-type {\n",
       "        vertical-align: middle;\n",
       "    }\n",
       "\n",
       "    .dataframe tbody tr th {\n",
       "        vertical-align: top;\n",
       "    }\n",
       "\n",
       "    .dataframe thead th {\n",
       "        text-align: right;\n",
       "    }\n",
       "</style>\n",
       "<table border=\"1\" class=\"dataframe\">\n",
       "  <thead>\n",
       "    <tr style=\"text-align: right;\">\n",
       "      <th></th>\n",
       "      <th>OMIM</th>\n",
       "      <th>entry_type</th>\n",
       "      <th>entrez_gene_id</th>\n",
       "      <th>gene_symbol</th>\n",
       "      <th>ensembl_gene_id</th>\n",
       "    </tr>\n",
       "  </thead>\n",
       "  <tbody>\n",
       "    <tr>\n",
       "      <th>0</th>\n",
       "      <td>100050</td>\n",
       "      <td>predominantly phenotypes</td>\n",
       "      <td>NaN</td>\n",
       "      <td>NaN</td>\n",
       "      <td>NaN</td>\n",
       "    </tr>\n",
       "    <tr>\n",
       "      <th>1</th>\n",
       "      <td>100070</td>\n",
       "      <td>phenotype</td>\n",
       "      <td>100329167.0</td>\n",
       "      <td>NaN</td>\n",
       "      <td>NaN</td>\n",
       "    </tr>\n",
       "    <tr>\n",
       "      <th>2</th>\n",
       "      <td>100100</td>\n",
       "      <td>phenotype</td>\n",
       "      <td>NaN</td>\n",
       "      <td>NaN</td>\n",
       "      <td>NaN</td>\n",
       "    </tr>\n",
       "    <tr>\n",
       "      <th>3</th>\n",
       "      <td>100200</td>\n",
       "      <td>predominantly phenotypes</td>\n",
       "      <td>NaN</td>\n",
       "      <td>NaN</td>\n",
       "      <td>NaN</td>\n",
       "    </tr>\n",
       "    <tr>\n",
       "      <th>4</th>\n",
       "      <td>100300</td>\n",
       "      <td>phenotype</td>\n",
       "      <td>NaN</td>\n",
       "      <td>NaN</td>\n",
       "      <td>NaN</td>\n",
       "    </tr>\n",
       "  </tbody>\n",
       "</table>\n",
       "</div>"
      ],
      "text/plain": [
       "     OMIM                entry_type  entrez_gene_id gene_symbol   \n",
       "0  100050  predominantly phenotypes             NaN         NaN  \\\n",
       "1  100070                 phenotype     100329167.0         NaN   \n",
       "2  100100                 phenotype             NaN         NaN   \n",
       "3  100200  predominantly phenotypes             NaN         NaN   \n",
       "4  100300                 phenotype             NaN         NaN   \n",
       "\n",
       "  ensembl_gene_id  \n",
       "0             NaN  \n",
       "1             NaN  \n",
       "2             NaN  \n",
       "3             NaN  \n",
       "4             NaN  "
      ]
     },
     "execution_count": null,
     "metadata": {},
     "output_type": "execute_result"
    }
   ],
   "source": [
    "#| hide\n",
    "omim_map_df = load_omim_map(data_path)\n",
    "omim_map_df.head()"
   ]
  },
  {
   "cell_type": "code",
   "execution_count": null,
   "id": "8e1c6c62-e6d7-48ad-ad55-7cad58cf39be",
   "metadata": {},
   "outputs": [
    {
     "data": {
      "text/plain": [
       "True"
      ]
     },
     "execution_count": null,
     "metadata": {},
     "output_type": "execute_result"
    }
   ],
   "source": [
    "len(set(omim_map_df.OMIM).intersection(set(structural_genes.OMIM))) == len(set(structural_genes.OMIM))"
   ]
  },
  {
   "cell_type": "code",
   "execution_count": null,
   "id": "d68c387f-3688-4c02-bb73-c243d74671dd",
   "metadata": {},
   "outputs": [
    {
     "data": {
      "text/plain": [
       "True"
      ]
     },
     "execution_count": null,
     "metadata": {},
     "output_type": "execute_result"
    }
   ],
   "source": [
    "len(set(omim_map_df.OMIM).intersection(set(non_structural_genes.OMIM))) == len(set(non_structural_genes.OMIM))"
   ]
  },
  {
   "cell_type": "code",
   "execution_count": null,
   "id": "d499f1c0-900c-478e-9767-c867f00d633f",
   "metadata": {},
   "outputs": [
    {
     "data": {
      "text/plain": [
       "124"
      ]
     },
     "execution_count": null,
     "metadata": {},
     "output_type": "execute_result"
    }
   ],
   "source": [
    "#| hide\n",
    "mito_entrez_df = pd.concat(\n",
    "    [\n",
    "        structural_genes[['OMIM']],\n",
    "        non_structural_genes[['OMIM']]\n",
    "    ],\n",
    "    axis=0\n",
    ").drop_duplicates(\"OMIM\").merge(\n",
    "    omim_map_df[['OMIM', 'entrez_gene_id', 'ensembl_gene_id']],\n",
    "    on='OMIM'\n",
    ").dropna(subset='entrez_gene_id')\n",
    "mito_entrez_df.shape[0]"
   ]
  },
  {
   "cell_type": "code",
   "execution_count": null,
   "id": "0f977174-c762-4a2d-bb82-e41398b3a512",
   "metadata": {},
   "outputs": [
    {
     "data": {
      "text/plain": [
       "(24, ['250250', '609260', '302060', '205950', '602473'])"
      ]
     },
     "execution_count": null,
     "metadata": {},
     "output_type": "execute_result"
    }
   ],
   "source": [
    "#| hide\n",
    "# These are OMIM ids from MitoMAP that don't have an entrez map\n",
    "# Looking through some of these, they do point to uniprot\n",
    "# Without API access to OMIM, I can't map these anywhere\n",
    "unique_mito_omim_ids = set(non_structural_genes.OMIM.values)\n",
    "unique_mito_omim_ids.update(set(structural_genes.OMIM))\n",
    "abs(len(unique_mito_omim_ids) - mito_entrez_df.shape[0])\n",
    "missing_omim_ids = unique_mito_omim_ids - set(mito_entrez_df.OMIM)\n",
    "len(missing_omim_ids), list(missing_omim_ids)[:5]"
   ]
  },
  {
   "cell_type": "markdown",
   "id": "6e2a0ab0-8fb9-42b4-b778-857368d88937",
   "metadata": {},
   "source": [
    "Now that we have entrez gene ids, it should be simple to fetch fasta sequences in bulk from Entrez."
   ]
  },
  {
   "cell_type": "code",
   "execution_count": null,
   "id": "62aa26ff-ff52-4fd1-801d-8202f049ad6a",
   "metadata": {},
   "outputs": [
    {
     "data": {
      "text/plain": [
       "124"
      ]
     },
     "execution_count": null,
     "metadata": {},
     "output_type": "execute_result"
    }
   ],
   "source": [
    "#| hide\n",
    "entrez_ids = list(map(lambda gene_id: str(int(gene_id)), mito_entrez_df.entrez_gene_id.tolist()))\n",
    "len(entrez_ids)"
   ]
  },
  {
   "cell_type": "code",
   "execution_count": null,
   "id": "e1ba6db3-2e0f-451d-a7a4-f8c91c8240cc",
   "metadata": {},
   "outputs": [],
   "source": [
    "#| export\n",
    "def get_fasta_from_entrez_ids(ids: list[str]) -> list[SeqIO.SeqRecord]:\n",
    "    \"\"\"\n",
    "    \"\"\"\n",
    "    id_fasta_response = Entrez.efetch(\n",
    "        \"gene\",\n",
    "        id=\",\".join(ids),\n",
    "    )\n",
    "    return Entrez.read(id_fasta_response)"
   ]
  },
  {
   "cell_type": "code",
   "execution_count": null,
   "id": "a27aa90e-6bbd-468d-9df0-bc5c3523cd2c",
   "metadata": {},
   "outputs": [
    {
     "ename": "KeyboardInterrupt",
     "evalue": "",
     "output_type": "error",
     "traceback": [
      "\u001b[0;31m---------------------------------------------------------------------------\u001b[0m",
      "\u001b[0;31mKeyboardInterrupt\u001b[0m                         Traceback (most recent call last)",
      "Cell \u001b[0;32mIn[200], line 2\u001b[0m\n\u001b[1;32m      1\u001b[0m \u001b[38;5;66;03m#| hide\u001b[39;00m\n\u001b[0;32m----> 2\u001b[0m test_response \u001b[38;5;241m=\u001b[39m \u001b[43mEntrez\u001b[49m\u001b[38;5;241;43m.\u001b[39;49m\u001b[43mefetch\u001b[49m\u001b[43m(\u001b[49m\n\u001b[1;32m      3\u001b[0m \u001b[43m    \u001b[49m\u001b[38;5;124;43m\"\u001b[39;49m\u001b[38;5;124;43mgene\u001b[39;49m\u001b[38;5;124;43m\"\u001b[39;49m\u001b[43m,\u001b[49m\n\u001b[1;32m      4\u001b[0m \u001b[43m    \u001b[49m\u001b[38;5;28;43mid\u001b[39;49m\u001b[38;5;241;43m=\u001b[39;49m\u001b[43mentrez_ids\u001b[49m\u001b[43m[\u001b[49m\u001b[38;5;241;43m0\u001b[39;49m\u001b[43m]\u001b[49m\u001b[43m,\u001b[49m\n\u001b[1;32m      5\u001b[0m \u001b[43m    \u001b[49m\u001b[43mretmode\u001b[49m\u001b[38;5;241;43m=\u001b[39;49m\u001b[38;5;124;43m\"\u001b[39;49m\u001b[38;5;124;43mxml\u001b[39;49m\u001b[38;5;124;43m\"\u001b[39;49m\n\u001b[1;32m      6\u001b[0m \u001b[43m)\u001b[49m\n",
      "File \u001b[0;32m~/projects/llm-mito-scanner/venv/lib/python3.10/site-packages/Bio/Entrez/__init__.py:196\u001b[0m, in \u001b[0;36mefetch\u001b[0;34m(db, **keywords)\u001b[0m\n\u001b[1;32m    194\u001b[0m variables\u001b[38;5;241m.\u001b[39mupdate(keywords)\n\u001b[1;32m    195\u001b[0m request \u001b[38;5;241m=\u001b[39m _build_request(cgi, variables)\n\u001b[0;32m--> 196\u001b[0m \u001b[38;5;28;01mreturn\u001b[39;00m \u001b[43m_open\u001b[49m\u001b[43m(\u001b[49m\u001b[43mrequest\u001b[49m\u001b[43m)\u001b[49m\n",
      "File \u001b[0;32m~/projects/llm-mito-scanner/venv/lib/python3.10/site-packages/Bio/Entrez/__init__.py:594\u001b[0m, in \u001b[0;36m_open\u001b[0;34m(request)\u001b[0m\n\u001b[1;32m    592\u001b[0m \u001b[38;5;28;01mfor\u001b[39;00m i \u001b[38;5;129;01min\u001b[39;00m \u001b[38;5;28mrange\u001b[39m(max_tries):\n\u001b[1;32m    593\u001b[0m     \u001b[38;5;28;01mtry\u001b[39;00m:\n\u001b[0;32m--> 594\u001b[0m         handle \u001b[38;5;241m=\u001b[39m \u001b[43murlopen\u001b[49m\u001b[43m(\u001b[49m\u001b[43mrequest\u001b[49m\u001b[43m)\u001b[49m\n\u001b[1;32m    595\u001b[0m     \u001b[38;5;28;01mexcept\u001b[39;00m HTTPError \u001b[38;5;28;01mas\u001b[39;00m exception:\n\u001b[1;32m    596\u001b[0m         \u001b[38;5;66;03m# Reraise if the final try fails\u001b[39;00m\n\u001b[1;32m    597\u001b[0m         \u001b[38;5;28;01mif\u001b[39;00m i \u001b[38;5;241m>\u001b[39m\u001b[38;5;241m=\u001b[39m max_tries \u001b[38;5;241m-\u001b[39m \u001b[38;5;241m1\u001b[39m:\n",
      "File \u001b[0;32m/usr/lib/python3.10/urllib/request.py:216\u001b[0m, in \u001b[0;36murlopen\u001b[0;34m(url, data, timeout, cafile, capath, cadefault, context)\u001b[0m\n\u001b[1;32m    214\u001b[0m \u001b[38;5;28;01melse\u001b[39;00m:\n\u001b[1;32m    215\u001b[0m     opener \u001b[38;5;241m=\u001b[39m _opener\n\u001b[0;32m--> 216\u001b[0m \u001b[38;5;28;01mreturn\u001b[39;00m \u001b[43mopener\u001b[49m\u001b[38;5;241;43m.\u001b[39;49m\u001b[43mopen\u001b[49m\u001b[43m(\u001b[49m\u001b[43murl\u001b[49m\u001b[43m,\u001b[49m\u001b[43m \u001b[49m\u001b[43mdata\u001b[49m\u001b[43m,\u001b[49m\u001b[43m \u001b[49m\u001b[43mtimeout\u001b[49m\u001b[43m)\u001b[49m\n",
      "File \u001b[0;32m/usr/lib/python3.10/urllib/request.py:519\u001b[0m, in \u001b[0;36mOpenerDirector.open\u001b[0;34m(self, fullurl, data, timeout)\u001b[0m\n\u001b[1;32m    516\u001b[0m     req \u001b[38;5;241m=\u001b[39m meth(req)\n\u001b[1;32m    518\u001b[0m sys\u001b[38;5;241m.\u001b[39maudit(\u001b[38;5;124m'\u001b[39m\u001b[38;5;124murllib.Request\u001b[39m\u001b[38;5;124m'\u001b[39m, req\u001b[38;5;241m.\u001b[39mfull_url, req\u001b[38;5;241m.\u001b[39mdata, req\u001b[38;5;241m.\u001b[39mheaders, req\u001b[38;5;241m.\u001b[39mget_method())\n\u001b[0;32m--> 519\u001b[0m response \u001b[38;5;241m=\u001b[39m \u001b[38;5;28;43mself\u001b[39;49m\u001b[38;5;241;43m.\u001b[39;49m\u001b[43m_open\u001b[49m\u001b[43m(\u001b[49m\u001b[43mreq\u001b[49m\u001b[43m,\u001b[49m\u001b[43m \u001b[49m\u001b[43mdata\u001b[49m\u001b[43m)\u001b[49m\n\u001b[1;32m    521\u001b[0m \u001b[38;5;66;03m# post-process response\u001b[39;00m\n\u001b[1;32m    522\u001b[0m meth_name \u001b[38;5;241m=\u001b[39m protocol\u001b[38;5;241m+\u001b[39m\u001b[38;5;124m\"\u001b[39m\u001b[38;5;124m_response\u001b[39m\u001b[38;5;124m\"\u001b[39m\n",
      "File \u001b[0;32m/usr/lib/python3.10/urllib/request.py:536\u001b[0m, in \u001b[0;36mOpenerDirector._open\u001b[0;34m(self, req, data)\u001b[0m\n\u001b[1;32m    533\u001b[0m     \u001b[38;5;28;01mreturn\u001b[39;00m result\n\u001b[1;32m    535\u001b[0m protocol \u001b[38;5;241m=\u001b[39m req\u001b[38;5;241m.\u001b[39mtype\n\u001b[0;32m--> 536\u001b[0m result \u001b[38;5;241m=\u001b[39m \u001b[38;5;28;43mself\u001b[39;49m\u001b[38;5;241;43m.\u001b[39;49m\u001b[43m_call_chain\u001b[49m\u001b[43m(\u001b[49m\u001b[38;5;28;43mself\u001b[39;49m\u001b[38;5;241;43m.\u001b[39;49m\u001b[43mhandle_open\u001b[49m\u001b[43m,\u001b[49m\u001b[43m \u001b[49m\u001b[43mprotocol\u001b[49m\u001b[43m,\u001b[49m\u001b[43m \u001b[49m\u001b[43mprotocol\u001b[49m\u001b[43m \u001b[49m\u001b[38;5;241;43m+\u001b[39;49m\n\u001b[1;32m    537\u001b[0m \u001b[43m                          \u001b[49m\u001b[38;5;124;43m'\u001b[39;49m\u001b[38;5;124;43m_open\u001b[39;49m\u001b[38;5;124;43m'\u001b[39;49m\u001b[43m,\u001b[49m\u001b[43m \u001b[49m\u001b[43mreq\u001b[49m\u001b[43m)\u001b[49m\n\u001b[1;32m    538\u001b[0m \u001b[38;5;28;01mif\u001b[39;00m result:\n\u001b[1;32m    539\u001b[0m     \u001b[38;5;28;01mreturn\u001b[39;00m result\n",
      "File \u001b[0;32m/usr/lib/python3.10/urllib/request.py:496\u001b[0m, in \u001b[0;36mOpenerDirector._call_chain\u001b[0;34m(self, chain, kind, meth_name, *args)\u001b[0m\n\u001b[1;32m    494\u001b[0m \u001b[38;5;28;01mfor\u001b[39;00m handler \u001b[38;5;129;01min\u001b[39;00m handlers:\n\u001b[1;32m    495\u001b[0m     func \u001b[38;5;241m=\u001b[39m \u001b[38;5;28mgetattr\u001b[39m(handler, meth_name)\n\u001b[0;32m--> 496\u001b[0m     result \u001b[38;5;241m=\u001b[39m \u001b[43mfunc\u001b[49m\u001b[43m(\u001b[49m\u001b[38;5;241;43m*\u001b[39;49m\u001b[43margs\u001b[49m\u001b[43m)\u001b[49m\n\u001b[1;32m    497\u001b[0m     \u001b[38;5;28;01mif\u001b[39;00m result \u001b[38;5;129;01mis\u001b[39;00m \u001b[38;5;129;01mnot\u001b[39;00m \u001b[38;5;28;01mNone\u001b[39;00m:\n\u001b[1;32m    498\u001b[0m         \u001b[38;5;28;01mreturn\u001b[39;00m result\n",
      "File \u001b[0;32m/usr/lib/python3.10/urllib/request.py:1391\u001b[0m, in \u001b[0;36mHTTPSHandler.https_open\u001b[0;34m(self, req)\u001b[0m\n\u001b[1;32m   1390\u001b[0m \u001b[38;5;28;01mdef\u001b[39;00m \u001b[38;5;21mhttps_open\u001b[39m(\u001b[38;5;28mself\u001b[39m, req):\n\u001b[0;32m-> 1391\u001b[0m     \u001b[38;5;28;01mreturn\u001b[39;00m \u001b[38;5;28;43mself\u001b[39;49m\u001b[38;5;241;43m.\u001b[39;49m\u001b[43mdo_open\u001b[49m\u001b[43m(\u001b[49m\u001b[43mhttp\u001b[49m\u001b[38;5;241;43m.\u001b[39;49m\u001b[43mclient\u001b[49m\u001b[38;5;241;43m.\u001b[39;49m\u001b[43mHTTPSConnection\u001b[49m\u001b[43m,\u001b[49m\u001b[43m \u001b[49m\u001b[43mreq\u001b[49m\u001b[43m,\u001b[49m\n\u001b[1;32m   1392\u001b[0m \u001b[43m        \u001b[49m\u001b[43mcontext\u001b[49m\u001b[38;5;241;43m=\u001b[39;49m\u001b[38;5;28;43mself\u001b[39;49m\u001b[38;5;241;43m.\u001b[39;49m\u001b[43m_context\u001b[49m\u001b[43m,\u001b[49m\u001b[43m \u001b[49m\u001b[43mcheck_hostname\u001b[49m\u001b[38;5;241;43m=\u001b[39;49m\u001b[38;5;28;43mself\u001b[39;49m\u001b[38;5;241;43m.\u001b[39;49m\u001b[43m_check_hostname\u001b[49m\u001b[43m)\u001b[49m\n",
      "File \u001b[0;32m/usr/lib/python3.10/urllib/request.py:1348\u001b[0m, in \u001b[0;36mAbstractHTTPHandler.do_open\u001b[0;34m(self, http_class, req, **http_conn_args)\u001b[0m\n\u001b[1;32m   1346\u001b[0m \u001b[38;5;28;01mtry\u001b[39;00m:\n\u001b[1;32m   1347\u001b[0m     \u001b[38;5;28;01mtry\u001b[39;00m:\n\u001b[0;32m-> 1348\u001b[0m         \u001b[43mh\u001b[49m\u001b[38;5;241;43m.\u001b[39;49m\u001b[43mrequest\u001b[49m\u001b[43m(\u001b[49m\u001b[43mreq\u001b[49m\u001b[38;5;241;43m.\u001b[39;49m\u001b[43mget_method\u001b[49m\u001b[43m(\u001b[49m\u001b[43m)\u001b[49m\u001b[43m,\u001b[49m\u001b[43m \u001b[49m\u001b[43mreq\u001b[49m\u001b[38;5;241;43m.\u001b[39;49m\u001b[43mselector\u001b[49m\u001b[43m,\u001b[49m\u001b[43m \u001b[49m\u001b[43mreq\u001b[49m\u001b[38;5;241;43m.\u001b[39;49m\u001b[43mdata\u001b[49m\u001b[43m,\u001b[49m\u001b[43m \u001b[49m\u001b[43mheaders\u001b[49m\u001b[43m,\u001b[49m\n\u001b[1;32m   1349\u001b[0m \u001b[43m                  \u001b[49m\u001b[43mencode_chunked\u001b[49m\u001b[38;5;241;43m=\u001b[39;49m\u001b[43mreq\u001b[49m\u001b[38;5;241;43m.\u001b[39;49m\u001b[43mhas_header\u001b[49m\u001b[43m(\u001b[49m\u001b[38;5;124;43m'\u001b[39;49m\u001b[38;5;124;43mTransfer-encoding\u001b[39;49m\u001b[38;5;124;43m'\u001b[39;49m\u001b[43m)\u001b[49m\u001b[43m)\u001b[49m\n\u001b[1;32m   1350\u001b[0m     \u001b[38;5;28;01mexcept\u001b[39;00m \u001b[38;5;167;01mOSError\u001b[39;00m \u001b[38;5;28;01mas\u001b[39;00m err: \u001b[38;5;66;03m# timeout error\u001b[39;00m\n\u001b[1;32m   1351\u001b[0m         \u001b[38;5;28;01mraise\u001b[39;00m URLError(err)\n",
      "File \u001b[0;32m/usr/lib/python3.10/http/client.py:1282\u001b[0m, in \u001b[0;36mHTTPConnection.request\u001b[0;34m(self, method, url, body, headers, encode_chunked)\u001b[0m\n\u001b[1;32m   1279\u001b[0m \u001b[38;5;28;01mdef\u001b[39;00m \u001b[38;5;21mrequest\u001b[39m(\u001b[38;5;28mself\u001b[39m, method, url, body\u001b[38;5;241m=\u001b[39m\u001b[38;5;28;01mNone\u001b[39;00m, headers\u001b[38;5;241m=\u001b[39m{}, \u001b[38;5;241m*\u001b[39m,\n\u001b[1;32m   1280\u001b[0m             encode_chunked\u001b[38;5;241m=\u001b[39m\u001b[38;5;28;01mFalse\u001b[39;00m):\n\u001b[1;32m   1281\u001b[0m \u001b[38;5;250m    \u001b[39m\u001b[38;5;124;03m\"\"\"Send a complete request to the server.\"\"\"\u001b[39;00m\n\u001b[0;32m-> 1282\u001b[0m     \u001b[38;5;28;43mself\u001b[39;49m\u001b[38;5;241;43m.\u001b[39;49m\u001b[43m_send_request\u001b[49m\u001b[43m(\u001b[49m\u001b[43mmethod\u001b[49m\u001b[43m,\u001b[49m\u001b[43m \u001b[49m\u001b[43murl\u001b[49m\u001b[43m,\u001b[49m\u001b[43m \u001b[49m\u001b[43mbody\u001b[49m\u001b[43m,\u001b[49m\u001b[43m \u001b[49m\u001b[43mheaders\u001b[49m\u001b[43m,\u001b[49m\u001b[43m \u001b[49m\u001b[43mencode_chunked\u001b[49m\u001b[43m)\u001b[49m\n",
      "File \u001b[0;32m/usr/lib/python3.10/http/client.py:1328\u001b[0m, in \u001b[0;36mHTTPConnection._send_request\u001b[0;34m(self, method, url, body, headers, encode_chunked)\u001b[0m\n\u001b[1;32m   1324\u001b[0m \u001b[38;5;28;01mif\u001b[39;00m \u001b[38;5;28misinstance\u001b[39m(body, \u001b[38;5;28mstr\u001b[39m):\n\u001b[1;32m   1325\u001b[0m     \u001b[38;5;66;03m# RFC 2616 Section 3.7.1 says that text default has a\u001b[39;00m\n\u001b[1;32m   1326\u001b[0m     \u001b[38;5;66;03m# default charset of iso-8859-1.\u001b[39;00m\n\u001b[1;32m   1327\u001b[0m     body \u001b[38;5;241m=\u001b[39m _encode(body, \u001b[38;5;124m'\u001b[39m\u001b[38;5;124mbody\u001b[39m\u001b[38;5;124m'\u001b[39m)\n\u001b[0;32m-> 1328\u001b[0m \u001b[38;5;28;43mself\u001b[39;49m\u001b[38;5;241;43m.\u001b[39;49m\u001b[43mendheaders\u001b[49m\u001b[43m(\u001b[49m\u001b[43mbody\u001b[49m\u001b[43m,\u001b[49m\u001b[43m \u001b[49m\u001b[43mencode_chunked\u001b[49m\u001b[38;5;241;43m=\u001b[39;49m\u001b[43mencode_chunked\u001b[49m\u001b[43m)\u001b[49m\n",
      "File \u001b[0;32m/usr/lib/python3.10/http/client.py:1277\u001b[0m, in \u001b[0;36mHTTPConnection.endheaders\u001b[0;34m(self, message_body, encode_chunked)\u001b[0m\n\u001b[1;32m   1275\u001b[0m \u001b[38;5;28;01melse\u001b[39;00m:\n\u001b[1;32m   1276\u001b[0m     \u001b[38;5;28;01mraise\u001b[39;00m CannotSendHeader()\n\u001b[0;32m-> 1277\u001b[0m \u001b[38;5;28;43mself\u001b[39;49m\u001b[38;5;241;43m.\u001b[39;49m\u001b[43m_send_output\u001b[49m\u001b[43m(\u001b[49m\u001b[43mmessage_body\u001b[49m\u001b[43m,\u001b[49m\u001b[43m \u001b[49m\u001b[43mencode_chunked\u001b[49m\u001b[38;5;241;43m=\u001b[39;49m\u001b[43mencode_chunked\u001b[49m\u001b[43m)\u001b[49m\n",
      "File \u001b[0;32m/usr/lib/python3.10/http/client.py:1037\u001b[0m, in \u001b[0;36mHTTPConnection._send_output\u001b[0;34m(self, message_body, encode_chunked)\u001b[0m\n\u001b[1;32m   1035\u001b[0m msg \u001b[38;5;241m=\u001b[39m \u001b[38;5;124mb\u001b[39m\u001b[38;5;124m\"\u001b[39m\u001b[38;5;130;01m\\r\u001b[39;00m\u001b[38;5;130;01m\\n\u001b[39;00m\u001b[38;5;124m\"\u001b[39m\u001b[38;5;241m.\u001b[39mjoin(\u001b[38;5;28mself\u001b[39m\u001b[38;5;241m.\u001b[39m_buffer)\n\u001b[1;32m   1036\u001b[0m \u001b[38;5;28;01mdel\u001b[39;00m \u001b[38;5;28mself\u001b[39m\u001b[38;5;241m.\u001b[39m_buffer[:]\n\u001b[0;32m-> 1037\u001b[0m \u001b[38;5;28;43mself\u001b[39;49m\u001b[38;5;241;43m.\u001b[39;49m\u001b[43msend\u001b[49m\u001b[43m(\u001b[49m\u001b[43mmsg\u001b[49m\u001b[43m)\u001b[49m\n\u001b[1;32m   1039\u001b[0m \u001b[38;5;28;01mif\u001b[39;00m message_body \u001b[38;5;129;01mis\u001b[39;00m \u001b[38;5;129;01mnot\u001b[39;00m \u001b[38;5;28;01mNone\u001b[39;00m:\n\u001b[1;32m   1040\u001b[0m \n\u001b[1;32m   1041\u001b[0m     \u001b[38;5;66;03m# create a consistent interface to message_body\u001b[39;00m\n\u001b[1;32m   1042\u001b[0m     \u001b[38;5;28;01mif\u001b[39;00m \u001b[38;5;28mhasattr\u001b[39m(message_body, \u001b[38;5;124m'\u001b[39m\u001b[38;5;124mread\u001b[39m\u001b[38;5;124m'\u001b[39m):\n\u001b[1;32m   1043\u001b[0m         \u001b[38;5;66;03m# Let file-like take precedence over byte-like.  This\u001b[39;00m\n\u001b[1;32m   1044\u001b[0m         \u001b[38;5;66;03m# is needed to allow the current position of mmap'ed\u001b[39;00m\n\u001b[1;32m   1045\u001b[0m         \u001b[38;5;66;03m# files to be taken into account.\u001b[39;00m\n",
      "File \u001b[0;32m/usr/lib/python3.10/http/client.py:975\u001b[0m, in \u001b[0;36mHTTPConnection.send\u001b[0;34m(self, data)\u001b[0m\n\u001b[1;32m    973\u001b[0m \u001b[38;5;28;01mif\u001b[39;00m \u001b[38;5;28mself\u001b[39m\u001b[38;5;241m.\u001b[39msock \u001b[38;5;129;01mis\u001b[39;00m \u001b[38;5;28;01mNone\u001b[39;00m:\n\u001b[1;32m    974\u001b[0m     \u001b[38;5;28;01mif\u001b[39;00m \u001b[38;5;28mself\u001b[39m\u001b[38;5;241m.\u001b[39mauto_open:\n\u001b[0;32m--> 975\u001b[0m         \u001b[38;5;28;43mself\u001b[39;49m\u001b[38;5;241;43m.\u001b[39;49m\u001b[43mconnect\u001b[49m\u001b[43m(\u001b[49m\u001b[43m)\u001b[49m\n\u001b[1;32m    976\u001b[0m     \u001b[38;5;28;01melse\u001b[39;00m:\n\u001b[1;32m    977\u001b[0m         \u001b[38;5;28;01mraise\u001b[39;00m NotConnected()\n",
      "File \u001b[0;32m/usr/lib/python3.10/http/client.py:1447\u001b[0m, in \u001b[0;36mHTTPSConnection.connect\u001b[0;34m(self)\u001b[0m\n\u001b[1;32m   1444\u001b[0m \u001b[38;5;28;01mdef\u001b[39;00m \u001b[38;5;21mconnect\u001b[39m(\u001b[38;5;28mself\u001b[39m):\n\u001b[1;32m   1445\u001b[0m     \u001b[38;5;124m\"\u001b[39m\u001b[38;5;124mConnect to a host on a given (SSL) port.\u001b[39m\u001b[38;5;124m\"\u001b[39m\n\u001b[0;32m-> 1447\u001b[0m     \u001b[38;5;28;43msuper\u001b[39;49m\u001b[43m(\u001b[49m\u001b[43m)\u001b[49m\u001b[38;5;241;43m.\u001b[39;49m\u001b[43mconnect\u001b[49m\u001b[43m(\u001b[49m\u001b[43m)\u001b[49m\n\u001b[1;32m   1449\u001b[0m     \u001b[38;5;28;01mif\u001b[39;00m \u001b[38;5;28mself\u001b[39m\u001b[38;5;241m.\u001b[39m_tunnel_host:\n\u001b[1;32m   1450\u001b[0m         server_hostname \u001b[38;5;241m=\u001b[39m \u001b[38;5;28mself\u001b[39m\u001b[38;5;241m.\u001b[39m_tunnel_host\n",
      "File \u001b[0;32m/usr/lib/python3.10/http/client.py:941\u001b[0m, in \u001b[0;36mHTTPConnection.connect\u001b[0;34m(self)\u001b[0m\n\u001b[1;32m    939\u001b[0m \u001b[38;5;250m\u001b[39m\u001b[38;5;124;03m\"\"\"Connect to the host and port specified in __init__.\"\"\"\u001b[39;00m\n\u001b[1;32m    940\u001b[0m sys\u001b[38;5;241m.\u001b[39maudit(\u001b[38;5;124m\"\u001b[39m\u001b[38;5;124mhttp.client.connect\u001b[39m\u001b[38;5;124m\"\u001b[39m, \u001b[38;5;28mself\u001b[39m, \u001b[38;5;28mself\u001b[39m\u001b[38;5;241m.\u001b[39mhost, \u001b[38;5;28mself\u001b[39m\u001b[38;5;241m.\u001b[39mport)\n\u001b[0;32m--> 941\u001b[0m \u001b[38;5;28mself\u001b[39m\u001b[38;5;241m.\u001b[39msock \u001b[38;5;241m=\u001b[39m \u001b[38;5;28;43mself\u001b[39;49m\u001b[38;5;241;43m.\u001b[39;49m\u001b[43m_create_connection\u001b[49m\u001b[43m(\u001b[49m\n\u001b[1;32m    942\u001b[0m \u001b[43m    \u001b[49m\u001b[43m(\u001b[49m\u001b[38;5;28;43mself\u001b[39;49m\u001b[38;5;241;43m.\u001b[39;49m\u001b[43mhost\u001b[49m\u001b[43m,\u001b[49m\u001b[38;5;28;43mself\u001b[39;49m\u001b[38;5;241;43m.\u001b[39;49m\u001b[43mport\u001b[49m\u001b[43m)\u001b[49m\u001b[43m,\u001b[49m\u001b[43m \u001b[49m\u001b[38;5;28;43mself\u001b[39;49m\u001b[38;5;241;43m.\u001b[39;49m\u001b[43mtimeout\u001b[49m\u001b[43m,\u001b[49m\u001b[43m \u001b[49m\u001b[38;5;28;43mself\u001b[39;49m\u001b[38;5;241;43m.\u001b[39;49m\u001b[43msource_address\u001b[49m\u001b[43m)\u001b[49m\n\u001b[1;32m    943\u001b[0m \u001b[38;5;66;03m# Might fail in OSs that don't implement TCP_NODELAY\u001b[39;00m\n\u001b[1;32m    944\u001b[0m \u001b[38;5;28;01mtry\u001b[39;00m:\n",
      "File \u001b[0;32m/usr/lib/python3.10/socket.py:833\u001b[0m, in \u001b[0;36mcreate_connection\u001b[0;34m(address, timeout, source_address)\u001b[0m\n\u001b[1;32m    831\u001b[0m \u001b[38;5;28;01mif\u001b[39;00m source_address:\n\u001b[1;32m    832\u001b[0m     sock\u001b[38;5;241m.\u001b[39mbind(source_address)\n\u001b[0;32m--> 833\u001b[0m \u001b[43msock\u001b[49m\u001b[38;5;241;43m.\u001b[39;49m\u001b[43mconnect\u001b[49m\u001b[43m(\u001b[49m\u001b[43msa\u001b[49m\u001b[43m)\u001b[49m\n\u001b[1;32m    834\u001b[0m \u001b[38;5;66;03m# Break explicitly a reference cycle\u001b[39;00m\n\u001b[1;32m    835\u001b[0m err \u001b[38;5;241m=\u001b[39m \u001b[38;5;28;01mNone\u001b[39;00m\n",
      "\u001b[0;31mKeyboardInterrupt\u001b[0m: "
     ]
    }
   ],
   "source": [
    "#| hide\n",
    "test_response = Entrez.efetch(\n",
    "    \"gene\",\n",
    "    id=entrez_ids[0],\n",
    "    retmode=\"xml\"\n",
    ")"
   ]
  },
  {
   "cell_type": "code",
   "execution_count": null,
   "id": "0a9214f0-9c12-44ee-aeb8-de825008a4b6",
   "metadata": {},
   "outputs": [],
   "source": [
    "#| hide\n",
    "parsed_test_response = list(Entrez.parse(test_response))"
   ]
  },
  {
   "cell_type": "code",
   "execution_count": null,
   "id": "2ab09ead-4138-43eb-b3ed-46faa7f68d9a",
   "metadata": {},
   "outputs": [],
   "source": [
    "#| hide\n",
    "parsed_test_response[0]"
   ]
  },
  {
   "cell_type": "code",
   "execution_count": null,
   "id": "edf19d7e-f701-478b-badd-d6dcaf3cbfea",
   "metadata": {},
   "outputs": [
    {
     "data": {
      "text/plain": [
       "dict_keys(['Gene-commentary_type', 'Gene-commentary_heading', 'Gene-commentary_label', 'Gene-commentary_accession', 'Gene-commentary_version', 'Gene-commentary_seqs', 'Gene-commentary_products'])"
      ]
     },
     "execution_count": null,
     "metadata": {},
     "output_type": "execute_result"
    }
   ],
   "source": [
    "#| hide\n",
    "parsed_test_response[0].get(\"Entrezgene_locus\")[0].keys()"
   ]
  },
  {
   "cell_type": "code",
   "execution_count": null,
   "id": "425a491b-bcad-46fa-b889-d8b6e25fc8c9",
   "metadata": {},
   "outputs": [
    {
     "ename": "TypeError",
     "evalue": "file should be opened in binary mode",
     "output_type": "error",
     "traceback": [
      "\u001b[0;31m---------------------------------------------------------------------------\u001b[0m",
      "\u001b[0;31mTypeError\u001b[0m                                 Traceback (most recent call last)",
      "Cell \u001b[0;32mIn[188], line 2\u001b[0m\n\u001b[1;32m      1\u001b[0m \u001b[38;5;66;03m#| hide\u001b[39;00m\n\u001b[0;32m----> 2\u001b[0m sample_entrez_id_result \u001b[38;5;241m=\u001b[39m \u001b[43mget_fasta_from_entrez_ids\u001b[49m\u001b[43m(\u001b[49m\u001b[43mentrez_ids\u001b[49m\u001b[43m[\u001b[49m\u001b[43m:\u001b[49m\u001b[38;5;241;43m5\u001b[39;49m\u001b[43m]\u001b[49m\u001b[43m)\u001b[49m\n",
      "Cell \u001b[0;32mIn[187], line 9\u001b[0m, in \u001b[0;36mget_fasta_from_entrez_ids\u001b[0;34m(ids)\u001b[0m\n\u001b[1;32m      3\u001b[0m \u001b[38;5;250m\u001b[39m\u001b[38;5;124;03m\"\"\"\u001b[39;00m\n\u001b[1;32m      4\u001b[0m \u001b[38;5;124;03m\"\"\"\u001b[39;00m\n\u001b[1;32m      5\u001b[0m id_fasta_response \u001b[38;5;241m=\u001b[39m Entrez\u001b[38;5;241m.\u001b[39mefetch(\n\u001b[1;32m      6\u001b[0m     \u001b[38;5;124m\"\u001b[39m\u001b[38;5;124mgene\u001b[39m\u001b[38;5;124m\"\u001b[39m,\n\u001b[1;32m      7\u001b[0m     \u001b[38;5;28mid\u001b[39m\u001b[38;5;241m=\u001b[39m\u001b[38;5;124m\"\u001b[39m\u001b[38;5;124m,\u001b[39m\u001b[38;5;124m\"\u001b[39m\u001b[38;5;241m.\u001b[39mjoin(ids),\n\u001b[1;32m      8\u001b[0m )\n\u001b[0;32m----> 9\u001b[0m \u001b[38;5;28;01mreturn\u001b[39;00m \u001b[43mEntrez\u001b[49m\u001b[38;5;241;43m.\u001b[39;49m\u001b[43mread\u001b[49m\u001b[43m(\u001b[49m\u001b[43mid_fasta_response\u001b[49m\u001b[43m)\u001b[49m\n",
      "File \u001b[0;32m~/projects/llm-mito-scanner/venv/lib/python3.10/site-packages/Bio/Entrez/__init__.py:503\u001b[0m, in \u001b[0;36mread\u001b[0;34m(handle, validate, escape, ignore_errors)\u001b[0m\n\u001b[1;32m    500\u001b[0m \u001b[38;5;28;01mfrom\u001b[39;00m \u001b[38;5;21;01m.\u001b[39;00m\u001b[38;5;21;01mParser\u001b[39;00m \u001b[38;5;28;01mimport\u001b[39;00m DataHandler\n\u001b[1;32m    502\u001b[0m handler \u001b[38;5;241m=\u001b[39m DataHandler(validate, escape, ignore_errors)\n\u001b[0;32m--> 503\u001b[0m record \u001b[38;5;241m=\u001b[39m \u001b[43mhandler\u001b[49m\u001b[38;5;241;43m.\u001b[39;49m\u001b[43mread\u001b[49m\u001b[43m(\u001b[49m\u001b[43mhandle\u001b[49m\u001b[43m)\u001b[49m\n\u001b[1;32m    504\u001b[0m \u001b[38;5;28;01mreturn\u001b[39;00m record\n",
      "File \u001b[0;32m~/projects/llm-mito-scanner/venv/lib/python3.10/site-packages/Bio/Entrez/Parser.py:390\u001b[0m, in \u001b[0;36mDataHandler.read\u001b[0;34m(self, handle)\u001b[0m\n\u001b[1;32m    387\u001b[0m \u001b[38;5;66;03m# Expat's parser.ParseFile function only accepts binary data;\u001b[39;00m\n\u001b[1;32m    388\u001b[0m \u001b[38;5;66;03m# see also the comment below for Entrez.parse.\u001b[39;00m\n\u001b[1;32m    389\u001b[0m \u001b[38;5;28;01mif\u001b[39;00m handle\u001b[38;5;241m.\u001b[39mread(\u001b[38;5;241m0\u001b[39m) \u001b[38;5;241m!=\u001b[39m \u001b[38;5;124mb\u001b[39m\u001b[38;5;124m\"\u001b[39m\u001b[38;5;124m\"\u001b[39m:\n\u001b[0;32m--> 390\u001b[0m     \u001b[38;5;28;01mraise\u001b[39;00m \u001b[38;5;167;01mTypeError\u001b[39;00m(\u001b[38;5;124m\"\u001b[39m\u001b[38;5;124mfile should be opened in binary mode\u001b[39m\u001b[38;5;124m\"\u001b[39m)\n\u001b[1;32m    391\u001b[0m \u001b[38;5;28;01mtry\u001b[39;00m:\n\u001b[1;32m    392\u001b[0m     \u001b[38;5;28mself\u001b[39m\u001b[38;5;241m.\u001b[39mparser\u001b[38;5;241m.\u001b[39mParseFile(handle)\n",
      "\u001b[0;31mTypeError\u001b[0m: file should be opened in binary mode"
     ]
    }
   ],
   "source": [
    "#| hide\n",
    "sample_entrez_id_result = get_fasta_from_entrez_ids(entrez_ids[:5])"
   ]
  },
  {
   "cell_type": "code",
   "execution_count": null,
   "id": "d79f687e-2b6a-413a-9627-518fee8dc3cf",
   "metadata": {},
   "outputs": [],
   "source": [
    "len(sample_entrez_id_result)"
   ]
  },
  {
   "cell_type": "code",
   "execution_count": null,
   "id": "e343c159-4735-4775-a8c6-fb599beeb3a3",
   "metadata": {},
   "outputs": [],
   "source": [
    "#| export\n",
    "def search_entrez_protein_names(protein_names: list[str]) -> list[str]:\n",
    "    entrez_ids = map(lambda name: , names)"
   ]
  },
  {
   "cell_type": "code",
   "execution_count": null,
   "id": "bfc96fd0-099c-4ae2-bf1a-8d76055fd0f7",
   "metadata": {},
   "outputs": [],
   "source": [
    "#| export    \n",
    "def add_mitochondria_sequences_to_database(\n",
    "    protein_names: list[str],\n",
    "    connection: sqlite3.Connection\n",
    "):\n",
    "    # Add structural genes\n",
    "    protein_pbar = tqdm(total=len(protein_names), ncols=80, leave=False)\n",
    "    for name in protein_names:\n",
    "        protein_pbar.set_description(f\"{name} | searching\")\n",
    "        name_sequence_records = get_fasta_from_protein_name(name)\n",
    "        if len(name_sequence_records) > 0:\n",
    "            protein_pbar.set_description(f\"{name} | inserting sequences\")\n",
    "            database.insert_sequences(name_sequence_records, connection)\n",
    "            protein_pbar.set_description(f\"{name} | inserting mito indices\")\n",
    "            database.insert_mitochondria_related_sequences(name_sequence_records, connection)\n",
    "        protein_pbar.update(1)\n",
    "    protein_pbar.close()"
   ]
  },
  {
   "cell_type": "code",
   "execution_count": null,
   "id": "01cefa51-c6e4-4048-a88a-96f31d94f1e2",
   "metadata": {},
   "outputs": [],
   "source": [
    "#| hide\n",
    "connection = sqlite3.connect(\"../data/genome.db\")"
   ]
  },
  {
   "cell_type": "code",
   "execution_count": null,
   "id": "a90ada7d-62ce-43b9-9a3c-78e4ea22e222",
   "metadata": {},
   "outputs": [],
   "source": [
    "#| hide\n",
    "#add_mitochondria_sequences_to_database(mitochondria_protein_names, connection)"
   ]
  },
  {
   "cell_type": "code",
   "execution_count": null,
   "id": "e68f8439-72f5-4842-a3ce-77a65b55dc47",
   "metadata": {},
   "outputs": [],
   "source": [
    "#| hide\n",
    "cursor = connection.cursor()"
   ]
  },
  {
   "cell_type": "code",
   "execution_count": null,
   "id": "59873c83-7b5e-49cf-b627-03608ac5b71c",
   "metadata": {},
   "outputs": [
    {
     "data": {
      "text/plain": [
       "(190,)"
      ]
     },
     "execution_count": null,
     "metadata": {},
     "output_type": "execute_result"
    }
   ],
   "source": [
    "#| hide\n",
    "test_query = cursor.execute(\"SELECT COUNT(*) FROM mitochondria_related\")\n",
    "test_query.fetchone()"
   ]
  },
  {
   "cell_type": "code",
   "execution_count": null,
   "id": "325b2520-3e86-45b9-a90a-1295f336e424",
   "metadata": {},
   "outputs": [],
   "source": [
    "#| hide\n",
    "cursor.close()"
   ]
  },
  {
   "cell_type": "code",
   "execution_count": null,
   "id": "8647d21f-bcf6-44df-abe6-0816ae426334",
   "metadata": {},
   "outputs": [],
   "source": [
    "#| hide\n",
    "connection.close()"
   ]
  },
  {
   "cell_type": "code",
   "execution_count": null,
   "id": "1f40ba51-6adc-4589-84be-f07133bb77f4",
   "metadata": {},
   "outputs": [],
   "source": [
    "#| hide\n",
    "import nbdev; nbdev.nbdev_export()"
   ]
  }
 ],
 "metadata": {
  "kernelspec": {
   "display_name": "python3",
   "language": "python",
   "name": "python3"
  }
 },
 "nbformat": 4,
 "nbformat_minor": 5
}
