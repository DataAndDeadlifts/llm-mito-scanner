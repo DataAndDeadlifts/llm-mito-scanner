{
 "cells": [
  {
   "cell_type": "markdown",
   "id": "be09f4b3-3c91-47d9-bf0e-adafe9304d08",
   "metadata": {},
   "source": [
    "# Validate Extracted Sequences\n",
    "\n",
    "> \"Sequences we extracted could have introns in them. Lets validate that DNA maps to protein as expected before we train.\""
   ]
  },
  {
   "cell_type": "code",
   "execution_count": null,
   "id": "0240f590-9b0f-4d95-88ba-631f3dbbba03",
   "metadata": {},
   "outputs": [],
   "source": [
    "#| default_exp features.validation"
   ]
  },
  {
   "cell_type": "code",
   "execution_count": null,
   "id": "71cc7c98-7fa8-4d34-81f8-0ddbd21e3a35",
   "metadata": {},
   "outputs": [],
   "source": [
    "#| hide\n",
    "from nbdev.showdoc import *"
   ]
  },
  {
   "cell_type": "code",
   "execution_count": null,
   "id": "7472d260-2098-406b-b84d-f7c355a185e5",
   "metadata": {},
   "outputs": [
    {
     "name": "stderr",
     "output_type": "stream",
     "text": [
      "/home/jdb/projects/llm-mito-scanner/venv/lib/python3.10/site-packages/Bio/__init__.py:138: BiopythonWarning: You may be importing Biopython from inside the source tree. This is bad practice and might lead to downstream issues. In particular, you might encounter ImportErrors due to missing compiled C extensions. We recommend that you try running your code from outside the source tree. If you are outside the source tree then you have a setup.py file in an unexpected directory: /home/jdb/projects/llm-mito-scanner/venv/lib/python3.10/site-packages\n",
      "  warnings.warn(\n"
     ]
    }
   ],
   "source": [
    "#| export\n",
    "import pandas as pd\n",
    "from pathlib import Path\n",
    "from tqdm.auto import tqdm\n",
    "from Bio import SeqIO"
   ]
  },
  {
   "cell_type": "code",
   "execution_count": null,
   "id": "637110e4-e712-41c8-8c0d-296bcac49d0b",
   "metadata": {},
   "outputs": [],
   "source": [
    "#| hide\n",
    "from yaml import safe_load\n",
    "\n",
    "tqdm.pandas(ncols=80, leave=False)\n",
    "\n",
    "with open(\"../config.yml\") as f:\n",
    "    config = safe_load(f)"
   ]
  },
  {
   "cell_type": "code",
   "execution_count": null,
   "id": "6ee23662-8099-4647-b18a-097dc25f719a",
   "metadata": {},
   "outputs": [
    {
     "data": {
      "text/plain": [
       "20080"
      ]
     },
     "execution_count": null,
     "metadata": {},
     "output_type": "execute_result"
    }
   ],
   "source": [
    "#| hide\n",
    "import json\n",
    "\n",
    "data_path = Path(config.get(\"data_path\"))\n",
    "annotations_path = data_path / \"annotations\"\n",
    "genome_path = data_path / \"genome\"\n",
    "sequences_path = data_path / \"entrez_genes_sequences\"\n",
    "protein_path = data_path / \"protein\"\n",
    "\n",
    "with (data_path / \"entrez_gene_to_protein_map.json\").open(\"r\") as f:\n",
    "    gene_to_protein_map = json.load(f)\n",
    "    \n",
    "len(gene_to_protein_map)"
   ]
  },
  {
   "cell_type": "code",
   "execution_count": null,
   "id": "c9dcd9e0-a252-4681-9712-6c161a83403c",
   "metadata": {},
   "outputs": [],
   "source": [
    "#| export\n",
    "def load_gene_and_protein(\n",
    "    gene_id: str, \n",
    "    protein_id: str, \n",
    "    gene_path: Path, \n",
    "    protein_path: Path\n",
    ") -> (SeqIO.SeqRecord, SeqIO.SeqRecord):\n",
    "    gene = next(SeqIO.parse(gene_path / f\"{gene_id}.fasta\", \"fasta\"))\n",
    "    protein = next(SeqIO.parse(protein_path / f\"{protein_id}.fasta\", \"fasta\"))\n",
    "    return gene, protein"
   ]
  },
  {
   "cell_type": "code",
   "execution_count": null,
   "id": "27ba11cc-19b1-4e03-946d-dd20b7d39215",
   "metadata": {},
   "outputs": [
    {
     "data": {
      "text/plain": [
       "('79501', 'NP_001005484.2')"
      ]
     },
     "execution_count": null,
     "metadata": {},
     "output_type": "execute_result"
    }
   ],
   "source": [
    "#| hide\n",
    "gene_ids = list(gene_to_protein_map.keys())\n",
    "test_gene_id = gene_ids[0]\n",
    "test_protein_id = gene_to_protein_map.get(test_gene_id)\n",
    "test_gene_id, test_protein_id"
   ]
  },
  {
   "cell_type": "code",
   "execution_count": null,
   "id": "8f8fd8e1-387c-4d26-9dab-50f8fa92c2fc",
   "metadata": {},
   "outputs": [],
   "source": [
    "#| hide\n",
    "test_gene, test_protein = load_gene_and_protein(\n",
    "    test_gene_id,\n",
    "    test_protein_id,\n",
    "    sequences_path,\n",
    "    protein_path\n",
    ")"
   ]
  },
  {
   "cell_type": "code",
   "execution_count": null,
   "id": "2d3d9d7e-325a-4689-9234-0da8c05c91b1",
   "metadata": {},
   "outputs": [],
   "source": [
    "#| export\n",
    "def validate_gene_and_protein(gene: SeqIO.SeqRecord, protein: SeqIO.SeqRecord) -> bool:\n",
    "    \"\"\"\n",
    "    Returns true if a dna sequence maps directly to a protein sequence.\n",
    "    \"\"\"\n",
    "    translated_gene = gene.translate(cds=True)\n",
    "    return translated_gene.seq == protein.seq"
   ]
  },
  {
   "cell_type": "code",
   "execution_count": null,
   "id": "d4f21d71-4431-4b06-93da-95c132621bbf",
   "metadata": {},
   "outputs": [
    {
     "ename": "TranslationError",
     "evalue": "First codon 'CCA' is not a start codon",
     "output_type": "error",
     "traceback": [
      "\u001b[0;31m---------------------------------------------------------------------------\u001b[0m",
      "\u001b[0;31mTranslationError\u001b[0m                          Traceback (most recent call last)",
      "Cell \u001b[0;32mIn[18], line 2\u001b[0m\n\u001b[1;32m      1\u001b[0m \u001b[38;5;66;03m#| hide\u001b[39;00m\n\u001b[0;32m----> 2\u001b[0m \u001b[43mvalidate_gene_and_protein\u001b[49m\u001b[43m(\u001b[49m\u001b[43mtest_gene\u001b[49m\u001b[43m,\u001b[49m\u001b[43m \u001b[49m\u001b[43mtest_protein\u001b[49m\u001b[43m)\u001b[49m\n",
      "Cell \u001b[0;32mIn[17], line 6\u001b[0m, in \u001b[0;36mvalidate_gene_and_protein\u001b[0;34m(gene, protein)\u001b[0m\n\u001b[1;32m      2\u001b[0m \u001b[38;5;28;01mdef\u001b[39;00m \u001b[38;5;21mvalidate_gene_and_protein\u001b[39m(gene: SeqIO\u001b[38;5;241m.\u001b[39mSeqRecord, protein: SeqIO\u001b[38;5;241m.\u001b[39mSeqRecord) \u001b[38;5;241m-\u001b[39m\u001b[38;5;241m>\u001b[39m \u001b[38;5;28mbool\u001b[39m:\n\u001b[1;32m      3\u001b[0m \u001b[38;5;250m    \u001b[39m\u001b[38;5;124;03m\"\"\"\u001b[39;00m\n\u001b[1;32m      4\u001b[0m \u001b[38;5;124;03m    Returns true if a dna sequence maps directly to a protein sequence.\u001b[39;00m\n\u001b[1;32m      5\u001b[0m \u001b[38;5;124;03m    \"\"\"\u001b[39;00m\n\u001b[0;32m----> 6\u001b[0m     translated_gene \u001b[38;5;241m=\u001b[39m \u001b[43mgene\u001b[49m\u001b[38;5;241;43m.\u001b[39;49m\u001b[43mtranslate\u001b[49m\u001b[43m(\u001b[49m\u001b[43mcds\u001b[49m\u001b[38;5;241;43m=\u001b[39;49m\u001b[38;5;28;43;01mTrue\u001b[39;49;00m\u001b[43m)\u001b[49m\n\u001b[1;32m      7\u001b[0m     \u001b[38;5;28;01mreturn\u001b[39;00m translated_gene\u001b[38;5;241m.\u001b[39mseq \u001b[38;5;241m==\u001b[39m protein\u001b[38;5;241m.\u001b[39mseq\n",
      "File \u001b[0;32m~/projects/llm-mito-scanner/venv/lib/python3.10/site-packages/Bio/SeqRecord.py:1359\u001b[0m, in \u001b[0;36mSeqRecord.translate\u001b[0;34m(self, table, stop_symbol, to_stop, cds, gap, id, name, description, features, annotations, letter_annotations, dbxrefs)\u001b[0m\n\u001b[1;32m   1356\u001b[0m \u001b[38;5;28;01mif\u001b[39;00m \u001b[38;5;124m\"\u001b[39m\u001b[38;5;124mprotein\u001b[39m\u001b[38;5;124m\"\u001b[39m \u001b[38;5;241m==\u001b[39m \u001b[38;5;28mself\u001b[39m\u001b[38;5;241m.\u001b[39mannotations\u001b[38;5;241m.\u001b[39mget(\u001b[38;5;124m\"\u001b[39m\u001b[38;5;124mmolecule_type\u001b[39m\u001b[38;5;124m\"\u001b[39m, \u001b[38;5;124m\"\u001b[39m\u001b[38;5;124m\"\u001b[39m):\n\u001b[1;32m   1357\u001b[0m     \u001b[38;5;28;01mraise\u001b[39;00m \u001b[38;5;167;01mValueError\u001b[39;00m(\u001b[38;5;124m\"\u001b[39m\u001b[38;5;124mProteins cannot be translated!\u001b[39m\u001b[38;5;124m\"\u001b[39m)\n\u001b[1;32m   1358\u001b[0m answer \u001b[38;5;241m=\u001b[39m SeqRecord(\n\u001b[0;32m-> 1359\u001b[0m     \u001b[38;5;28;43mself\u001b[39;49m\u001b[38;5;241;43m.\u001b[39;49m\u001b[43mseq\u001b[49m\u001b[38;5;241;43m.\u001b[39;49m\u001b[43mtranslate\u001b[49m\u001b[43m(\u001b[49m\n\u001b[1;32m   1360\u001b[0m \u001b[43m        \u001b[49m\u001b[43mtable\u001b[49m\u001b[38;5;241;43m=\u001b[39;49m\u001b[43mtable\u001b[49m\u001b[43m,\u001b[49m\u001b[43m \u001b[49m\u001b[43mstop_symbol\u001b[49m\u001b[38;5;241;43m=\u001b[39;49m\u001b[43mstop_symbol\u001b[49m\u001b[43m,\u001b[49m\u001b[43m \u001b[49m\u001b[43mto_stop\u001b[49m\u001b[38;5;241;43m=\u001b[39;49m\u001b[43mto_stop\u001b[49m\u001b[43m,\u001b[49m\u001b[43m \u001b[49m\u001b[43mcds\u001b[49m\u001b[38;5;241;43m=\u001b[39;49m\u001b[43mcds\u001b[49m\u001b[43m,\u001b[49m\u001b[43m \u001b[49m\u001b[43mgap\u001b[49m\u001b[38;5;241;43m=\u001b[39;49m\u001b[43mgap\u001b[49m\n\u001b[1;32m   1361\u001b[0m \u001b[43m    \u001b[49m\u001b[43m)\u001b[49m\n\u001b[1;32m   1362\u001b[0m )\n\u001b[1;32m   1363\u001b[0m \u001b[38;5;28;01mif\u001b[39;00m \u001b[38;5;28misinstance\u001b[39m(\u001b[38;5;28mid\u001b[39m, \u001b[38;5;28mstr\u001b[39m):\n\u001b[1;32m   1364\u001b[0m     answer\u001b[38;5;241m.\u001b[39mid \u001b[38;5;241m=\u001b[39m \u001b[38;5;28mid\u001b[39m\n",
      "File \u001b[0;32m~/projects/llm-mito-scanner/venv/lib/python3.10/site-packages/Bio/Seq.py:1448\u001b[0m, in \u001b[0;36m_SeqAbstractBaseClass.translate\u001b[0;34m(self, table, stop_symbol, to_stop, cds, gap)\u001b[0m\n\u001b[1;32m   1440\u001b[0m         warnings\u001b[38;5;241m.\u001b[39mwarn(\n\u001b[1;32m   1441\u001b[0m             \u001b[38;5;124m\"\u001b[39m\u001b[38;5;124mPartial codon, len(sequence) not a multiple of three. \u001b[39m\u001b[38;5;124m\"\u001b[39m\n\u001b[1;32m   1442\u001b[0m             \u001b[38;5;124m\"\u001b[39m\u001b[38;5;124mThis may become an error in future.\u001b[39m\u001b[38;5;124m\"\u001b[39m,\n\u001b[1;32m   1443\u001b[0m             BiopythonWarning,\n\u001b[1;32m   1444\u001b[0m         )\n\u001b[1;32m   1445\u001b[0m     \u001b[38;5;28;01mreturn\u001b[39;00m Seq(\u001b[38;5;28;01mNone\u001b[39;00m, n \u001b[38;5;241m/\u001b[39m\u001b[38;5;241m/\u001b[39m \u001b[38;5;241m3\u001b[39m)\n\u001b[1;32m   1447\u001b[0m \u001b[38;5;28;01mreturn\u001b[39;00m \u001b[38;5;28mself\u001b[39m\u001b[38;5;241m.\u001b[39m\u001b[38;5;18m__class__\u001b[39m(\n\u001b[0;32m-> 1448\u001b[0m     \u001b[43m_translate_str\u001b[49m\u001b[43m(\u001b[49m\u001b[38;5;28;43mstr\u001b[39;49m\u001b[43m(\u001b[49m\u001b[38;5;28;43mself\u001b[39;49m\u001b[43m)\u001b[49m\u001b[43m,\u001b[49m\u001b[43m \u001b[49m\u001b[43mtable\u001b[49m\u001b[43m,\u001b[49m\u001b[43m \u001b[49m\u001b[43mstop_symbol\u001b[49m\u001b[43m,\u001b[49m\u001b[43m \u001b[49m\u001b[43mto_stop\u001b[49m\u001b[43m,\u001b[49m\u001b[43m \u001b[49m\u001b[43mcds\u001b[49m\u001b[43m,\u001b[49m\u001b[43m \u001b[49m\u001b[43mgap\u001b[49m\u001b[38;5;241;43m=\u001b[39;49m\u001b[43mgap\u001b[49m\u001b[43m)\u001b[49m\n\u001b[1;32m   1449\u001b[0m )\n",
      "File \u001b[0;32m~/projects/llm-mito-scanner/venv/lib/python3.10/site-packages/Bio/Seq.py:2788\u001b[0m, in \u001b[0;36m_translate_str\u001b[0;34m(sequence, table, stop_symbol, to_stop, cds, pos_stop, gap)\u001b[0m\n\u001b[1;32m   2786\u001b[0m \u001b[38;5;28;01mif\u001b[39;00m cds:\n\u001b[1;32m   2787\u001b[0m     \u001b[38;5;28;01mif\u001b[39;00m \u001b[38;5;28mstr\u001b[39m(sequence[:\u001b[38;5;241m3\u001b[39m])\u001b[38;5;241m.\u001b[39mupper() \u001b[38;5;129;01mnot\u001b[39;00m \u001b[38;5;129;01min\u001b[39;00m codon_table\u001b[38;5;241m.\u001b[39mstart_codons:\n\u001b[0;32m-> 2788\u001b[0m         \u001b[38;5;28;01mraise\u001b[39;00m CodonTable\u001b[38;5;241m.\u001b[39mTranslationError(\n\u001b[1;32m   2789\u001b[0m             \u001b[38;5;124mf\u001b[39m\u001b[38;5;124m\"\u001b[39m\u001b[38;5;124mFirst codon \u001b[39m\u001b[38;5;124m'\u001b[39m\u001b[38;5;132;01m{\u001b[39;00msequence[:\u001b[38;5;241m3\u001b[39m]\u001b[38;5;132;01m}\u001b[39;00m\u001b[38;5;124m'\u001b[39m\u001b[38;5;124m is not a start codon\u001b[39m\u001b[38;5;124m\"\u001b[39m\n\u001b[1;32m   2790\u001b[0m         )\n\u001b[1;32m   2791\u001b[0m     \u001b[38;5;28;01mif\u001b[39;00m n \u001b[38;5;241m%\u001b[39m \u001b[38;5;241m3\u001b[39m \u001b[38;5;241m!=\u001b[39m \u001b[38;5;241m0\u001b[39m:\n\u001b[1;32m   2792\u001b[0m         \u001b[38;5;28;01mraise\u001b[39;00m CodonTable\u001b[38;5;241m.\u001b[39mTranslationError(\n\u001b[1;32m   2793\u001b[0m             \u001b[38;5;124mf\u001b[39m\u001b[38;5;124m\"\u001b[39m\u001b[38;5;124mSequence length \u001b[39m\u001b[38;5;132;01m{\u001b[39;00mn\u001b[38;5;132;01m}\u001b[39;00m\u001b[38;5;124m is not a multiple of three\u001b[39m\u001b[38;5;124m\"\u001b[39m\n\u001b[1;32m   2794\u001b[0m         )\n",
      "\u001b[0;31mTranslationError\u001b[0m: First codon 'CCA' is not a start codon"
     ]
    }
   ],
   "source": [
    "#| hide\n",
    "validate_gene_and_protein(test_gene, test_protein)"
   ]
  },
  {
   "cell_type": "code",
   "execution_count": null,
   "id": "31ec750e-3381-4cdc-a52b-84e0429a7b8f",
   "metadata": {},
   "outputs": [
    {
     "data": {
      "text/plain": [
       "Seq('PDLFRYI*SIHKGLLINQVVY*KGQFTTYYSLTVFMPHSVKIAVVSSSYEEGRW...SKK')"
      ]
     },
     "execution_count": null,
     "metadata": {},
     "output_type": "execute_result"
    }
   ],
   "source": [
    "test_gene.translate().seq"
   ]
  },
  {
   "cell_type": "code",
   "execution_count": null,
   "id": "b49efe77-ed6e-46d6-a62d-a4762494b9d8",
   "metadata": {},
   "outputs": [
    {
     "data": {
      "text/plain": [
       "False"
      ]
     },
     "execution_count": null,
     "metadata": {},
     "output_type": "execute_result"
    }
   ],
   "source": [
    "test_gene.seq in test_protein.seq"
   ]
  },
  {
   "cell_type": "code",
   "execution_count": null,
   "id": "52c8c952-2c85-4c10-9931-cc4b3d4a0504",
   "metadata": {},
   "outputs": [],
   "source": []
  }
 ],
 "metadata": {
  "kernelspec": {
   "display_name": "python3",
   "language": "python",
   "name": "python3"
  }
 },
 "nbformat": 4,
 "nbformat_minor": 5
}
