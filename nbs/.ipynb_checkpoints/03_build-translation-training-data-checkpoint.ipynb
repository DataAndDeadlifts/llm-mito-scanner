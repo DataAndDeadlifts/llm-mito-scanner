{
 "cells": [
  {
   "cell_type": "markdown",
   "id": "24d5ea54-dd16-460c-9994-6138bce56164",
   "metadata": {},
   "source": [
    "# Getting training data for translation\n",
    "\n",
    "> \"Build our training data using the annotations we brokedown and the genome sequences we've stored.\""
   ]
  },
  {
   "cell_type": "code",
   "execution_count": null,
   "id": "a6b4642d-ef1f-4b2f-bd60-509aaaac3192",
   "metadata": {},
   "outputs": [],
   "source": [
    "#| default_exp features.annotations"
   ]
  },
  {
   "cell_type": "code",
   "execution_count": null,
   "id": "7162353e-346c-4f30-b037-93d0b3e6201f",
   "metadata": {},
   "outputs": [],
   "source": [
    "#| hide\n",
    "from nbdev.showdoc import *"
   ]
  },
  {
   "cell_type": "code",
   "execution_count": null,
   "id": "ddaea32a-8e47-41d8-8b12-34ebeae00cf5",
   "metadata": {},
   "outputs": [
    {
     "name": "stderr",
     "output_type": "stream",
     "text": [
      "/home/jdb/projects/llm-mito-scanner/venv/lib/python3.10/site-packages/Bio/__init__.py:138: BiopythonWarning: You may be importing Biopython from inside the source tree. This is bad practice and might lead to downstream issues. In particular, you might encounter ImportErrors due to missing compiled C extensions. We recommend that you try running your code from outside the source tree. If you are outside the source tree then you have a setup.py file in an unexpected directory: /home/jdb/projects/llm-mito-scanner/venv/lib/python3.10/site-packages\n",
      "  warnings.warn(\n"
     ]
    }
   ],
   "source": [
    "#| export\n",
    "import pandas as pd\n",
    "from pathlib import Path\n",
    "from tqdm.auto import tqdm\n",
    "from Bio import SeqIO, Entrez\n",
    "import re\n",
    "import json\n",
    "from multiprocessing import Pool\n",
    "import os\n",
    "import sys\n",
    "\n",
    "pd.options.mode.chained_assignment = None"
   ]
  },
  {
   "cell_type": "code",
   "execution_count": null,
   "id": "82e9f00b-235f-44ae-a8a4-cfd53eefe53c",
   "metadata": {},
   "outputs": [],
   "source": [
    "#| hide\n",
    "from yaml import safe_load\n",
    "\n",
    "tqdm.pandas(ncols=80, leave=False)\n",
    "\n",
    "with open(\"../config.yml\") as f:\n",
    "    config = safe_load(f)"
   ]
  },
  {
   "cell_type": "code",
   "execution_count": null,
   "id": "b5630e48-2b47-449b-ba1c-134b72c01104",
   "metadata": {},
   "outputs": [],
   "source": [
    "#| hide\n",
    "data_path = Path(config.get(\"data_path\"))\n",
    "annotations_path = data_path / \"annotations\"\n",
    "genome_path = data_path / \"genome\"\n",
    "sequences_path = data_path / \"entrez_genes_sequences\"\n",
    "if not sequences_path.exists():\n",
    "    sequences_path.mkdir()\n",
    "\n",
    "Entrez.email = config.get(\"email\")\n",
    "Entrez.api_key = config.get(\"nih_api_key\")"
   ]
  },
  {
   "cell_type": "markdown",
   "id": "0ac2ff73-a2d9-4922-8688-06ef803e9b1a",
   "metadata": {},
   "source": [
    "## Get gene sequences"
   ]
  },
  {
   "cell_type": "code",
   "execution_count": null,
   "id": "44987b6e-3cc7-4872-851c-7148b833aa45",
   "metadata": {},
   "outputs": [],
   "source": [
    "#| hide\n",
    "test_annotation_file = annotations_path / \"NC_000014.9.csv\""
   ]
  },
  {
   "cell_type": "code",
   "execution_count": null,
   "id": "2bdeb162-5283-4012-b273-280d33f1ce4f",
   "metadata": {},
   "outputs": [
    {
     "data": {
      "text/html": [
       "<div>\n",
       "<style scoped>\n",
       "    .dataframe tbody tr th:only-of-type {\n",
       "        vertical-align: middle;\n",
       "    }\n",
       "\n",
       "    .dataframe tbody tr th {\n",
       "        vertical-align: top;\n",
       "    }\n",
       "\n",
       "    .dataframe thead th {\n",
       "        text-align: right;\n",
       "    }\n",
       "</style>\n",
       "<table border=\"1\" class=\"dataframe\">\n",
       "  <thead>\n",
       "    <tr style=\"text-align: right;\">\n",
       "      <th></th>\n",
       "      <th>seqid</th>\n",
       "      <th>source</th>\n",
       "      <th>type</th>\n",
       "      <th>start</th>\n",
       "      <th>end</th>\n",
       "      <th>score</th>\n",
       "      <th>strand</th>\n",
       "      <th>phase</th>\n",
       "      <th>attributes</th>\n",
       "    </tr>\n",
       "  </thead>\n",
       "  <tbody>\n",
       "    <tr>\n",
       "      <th>55106</th>\n",
       "      <td>NC_000014.9</td>\n",
       "      <td>BestRefSeq</td>\n",
       "      <td>exon</td>\n",
       "      <td>61529075</td>\n",
       "      <td>61529213</td>\n",
       "      <td>NaN</td>\n",
       "      <td>+</td>\n",
       "      <td>NaN</td>\n",
       "      <td>ID=exon-NM_006255.5-11;Parent=rna-NM_006255.5;...</td>\n",
       "    </tr>\n",
       "    <tr>\n",
       "      <th>59581</th>\n",
       "      <td>NC_000014.9</td>\n",
       "      <td>Gnomon</td>\n",
       "      <td>exon</td>\n",
       "      <td>63961525</td>\n",
       "      <td>63961625</td>\n",
       "      <td>NaN</td>\n",
       "      <td>+</td>\n",
       "      <td>NaN</td>\n",
       "      <td>ID=exon-XM_005267458.2-9;Parent=rna-XM_0052674...</td>\n",
       "    </tr>\n",
       "    <tr>\n",
       "      <th>1766</th>\n",
       "      <td>NC_000014.9</td>\n",
       "      <td>Gnomon</td>\n",
       "      <td>exon</td>\n",
       "      <td>20653312</td>\n",
       "      <td>20653490</td>\n",
       "      <td>NaN</td>\n",
       "      <td>+</td>\n",
       "      <td>NaN</td>\n",
       "      <td>ID=exon-XR_007064059.1-1;Parent=rna-XR_0070640...</td>\n",
       "    </tr>\n",
       "    <tr>\n",
       "      <th>30406</th>\n",
       "      <td>NC_000014.9</td>\n",
       "      <td>BestRefSeq</td>\n",
       "      <td>exon</td>\n",
       "      <td>39308449</td>\n",
       "      <td>39308587</td>\n",
       "      <td>NaN</td>\n",
       "      <td>+</td>\n",
       "      <td>NaN</td>\n",
       "      <td>ID=exon-NM_001247990.2-13;Parent=rna-NM_001247...</td>\n",
       "    </tr>\n",
       "    <tr>\n",
       "      <th>113617</th>\n",
       "      <td>NC_000014.9</td>\n",
       "      <td>BestRefSeq</td>\n",
       "      <td>exon</td>\n",
       "      <td>99737722</td>\n",
       "      <td>99737860</td>\n",
       "      <td>NaN</td>\n",
       "      <td>+</td>\n",
       "      <td>NaN</td>\n",
       "      <td>ID=exon-NM_001375411.1-1;Parent=rna-NM_0013754...</td>\n",
       "    </tr>\n",
       "  </tbody>\n",
       "</table>\n",
       "</div>"
      ],
      "text/plain": [
       "              seqid      source  type     start       end  score strand   \n",
       "55106   NC_000014.9  BestRefSeq  exon  61529075  61529213    NaN      +  \\\n",
       "59581   NC_000014.9      Gnomon  exon  63961525  63961625    NaN      +   \n",
       "1766    NC_000014.9      Gnomon  exon  20653312  20653490    NaN      +   \n",
       "30406   NC_000014.9  BestRefSeq  exon  39308449  39308587    NaN      +   \n",
       "113617  NC_000014.9  BestRefSeq  exon  99737722  99737860    NaN      +   \n",
       "\n",
       "        phase                                         attributes  \n",
       "55106     NaN  ID=exon-NM_006255.5-11;Parent=rna-NM_006255.5;...  \n",
       "59581     NaN  ID=exon-XM_005267458.2-9;Parent=rna-XM_0052674...  \n",
       "1766      NaN  ID=exon-XR_007064059.1-1;Parent=rna-XR_0070640...  \n",
       "30406     NaN  ID=exon-NM_001247990.2-13;Parent=rna-NM_001247...  \n",
       "113617    NaN  ID=exon-NM_001375411.1-1;Parent=rna-NM_0013754...  "
      ]
     },
     "execution_count": null,
     "metadata": {},
     "output_type": "execute_result"
    }
   ],
   "source": [
    "#| hide\n",
    "test_annotations = pd.read_csv(test_annotation_file)\n",
    "test_annotations.sample(5)"
   ]
  },
  {
   "cell_type": "code",
   "execution_count": null,
   "id": "a473824e-8fa4-44df-a611-fc51884eb934",
   "metadata": {},
   "outputs": [
    {
     "data": {
      "text/plain": [
       "seqid                                               NC_000014.9\n",
       "source                                                   RefSeq\n",
       "type                                                     region\n",
       "start                                                         1\n",
       "end                                                   107043718\n",
       "score                                                       NaN\n",
       "strand                                                        +\n",
       "phase                                                       NaN\n",
       "attributes    ID=NC_000014.9:1..107043718;Dbxref=taxon:9606;...\n",
       "Name: 0, dtype: object"
      ]
     },
     "execution_count": null,
     "metadata": {},
     "output_type": "execute_result"
    }
   ],
   "source": [
    "#| hide\n",
    "test_annotations.iloc[0, :]"
   ]
  },
  {
   "cell_type": "code",
   "execution_count": null,
   "id": "a1b2e92f-7748-4c7a-b566-b33f38c6db23",
   "metadata": {},
   "outputs": [],
   "source": [
    "#| export\n",
    "def parse_annotation_value(annotation_value: str):\n",
    "    \"\"\"\n",
    "    Handle multiple values in the attribute.\n",
    "    Return value if list or dict if key-value pair\n",
    "    \"\"\"\n",
    "    annotation_split = annotation_value.split(\":\")\n",
    "    if len(annotation_split) == 1:\n",
    "        return annotation_value\n",
    "    return {annotation_split[0]: annotation_split[1]}\n",
    "\n",
    "\n",
    "def parse_annotation_attribute_values(attribute_values: str) -> object:\n",
    "    \"\"\"\n",
    "    Detect if an attribute value is really a dict or list.\n",
    "    \"\"\"\n",
    "    value_list = attribute_values.split(\",\")\n",
    "    if len(value_list) == 1:\n",
    "        return attribute_values\n",
    "    parsed_values = [parse_annotation_value(value) for value in value_list]\n",
    "    # Dict within a list\n",
    "    if \":\" in value_list[0]:\n",
    "        attribute_values = {}\n",
    "        for parsed_value in parsed_values:\n",
    "            attribute_values.update(parsed_value)\n",
    "    # Just a list within a list\n",
    "    else:\n",
    "        attribute_values = parsed_values\n",
    "    return attribute_values\n",
    "\n",
    "\n",
    "def parse_entrez_gff3_annotation_attributes(attributes_str: str):\n",
    "    \"\"\"\n",
    "    Convert attribute string to parsed attribute dict.\n",
    "    \n",
    "    Split on ';' to get attributes.\n",
    "    Values can also be nested as a dict or list.\n",
    "    \"\"\"\n",
    "    attr_list = attributes_str.split(\";\")\n",
    "    attr_dict = {\n",
    "        k: parse_annotation_attribute_values(v) for k, v in [attr.split(\"=\") for attr in attr_list]\n",
    "    }\n",
    "    return attr_dict"
   ]
  },
  {
   "cell_type": "code",
   "execution_count": null,
   "id": "889db3d9-5676-43f2-8368-ce65f5ced480",
   "metadata": {},
   "outputs": [],
   "source": [
    "#| hide\n",
    "test_annotations.loc[:, 'attributes_dict'] = test_annotations.attributes.apply(parse_entrez_gff3_annotation_attributes)"
   ]
  },
  {
   "cell_type": "code",
   "execution_count": null,
   "id": "963a62bd-6946-446d-be9c-ce9c822e944a",
   "metadata": {},
   "outputs": [
    {
     "data": {
      "text/plain": [
       "seqid     NC_000014.9\n",
       "source         RefSeq\n",
       "type           region\n",
       "start               1\n",
       "end         107043718\n",
       "score             NaN\n",
       "strand              +\n",
       "phase             NaN\n",
       "Name: 0, dtype: object"
      ]
     },
     "metadata": {},
     "output_type": "display_data"
    },
    {
     "data": {
      "text/plain": [
       "{'ID': 'NC_000014.9:1..107043718',\n",
       " 'Dbxref': 'taxon:9606',\n",
       " 'Name': '14',\n",
       " 'chromosome': '14',\n",
       " 'gbkey': 'Src',\n",
       " 'genome': 'chromosome',\n",
       " 'mol_type': 'genomic DNA'}"
      ]
     },
     "execution_count": null,
     "metadata": {},
     "output_type": "execute_result"
    }
   ],
   "source": [
    "#| hide\n",
    "test_row = 0\n",
    "display(test_annotations.iloc[test_row, :-2])\n",
    "test_annotations.iloc[test_row, -1]"
   ]
  },
  {
   "cell_type": "markdown",
   "id": "31d69d0b-88ee-4de1-888a-fa25f7e7fe6d",
   "metadata": {},
   "source": [
    "### Converting annotations to SeqRecords for training.\n",
    "\n",
    "Genes are made up of multiple elements.\n",
    "\n",
    "- Genes\n",
    "    - Entire DNA sequence encoding the information for a protein.\n",
    "- Introns\n",
    "    - Sections of DNA ignored during transcription.\n",
    "- Exons\n",
    "    - Sections of DNA included in the transcription product.\n",
    "- UTRs (Untranslated Retions)\n",
    "    - Sections of mRNA ignored during translation.\n",
    "- CDS (Coding Sequence)\n",
    "    - Sections of mRNA that are translated to protein.\n",
    "\n",
    "    \n",
    "The annotations we have include all this information. Lets extract a SeqRecord object using the annotations that has all this information."
   ]
  },
  {
   "cell_type": "markdown",
   "id": "0c2b84a2-85d4-4068-85df-33e74f8ecce6",
   "metadata": {},
   "source": [
    "Transformation plan:\n",
    "\n",
    "1. Filter gff features to those belonging to a gene\n",
    "2. Create the initial SeqRecord from the feature with `featuretype='gene'`\n",
    "3. Collect all features with geneID belonging to SeqRecord from [2] (for each)\n",
    "4. Annotate SeqRecord with features\n",
    "5. Write SeqRecord with features"
   ]
  },
  {
   "cell_type": "code",
   "execution_count": null,
   "id": "69d9ab3f-f902-446d-bac3-b20196492392",
   "metadata": {},
   "outputs": [],
   "source": [
    "#| export\n",
    "def get_gene_id_from_attribute_dict(attribute_dict: dict):\n",
    "    dbxref = attribute_dict.get(\"Dbxref\", {})\n",
    "    if isinstance(dbxref, str):\n",
    "        return None\n",
    "    elif isinstance(dbxref, dict):\n",
    "        return dbxref.get(\"GeneID\", None)\n",
    "    else:\n",
    "        return None\n",
    "\n",
    "\n",
    "def get_gff_gene_features(annotations: pd.DataFrame, attribute_dict_column: str) -> pd.DataFrame:\n",
    "    \"\"\"\n",
    "    Filter an annotations DataFrame for those rows that annotate a gene in Entrez.\n",
    "    \"\"\"\n",
    "    row_annotates_gene = annotations.loc[:, attribute_dict_column].apply(\n",
    "        lambda attr_dict: get_gene_id_from_attribute_dict(attr_dict) is not None\n",
    "    )\n",
    "    return annotations[row_annotates_gene == True]"
   ]
  },
  {
   "cell_type": "code",
   "execution_count": null,
   "id": "667cf034-6b09-496d-a775-72ae84bd0f9c",
   "metadata": {},
   "outputs": [
    {
     "data": {
      "text/plain": [
       "126374"
      ]
     },
     "metadata": {},
     "output_type": "display_data"
    },
    {
     "data": {
      "text/plain": [
       "134494"
      ]
     },
     "metadata": {},
     "output_type": "display_data"
    },
    {
     "data": {
      "text/html": [
       "<div>\n",
       "<style scoped>\n",
       "    .dataframe tbody tr th:only-of-type {\n",
       "        vertical-align: middle;\n",
       "    }\n",
       "\n",
       "    .dataframe tbody tr th {\n",
       "        vertical-align: top;\n",
       "    }\n",
       "\n",
       "    .dataframe thead th {\n",
       "        text-align: right;\n",
       "    }\n",
       "</style>\n",
       "<table border=\"1\" class=\"dataframe\">\n",
       "  <thead>\n",
       "    <tr style=\"text-align: right;\">\n",
       "      <th></th>\n",
       "      <th>seqid</th>\n",
       "      <th>source</th>\n",
       "      <th>type</th>\n",
       "      <th>start</th>\n",
       "      <th>end</th>\n",
       "      <th>score</th>\n",
       "      <th>strand</th>\n",
       "      <th>phase</th>\n",
       "      <th>attributes</th>\n",
       "      <th>attributes_dict</th>\n",
       "    </tr>\n",
       "  </thead>\n",
       "  <tbody>\n",
       "    <tr>\n",
       "      <th>2</th>\n",
       "      <td>NC_000014.9</td>\n",
       "      <td>Curated Genomic</td>\n",
       "      <td>pseudogene</td>\n",
       "      <td>16024658</td>\n",
       "      <td>16025641</td>\n",
       "      <td>NaN</td>\n",
       "      <td>+</td>\n",
       "      <td>NaN</td>\n",
       "      <td>ID=gene-DUX4L48;Dbxref=GeneID:107105251,HGNC:H...</td>\n",
       "      <td>{'ID': 'gene-DUX4L48', 'Dbxref': {'GeneID': '1...</td>\n",
       "    </tr>\n",
       "    <tr>\n",
       "      <th>3</th>\n",
       "      <td>NC_000014.9</td>\n",
       "      <td>Curated Genomic</td>\n",
       "      <td>pseudogene</td>\n",
       "      <td>16028061</td>\n",
       "      <td>16028716</td>\n",
       "      <td>NaN</td>\n",
       "      <td>+</td>\n",
       "      <td>NaN</td>\n",
       "      <td>ID=gene-PCMTD1P6;Dbxref=GeneID:107105255,HGNC:...</td>\n",
       "      <td>{'ID': 'gene-PCMTD1P6', 'Dbxref': {'GeneID': '...</td>\n",
       "    </tr>\n",
       "    <tr>\n",
       "      <th>4</th>\n",
       "      <td>NC_000014.9</td>\n",
       "      <td>Curated Genomic</td>\n",
       "      <td>exon</td>\n",
       "      <td>16028061</td>\n",
       "      <td>16028716</td>\n",
       "      <td>NaN</td>\n",
       "      <td>+</td>\n",
       "      <td>NaN</td>\n",
       "      <td>ID=id-PCMTD1P6;Parent=gene-PCMTD1P6;Dbxref=Gen...</td>\n",
       "      <td>{'ID': 'id-PCMTD1P6', 'Parent': 'gene-PCMTD1P6...</td>\n",
       "    </tr>\n",
       "    <tr>\n",
       "      <th>5</th>\n",
       "      <td>NC_000014.9</td>\n",
       "      <td>Curated Genomic</td>\n",
       "      <td>pseudogene</td>\n",
       "      <td>16029944</td>\n",
       "      <td>16030886</td>\n",
       "      <td>NaN</td>\n",
       "      <td>+</td>\n",
       "      <td>NaN</td>\n",
       "      <td>ID=gene-DUX4L49;Dbxref=GeneID:107105252,HGNC:H...</td>\n",
       "      <td>{'ID': 'gene-DUX4L49', 'Dbxref': {'GeneID': '1...</td>\n",
       "    </tr>\n",
       "    <tr>\n",
       "      <th>6</th>\n",
       "      <td>NC_000014.9</td>\n",
       "      <td>Curated Genomic</td>\n",
       "      <td>exon</td>\n",
       "      <td>16029944</td>\n",
       "      <td>16030886</td>\n",
       "      <td>NaN</td>\n",
       "      <td>+</td>\n",
       "      <td>NaN</td>\n",
       "      <td>ID=id-DUX4L49;Parent=gene-DUX4L49;Dbxref=GeneI...</td>\n",
       "      <td>{'ID': 'id-DUX4L49', 'Parent': 'gene-DUX4L49',...</td>\n",
       "    </tr>\n",
       "  </tbody>\n",
       "</table>\n",
       "</div>"
      ],
      "text/plain": [
       "         seqid           source        type     start       end  score strand   \n",
       "2  NC_000014.9  Curated Genomic  pseudogene  16024658  16025641    NaN      +  \\\n",
       "3  NC_000014.9  Curated Genomic  pseudogene  16028061  16028716    NaN      +   \n",
       "4  NC_000014.9  Curated Genomic        exon  16028061  16028716    NaN      +   \n",
       "5  NC_000014.9  Curated Genomic  pseudogene  16029944  16030886    NaN      +   \n",
       "6  NC_000014.9  Curated Genomic        exon  16029944  16030886    NaN      +   \n",
       "\n",
       "   phase                                         attributes   \n",
       "2    NaN  ID=gene-DUX4L48;Dbxref=GeneID:107105251,HGNC:H...  \\\n",
       "3    NaN  ID=gene-PCMTD1P6;Dbxref=GeneID:107105255,HGNC:...   \n",
       "4    NaN  ID=id-PCMTD1P6;Parent=gene-PCMTD1P6;Dbxref=Gen...   \n",
       "5    NaN  ID=gene-DUX4L49;Dbxref=GeneID:107105252,HGNC:H...   \n",
       "6    NaN  ID=id-DUX4L49;Parent=gene-DUX4L49;Dbxref=GeneI...   \n",
       "\n",
       "                                     attributes_dict  \n",
       "2  {'ID': 'gene-DUX4L48', 'Dbxref': {'GeneID': '1...  \n",
       "3  {'ID': 'gene-PCMTD1P6', 'Dbxref': {'GeneID': '...  \n",
       "4  {'ID': 'id-PCMTD1P6', 'Parent': 'gene-PCMTD1P6...  \n",
       "5  {'ID': 'gene-DUX4L49', 'Dbxref': {'GeneID': '1...  \n",
       "6  {'ID': 'id-DUX4L49', 'Parent': 'gene-DUX4L49',...  "
      ]
     },
     "execution_count": null,
     "metadata": {},
     "output_type": "execute_result"
    }
   ],
   "source": [
    "#| hide\n",
    "test_gene_annotations = get_gff_gene_features(test_annotations, \"attributes_dict\")\n",
    "display(test_gene_annotations.shape[0], test_annotations.shape[0])\n",
    "test_gene_annotations.head()"
   ]
  },
  {
   "cell_type": "code",
   "execution_count": null,
   "id": "eec60ecf-fa41-4f55-89eb-763ca9b110c0",
   "metadata": {},
   "outputs": [],
   "source": []
  },
  {
   "cell_type": "code",
   "execution_count": null,
   "id": "a347b48d-ed7b-4f4c-9400-5433be344d31",
   "metadata": {},
   "outputs": [],
   "source": []
  },
  {
   "cell_type": "code",
   "execution_count": null,
   "id": "a7d0a43c-5a01-45f9-b7ec-ccfe2d037985",
   "metadata": {},
   "outputs": [],
   "source": []
  },
  {
   "cell_type": "code",
   "execution_count": null,
   "id": "5b801624-6fa4-4c0a-8b33-f770a86c5eff",
   "metadata": {},
   "outputs": [],
   "source": [
    "#| export\n",
    "def write_gene_sequence(write_path: Path, gene_id: str, sequence_record: SeqIO.SeqRecord):\n",
    "    sequence_path = write_path / f\"{gene_id}.fasta\"\n",
    "    with sequence_path.open(\"w+\") as out:\n",
    "        SeqIO.write([sequence_record], out, \"fasta\")"
   ]
  },
  {
   "cell_type": "code",
   "execution_count": null,
   "id": "f8579077-c19a-4186-8379-831dcda96e63",
   "metadata": {},
   "outputs": [],
   "source": [
    "#| export\n",
    "def get_sequence_from_file(\n",
    "    start: int, end: int, strand: str = \"+\", \n",
    "    sequence_record: SeqIO.SeqRecord = None, fasta_path: Path = None) -> SeqIO.SeqRecord:\n",
    "    \"\"\"\n",
    "    The Fasta file at fasta_path is a single record.\n",
    "    If strand is positive, index and return sequence.\n",
    "    If strand is negative, reverse the index and return.\n",
    "    \"\"\"\n",
    "    if sequence_record is None and fasta_path is None:\n",
    "        raise ValueError(\"Both sequence_record and fasta_path cannot be None\")\n",
    "    if sequence_record is None:\n",
    "        sequence_record = next(SeqIO.parse(fasta_path.resolve(), \"fasta\"))\n",
    "    if strand == \"+\":\n",
    "        selected_sequence = sequence_record[start: end + 1]\n",
    "    if strand == \"-\":\n",
    "        selected_sequence = sequence_record[start - 1: end]\n",
    "        selected_sequence = selected_sequence.reverse_complement()\n",
    "    return selected_sequence.upper()"
   ]
  },
  {
   "cell_type": "code",
   "execution_count": null,
   "id": "d9672892-47d3-46a1-8191-b1baf67c1cbd",
   "metadata": {},
   "outputs": [],
   "source": [
    "#| export\n",
    "# For every annotation, get genes, make fasta file for each\n",
    "def write_annotation_sequences(args: dict):\n",
    "    # Get input args\n",
    "    annotation_file = Path(args.get(\"annotation_file\"))\n",
    "    genome_path = Path(args.get(\"genome_path\"))\n",
    "    sequences_path = Path(args.get(\"sequences_path\"))\n",
    "    # Load annotations\n",
    "    annotation_file_df = pd.read_csv(annotation_file)\n",
    "    # Get genes, extract attributes\n",
    "    annotation_file_genes = annotation_file_df[annotation_file_df.type == \"gene\"]\n",
    "    annotation_file_genes.loc[:, 'attr_dict'] = annotation_file_genes.attributes.apply(make_attribute_dict_from_string)\n",
    "    annotation_file_genes.loc[:, 'gene_id'] = annotation_file_genes.attr_dict.apply(get_gene_id_from_attributes)\n",
    "    # Filter those genes already extracted and written\n",
    "    annotation_file_genes.loc[:, 'sequence_written'] = annotation_file_genes.gene_id.apply(\n",
    "        lambda gene_id: (sequences_path / f\"{gene_id}.fasta\").exists()\n",
    "    )\n",
    "    gene_ids = annotation_file_genes.gene_id.unique().tolist()\n",
    "    annotation_file_genes = annotation_file_genes[annotation_file_genes.sequence_written == False]\n",
    "    if annotation_file_genes.shape[0] == 0:\n",
    "        return gene_ids\n",
    "    # Get fasta sequences\n",
    "    fasta_path = genome_path / f\"{annotation_file.stem}.fasta\"\n",
    "    fasta_sequence_record = next(SeqIO.parse(fasta_path.resolve(), \"fasta\"))\n",
    "    annotation_file_sequence_records = annotation_file_genes.apply(\n",
    "        lambda row: get_sequence_from_file(\n",
    "            row.start,\n",
    "            row.end,\n",
    "            row.strand,\n",
    "            fasta_sequence_record\n",
    "        ),\n",
    "        axis=1\n",
    "    )\n",
    "    annotation_file_sequence_records.name = \"sequence_record\"\n",
    "    write_annotation_sequences = pd.concat(\n",
    "        [\n",
    "            annotation_file_sequence_records,\n",
    "            annotation_file_genes.gene_id\n",
    "        ], \n",
    "        axis=1\n",
    "    )\n",
    "    # Write sequences\n",
    "    write_annotation_sequences.apply(\n",
    "        lambda row: write_gene_sequence(\n",
    "            write_path = sequences_path,\n",
    "            gene_id = row.gene_id,\n",
    "            sequence_record = row.sequence_record\n",
    "        ),\n",
    "        axis=1\n",
    "    )\n",
    "    return write_annotation_sequences.gene_id.unique().tolist()"
   ]
  },
  {
   "cell_type": "code",
   "execution_count": null,
   "id": "7efdba2f-1d29-4f8d-a7fd-8b5a671874c2",
   "metadata": {},
   "outputs": [],
   "source": [
    "#| hide\n",
    "annotation_file_list = list(annotations_path.glob(\"*.csv\"))\n",
    "tasks = [\n",
    "    {\n",
    "        \"annotation_file\": annotation_path,\n",
    "        \"genome_path\": genome_path,\n",
    "        \"sequences_path\" : sequences_path\n",
    "    } for annotation_path in annotation_file_list\n",
    "]"
   ]
  },
  {
   "cell_type": "code",
   "execution_count": null,
   "id": "6f8fe186-ecc7-4bf6-acc6-890417554015",
   "metadata": {},
   "outputs": [
    {
     "data": {
      "application/vnd.jupyter.widget-view+json": {
       "model_id": "f9c67a58f7454cebad7528d8c504f055",
       "version_major": 2,
       "version_minor": 0
      },
      "text/plain": [
       "  0%|          | 0/705 [00:00<?, ?it/s]"
      ]
     },
     "metadata": {},
     "output_type": "display_data"
    },
    {
     "data": {
      "text/plain": [
       "42446"
      ]
     },
     "execution_count": null,
     "metadata": {},
     "output_type": "execute_result"
    }
   ],
   "source": [
    "#| hide\n",
    "pool = Pool(os.cpu_count() - 1)\n",
    "written_genes = set()\n",
    "\n",
    "progress_bar = tqdm(total=len(annotation_file_list))\n",
    "\n",
    "try:\n",
    "    for result in pool.imap_unordered(write_annotation_sequences, tasks):\n",
    "        written_genes.update(result)\n",
    "        progress_bar.update(1)\n",
    "except Exception as e:\n",
    "    raise e\n",
    "finally:\n",
    "    progress_bar.close()\n",
    "    pool.close()\n",
    "    \n",
    "len(written_genes)"
   ]
  },
  {
   "cell_type": "markdown",
   "id": "5783812a-b783-444c-a133-1ae32016a84f",
   "metadata": {},
   "source": [
    "## Make gene to protein map"
   ]
  },
  {
   "cell_type": "code",
   "execution_count": null,
   "id": "c22e88b5-b69e-4d26-975e-70210a0634d6",
   "metadata": {},
   "outputs": [],
   "source": [
    "#| export\n",
    "def get_protein_id_from_attributes(attributes: dict):\n",
    "    protein_id = attributes.get(\"protein_id\", None)\n",
    "    return protein_id\n",
    "\n",
    "\n",
    "def get_gene_to_protein_map_from_annotations(annotation_file_path: Path) -> list[str]:\n",
    "    annotations = pd.read_csv(annotation_file_path)\n",
    "    genes = annotations[annotations.type == \"CDS\"]\n",
    "    # Gather all gene ids\n",
    "    gene_attributes = genes.attributes.apply(make_attribute_dict_from_string)\n",
    "    gene_ids = gene_attributes.apply(get_gene_id_from_attributes)\n",
    "    gene_ids.name = \"gene_id\"\n",
    "    gene_protein_ids = gene_attributes.apply(get_protein_id_from_attributes)\n",
    "    gene_protein_ids.name = \"protein_id\"\n",
    "    gene_map = pd.concat([gene_ids, gene_protein_ids], axis=1).dropna().drop_duplicates()\n",
    "    return gene_map.set_index(\"gene_id\").protein_id.to_dict()"
   ]
  },
  {
   "cell_type": "code",
   "execution_count": null,
   "id": "70bcb902-c389-48b1-a3b0-04142678ab07",
   "metadata": {},
   "outputs": [],
   "source": [
    "#| hide\n",
    "test_gene_to_protein_map = {}\n",
    "annotation_gene_to_protein_map = get_gene_to_protein_map_from_annotations(test_annotation_file)\n",
    "test_gene_to_protein_map.update(annotation_gene_to_protein_map)"
   ]
  },
  {
   "cell_type": "code",
   "execution_count": null,
   "id": "27a2af4d-1a4f-43df-b081-bf533d633bf8",
   "metadata": {},
   "outputs": [
    {
     "data": {
      "text/plain": [
       "'NP_001013372.1'"
      ]
     },
     "execution_count": null,
     "metadata": {},
     "output_type": "execute_result"
    }
   ],
   "source": [
    "test_gene_to_protein_map.get(\"440153\")"
   ]
  },
  {
   "cell_type": "code",
   "execution_count": null,
   "id": "d77e4083-11e8-40bf-8a1b-f77ac8061a92",
   "metadata": {},
   "outputs": [],
   "source": [
    "#| hide\n",
    "protein_file_paths = set((data_path / \"protein\").glob(\"*.fasta\"))\n",
    "gene_protein_files = set(\n",
    "    [\n",
    "        data_path / \"protein\" / (protein_id + \".fasta\") for protein_id in test_gene_to_protein_map.values()\n",
    "    ]\n",
    ")"
   ]
  },
  {
   "cell_type": "code",
   "execution_count": null,
   "id": "9502c5cb-62e1-4789-8b70-2154a8f554a8",
   "metadata": {},
   "outputs": [
    {
     "data": {
      "text/plain": [
       "set()"
      ]
     },
     "execution_count": null,
     "metadata": {},
     "output_type": "execute_result"
    }
   ],
   "source": [
    "#| hide\n",
    "gene_protein_files - protein_file_paths"
   ]
  },
  {
   "cell_type": "code",
   "execution_count": null,
   "id": "523b374b-482b-4e29-9279-0c38bb73a363",
   "metadata": {},
   "outputs": [
    {
     "data": {
      "application/vnd.jupyter.widget-view+json": {
       "model_id": "d88b6a36092f4f8e8ea005ae5eeb209f",
       "version_major": 2,
       "version_minor": 0
      },
      "text/plain": [
       "  0%|          | 0/705 [00:00<?, ?it/s]"
      ]
     },
     "metadata": {},
     "output_type": "display_data"
    }
   ],
   "source": [
    "#| hide\n",
    "# Get all gene docs\n",
    "gene_to_protein_map = {}\n",
    "\n",
    "for annotation_file in tqdm(annotation_file_list):\n",
    "    annotation_gene_to_protein_map = get_gene_to_protein_map_from_annotations(annotation_file)\n",
    "    gene_to_protein_map.update(annotation_gene_to_protein_map)"
   ]
  },
  {
   "cell_type": "code",
   "execution_count": null,
   "id": "6f2b1caa-638b-4e22-9006-cb2fe327cd2d",
   "metadata": {},
   "outputs": [],
   "source": [
    "#| hide\n",
    "with (data_path / \"entrez_gene_to_protein_map.json\").open(\"w+\") as out:\n",
    "    json.dump(gene_to_protein_map, out)"
   ]
  },
  {
   "cell_type": "code",
   "execution_count": null,
   "id": "e1994482-736c-4915-842d-9c569c5729f4",
   "metadata": {},
   "outputs": [],
   "source": [
    "#| hide\n",
    "import nbdev; nbdev.nbdev_export()"
   ]
  },
  {
   "cell_type": "code",
   "execution_count": null,
   "id": "0c8a33b3-2ba8-4588-ba2d-5c84af701381",
   "metadata": {},
   "outputs": [],
   "source": []
  }
 ],
 "metadata": {
  "kernelspec": {
   "display_name": "python3",
   "language": "python",
   "name": "python3"
  }
 },
 "nbformat": 4,
 "nbformat_minor": 5
}
