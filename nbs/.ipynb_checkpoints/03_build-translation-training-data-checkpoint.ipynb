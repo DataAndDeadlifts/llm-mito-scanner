{
 "cells": [
  {
   "cell_type": "markdown",
   "id": "24d5ea54-dd16-460c-9994-6138bce56164",
   "metadata": {},
   "source": [
    "# Getting training data for translation\n",
    "\n",
    "> \"Build our training data using the annotations we brokedown and the genome sequences we've stored.\""
   ]
  },
  {
   "cell_type": "code",
   "execution_count": null,
   "id": "a6b4642d-ef1f-4b2f-bd60-509aaaac3192",
   "metadata": {},
   "outputs": [],
   "source": [
    "#| default_exp features.annotations"
   ]
  },
  {
   "cell_type": "code",
   "execution_count": null,
   "id": "7162353e-346c-4f30-b037-93d0b3e6201f",
   "metadata": {},
   "outputs": [],
   "source": [
    "#| hide\n",
    "from nbdev.showdoc import *"
   ]
  },
  {
   "cell_type": "code",
   "execution_count": null,
   "id": "ddaea32a-8e47-41d8-8b12-34ebeae00cf5",
   "metadata": {},
   "outputs": [
    {
     "name": "stderr",
     "output_type": "stream",
     "text": [
      "/home/jdb/projects/llm-mito-scanner/venv/lib/python3.10/site-packages/Bio/__init__.py:138: BiopythonWarning: You may be importing Biopython from inside the source tree. This is bad practice and might lead to downstream issues. In particular, you might encounter ImportErrors due to missing compiled C extensions. We recommend that you try running your code from outside the source tree. If you are outside the source tree then you have a setup.py file in an unexpected directory: /home/jdb/projects/llm-mito-scanner/venv/lib/python3.10/site-packages\n",
      "  warnings.warn(\n"
     ]
    }
   ],
   "source": [
    "#| export\n",
    "import pandas as pd\n",
    "from pathlib import Path\n",
    "from tqdm.auto import tqdm\n",
    "from Bio import SeqIO, Entrez\n",
    "import re\n",
    "import json\n",
    "from multiprocessing import Pool\n",
    "import os\n",
    "import sys\n",
    "\n",
    "pd.options.mode.chained_assignment = None"
   ]
  },
  {
   "cell_type": "code",
   "execution_count": null,
   "id": "82e9f00b-235f-44ae-a8a4-cfd53eefe53c",
   "metadata": {},
   "outputs": [],
   "source": [
    "#| hide\n",
    "from yaml import safe_load\n",
    "\n",
    "tqdm.pandas(ncols=80, leave=False)\n",
    "\n",
    "with open(\"../config.yml\") as f:\n",
    "    config = safe_load(f)"
   ]
  },
  {
   "cell_type": "code",
   "execution_count": null,
   "id": "b5630e48-2b47-449b-ba1c-134b72c01104",
   "metadata": {},
   "outputs": [],
   "source": [
    "#| hide\n",
    "data_path = Path(config.get(\"data_path\"))\n",
    "annotations_path = data_path / \"annotations\"\n",
    "genome_path = data_path / \"genome\"\n",
    "sequences_path = data_path / \"entrez_genes_sequences\"\n",
    "if not sequences_path.exists():\n",
    "    sequences_path.mkdir()\n",
    "\n",
    "Entrez.email = config.get(\"email\")\n",
    "Entrez.api_key = config.get(\"nih_api_key\")"
   ]
  },
  {
   "cell_type": "markdown",
   "id": "0ac2ff73-a2d9-4922-8688-06ef803e9b1a",
   "metadata": {},
   "source": [
    "## Get gene sequences"
   ]
  },
  {
   "cell_type": "code",
   "execution_count": null,
   "id": "44987b6e-3cc7-4872-851c-7148b833aa45",
   "metadata": {},
   "outputs": [],
   "source": [
    "#| hide\n",
    "test_annotation_file = annotations_path / \"NC_000014.9.csv\""
   ]
  },
  {
   "cell_type": "code",
   "execution_count": null,
   "id": "43657832-172f-4e06-928e-68ef8070e251",
   "metadata": {},
   "outputs": [
    {
     "data": {
      "text/html": [
       "<div>\n",
       "<style scoped>\n",
       "    .dataframe tbody tr th:only-of-type {\n",
       "        vertical-align: middle;\n",
       "    }\n",
       "\n",
       "    .dataframe tbody tr th {\n",
       "        vertical-align: top;\n",
       "    }\n",
       "\n",
       "    .dataframe thead th {\n",
       "        text-align: right;\n",
       "    }\n",
       "</style>\n",
       "<table border=\"1\" class=\"dataframe\">\n",
       "  <thead>\n",
       "    <tr style=\"text-align: right;\">\n",
       "      <th></th>\n",
       "      <th>seqid</th>\n",
       "      <th>source</th>\n",
       "      <th>type</th>\n",
       "      <th>start</th>\n",
       "      <th>end</th>\n",
       "      <th>score</th>\n",
       "      <th>strand</th>\n",
       "      <th>phase</th>\n",
       "      <th>attributes</th>\n",
       "    </tr>\n",
       "  </thead>\n",
       "  <tbody>\n",
       "    <tr>\n",
       "      <th>0</th>\n",
       "      <td>NC_000014.9</td>\n",
       "      <td>RefSeq</td>\n",
       "      <td>region</td>\n",
       "      <td>1</td>\n",
       "      <td>107043718</td>\n",
       "      <td>NaN</td>\n",
       "      <td>+</td>\n",
       "      <td>NaN</td>\n",
       "      <td>ID=NC_000014.9:1..107043718;Dbxref=taxon:9606;...</td>\n",
       "    </tr>\n",
       "    <tr>\n",
       "      <th>1</th>\n",
       "      <td>NC_000014.9</td>\n",
       "      <td>RefSeq</td>\n",
       "      <td>centromere</td>\n",
       "      <td>16000001</td>\n",
       "      <td>18173523</td>\n",
       "      <td>NaN</td>\n",
       "      <td>+</td>\n",
       "      <td>NaN</td>\n",
       "      <td>ID=id-NC_000014.9:16000001..18173523;Note=Line...</td>\n",
       "    </tr>\n",
       "    <tr>\n",
       "      <th>2</th>\n",
       "      <td>NC_000014.9</td>\n",
       "      <td>Curated Genomic</td>\n",
       "      <td>pseudogene</td>\n",
       "      <td>16024658</td>\n",
       "      <td>16025641</td>\n",
       "      <td>NaN</td>\n",
       "      <td>+</td>\n",
       "      <td>NaN</td>\n",
       "      <td>ID=gene-DUX4L48;Dbxref=GeneID:107105251,HGNC:H...</td>\n",
       "    </tr>\n",
       "    <tr>\n",
       "      <th>3</th>\n",
       "      <td>NC_000014.9</td>\n",
       "      <td>Curated Genomic</td>\n",
       "      <td>pseudogene</td>\n",
       "      <td>16028061</td>\n",
       "      <td>16028716</td>\n",
       "      <td>NaN</td>\n",
       "      <td>+</td>\n",
       "      <td>NaN</td>\n",
       "      <td>ID=gene-PCMTD1P6;Dbxref=GeneID:107105255,HGNC:...</td>\n",
       "    </tr>\n",
       "    <tr>\n",
       "      <th>4</th>\n",
       "      <td>NC_000014.9</td>\n",
       "      <td>Curated Genomic</td>\n",
       "      <td>exon</td>\n",
       "      <td>16028061</td>\n",
       "      <td>16028716</td>\n",
       "      <td>NaN</td>\n",
       "      <td>+</td>\n",
       "      <td>NaN</td>\n",
       "      <td>ID=id-PCMTD1P6;Parent=gene-PCMTD1P6;Dbxref=Gen...</td>\n",
       "    </tr>\n",
       "  </tbody>\n",
       "</table>\n",
       "</div>"
      ],
      "text/plain": [
       "         seqid           source        type     start        end  score   \n",
       "0  NC_000014.9           RefSeq      region         1  107043718    NaN  \\\n",
       "1  NC_000014.9           RefSeq  centromere  16000001   18173523    NaN   \n",
       "2  NC_000014.9  Curated Genomic  pseudogene  16024658   16025641    NaN   \n",
       "3  NC_000014.9  Curated Genomic  pseudogene  16028061   16028716    NaN   \n",
       "4  NC_000014.9  Curated Genomic        exon  16028061   16028716    NaN   \n",
       "\n",
       "  strand  phase                                         attributes  \n",
       "0      +    NaN  ID=NC_000014.9:1..107043718;Dbxref=taxon:9606;...  \n",
       "1      +    NaN  ID=id-NC_000014.9:16000001..18173523;Note=Line...  \n",
       "2      +    NaN  ID=gene-DUX4L48;Dbxref=GeneID:107105251,HGNC:H...  \n",
       "3      +    NaN  ID=gene-PCMTD1P6;Dbxref=GeneID:107105255,HGNC:...  \n",
       "4      +    NaN  ID=id-PCMTD1P6;Parent=gene-PCMTD1P6;Dbxref=Gen...  "
      ]
     },
     "execution_count": null,
     "metadata": {},
     "output_type": "execute_result"
    }
   ],
   "source": [
    "#| hide\n",
    "test_annotations_df = pd.read_csv(test_annotation_file)\n",
    "test_annotations_df.head()"
   ]
  },
  {
   "cell_type": "code",
   "execution_count": null,
   "id": "6d24f153-9656-4925-ba18-efd8bd9dc58f",
   "metadata": {},
   "outputs": [
    {
     "data": {
      "text/plain": [
       "source\n",
       "Gnomon                 70824\n",
       "BestRefSeq             53068\n",
       "RefSeqFE                4698\n",
       "RefSeq                  2925\n",
       "Curated Genomic         2520\n",
       "BestRefSeq%2CGnomon      303\n",
       "cmsearch                  94\n",
       "tRNAscan-SE               62\n",
       "Name: count, dtype: int64"
      ]
     },
     "execution_count": null,
     "metadata": {},
     "output_type": "execute_result"
    }
   ],
   "source": [
    "#| hide\n",
    "test_annotations_df.source.value_counts()"
   ]
  },
  {
   "cell_type": "code",
   "execution_count": null,
   "id": "3be06039-11be-446d-9f61-25214b381cf9",
   "metadata": {},
   "outputs": [
    {
     "data": {
      "text/plain": [
       "seqid     NC_000014.9\n",
       "source     BestRefSeq\n",
       "type             gene\n",
       "start        18601117\n",
       "end          18602097\n",
       "score             NaN\n",
       "strand              +\n",
       "phase             NaN\n",
       "Name: 22, dtype: object"
      ]
     },
     "execution_count": null,
     "metadata": {},
     "output_type": "execute_result"
    }
   ],
   "source": [
    "#| hide\n",
    "test_annotations_df[test_annotations_df.type == \"gene\"].iloc[0, :-1]"
   ]
  },
  {
   "cell_type": "code",
   "execution_count": null,
   "id": "6174f3e5-99c5-4960-bf3d-4ae1409ad690",
   "metadata": {},
   "outputs": [
    {
     "data": {
      "text/plain": [
       "strand\n",
       "+    850\n",
       "-    730\n",
       "Name: count, dtype: int64"
      ]
     },
     "execution_count": null,
     "metadata": {},
     "output_type": "execute_result"
    }
   ],
   "source": [
    "#| hide\n",
    "test_annotations_df[test_annotations_df.type == \"gene\"].strand.value_counts()"
   ]
  },
  {
   "cell_type": "code",
   "execution_count": null,
   "id": "4c7b538f-9a0d-4723-9e09-60934d5b695c",
   "metadata": {},
   "outputs": [
    {
     "data": {
      "text/html": [
       "<div>\n",
       "<style scoped>\n",
       "    .dataframe tbody tr th:only-of-type {\n",
       "        vertical-align: middle;\n",
       "    }\n",
       "\n",
       "    .dataframe tbody tr th {\n",
       "        vertical-align: top;\n",
       "    }\n",
       "\n",
       "    .dataframe thead th {\n",
       "        text-align: right;\n",
       "    }\n",
       "</style>\n",
       "<table border=\"1\" class=\"dataframe\">\n",
       "  <thead>\n",
       "    <tr style=\"text-align: right;\">\n",
       "      <th></th>\n",
       "      <th>seqid</th>\n",
       "      <th>source</th>\n",
       "      <th>type</th>\n",
       "      <th>start</th>\n",
       "      <th>end</th>\n",
       "      <th>score</th>\n",
       "      <th>strand</th>\n",
       "      <th>phase</th>\n",
       "      <th>attributes</th>\n",
       "    </tr>\n",
       "  </thead>\n",
       "  <tbody>\n",
       "    <tr>\n",
       "      <th>30</th>\n",
       "      <td>NC_000014.9</td>\n",
       "      <td>BestRefSeq</td>\n",
       "      <td>gene</td>\n",
       "      <td>18630536</td>\n",
       "      <td>18633634</td>\n",
       "      <td>NaN</td>\n",
       "      <td>-</td>\n",
       "      <td>NaN</td>\n",
       "      <td>ID=gene-LINC02297;Dbxref=GeneID:642426,HGNC:HG...</td>\n",
       "    </tr>\n",
       "    <tr>\n",
       "      <th>97</th>\n",
       "      <td>NC_000014.9</td>\n",
       "      <td>BestRefSeq</td>\n",
       "      <td>gene</td>\n",
       "      <td>18976748</td>\n",
       "      <td>18980793</td>\n",
       "      <td>NaN</td>\n",
       "      <td>-</td>\n",
       "      <td>NaN</td>\n",
       "      <td>ID=gene-LOC100508046;Dbxref=GeneID:100508046;N...</td>\n",
       "    </tr>\n",
       "    <tr>\n",
       "      <th>145</th>\n",
       "      <td>NC_000014.9</td>\n",
       "      <td>BestRefSeq</td>\n",
       "      <td>gene</td>\n",
       "      <td>19268803</td>\n",
       "      <td>19384288</td>\n",
       "      <td>NaN</td>\n",
       "      <td>-</td>\n",
       "      <td>NaN</td>\n",
       "      <td>ID=gene-LINC01297-DUXAP10-NBEAP6;Dbxref=GeneID...</td>\n",
       "    </tr>\n",
       "    <tr>\n",
       "      <th>187</th>\n",
       "      <td>NC_000014.9</td>\n",
       "      <td>BestRefSeq</td>\n",
       "      <td>gene</td>\n",
       "      <td>19344329</td>\n",
       "      <td>19384288</td>\n",
       "      <td>NaN</td>\n",
       "      <td>-</td>\n",
       "      <td>NaN</td>\n",
       "      <td>ID=gene-LINC01297;Dbxref=GeneID:115694671,HGNC...</td>\n",
       "    </tr>\n",
       "    <tr>\n",
       "      <th>194</th>\n",
       "      <td>NC_000014.9</td>\n",
       "      <td>BestRefSeq</td>\n",
       "      <td>gene</td>\n",
       "      <td>19402486</td>\n",
       "      <td>19434341</td>\n",
       "      <td>NaN</td>\n",
       "      <td>-</td>\n",
       "      <td>NaN</td>\n",
       "      <td>ID=gene-POTEG;Dbxref=GeneID:404785,HGNC:HGNC:3...</td>\n",
       "    </tr>\n",
       "    <tr>\n",
       "      <th>...</th>\n",
       "      <td>...</td>\n",
       "      <td>...</td>\n",
       "      <td>...</td>\n",
       "      <td>...</td>\n",
       "      <td>...</td>\n",
       "      <td>...</td>\n",
       "      <td>...</td>\n",
       "      <td>...</td>\n",
       "      <td>...</td>\n",
       "    </tr>\n",
       "    <tr>\n",
       "      <th>131489</th>\n",
       "      <td>NC_000014.9</td>\n",
       "      <td>Curated Genomic</td>\n",
       "      <td>gene</td>\n",
       "      <td>106790692</td>\n",
       "      <td>106791153</td>\n",
       "      <td>NaN</td>\n",
       "      <td>-</td>\n",
       "      <td>NaN</td>\n",
       "      <td>ID=gene-IGHV3-72;Dbxref=GeneID:28410,HGNC:HGNC...</td>\n",
       "    </tr>\n",
       "    <tr>\n",
       "      <th>131495</th>\n",
       "      <td>NC_000014.9</td>\n",
       "      <td>Curated Genomic</td>\n",
       "      <td>gene</td>\n",
       "      <td>106802692</td>\n",
       "      <td>106803153</td>\n",
       "      <td>NaN</td>\n",
       "      <td>-</td>\n",
       "      <td>NaN</td>\n",
       "      <td>ID=gene-IGHV3-73;Dbxref=GeneID:28409,HGNC:HGNC...</td>\n",
       "    </tr>\n",
       "    <tr>\n",
       "      <th>131501</th>\n",
       "      <td>NC_000014.9</td>\n",
       "      <td>Curated Genomic</td>\n",
       "      <td>gene</td>\n",
       "      <td>106810440</td>\n",
       "      <td>106810895</td>\n",
       "      <td>NaN</td>\n",
       "      <td>-</td>\n",
       "      <td>NaN</td>\n",
       "      <td>ID=gene-IGHV3-74;Dbxref=GeneID:28408,HGNC:HGNC...</td>\n",
       "    </tr>\n",
       "    <tr>\n",
       "      <th>131532</th>\n",
       "      <td>NC_000014.9</td>\n",
       "      <td>BestRefSeq</td>\n",
       "      <td>gene</td>\n",
       "      <td>106850885</td>\n",
       "      <td>106850999</td>\n",
       "      <td>NaN</td>\n",
       "      <td>-</td>\n",
       "      <td>NaN</td>\n",
       "      <td>ID=gene-MIR5195;Dbxref=GeneID:100847062,HGNC:H...</td>\n",
       "    </tr>\n",
       "    <tr>\n",
       "      <th>131561</th>\n",
       "      <td>NC_000014.9</td>\n",
       "      <td>Curated Genomic</td>\n",
       "      <td>gene</td>\n",
       "      <td>106874581</td>\n",
       "      <td>106875017</td>\n",
       "      <td>NaN</td>\n",
       "      <td>-</td>\n",
       "      <td>NaN</td>\n",
       "      <td>ID=gene-IGHV7-81;Dbxref=GeneID:28378,HGNC:HGNC...</td>\n",
       "    </tr>\n",
       "  </tbody>\n",
       "</table>\n",
       "<p>730 rows × 9 columns</p>\n",
       "</div>"
      ],
      "text/plain": [
       "              seqid           source  type      start        end  score   \n",
       "30      NC_000014.9       BestRefSeq  gene   18630536   18633634    NaN  \\\n",
       "97      NC_000014.9       BestRefSeq  gene   18976748   18980793    NaN   \n",
       "145     NC_000014.9       BestRefSeq  gene   19268803   19384288    NaN   \n",
       "187     NC_000014.9       BestRefSeq  gene   19344329   19384288    NaN   \n",
       "194     NC_000014.9       BestRefSeq  gene   19402486   19434341    NaN   \n",
       "...             ...              ...   ...        ...        ...    ...   \n",
       "131489  NC_000014.9  Curated Genomic  gene  106790692  106791153    NaN   \n",
       "131495  NC_000014.9  Curated Genomic  gene  106802692  106803153    NaN   \n",
       "131501  NC_000014.9  Curated Genomic  gene  106810440  106810895    NaN   \n",
       "131532  NC_000014.9       BestRefSeq  gene  106850885  106850999    NaN   \n",
       "131561  NC_000014.9  Curated Genomic  gene  106874581  106875017    NaN   \n",
       "\n",
       "       strand  phase                                         attributes  \n",
       "30          -    NaN  ID=gene-LINC02297;Dbxref=GeneID:642426,HGNC:HG...  \n",
       "97          -    NaN  ID=gene-LOC100508046;Dbxref=GeneID:100508046;N...  \n",
       "145         -    NaN  ID=gene-LINC01297-DUXAP10-NBEAP6;Dbxref=GeneID...  \n",
       "187         -    NaN  ID=gene-LINC01297;Dbxref=GeneID:115694671,HGNC...  \n",
       "194         -    NaN  ID=gene-POTEG;Dbxref=GeneID:404785,HGNC:HGNC:3...  \n",
       "...       ...    ...                                                ...  \n",
       "131489      -    NaN  ID=gene-IGHV3-72;Dbxref=GeneID:28410,HGNC:HGNC...  \n",
       "131495      -    NaN  ID=gene-IGHV3-73;Dbxref=GeneID:28409,HGNC:HGNC...  \n",
       "131501      -    NaN  ID=gene-IGHV3-74;Dbxref=GeneID:28408,HGNC:HGNC...  \n",
       "131532      -    NaN  ID=gene-MIR5195;Dbxref=GeneID:100847062,HGNC:H...  \n",
       "131561      -    NaN  ID=gene-IGHV7-81;Dbxref=GeneID:28378,HGNC:HGNC...  \n",
       "\n",
       "[730 rows x 9 columns]"
      ]
     },
     "execution_count": null,
     "metadata": {},
     "output_type": "execute_result"
    }
   ],
   "source": [
    "#| hide\n",
    "test_annotations_df[\n",
    "    (test_annotations_df.type == \"gene\") &\n",
    "    (test_annotations_df.strand == \"-\")\n",
    "]"
   ]
  },
  {
   "cell_type": "code",
   "execution_count": null,
   "id": "bc49b293-409a-4133-91c0-010424d355d2",
   "metadata": {},
   "outputs": [
    {
     "data": {
      "text/plain": [
       "'ID=gene-OR11H12;Dbxref=GeneID:440153,HGNC:HGNC:30738;Name=OR11H12;description=olfactory receptor family 11 subfamily H member 12;gbkey=Gene;gene=OR11H12;gene_biotype=protein_coding'"
      ]
     },
     "execution_count": null,
     "metadata": {},
     "output_type": "execute_result"
    }
   ],
   "source": [
    "#| hide\n",
    "test_annotations_df[test_annotations_df.type == \"gene\"].iloc[0, -1]"
   ]
  },
  {
   "cell_type": "code",
   "execution_count": null,
   "id": "429ac258-b7f9-4c92-8bf8-87e91b296376",
   "metadata": {},
   "outputs": [
    {
     "data": {
      "text/plain": [
       "seqid     NC_000014.9\n",
       "source     BestRefSeq\n",
       "type              CDS\n",
       "start        18601117\n",
       "end          18602097\n",
       "score             NaN\n",
       "strand              +\n",
       "phase             0.0\n",
       "Name: 25, dtype: object"
      ]
     },
     "execution_count": null,
     "metadata": {},
     "output_type": "execute_result"
    }
   ],
   "source": [
    "#| hide\n",
    "test_annotations_df[test_annotations_df.type == \"CDS\"].iloc[0, :-1]"
   ]
  },
  {
   "cell_type": "code",
   "execution_count": null,
   "id": "4aa7dfc3-07a5-4d10-b79b-41e35c6d972c",
   "metadata": {},
   "outputs": [
    {
     "data": {
      "text/plain": [
       "'ID=cds-NP_001013372.1;Parent=rna-NM_001013354.1;Dbxref=CCDS:CCDS32017.1,Ensembl:ENSP00000449002.1,GeneID:440153,GenBank:NP_001013372.1,HGNC:HGNC:30738;Name=NP_001013372.1;gbkey=CDS;gene=OR11H12;product=olfactory receptor 11H12;protein_id=NP_001013372.1;tag=MANE Select'"
      ]
     },
     "execution_count": null,
     "metadata": {},
     "output_type": "execute_result"
    }
   ],
   "source": [
    "#| hide\n",
    "test_annotations_df[test_annotations_df.type == \"CDS\"].iloc[0, -1]"
   ]
  },
  {
   "cell_type": "code",
   "execution_count": null,
   "id": "0fa5e145-cd7a-4d39-a106-a44901f97c2c",
   "metadata": {},
   "outputs": [
    {
     "data": {
      "text/plain": [
       "strand\n",
       "+    31797\n",
       "-    20995\n",
       "Name: count, dtype: int64"
      ]
     },
     "execution_count": null,
     "metadata": {},
     "output_type": "execute_result"
    }
   ],
   "source": [
    "#| hide\n",
    "test_annotations_df[test_annotations_df.type == \"CDS\"].strand.value_counts()"
   ]
  },
  {
   "cell_type": "code",
   "execution_count": null,
   "id": "f8579077-c19a-4186-8379-831dcda96e63",
   "metadata": {},
   "outputs": [],
   "source": [
    "#| export\n",
    "def get_sequence_from_file(\n",
    "    start: int, end: int, strand: str = \"+\", \n",
    "    sequence_record: SeqIO.SeqRecord = None, fasta_path: Path = None) -> SeqIO.SeqRecord:\n",
    "    \"\"\"\n",
    "    The Fasta file at fasta_path is a single record.\n",
    "    If strand is positive, index and return sequence.\n",
    "    If strand is negative, reverse the index and return.\n",
    "    \"\"\"\n",
    "    if sequence_record is None and fasta_path is None:\n",
    "        raise ValueError(\"Both sequence_record and fasta_path cannot be None\")\n",
    "    if sequence_record is None:\n",
    "        sequence_record = next(SeqIO.parse(fasta_path.resolve(), \"fasta\"))\n",
    "    if strand == \"+\":\n",
    "        selected_sequence = sequence_record[start: end + 1]\n",
    "    if strand == \"-\":\n",
    "        selected_sequence = sequence_record[start - 1: end]\n",
    "        selected_sequence = selected_sequence.reverse_complement()\n",
    "    return selected_sequence.upper()"
   ]
  },
  {
   "cell_type": "code",
   "execution_count": null,
   "id": "0d857797-dc4e-49bf-b466-b318b7ee391a",
   "metadata": {},
   "outputs": [],
   "source": [
    "#| export\n",
    "def make_attribute_dict_from_string(attr_str: str):\n",
    "    attr_list = [attr.split(\"=\") for attr in attr_str.split(\";\")]\n",
    "    attr_dict = {attr_tuple[0]: attr_tuple[1] for attr_tuple in attr_list}\n",
    "    return attr_dict\n",
    "\n",
    "\n",
    "def get_gene_id_from_attributes(attributes: dict):\n",
    "    dbxref_string = attributes.get(\"Dbxref\", None)\n",
    "    if dbxref_string is None:\n",
    "        return\n",
    "    pattern = re.compile('.*GeneID:(\\d*).*')\n",
    "    match = pattern.search(dbxref_string)\n",
    "    gene_id = match.group(1)\n",
    "    return gene_id\n",
    "\n",
    "\n",
    "def write_gene_sequence(write_path: Path, gene_id: str, sequence_record: SeqIO.SeqRecord):\n",
    "    sequence_path = write_path / f\"{gene_id}.fasta\"\n",
    "    with sequence_path.open(\"w+\") as out:\n",
    "        SeqIO.write([sequence_record], out, \"fasta\")"
   ]
  },
  {
   "cell_type": "code",
   "execution_count": null,
   "id": "d9672892-47d3-46a1-8191-b1baf67c1cbd",
   "metadata": {},
   "outputs": [],
   "source": [
    "#| export\n",
    "# For every annotation, get genes, make fasta file for each\n",
    "def write_annotation_sequences(args: dict):\n",
    "    # Get input args\n",
    "    annotation_file = Path(args.get(\"annotation_file\"))\n",
    "    genome_path = Path(args.get(\"genome_path\"))\n",
    "    sequences_path = Path(args.get(\"sequences_path\"))\n",
    "    # Load annotations\n",
    "    annotation_file_df = pd.read_csv(annotation_file)\n",
    "    # Get genes, extract attributes\n",
    "    annotation_file_genes = annotation_file_df[annotation_file_df.type == \"gene\"]\n",
    "    annotation_file_genes.loc[:, 'attr_dict'] = annotation_file_genes.attributes.apply(make_attribute_dict_from_string)\n",
    "    annotation_file_genes.loc[:, 'gene_id'] = annotation_file_genes.attr_dict.apply(get_gene_id_from_attributes)\n",
    "    # Filter those genes already extracted and written\n",
    "    annotation_file_genes.loc[:, 'sequence_written'] = annotation_file_genes.gene_id.apply(\n",
    "        lambda gene_id: (sequences_path / f\"{gene_id}.fasta\").exists()\n",
    "    )\n",
    "    gene_ids = annotation_file_genes.gene_id.unique().tolist()\n",
    "    annotation_file_genes = annotation_file_genes[annotation_file_genes.sequence_written == False]\n",
    "    if annotation_file_genes.shape[0] == 0:\n",
    "        return gene_ids\n",
    "    # Get fasta sequences\n",
    "    fasta_path = genome_path / f\"{annotation_file.stem}.fasta\"\n",
    "    fasta_sequence_record = next(SeqIO.parse(fasta_path.resolve(), \"fasta\"))\n",
    "    annotation_file_sequence_records = annotation_file_genes.apply(\n",
    "        lambda row: get_sequence_from_file(\n",
    "            row.start,\n",
    "            row.end,\n",
    "            row.strand,\n",
    "            fasta_sequence_record\n",
    "        ),\n",
    "        axis=1\n",
    "    )\n",
    "    annotation_file_sequence_records.name = \"sequence_record\"\n",
    "    write_annotation_sequences = pd.concat(\n",
    "        [\n",
    "            annotation_file_sequence_records,\n",
    "            annotation_file_genes.gene_id\n",
    "        ], \n",
    "        axis=1\n",
    "    )\n",
    "    # Write sequences\n",
    "    write_annotation_sequences.apply(\n",
    "        lambda row: write_gene_sequence(\n",
    "            write_path = sequences_path,\n",
    "            gene_id = row.gene_id,\n",
    "            sequence_record = row.sequence_record\n",
    "        ),\n",
    "        axis=1\n",
    "    )\n",
    "    return write_annotation_sequences.gene_id.unique().tolist()"
   ]
  },
  {
   "cell_type": "code",
   "execution_count": null,
   "id": "7efdba2f-1d29-4f8d-a7fd-8b5a671874c2",
   "metadata": {},
   "outputs": [],
   "source": [
    "#| hide\n",
    "annotation_file_list = list(annotations_path.glob(\"*.csv\"))\n",
    "tasks = [\n",
    "    {\n",
    "        \"annotation_file\": annotation_path,\n",
    "        \"genome_path\": genome_path,\n",
    "        \"sequences_path\" : sequences_path\n",
    "    } for annotation_path in annotation_file_list\n",
    "]"
   ]
  },
  {
   "cell_type": "code",
   "execution_count": null,
   "id": "6f8fe186-ecc7-4bf6-acc6-890417554015",
   "metadata": {},
   "outputs": [
    {
     "data": {
      "application/vnd.jupyter.widget-view+json": {
       "model_id": "f9c67a58f7454cebad7528d8c504f055",
       "version_major": 2,
       "version_minor": 0
      },
      "text/plain": [
       "  0%|          | 0/705 [00:00<?, ?it/s]"
      ]
     },
     "metadata": {},
     "output_type": "display_data"
    },
    {
     "data": {
      "text/plain": [
       "42446"
      ]
     },
     "execution_count": null,
     "metadata": {},
     "output_type": "execute_result"
    }
   ],
   "source": [
    "#| hide\n",
    "pool = Pool(os.cpu_count() - 1)\n",
    "written_genes = set()\n",
    "\n",
    "progress_bar = tqdm(total=len(annotation_file_list))\n",
    "\n",
    "try:\n",
    "    for result in pool.imap_unordered(write_annotation_sequences, tasks):\n",
    "        written_genes.update(result)\n",
    "        progress_bar.update(1)\n",
    "except Exception as e:\n",
    "    raise e\n",
    "finally:\n",
    "    progress_bar.close()\n",
    "    pool.close()\n",
    "    \n",
    "len(written_genes)"
   ]
  },
  {
   "cell_type": "markdown",
   "id": "5783812a-b783-444c-a133-1ae32016a84f",
   "metadata": {},
   "source": [
    "## Make gene to protein map"
   ]
  },
  {
   "cell_type": "code",
   "execution_count": null,
   "id": "c22e88b5-b69e-4d26-975e-70210a0634d6",
   "metadata": {},
   "outputs": [],
   "source": [
    "#| export\n",
    "def get_protein_id_from_attributes(attributes: dict):\n",
    "    protein_id = attributes.get(\"protein_id\", None)\n",
    "    return protein_id\n",
    "\n",
    "\n",
    "def get_gene_to_protein_map_from_annotations(annotation_file_path: Path) -> list[str]:\n",
    "    annotations = pd.read_csv(annotation_file_path)\n",
    "    genes = annotations[annotations.type == \"CDS\"]\n",
    "    # Gather all gene ids\n",
    "    gene_attributes = genes.attributes.apply(make_attribute_dict_from_string)\n",
    "    gene_ids = gene_attributes.apply(get_gene_id_from_attributes)\n",
    "    gene_ids.name = \"gene_id\"\n",
    "    gene_protein_ids = gene_attributes.apply(get_protein_id_from_attributes)\n",
    "    gene_protein_ids.name = \"protein_id\"\n",
    "    gene_map = pd.concat([gene_ids, gene_protein_ids], axis=1).dropna().drop_duplicates()\n",
    "    return gene_map.set_index(\"gene_id\").protein_id.to_dict()"
   ]
  },
  {
   "cell_type": "code",
   "execution_count": null,
   "id": "70bcb902-c389-48b1-a3b0-04142678ab07",
   "metadata": {},
   "outputs": [],
   "source": [
    "#| hide\n",
    "test_gene_to_protein_map = {}\n",
    "annotation_gene_to_protein_map = get_gene_to_protein_map_from_annotations(test_annotation_file)\n",
    "test_gene_to_protein_map.update(annotation_gene_to_protein_map)"
   ]
  },
  {
   "cell_type": "code",
   "execution_count": null,
   "id": "27a2af4d-1a4f-43df-b081-bf533d633bf8",
   "metadata": {},
   "outputs": [
    {
     "data": {
      "text/plain": [
       "'NP_001013372.1'"
      ]
     },
     "execution_count": null,
     "metadata": {},
     "output_type": "execute_result"
    }
   ],
   "source": [
    "test_gene_to_protein_map.get(\"440153\")"
   ]
  },
  {
   "cell_type": "code",
   "execution_count": null,
   "id": "d77e4083-11e8-40bf-8a1b-f77ac8061a92",
   "metadata": {},
   "outputs": [],
   "source": [
    "#| hide\n",
    "protein_file_paths = set((data_path / \"protein\").glob(\"*.fasta\"))\n",
    "gene_protein_files = set(\n",
    "    [\n",
    "        data_path / \"protein\" / (protein_id + \".fasta\") for protein_id in test_gene_to_protein_map.values()\n",
    "    ]\n",
    ")"
   ]
  },
  {
   "cell_type": "code",
   "execution_count": null,
   "id": "9502c5cb-62e1-4789-8b70-2154a8f554a8",
   "metadata": {},
   "outputs": [
    {
     "data": {
      "text/plain": [
       "set()"
      ]
     },
     "execution_count": null,
     "metadata": {},
     "output_type": "execute_result"
    }
   ],
   "source": [
    "#| hide\n",
    "gene_protein_files - protein_file_paths"
   ]
  },
  {
   "cell_type": "code",
   "execution_count": null,
   "id": "523b374b-482b-4e29-9279-0c38bb73a363",
   "metadata": {},
   "outputs": [
    {
     "data": {
      "application/vnd.jupyter.widget-view+json": {
       "model_id": "d88b6a36092f4f8e8ea005ae5eeb209f",
       "version_major": 2,
       "version_minor": 0
      },
      "text/plain": [
       "  0%|          | 0/705 [00:00<?, ?it/s]"
      ]
     },
     "metadata": {},
     "output_type": "display_data"
    }
   ],
   "source": [
    "#| hide\n",
    "# Get all gene docs\n",
    "gene_to_protein_map = {}\n",
    "\n",
    "for annotation_file in tqdm(annotation_file_list):\n",
    "    annotation_gene_to_protein_map = get_gene_to_protein_map_from_annotations(annotation_file)\n",
    "    gene_to_protein_map.update(annotation_gene_to_protein_map)"
   ]
  },
  {
   "cell_type": "code",
   "execution_count": null,
   "id": "6f2b1caa-638b-4e22-9006-cb2fe327cd2d",
   "metadata": {},
   "outputs": [],
   "source": [
    "#| hide\n",
    "with (data_path / \"entrez_gene_to_protein_map.json\").open(\"w+\") as out:\n",
    "    json.dump(gene_to_protein_map, out)"
   ]
  },
  {
   "cell_type": "code",
   "execution_count": null,
   "id": "e1994482-736c-4915-842d-9c569c5729f4",
   "metadata": {},
   "outputs": [],
   "source": [
    "#| hide\n",
    "import nbdev; nbdev.nbdev_export()"
   ]
  },
  {
   "cell_type": "code",
   "execution_count": null,
   "id": "0c8a33b3-2ba8-4588-ba2d-5c84af701381",
   "metadata": {},
   "outputs": [],
   "source": []
  }
 ],
 "metadata": {
  "kernelspec": {
   "display_name": "python3",
   "language": "python",
   "name": "python3"
  }
 },
 "nbformat": 4,
 "nbformat_minor": 5
}
