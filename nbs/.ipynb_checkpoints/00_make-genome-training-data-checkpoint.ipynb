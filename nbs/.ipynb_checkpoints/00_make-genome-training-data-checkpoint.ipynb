{
 "cells": [
  {
   "cell_type": "markdown",
   "metadata": {},
   "source": [
    "# Making the Reference Genome more easily usable\n",
    "\n",
    "> \"Using BioPython to convert the reference human genome into a sqlite database.\""
   ]
  },
  {
   "cell_type": "code",
   "execution_count": null,
   "metadata": {},
   "outputs": [],
   "source": [
    "#| default_exp features.genome"
   ]
  },
  {
   "cell_type": "code",
   "execution_count": null,
   "metadata": {},
   "outputs": [],
   "source": [
    "#| hide\n",
    "from nbdev.showdoc import *"
   ]
  },
  {
   "cell_type": "code",
   "execution_count": null,
   "metadata": {},
   "outputs": [
    {
     "name": "stderr",
     "output_type": "stream",
     "text": [
      "/home/jdb/projects/llm-mito-scanner/venv/lib/python3.10/site-packages/Bio/__init__.py:138: BiopythonWarning: You may be importing Biopython from inside the source tree. This is bad practice and might lead to downstream issues. In particular, you might encounter ImportErrors due to missing compiled C extensions. We recommend that you try running your code from outside the source tree. If you are outside the source tree then you have a setup.py file in an unexpected directory: /home/jdb/projects/llm-mito-scanner/venv/lib/python3.10/site-packages\n",
      "  warnings.warn(\n"
     ]
    }
   ],
   "source": [
    "#| export\n",
    "from pathlib import Path\n",
    "from Bio import SeqIO\n",
    "import sqlite3"
   ]
  },
  {
   "cell_type": "code",
   "execution_count": null,
   "metadata": {},
   "outputs": [],
   "source": [
    "#| hide\n",
    "# !gzip ../data/raw/GRCh38_latest_genomic.fna.gz -d"
   ]
  },
  {
   "cell_type": "code",
   "execution_count": null,
   "metadata": {},
   "outputs": [],
   "source": [
    "#| hide\n",
    "# !gzip ../data/raw/GRCh38_latest_genomic.gff.gz -d"
   ]
  },
  {
   "cell_type": "code",
   "execution_count": null,
   "metadata": {},
   "outputs": [],
   "source": [
    "#| hide\n",
    "data_path = Path(\"../data\")\n",
    "genome_file_path = data_path / \"raw/GRCh38_latest_genomic.fna\"\n",
    "annotations_file_path = data_path / \"raw/GRCh38_latest_genomic.gff\""
   ]
  },
  {
   "cell_type": "code",
   "execution_count": null,
   "metadata": {},
   "outputs": [],
   "source": [
    "def get_or_make_sqlite_connection(data_path: Path) -> sqlite3.Connection:\n",
    "    \"\"\"\n",
    "    Get or make a sqlite database connection.\n",
    "    \"\"\"\n",
    "    return sqlite3.connect(data_path / \"genome.db\")\n",
    "\n",
    "def sqlite_table_exists(table_name: str, connection: sqlite3.Connection) -> bool:\n",
    "    \"\"\"\n",
    "    Return True is table exists in sqlite database, else False.\n",
    "    \"\"\"\n",
    "    cursor = connection.cursor()\n",
    "    result = cursor.execute(f\"SELECT name FROM sqlite_master WHERE name='{table_name}'\")\n",
    "    table_exists = result.fetchone()\n",
    "    cursor.close()\n",
    "    return table_exists is not None\n",
    "\n",
    "def setup_sqlite(connection: sqlite3.Connection, overwrite: bool = False):\n",
    "    cursor = connection.cursor()\n",
    "    # Tables\n",
    "    if not sqlite_table_exists(\"sequence\", connection):\n",
    "        cursor.execute(\"CREATE TABLE sequence(id, name, description, sequence)\")\n",
    "    if not sqlite_table_exists(\"sequence_idx\", connection):\n",
    "        cursor.execute(\"CREATE UNIQUE INDEX sequence_idx ON sequence(id)\")\n",
    "    cursor.close()"
   ]
  },
  {
   "cell_type": "code",
   "execution_count": null,
   "metadata": {},
   "outputs": [],
   "source": [
    "#| hide\n",
    "conn = get_or_make_sqlite_connection(data_path)\n",
    "setup_sqlite(conn)"
   ]
  },
  {
   "cell_type": "code",
   "execution_count": null,
   "metadata": {},
   "outputs": [],
   "source": [
    "#| export\n",
    "def format_sequence_for_insert(sequence_record: SeqIO.SeqRecord) -> str:\n",
    "    \"\"\"\n",
    "    Format a SeqIO.SeqRecord for insertion to the sqlite database.\n",
    "    \"\"\"\n",
    "    return f\"('{sequence_record.id}', '{sequence_record.name}', '{sequence_record.description}', '{sequence_record.seq}')\"\n",
    "\n",
    "\n",
    "def insert_sequences(records: list[SeqIO.SeqRecord], connection: sqlite3.Connection):\n",
    "    \"\"\"\n",
    "    Insert a batch of SeqIO.SeqRecords into the sqlite database.\n",
    "    \"\"\"\n",
    "    values_str = \",\".join(map(format_sequence_for_insert, records))\n",
    "    cursor = connection.cursor()\n",
    "    try:\n",
    "        cursor.execute(\n",
    "            f\"\"\"\n",
    "            INSERT INTO sequence VALUES {values_str} \n",
    "            ON CONFLICT(id) DO NOTHING;\n",
    "            \"\"\"\n",
    "        )\n",
    "    except Exception as e:\n",
    "        raise e\n",
    "    finally:\n",
    "        cursor.close()\n",
    "    \n",
    "\n",
    "def insert_genome_into_sqlite(\n",
    "    genome_file_path: Path, \n",
    "    sqlite_connection: sqlite3.Connection, \n",
    "    insert_batch_size: int = 10\n",
    "):\n",
    "    \"\"\"\n",
    "    Insert the fasta-annotated sequence records from our reference genome \n",
    "    into our sqlite3 database.\n",
    "    \"\"\"\n",
    "    records = []\n",
    "    for i, seq_record in enumerate(SeqIO.parse(genome_file_path, \"fasta\")):\n",
    "        records.append(seq_record)\n",
    "        if i % insert_batch_size == 0:\n",
    "            insert_sequences(records, sqlite_connection)\n",
    "            records = []\n",
    "    insert_sequences(records, sqlite_connection)"
   ]
  },
  {
   "cell_type": "code",
   "execution_count": null,
   "metadata": {},
   "outputs": [],
   "source": [
    "#| hide\n",
    "insert_genome_into_sqlite(genome_file_path, conn)"
   ]
  },
  {
   "cell_type": "code",
   "execution_count": null,
   "metadata": {},
   "outputs": [],
   "source": [
    "#| hide\n",
    "cursor = conn.cursor()"
   ]
  },
  {
   "cell_type": "code",
   "execution_count": null,
   "metadata": {},
   "outputs": [],
   "source": [
    "#| hide\n",
    "num_rows = cursor.execute(\"SELECT COUNT(DISTINCT ID) FROM sequence;\").fetchone()[0]\n",
    "assert num_rows > 0"
   ]
  },
  {
   "cell_type": "code",
   "execution_count": null,
   "metadata": {},
   "outputs": [
    {
     "data": {
      "text/plain": [
       "705"
      ]
     },
     "execution_count": null,
     "metadata": {},
     "output_type": "execute_result"
    }
   ],
   "source": [
    "#| hide\n",
    "num_rows"
   ]
  },
  {
   "cell_type": "code",
   "execution_count": null,
   "metadata": {},
   "outputs": [],
   "source": [
    "#| hide\n",
    "test_sequence = cursor.execute(\"SELECT * FROM sequence LIMIT 1;\").fetchone()"
   ]
  },
  {
   "cell_type": "code",
   "execution_count": null,
   "metadata": {},
   "outputs": [
    {
     "data": {
      "text/plain": [
       "'NC_000001.11'"
      ]
     },
     "execution_count": null,
     "metadata": {},
     "output_type": "execute_result"
    }
   ],
   "source": [
    "#| hide\n",
    "# ID is string of non-zero length\n",
    "assert isinstance(test_sequence[0], str) and len(test_sequence[0]) > 0\n",
    "test_sequence[0]"
   ]
  },
  {
   "cell_type": "code",
   "execution_count": null,
   "metadata": {},
   "outputs": [],
   "source": [
    "#| hide\n",
    "# Name is string\n",
    "assert isinstance(test_sequence[1], str)"
   ]
  },
  {
   "cell_type": "code",
   "execution_count": null,
   "metadata": {},
   "outputs": [
    {
     "data": {
      "text/plain": [
       "'NC_000001.11'"
      ]
     },
     "execution_count": null,
     "metadata": {},
     "output_type": "execute_result"
    }
   ],
   "source": [
    "#| hide\n",
    "test_sequence[1]"
   ]
  },
  {
   "cell_type": "code",
   "execution_count": null,
   "metadata": {},
   "outputs": [],
   "source": [
    "#| hide\n",
    "# Description is string\n",
    "assert isinstance(test_sequence[2], str)"
   ]
  },
  {
   "cell_type": "code",
   "execution_count": null,
   "metadata": {},
   "outputs": [
    {
     "data": {
      "text/plain": [
       "'NC_000001.11 Homo sapiens chromosome 1, GRCh38.p14 Primary Assembly'"
      ]
     },
     "execution_count": null,
     "metadata": {},
     "output_type": "execute_result"
    }
   ],
   "source": [
    "#| hide\n",
    "test_sequence[2]"
   ]
  },
  {
   "cell_type": "code",
   "execution_count": null,
   "metadata": {},
   "outputs": [],
   "source": [
    "#| hide\n",
    "# Sequence is string and of non-zero length\n",
    "assert isinstance(test_sequence[3], str) and len(test_sequence[3]) > 0"
   ]
  },
  {
   "cell_type": "code",
   "execution_count": null,
   "metadata": {},
   "outputs": [
    {
     "data": {
      "text/plain": [
       "248956422"
      ]
     },
     "execution_count": null,
     "metadata": {},
     "output_type": "execute_result"
    }
   ],
   "source": [
    "#| hide\n",
    "len(test_sequence[3])"
   ]
  },
  {
   "cell_type": "code",
   "execution_count": null,
   "metadata": {},
   "outputs": [],
   "source": [
    "#| hide\n",
    "from collections import Counter\n",
    "\n",
    "test_sequence_counter = Counter(test_sequence[3])\n",
    "# test_sequence_counter.keys()"
   ]
  },
  {
   "cell_type": "code",
   "execution_count": null,
   "metadata": {},
   "outputs": [
    {
     "data": {
      "text/plain": [
       "18475408"
      ]
     },
     "execution_count": null,
     "metadata": {},
     "output_type": "execute_result"
    }
   ],
   "source": [
    "#| hide\n",
    "test_sequence_counter[\"N\"]"
   ]
  },
  {
   "cell_type": "code",
   "execution_count": null,
   "metadata": {},
   "outputs": [
    {
     "data": {
      "text/plain": [
       "Counter({'T': 41321614,\n",
       "         'A': 41260191,\n",
       "         'C': 31266202,\n",
       "         'G': 31256045,\n",
       "         't': 25922550,\n",
       "         'a': 25810086,\n",
       "         'N': 18475408,\n",
       "         'g': 16855483,\n",
       "         'c': 16788841,\n",
       "         'M': 1,\n",
       "         'R': 1})"
      ]
     },
     "execution_count": null,
     "metadata": {},
     "output_type": "execute_result"
    }
   ],
   "source": [
    "#| hide\n",
    "test_sequence_counter"
   ]
  },
  {
   "cell_type": "code",
   "execution_count": null,
   "metadata": {},
   "outputs": [
    {
     "data": {
      "text/plain": [
       "('NNNNNNNNNN', 'NNNNNNNNNN')"
      ]
     },
     "execution_count": null,
     "metadata": {},
     "output_type": "execute_result"
    }
   ],
   "source": [
    "#| hide\n",
    "test_sequence[3][:10], test_sequence[3][-10:]"
   ]
  },
  {
   "cell_type": "code",
   "execution_count": null,
   "metadata": {},
   "outputs": [],
   "source": [
    "#| hide\n",
    "cursor.close()"
   ]
  },
  {
   "cell_type": "code",
   "execution_count": null,
   "metadata": {},
   "outputs": [],
   "source": [
    "#| hide\n",
    "conn.close()"
   ]
  },
  {
   "cell_type": "code",
   "execution_count": null,
   "metadata": {},
   "outputs": [],
   "source": [
    "#| hide\n",
    "import nbdev; nbdev.nbdev_export()"
   ]
  },
  {
   "cell_type": "code",
   "execution_count": null,
   "metadata": {},
   "outputs": [],
   "source": []
  }
 ],
 "metadata": {
  "kernelspec": {
   "display_name": "python3",
   "language": "python",
   "name": "python3"
  }
 },
 "nbformat": 4,
 "nbformat_minor": 4
}
