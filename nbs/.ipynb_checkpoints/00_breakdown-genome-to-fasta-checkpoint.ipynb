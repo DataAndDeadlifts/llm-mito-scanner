{
 "cells": [
  {
   "cell_type": "markdown",
   "metadata": {},
   "source": [
    "# Making the Reference Genome more easily usable\n",
    "\n",
    "> \"Using BioPython to convert the reference human genome into a sqlite database.\""
   ]
  },
  {
   "cell_type": "code",
   "execution_count": null,
   "metadata": {},
   "outputs": [],
   "source": [
    "#| default_exp features.genome"
   ]
  },
  {
   "cell_type": "code",
   "execution_count": null,
   "metadata": {},
   "outputs": [],
   "source": [
    "#| hide\n",
    "from nbdev.showdoc import *"
   ]
  },
  {
   "cell_type": "code",
   "execution_count": null,
   "metadata": {},
   "outputs": [
    {
     "name": "stderr",
     "output_type": "stream",
     "text": [
      "/home/jdb/projects/llm-mito-scanner/venv/lib/python3.10/site-packages/Bio/__init__.py:138: BiopythonWarning: You may be importing Biopython from inside the source tree. This is bad practice and might lead to downstream issues. In particular, you might encounter ImportErrors due to missing compiled C extensions. We recommend that you try running your code from outside the source tree. If you are outside the source tree then you have a setup.py file in an unexpected directory: /home/jdb/projects/llm-mito-scanner/venv/lib/python3.10/site-packages\n",
      "  warnings.warn(\n"
     ]
    }
   ],
   "source": [
    "#| export\n",
    "from pathlib import Path\n",
    "from Bio import SeqIO\n",
    "import sqlite3\n",
    "from yaml import safe_load\n",
    "from tqdm.auto import tqdm"
   ]
  },
  {
   "cell_type": "code",
   "execution_count": null,
   "metadata": {},
   "outputs": [],
   "source": [
    "#| hide\n",
    "with open(\"../config.yml\") as f:\n",
    "    config = safe_load(f)"
   ]
  },
  {
   "cell_type": "code",
   "execution_count": null,
   "metadata": {},
   "outputs": [],
   "source": [
    "#| hide\n",
    "data_path = Path(config.get(\"data_path\"))"
   ]
  },
  {
   "cell_type": "code",
   "execution_count": null,
   "metadata": {},
   "outputs": [],
   "source": [
    "#| hide\n",
    "genome_path = data_path / \"raw/GRCh38_latest_genomic.fna\"\n",
    "if not (data_path / \"raw/GRCh38_latest_genomic.fna\").exists():\n",
    "    !gzip ../data/raw/GRCh38_latest_genomic.fna.gz -d"
   ]
  },
  {
   "cell_type": "code",
   "execution_count": null,
   "metadata": {},
   "outputs": [],
   "source": [
    "#| hide\n",
    "genome_annotations_path = data_path / \"raw/GRCh38_latest_genomic.gff\"\n",
    "if not (data_path / \"raw/GRCh38_latest_genomic.gff\").exists():\n",
    "    !gzip ../data/raw/GRCh38_latest_genomic.gff.gz -d"
   ]
  },
  {
   "cell_type": "code",
   "execution_count": null,
   "metadata": {},
   "outputs": [],
   "source": [
    "#| export\n",
    "def break_genome_into_fasta_files(\n",
    "    genome_file_path: Path, \n",
    "    write_path: Path,\n",
    "):\n",
    "    \"\"\"\n",
    "    Insert the fasta-annotated sequence records from our reference genome \n",
    "    into our sqlite3 database.\n",
    "    \"\"\"\n",
    "    for i, seq_record in enumerate(tqdm(SeqIO.parse(genome_file_path, \"fasta\"))):\n",
    "        seq_record_write_path = write_path / f\"{seq_record.id}.fasta\"\n",
    "        if not seq_record_write_path.exists():\n",
    "            with seq_record_write_path.open(\"w+\") as out:\n",
    "                SeqIO.write([seq_record], out, \"fasta\")"
   ]
  },
  {
   "cell_type": "code",
   "execution_count": null,
   "metadata": {},
   "outputs": [
    {
     "data": {
      "application/vnd.jupyter.widget-view+json": {
       "model_id": "9693fd3e10ef4c39961dc9120240f0de",
       "version_major": 2,
       "version_minor": 0
      },
      "text/plain": [
       "0it [00:00, ?it/s]"
      ]
     },
     "metadata": {},
     "output_type": "display_data"
    }
   ],
   "source": [
    "#| hide\n",
    "genome_fasta_path = data_path / \"genome\"\n",
    "\n",
    "if not genome_fasta_path.exists():\n",
    "    genome_fasta_path.mkdir()\n",
    "    \n",
    "break_genome_into_fasta_files(genome_path, data_path / \"genome\")"
   ]
  },
  {
   "cell_type": "code",
   "execution_count": null,
   "metadata": {},
   "outputs": [],
   "source": [
    "#| export\n",
    "def validate_written_genome_fasta_files(\n",
    "    write_path: Path\n",
    ") -> int:\n",
    "    unlinked_files = 0\n",
    "    for file in write_path.glob(\"*.fasta\"):\n",
    "        if file.stat().st_size == 0:\n",
    "            file.unlink()\n",
    "            unlinked_files += 1\n",
    "    return unlinked_files"
   ]
  },
  {
   "cell_type": "code",
   "execution_count": null,
   "metadata": {},
   "outputs": [
    {
     "data": {
      "text/plain": [
       "0"
      ]
     },
     "execution_count": null,
     "metadata": {},
     "output_type": "execute_result"
    }
   ],
   "source": [
    "#| hide\n",
    "validate_written_genome_fasta_files(genome_fasta_path)"
   ]
  },
  {
   "cell_type": "code",
   "execution_count": null,
   "metadata": {},
   "outputs": [],
   "source": [
    "#| hide\n",
    "num_files = len(list(genome_fasta_path.glob(\"*.fasta\")))\n",
    "assert num_files > 0"
   ]
  },
  {
   "cell_type": "code",
   "execution_count": null,
   "metadata": {},
   "outputs": [
    {
     "data": {
      "text/plain": [
       "705"
      ]
     },
     "execution_count": null,
     "metadata": {},
     "output_type": "execute_result"
    }
   ],
   "source": [
    "#| hide\n",
    "num_files"
   ]
  },
  {
   "cell_type": "code",
   "execution_count": null,
   "metadata": {},
   "outputs": [],
   "source": [
    "#| hide\n",
    "sample_sequence_record = next(SeqIO.parse(list(genome_fasta_path.glob(\"*.fasta\"))[0], \"fasta\"))"
   ]
  },
  {
   "cell_type": "code",
   "execution_count": null,
   "metadata": {},
   "outputs": [],
   "source": [
    "#| hide\n",
    "from collections import Counter\n",
    "\n",
    "test_sequence_counter = Counter(sample_sequence_record.seq)"
   ]
  },
  {
   "cell_type": "code",
   "execution_count": null,
   "metadata": {},
   "outputs": [
    {
     "data": {
      "text/plain": [
       "Counter({'T': 41321614,\n",
       "         'A': 41260191,\n",
       "         'C': 31266202,\n",
       "         'G': 31256045,\n",
       "         't': 25922550,\n",
       "         'a': 25810086,\n",
       "         'N': 18475408,\n",
       "         'g': 16855483,\n",
       "         'c': 16788841,\n",
       "         'M': 1,\n",
       "         'R': 1})"
      ]
     },
     "execution_count": null,
     "metadata": {},
     "output_type": "execute_result"
    }
   ],
   "source": [
    "#| hide\n",
    "test_sequence_counter"
   ]
  },
  {
   "cell_type": "code",
   "execution_count": null,
   "metadata": {},
   "outputs": [],
   "source": [
    "#| hide\n",
    "import nbdev; nbdev.nbdev_export()"
   ]
  },
  {
   "cell_type": "code",
   "execution_count": null,
   "metadata": {},
   "outputs": [],
   "source": []
  }
 ],
 "metadata": {
  "kernelspec": {
   "display_name": "python3",
   "language": "python",
   "name": "python3"
  }
 },
 "nbformat": 4,
 "nbformat_minor": 4
}
