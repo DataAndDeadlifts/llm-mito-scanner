{
 "cells": [
  {
   "cell_type": "markdown",
   "metadata": {},
   "source": [
    "# Generating training instances from genomic dna, intron and mRNA positions.\n",
    "\n",
    "> Preparing training instances."
   ]
  },
  {
   "cell_type": "markdown",
   "metadata": {},
   "source": [
    "## Goals\n",
    "1. Construct the mRNA sequence\n",
    "3. Generate training instances that;\n",
    "    1. Include the \"edge\" of the intron with various shifting strategies\n",
    "    2. Exclude the \"edge\" of the intron and get transcribed mRNA"
   ]
  },
  {
   "cell_type": "code",
   "execution_count": 1,
   "metadata": {},
   "outputs": [],
   "source": [
    "#| default_exp training.transcription.generation"
   ]
  },
  {
   "cell_type": "markdown",
   "metadata": {},
   "source": [
    "## 0. Setup"
   ]
  },
  {
   "cell_type": "code",
   "execution_count": 236,
   "metadata": {},
   "outputs": [],
   "source": [
    "#| export\n",
    "from pathlib import Path\n",
    "import pandas as pd\n",
    "\n",
    "from llm_mito_scanner.data.download import load_config, \\\n",
    "    get_latest_assembly_path, get_genomic_genbank_path\n",
    "from llm_mito_scanner.training.transcription.index import get_intron_locations\n",
    "\n",
    "BOS_TOK = \"<bos>\"\n",
    "EOS_TOK = \"<eos>\"\n",
    "INTRON_TOK = \"<intron>\"\n",
    "NULL_TOK = \"<null>\"\n",
    "MRNA_BOS_TOK = \"<mrna-bos>\"\n",
    "MRNA_EOS_TOK = \"<mrna-eos>\""
   ]
  },
  {
   "cell_type": "code",
   "execution_count": 3,
   "metadata": {},
   "outputs": [],
   "source": [
    "#| hide\n",
    "config = load_config()"
   ]
  },
  {
   "cell_type": "code",
   "execution_count": 4,
   "metadata": {},
   "outputs": [],
   "source": [
    "#| hide\n",
    "data_path = Path(config.get(\"data_path\"))\n",
    "data_raw_path = data_path / \"raw\"\n",
    "assemblies_path = data_raw_path / \"assemblies\"\n",
    "latest_assembly_path = get_latest_assembly_path(assemblies_path)\n",
    "genomic_genbank_path = get_genomic_genbank_path(latest_assembly_path)\n",
    "genes_path = latest_assembly_path / \"genes\"\n",
    "training_data_path = latest_assembly_path / \"training\"\n",
    "transcription_data_path = training_data_path / \"transcription\"\n",
    "intron_locations_path = transcription_data_path / \"intron_positions\"\n",
    "for p in [genes_path, intron_locations_path]:\n",
    "    if not p.exists():\n",
    "        raise FileNotFoundError(f\"This notebook requires the path {p.resolve()} to exist\")"
   ]
  },
  {
   "cell_type": "code",
   "execution_count": 5,
   "metadata": {},
   "outputs": [
    {
     "data": {
      "text/html": [
       "<div>\n",
       "<style scoped>\n",
       "    .dataframe tbody tr th:only-of-type {\n",
       "        vertical-align: middle;\n",
       "    }\n",
       "\n",
       "    .dataframe tbody tr th {\n",
       "        vertical-align: top;\n",
       "    }\n",
       "\n",
       "    .dataframe thead th {\n",
       "        text-align: right;\n",
       "    }\n",
       "</style>\n",
       "<table border=\"1\" class=\"dataframe\">\n",
       "  <thead>\n",
       "    <tr style=\"text-align: right;\">\n",
       "      <th></th>\n",
       "      <th>geneid</th>\n",
       "      <th>transcriptid</th>\n",
       "      <th>intron_start</th>\n",
       "      <th>intron_end</th>\n",
       "      <th>mrna_start</th>\n",
       "      <th>mrna_end</th>\n",
       "      <th>chromosome</th>\n",
       "    </tr>\n",
       "  </thead>\n",
       "  <tbody>\n",
       "    <tr>\n",
       "      <th>0</th>\n",
       "      <td>GeneID:79501</td>\n",
       "      <td>NM_001005484.2</td>\n",
       "      <td>15</td>\n",
       "      <td>101</td>\n",
       "      <td>0</td>\n",
       "      <td>6167</td>\n",
       "      <td>NC_000001.11</td>\n",
       "    </tr>\n",
       "    <tr>\n",
       "      <th>1</th>\n",
       "      <td>GeneID:79501</td>\n",
       "      <td>NM_001005484.2</td>\n",
       "      <td>155</td>\n",
       "      <td>3618</td>\n",
       "      <td>0</td>\n",
       "      <td>6167</td>\n",
       "      <td>NC_000001.11</td>\n",
       "    </tr>\n",
       "    <tr>\n",
       "      <th>2</th>\n",
       "      <td>GeneID:112268260</td>\n",
       "      <td>XM_047436352.1</td>\n",
       "      <td>186</td>\n",
       "      <td>547</td>\n",
       "      <td>0</td>\n",
       "      <td>17102</td>\n",
       "      <td>NC_000001.11</td>\n",
       "    </tr>\n",
       "    <tr>\n",
       "      <th>3</th>\n",
       "      <td>GeneID:112268260</td>\n",
       "      <td>XM_047436352.1</td>\n",
       "      <td>1339</td>\n",
       "      <td>2365</td>\n",
       "      <td>0</td>\n",
       "      <td>17102</td>\n",
       "      <td>NC_000001.11</td>\n",
       "    </tr>\n",
       "    <tr>\n",
       "      <th>4</th>\n",
       "      <td>GeneID:112268260</td>\n",
       "      <td>XM_047436352.1</td>\n",
       "      <td>2467</td>\n",
       "      <td>8912</td>\n",
       "      <td>0</td>\n",
       "      <td>17102</td>\n",
       "      <td>NC_000001.11</td>\n",
       "    </tr>\n",
       "  </tbody>\n",
       "</table>\n",
       "</div>"
      ],
      "text/plain": [
       "             geneid    transcriptid  intron_start  intron_end  mrna_start   \n",
       "0      GeneID:79501  NM_001005484.2            15         101           0  \\\n",
       "1      GeneID:79501  NM_001005484.2           155        3618           0   \n",
       "2  GeneID:112268260  XM_047436352.1           186         547           0   \n",
       "3  GeneID:112268260  XM_047436352.1          1339        2365           0   \n",
       "4  GeneID:112268260  XM_047436352.1          2467        8912           0   \n",
       "\n",
       "   mrna_end    chromosome  \n",
       "0      6167  NC_000001.11  \n",
       "1      6167  NC_000001.11  \n",
       "2     17102  NC_000001.11  \n",
       "3     17102  NC_000001.11  \n",
       "4     17102  NC_000001.11  "
      ]
     },
     "execution_count": 5,
     "metadata": {},
     "output_type": "execute_result"
    }
   ],
   "source": [
    "#| hide\n",
    "intron_locations = get_intron_locations(intron_locations_path)\n",
    "intron_locations.head()"
   ]
  },
  {
   "cell_type": "code",
   "execution_count": 250,
   "metadata": {},
   "outputs": [
    {
     "data": {
      "text/html": [
       "<div>\n",
       "<style scoped>\n",
       "    .dataframe tbody tr th:only-of-type {\n",
       "        vertical-align: middle;\n",
       "    }\n",
       "\n",
       "    .dataframe tbody tr th {\n",
       "        vertical-align: top;\n",
       "    }\n",
       "\n",
       "    .dataframe thead th {\n",
       "        text-align: right;\n",
       "    }\n",
       "</style>\n",
       "<table border=\"1\" class=\"dataframe\">\n",
       "  <thead>\n",
       "    <tr style=\"text-align: right;\">\n",
       "      <th></th>\n",
       "      <th>geneid</th>\n",
       "      <th>transcriptid</th>\n",
       "      <th>intron_start</th>\n",
       "      <th>intron_end</th>\n",
       "      <th>mrna_start</th>\n",
       "      <th>mrna_end</th>\n",
       "      <th>chromosome</th>\n",
       "    </tr>\n",
       "  </thead>\n",
       "  <tbody>\n",
       "    <tr>\n",
       "      <th>12</th>\n",
       "      <td>GeneID:81399</td>\n",
       "      <td>XM_017002410.2</td>\n",
       "      <td>82</td>\n",
       "      <td>22713</td>\n",
       "      <td>8309</td>\n",
       "      <td>44026</td>\n",
       "      <td>NC_000001.11</td>\n",
       "    </tr>\n",
       "    <tr>\n",
       "      <th>13</th>\n",
       "      <td>GeneID:81399</td>\n",
       "      <td>XM_017002408.2</td>\n",
       "      <td>82</td>\n",
       "      <td>20998</td>\n",
       "      <td>8309</td>\n",
       "      <td>44026</td>\n",
       "      <td>NC_000001.11</td>\n",
       "    </tr>\n",
       "    <tr>\n",
       "      <th>14</th>\n",
       "      <td>GeneID:81399</td>\n",
       "      <td>XM_017002408.2</td>\n",
       "      <td>21216</td>\n",
       "      <td>22713</td>\n",
       "      <td>8309</td>\n",
       "      <td>44026</td>\n",
       "      <td>NC_000001.11</td>\n",
       "    </tr>\n",
       "    <tr>\n",
       "      <th>15</th>\n",
       "      <td>GeneID:81399</td>\n",
       "      <td>XM_047431162.1</td>\n",
       "      <td>19</td>\n",
       "      <td>9866</td>\n",
       "      <td>21156</td>\n",
       "      <td>44026</td>\n",
       "      <td>NC_000001.11</td>\n",
       "    </tr>\n",
       "    <tr>\n",
       "      <th>42</th>\n",
       "      <td>GeneID:148398</td>\n",
       "      <td>NM_152486.4</td>\n",
       "      <td>70</td>\n",
       "      <td>191</td>\n",
       "      <td>1808</td>\n",
       "      <td>20652</td>\n",
       "      <td>NC_000001.11</td>\n",
       "    </tr>\n",
       "    <tr>\n",
       "      <th>43</th>\n",
       "      <td>GeneID:148398</td>\n",
       "      <td>NM_152486.4</td>\n",
       "      <td>283</td>\n",
       "      <td>4424</td>\n",
       "      <td>1808</td>\n",
       "      <td>20652</td>\n",
       "      <td>NC_000001.11</td>\n",
       "    </tr>\n",
       "    <tr>\n",
       "      <th>44</th>\n",
       "      <td>GeneID:148398</td>\n",
       "      <td>NM_152486.4</td>\n",
       "      <td>4606</td>\n",
       "      <td>5308</td>\n",
       "      <td>1808</td>\n",
       "      <td>20652</td>\n",
       "      <td>NC_000001.11</td>\n",
       "    </tr>\n",
       "    <tr>\n",
       "      <th>45</th>\n",
       "      <td>GeneID:148398</td>\n",
       "      <td>NM_152486.4</td>\n",
       "      <td>5359</td>\n",
       "      <td>10041</td>\n",
       "      <td>1808</td>\n",
       "      <td>20652</td>\n",
       "      <td>NC_000001.11</td>\n",
       "    </tr>\n",
       "    <tr>\n",
       "      <th>46</th>\n",
       "      <td>GeneID:148398</td>\n",
       "      <td>NM_152486.4</td>\n",
       "      <td>10166</td>\n",
       "      <td>13309</td>\n",
       "      <td>1808</td>\n",
       "      <td>20652</td>\n",
       "      <td>NC_000001.11</td>\n",
       "    </tr>\n",
       "    <tr>\n",
       "      <th>47</th>\n",
       "      <td>GeneID:148398</td>\n",
       "      <td>NM_152486.4</td>\n",
       "      <td>13399</td>\n",
       "      <td>13544</td>\n",
       "      <td>1808</td>\n",
       "      <td>20652</td>\n",
       "      <td>NC_000001.11</td>\n",
       "    </tr>\n",
       "  </tbody>\n",
       "</table>\n",
       "</div>"
      ],
      "text/plain": [
       "           geneid    transcriptid  intron_start  intron_end  mrna_start   \n",
       "12   GeneID:81399  XM_017002410.2            82       22713        8309  \\\n",
       "13   GeneID:81399  XM_017002408.2            82       20998        8309   \n",
       "14   GeneID:81399  XM_017002408.2         21216       22713        8309   \n",
       "15   GeneID:81399  XM_047431162.1            19        9866       21156   \n",
       "42  GeneID:148398     NM_152486.4            70         191        1808   \n",
       "43  GeneID:148398     NM_152486.4           283        4424        1808   \n",
       "44  GeneID:148398     NM_152486.4          4606        5308        1808   \n",
       "45  GeneID:148398     NM_152486.4          5359       10041        1808   \n",
       "46  GeneID:148398     NM_152486.4         10166       13309        1808   \n",
       "47  GeneID:148398     NM_152486.4         13399       13544        1808   \n",
       "\n",
       "    mrna_end    chromosome  \n",
       "12     44026  NC_000001.11  \n",
       "13     44026  NC_000001.11  \n",
       "14     44026  NC_000001.11  \n",
       "15     44026  NC_000001.11  \n",
       "42     20652  NC_000001.11  \n",
       "43     20652  NC_000001.11  \n",
       "44     20652  NC_000001.11  \n",
       "45     20652  NC_000001.11  \n",
       "46     20652  NC_000001.11  \n",
       "47     20652  NC_000001.11  "
      ]
     },
     "execution_count": 250,
     "metadata": {},
     "output_type": "execute_result"
    }
   ],
   "source": [
    "#| hide\n",
    "intron_locations[intron_locations.mrna_start != 0].head(10)"
   ]
  },
  {
   "cell_type": "code",
   "execution_count": 181,
   "metadata": {},
   "outputs": [
    {
     "data": {
      "text/html": [
       "<div>\n",
       "<style scoped>\n",
       "    .dataframe tbody tr th:only-of-type {\n",
       "        vertical-align: middle;\n",
       "    }\n",
       "\n",
       "    .dataframe tbody tr th {\n",
       "        vertical-align: top;\n",
       "    }\n",
       "\n",
       "    .dataframe thead th {\n",
       "        text-align: right;\n",
       "    }\n",
       "</style>\n",
       "<table border=\"1\" class=\"dataframe\">\n",
       "  <thead>\n",
       "    <tr style=\"text-align: right;\">\n",
       "      <th></th>\n",
       "      <th>geneid</th>\n",
       "      <th>transcriptid</th>\n",
       "      <th>intron_start</th>\n",
       "      <th>intron_end</th>\n",
       "      <th>mrna_start</th>\n",
       "      <th>mrna_end</th>\n",
       "      <th>chromosome</th>\n",
       "      <th>prev_intron_end</th>\n",
       "      <th>intron_space</th>\n",
       "    </tr>\n",
       "  </thead>\n",
       "  <tbody>\n",
       "    <tr>\n",
       "      <th>1073192</th>\n",
       "      <td>GeneID:3845</td>\n",
       "      <td>XM_047428826.1</td>\n",
       "      <td>38752</td>\n",
       "      <td>41018</td>\n",
       "      <td>0</td>\n",
       "      <td>45684</td>\n",
       "      <td>NC_000012.12</td>\n",
       "      <td>38751.0</td>\n",
       "      <td>1</td>\n",
       "    </tr>\n",
       "    <tr>\n",
       "      <th>581729</th>\n",
       "      <td>GeneID:2870</td>\n",
       "      <td>NM_002082.4</td>\n",
       "      <td>14571</td>\n",
       "      <td>15061</td>\n",
       "      <td>1153</td>\n",
       "      <td>17100</td>\n",
       "      <td>NC_000005.10</td>\n",
       "      <td>14569.0</td>\n",
       "      <td>2</td>\n",
       "    </tr>\n",
       "    <tr>\n",
       "      <th>610529</th>\n",
       "      <td>GeneID:23506</td>\n",
       "      <td>XM_024446390.2</td>\n",
       "      <td>1127</td>\n",
       "      <td>19730</td>\n",
       "      <td>44237</td>\n",
       "      <td>122218</td>\n",
       "      <td>NC_000006.12</td>\n",
       "      <td>1125.0</td>\n",
       "      <td>2</td>\n",
       "    </tr>\n",
       "    <tr>\n",
       "      <th>1192146</th>\n",
       "      <td>GeneID:55012</td>\n",
       "      <td>XM_024449638.2</td>\n",
       "      <td>1472</td>\n",
       "      <td>5561</td>\n",
       "      <td>0</td>\n",
       "      <td>36827</td>\n",
       "      <td>NC_000014.9</td>\n",
       "      <td>1470.0</td>\n",
       "      <td>2</td>\n",
       "    </tr>\n",
       "    <tr>\n",
       "      <th>1699082</th>\n",
       "      <td>GeneID:55217</td>\n",
       "      <td>XM_047442236.1</td>\n",
       "      <td>3580</td>\n",
       "      <td>11733</td>\n",
       "      <td>76587</td>\n",
       "      <td>123942</td>\n",
       "      <td>NC_000023.11</td>\n",
       "      <td>3578.0</td>\n",
       "      <td>2</td>\n",
       "    </tr>\n",
       "  </tbody>\n",
       "</table>\n",
       "</div>"
      ],
      "text/plain": [
       "               geneid    transcriptid  intron_start  intron_end  mrna_start   \n",
       "1073192   GeneID:3845  XM_047428826.1         38752       41018           0  \\\n",
       "581729    GeneID:2870     NM_002082.4         14571       15061        1153   \n",
       "610529   GeneID:23506  XM_024446390.2          1127       19730       44237   \n",
       "1192146  GeneID:55012  XM_024449638.2          1472        5561           0   \n",
       "1699082  GeneID:55217  XM_047442236.1          3580       11733       76587   \n",
       "\n",
       "         mrna_end    chromosome  prev_intron_end  intron_space  \n",
       "1073192     45684  NC_000012.12          38751.0             1  \n",
       "581729      17100  NC_000005.10          14569.0             2  \n",
       "610529     122218  NC_000006.12           1125.0             2  \n",
       "1192146     36827   NC_000014.9           1470.0             2  \n",
       "1699082    123942  NC_000023.11           3578.0             2  "
      ]
     },
     "execution_count": 181,
     "metadata": {},
     "output_type": "execute_result"
    }
   ],
   "source": [
    "#| hide\n",
    "prev_intron_end = intron_locations.groupby(['chromosome', 'geneid', 'transcriptid']).intron_end.shift(1)\n",
    "intron_space = pd.concat([intron_locations, prev_intron_end], axis=1).dropna()\n",
    "intron_space.columns = intron_locations.columns.tolist() + ['prev_intron_end']\n",
    "intron_space.loc[:, 'intron_space'] = (intron_space.intron_start - intron_space.prev_intron_end).astype(int)\n",
    "intron_space.sort_values('intron_space', ascending=True, inplace=True)\n",
    "intron_space.head()"
   ]
  },
  {
   "cell_type": "code",
   "execution_count": 182,
   "metadata": {},
   "outputs": [
    {
     "data": {
      "text/plain": [
       "count    1.574709e+06\n",
       "mean     1.568139e+02\n",
       "std      3.197923e+02\n",
       "min      1.000000e+00\n",
       "25%      8.800000e+01\n",
       "50%      1.220000e+02\n",
       "75%      1.660000e+02\n",
       "max      8.761600e+04\n",
       "Name: intron_space, dtype: float64"
      ]
     },
     "execution_count": 182,
     "metadata": {},
     "output_type": "execute_result"
    }
   ],
   "source": [
    "#| hide\n",
    "intron_space.intron_space.describe()"
   ]
  },
  {
   "cell_type": "code",
   "execution_count": 251,
   "metadata": {},
   "outputs": [
    {
     "data": {
      "text/plain": [
       "('NC_000001.11', 'GeneID:148398')"
      ]
     },
     "execution_count": 251,
     "metadata": {},
     "output_type": "execute_result"
    }
   ],
   "source": [
    "#| hide\n",
    "example_intron = intron_locations.iloc[42, :]\n",
    "example_chromosome = example_intron.chromosome\n",
    "example_gene = example_intron.geneid\n",
    "example_chromosome, example_gene"
   ]
  },
  {
   "cell_type": "markdown",
   "metadata": {},
   "source": [
    "## 1. mRNA Sequence Generation"
   ]
  },
  {
   "cell_type": "code",
   "execution_count": 252,
   "metadata": {},
   "outputs": [],
   "source": [
    "#| export\n",
    "def get_gene_from_csv(chromosome_genes: Path, geneid: str) -> pd.Series:\n",
    "    with chromosome_genes.open(\"r\") as f:\n",
    "        header = next(f).replace(\"\\n\", \"\").split(\",\")\n",
    "        for row in f:\n",
    "            if row.startswith(geneid):\n",
    "                row_series = pd.Series(row.replace(\"\\n\", \"\").split(\",\"))\n",
    "                row_series.index = header\n",
    "                return row_series"
   ]
  },
  {
   "cell_type": "code",
   "execution_count": 253,
   "metadata": {},
   "outputs": [
    {
     "data": {
      "text/plain": [
       "geneid                                                     GeneID:148398\n",
       "sequence               GGCGGCGGAGTCTCCCAAGTCCCCGCCGGGCGGGCGCGCGCCAGTG...\n",
       "pos_strand_position                                               923922\n",
       "neg_strand_position                                               944574\n",
       "dtype: object"
      ]
     },
     "execution_count": 253,
     "metadata": {},
     "output_type": "execute_result"
    }
   ],
   "source": [
    "#| hide\n",
    "example_gene_series = get_gene_from_csv(genes_path / f\"{example_chromosome}.csv\", example_gene)\n",
    "example_gene_series"
   ]
  },
  {
   "cell_type": "code",
   "execution_count": 254,
   "metadata": {},
   "outputs": [
    {
     "data": {
      "text/plain": [
       "20652"
      ]
     },
     "execution_count": 254,
     "metadata": {},
     "output_type": "execute_result"
    }
   ],
   "source": [
    "#| hide\n",
    "len(example_gene_series.sequence)"
   ]
  },
  {
   "cell_type": "code",
   "execution_count": 255,
   "metadata": {},
   "outputs": [],
   "source": [
    "#| export\n",
    "def get_mrna_intron_locations(\n",
    "        chromosome: str, gene_id: str, transcript_id: str, \n",
    "        intron_locations: pd.DataFrame = None, intron_locations_path: Path = None\n",
    "        ) -> list[tuple[int, int]]:\n",
    "    if intron_locations is None:\n",
    "        intron_locations = get_intron_locations(intron_locations_path)\n",
    "    mrna_intron_locations = intron_locations[\n",
    "        (intron_locations.chromosome == chromosome) &\n",
    "        (intron_locations.geneid == gene_id) &\n",
    "        (intron_locations.transcriptid == transcript_id)\n",
    "    ]\n",
    "    if mrna_intron_locations.shape[0] == 0:\n",
    "        return []\n",
    "    mrna_intron_locations_list = list(map(tuple, mrna_intron_locations[['intron_start', 'intron_end']].values.tolist()))\n",
    "    return mrna_intron_locations_list"
   ]
  },
  {
   "cell_type": "code",
   "execution_count": 256,
   "metadata": {},
   "outputs": [
    {
     "name": "stdout",
     "output_type": "stream",
     "text": [
      "13\n"
     ]
    },
    {
     "data": {
      "text/plain": [
       "[(70, 191),\n",
       " (283, 4424),\n",
       " (4606, 5308),\n",
       " (5359, 10041),\n",
       " (10166, 13309),\n",
       " (13399, 13544),\n",
       " (13730, 15413),\n",
       " (15576, 16405),\n",
       " (16521, 16679),\n",
       " (16758, 16828),\n",
       " (17328, 17522),\n",
       " (17647, 17967),\n",
       " (18078, 18177)]"
      ]
     },
     "execution_count": 256,
     "metadata": {},
     "output_type": "execute_result"
    }
   ],
   "source": [
    "#| hide\n",
    "example_mrna_intron_locations = get_mrna_intron_locations(\n",
    "    example_chromosome, example_gene, example_intron.transcriptid,\n",
    "    intron_locations=intron_locations\n",
    ")\n",
    "print(len(example_mrna_intron_locations))\n",
    "example_mrna_intron_locations"
   ]
  },
  {
   "cell_type": "code",
   "execution_count": 269,
   "metadata": {},
   "outputs": [],
   "source": [
    "#| export\n",
    "def get_mrna_from_gene(\n",
    "        gene_sequence: str, \n",
    "        mrna_start: int, mrna_end: int, \n",
    "        intron_locations: list[tuple[int, int]],\n",
    "        bos_token: str = BOS_TOK,\n",
    "        eos_token: str = EOS_TOK,\n",
    "        intron_token: str = INTRON_TOK,\n",
    "        mrna_bos_token: str = MRNA_BOS_TOK,\n",
    "        mrna_eos_token: str = MRNA_EOS_TOK,\n",
    "        pad_token: str = NULL_TOK,\n",
    "        debug: bool = False) -> tuple[str, str]:\n",
    "    gene_sequence_length = len(gene_sequence)\n",
    "    start_pad_len = mrna_start - 1\n",
    "    end_pad_len = gene_sequence_length - mrna_end - 1\n",
    "    if debug:\n",
    "        print(\"MRNA START:\\t\", mrna_start)\n",
    "        print(\"MRNA END:\\t\", mrna_end)\n",
    "        print(\"GENE SEQUENCE LENGTH:\\t\", gene_sequence_length)\n",
    "        print(\"START PAD LENGTH:\\t\", start_pad_len)\n",
    "        print(\"END PAD LENGTH:\\t\", end_pad_len)\n",
    "    mrna = [mrna_bos_token] + list(gene_sequence[mrna_start: mrna_end + 1]) + [mrna_eos_token]\n",
    "    for intron_start, intron_end in intron_locations:\n",
    "        pre_intron = mrna[:intron_start]\n",
    "        post_intron = mrna[intron_end:]\n",
    "        intron_length = intron_end - intron_start\n",
    "        intron = [intron_token] * intron_length\n",
    "        mrna = pre_intron + intron + post_intron\n",
    "    if start_pad_len > 0:\n",
    "        start_pad = [bos_token] + ([pad_token] * start_pad_len)\n",
    "        mrna = start_pad + mrna\n",
    "    if end_pad_len > 0:\n",
    "        end_pad = ([pad_token] * end_pad_len) + [eos_token]\n",
    "        mrna = mrna + end_pad\n",
    "    gene = [bos_token] + list(gene_sequence) + [eos_token]\n",
    "    mrna = [n if n != \"T\" else \"U\" for n in mrna]\n",
    "    return gene, mrna"
   ]
  },
  {
   "cell_type": "code",
   "execution_count": 270,
   "metadata": {},
   "outputs": [
    {
     "name": "stdout",
     "output_type": "stream",
     "text": [
      "MRNA START:\t 1808\n",
      "MRNA END:\t 20652\n",
      "GENE SEQUENCE LENGTH:\t 20652\n",
      "START PAD LENGTH:\t 1807\n",
      "END PAD LENGTH:\t -1\n",
      "18844\n"
     ]
    },
    {
     "data": {
      "text/plain": [
       "(20654, 20654)"
      ]
     },
     "execution_count": 270,
     "metadata": {},
     "output_type": "execute_result"
    }
   ],
   "source": [
    "#| hide\n",
    "example_annotated_gene, example_annotated_mrna = get_mrna_from_gene(\n",
    "    example_gene_series.sequence,\n",
    "    example_intron.mrna_start, example_intron.mrna_end,\n",
    "    example_mrna_intron_locations,\n",
    "    debug=True\n",
    ")\n",
    "print(example_intron.mrna_end - example_intron.mrna_start)\n",
    "len(example_annotated_gene), len(example_annotated_mrna)"
   ]
  },
  {
   "cell_type": "code",
   "execution_count": 273,
   "metadata": {},
   "outputs": [
    {
     "data": {
      "text/plain": [
       "(list,\n",
       " 3539,\n",
       " 0,\n",
       " 0,\n",
       " ['<bos>', 'G', 'G', 'C', 'G'],\n",
       " ['C', 'C', 'T', 'G', '<eos>'])"
      ]
     },
     "execution_count": 273,
     "metadata": {},
     "output_type": "execute_result"
    }
   ],
   "source": [
    "#| hide\n",
    "type(example_annotated_gene), example_annotated_gene.count(\"T\"), example_annotated_gene.count(\"U\"), \\\n",
    "    example_annotated_gene.count(\"<intron>\"), example_annotated_gene[0:5], example_annotated_gene[-5:]"
   ]
  },
  {
   "cell_type": "code",
   "execution_count": 271,
   "metadata": {},
   "outputs": [
    {
     "data": {
      "text/plain": [
       "(list,\n",
       " 0,\n",
       " 385,\n",
       " 16287,\n",
       " ['<bos>', '<null>', '<null>', '<null>', '<null>'],\n",
       " ['C', 'C', 'U', 'G', '<mrna-eos>'])"
      ]
     },
     "execution_count": 271,
     "metadata": {},
     "output_type": "execute_result"
    }
   ],
   "source": [
    "#| hide\n",
    "type(example_annotated_mrna), example_annotated_mrna.count(\"T\"), example_annotated_mrna.count(\"U\"), \\\n",
    "    example_annotated_mrna.count(\"<intron>\"), example_annotated_mrna[0:5], example_annotated_mrna[-5:]"
   ]
  },
  {
   "cell_type": "markdown",
   "metadata": {},
   "source": [
    "## 2. Generate Training Instances\n",
    "\n",
    "When we train, we'll want to;\n",
    "- load training instances easily\n",
    "- ensure training instances are the same length\n",
    "- ensure the training instances are a sample of the dataset\n",
    "- ensure the sample is representative of the dataset\n"
   ]
  },
  {
   "cell_type": "code",
   "execution_count": 276,
   "metadata": {},
   "outputs": [
    {
     "data": {
      "text/plain": [
       "129045"
      ]
     },
     "execution_count": 276,
     "metadata": {},
     "output_type": "execute_result"
    }
   ],
   "source": [
    "#| hide\n",
    "intron_locations.transcriptid.unique().size"
   ]
  },
  {
   "cell_type": "code",
   "execution_count": 277,
   "metadata": {},
   "outputs": [],
   "source": [
    "#| hide\n",
    "import nbdev; nbdev.nbdev_export()"
   ]
  },
  {
   "cell_type": "code",
   "execution_count": null,
   "metadata": {},
   "outputs": [],
   "source": []
  }
 ],
 "metadata": {
  "kernelspec": {
   "display_name": "venv",
   "language": "python",
   "name": "python3"
  },
  "language_info": {
   "codemirror_mode": {
    "name": "ipython",
    "version": 3
   },
   "file_extension": ".py",
   "mimetype": "text/x-python",
   "name": "python",
   "nbconvert_exporter": "python",
   "pygments_lexer": "ipython3",
   "version": "3.10.6"
  },
  "orig_nbformat": 4
 },
 "nbformat": 4,
 "nbformat_minor": 2
}
