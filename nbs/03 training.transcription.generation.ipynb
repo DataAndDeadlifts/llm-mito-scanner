{
 "cells": [
  {
   "cell_type": "markdown",
   "metadata": {},
   "source": [
    "# Generating training instances from genomic dna, intron and mRNA positions.\n",
    "\n",
    "> Preparing training instances."
   ]
  },
  {
   "cell_type": "markdown",
   "metadata": {},
   "source": [
    "## Goals\n",
    "1. Get the \"edge\" of the intron and;\n",
    "    1. position the edge at the center, or forward or backward in a training string\n",
    "    2. Wherever the \"edge\" is, replace the gene sequence with the INTRON token on the target string\n",
    "2. Get the \"edge\" of the mRNA and;\n",
    "    1. position the edge at the center, or forward or backward in a training string\n",
    "    2. Wherever the \"edge\" is, replace the gene sequence with the NON-mRNA token on the target string\n",
    "3. Generate training instances that;\n",
    "    1. Include the \"edge\" of the intron with various shifting strategies\n",
    "    2. Exclude the \"edge\" of the intron and get transcribed mRNA\n",
    "    3. Include the \"edge\" of the mRNA with various shifting strategies"
   ]
  },
  {
   "cell_type": "code",
   "execution_count": 1,
   "metadata": {},
   "outputs": [],
   "source": [
    "#| default_exp training.transcription.generation"
   ]
  },
  {
   "cell_type": "markdown",
   "metadata": {},
   "source": [
    "## 0. Setup"
   ]
  },
  {
   "cell_type": "code",
   "execution_count": 6,
   "metadata": {},
   "outputs": [],
   "source": [
    "#| export\n",
    "from pathlib import Path\n",
    "import pandas as pd\n",
    "\n",
    "from llm_mito_scanner.data.download import load_config, \\\n",
    "    get_latest_assembly_path, get_genomic_genbank_path\n",
    "from llm_mito_scanner.training.transcription.index import get_intron_locations"
   ]
  },
  {
   "cell_type": "code",
   "execution_count": 3,
   "metadata": {},
   "outputs": [],
   "source": [
    "#| hide\n",
    "config = load_config()"
   ]
  },
  {
   "cell_type": "code",
   "execution_count": 4,
   "metadata": {},
   "outputs": [],
   "source": [
    "#| hide\n",
    "data_path = Path(config.get(\"data_path\"))\n",
    "data_raw_path = data_path / \"raw\"\n",
    "assemblies_path = data_raw_path / \"assemblies\"\n",
    "latest_assembly_path = get_latest_assembly_path(assemblies_path)\n",
    "genomic_genbank_path = get_genomic_genbank_path(latest_assembly_path)\n",
    "genes_path = latest_assembly_path / \"genes\"\n",
    "training_data_path = latest_assembly_path / \"training\"\n",
    "transcription_data_path = training_data_path / \"transcription\"\n",
    "intron_locations_path = transcription_data_path / \"intron_positions\"\n",
    "for p in [genes_path, intron_locations_path]:\n",
    "    if not p.exists():\n",
    "        raise FileNotFoundError(f\"This notebook requires the path {p.resolve()} to exist\")"
   ]
  },
  {
   "cell_type": "code",
   "execution_count": 5,
   "metadata": {},
   "outputs": [
    {
     "data": {
      "text/html": [
       "<div>\n",
       "<style scoped>\n",
       "    .dataframe tbody tr th:only-of-type {\n",
       "        vertical-align: middle;\n",
       "    }\n",
       "\n",
       "    .dataframe tbody tr th {\n",
       "        vertical-align: top;\n",
       "    }\n",
       "\n",
       "    .dataframe thead th {\n",
       "        text-align: right;\n",
       "    }\n",
       "</style>\n",
       "<table border=\"1\" class=\"dataframe\">\n",
       "  <thead>\n",
       "    <tr style=\"text-align: right;\">\n",
       "      <th></th>\n",
       "      <th>geneid</th>\n",
       "      <th>transcriptid</th>\n",
       "      <th>intron_start</th>\n",
       "      <th>intron_end</th>\n",
       "      <th>mrna_start</th>\n",
       "      <th>mrna_end</th>\n",
       "      <th>chromosome</th>\n",
       "    </tr>\n",
       "  </thead>\n",
       "  <tbody>\n",
       "    <tr>\n",
       "      <th>0</th>\n",
       "      <td>GeneID:79501</td>\n",
       "      <td>NM_001005484.2</td>\n",
       "      <td>15</td>\n",
       "      <td>101</td>\n",
       "      <td>0</td>\n",
       "      <td>6167</td>\n",
       "      <td>NC_000001.11</td>\n",
       "    </tr>\n",
       "    <tr>\n",
       "      <th>1</th>\n",
       "      <td>GeneID:79501</td>\n",
       "      <td>NM_001005484.2</td>\n",
       "      <td>155</td>\n",
       "      <td>3618</td>\n",
       "      <td>0</td>\n",
       "      <td>6167</td>\n",
       "      <td>NC_000001.11</td>\n",
       "    </tr>\n",
       "    <tr>\n",
       "      <th>2</th>\n",
       "      <td>GeneID:112268260</td>\n",
       "      <td>XM_047436352.1</td>\n",
       "      <td>186</td>\n",
       "      <td>547</td>\n",
       "      <td>0</td>\n",
       "      <td>17102</td>\n",
       "      <td>NC_000001.11</td>\n",
       "    </tr>\n",
       "    <tr>\n",
       "      <th>3</th>\n",
       "      <td>GeneID:112268260</td>\n",
       "      <td>XM_047436352.1</td>\n",
       "      <td>1339</td>\n",
       "      <td>2365</td>\n",
       "      <td>0</td>\n",
       "      <td>17102</td>\n",
       "      <td>NC_000001.11</td>\n",
       "    </tr>\n",
       "    <tr>\n",
       "      <th>4</th>\n",
       "      <td>GeneID:112268260</td>\n",
       "      <td>XM_047436352.1</td>\n",
       "      <td>2467</td>\n",
       "      <td>8912</td>\n",
       "      <td>0</td>\n",
       "      <td>17102</td>\n",
       "      <td>NC_000001.11</td>\n",
       "    </tr>\n",
       "  </tbody>\n",
       "</table>\n",
       "</div>"
      ],
      "text/plain": [
       "             geneid    transcriptid  intron_start  intron_end  mrna_start   \n",
       "0      GeneID:79501  NM_001005484.2            15         101           0  \\\n",
       "1      GeneID:79501  NM_001005484.2           155        3618           0   \n",
       "2  GeneID:112268260  XM_047436352.1           186         547           0   \n",
       "3  GeneID:112268260  XM_047436352.1          1339        2365           0   \n",
       "4  GeneID:112268260  XM_047436352.1          2467        8912           0   \n",
       "\n",
       "   mrna_end    chromosome  \n",
       "0      6167  NC_000001.11  \n",
       "1      6167  NC_000001.11  \n",
       "2     17102  NC_000001.11  \n",
       "3     17102  NC_000001.11  \n",
       "4     17102  NC_000001.11  "
      ]
     },
     "execution_count": 5,
     "metadata": {},
     "output_type": "execute_result"
    }
   ],
   "source": [
    "#| hide\n",
    "intron_locations = get_intron_locations(intron_locations_path)\n",
    "intron_locations.head()"
   ]
  },
  {
   "cell_type": "code",
   "execution_count": 28,
   "metadata": {},
   "outputs": [
    {
     "data": {
      "text/plain": [
       "('NC_000001.11', 'GeneID:79501')"
      ]
     },
     "execution_count": 28,
     "metadata": {},
     "output_type": "execute_result"
    }
   ],
   "source": [
    "#| hide\n",
    "example_intron = intron_locations.iloc[0, :]\n",
    "example_chromosome = example_intron.chromosome\n",
    "example_gene = example_intron.geneid\n",
    "example_chromosome, example_gene"
   ]
  },
  {
   "cell_type": "markdown",
   "metadata": {},
   "source": [
    "## 1. Intron Edge Sequence Generation"
   ]
  },
  {
   "cell_type": "code",
   "execution_count": 24,
   "metadata": {},
   "outputs": [],
   "source": [
    "#| export\n",
    "def get_gene_from_csv(chromosome_genes: Path, geneid: str) -> pd.Series:\n",
    "    with chromosome_genes.open(\"r\") as f:\n",
    "        header = next(f).replace(\"\\n\", \"\").split(\",\")\n",
    "        for row in f:\n",
    "            if row.startswith(geneid):\n",
    "                row_series = pd.Series(row.replace(\"\\n\", \"\").split(\",\"))\n",
    "                row_series.index = header\n",
    "                return row_series"
   ]
  },
  {
   "cell_type": "code",
   "execution_count": 29,
   "metadata": {},
   "outputs": [
    {
     "data": {
      "text/plain": [
       "geneid                                                      GeneID:79501\n",
       "sequence               CCCAGATCTCTTCAGGTACATCTAGTCCATTCATAAAGGGCTTTTA...\n",
       "pos_strand_position                                                65418\n",
       "neg_strand_position                                                71585\n",
       "dtype: object"
      ]
     },
     "execution_count": 29,
     "metadata": {},
     "output_type": "execute_result"
    }
   ],
   "source": [
    "#| hide\n",
    "example_gene_series = get_gene_from_csv(genes_path / f\"{example_chromosome}.csv\", example_gene)\n",
    "example_gene_series"
   ]
  },
  {
   "cell_type": "code",
   "execution_count": 35,
   "metadata": {},
   "outputs": [],
   "source": [
    "#| export\n",
    "def excise_gene_sequence(\n",
    "        chromosome: str,\n",
    "        genes_path: Path,\n",
    "        gene_id: str,\n",
    "        start_position: int,\n",
    "        length: int = 64\n",
    "        ) -> str:\n",
    "    # Read gene from chromosome file\n",
    "    # Get gene sequence from file\n",
    "    gene_series = get_gene_from_csv(genes_path / f\"{chromosome}.csv\", gene_id)\n",
    "    gene_sequence = gene_series.sequence\n",
    "    # Excise\n",
    "    seq_start = max(0, start_position)\n",
    "    seq_end = min(len(gene_sequence), start_position + length)\n",
    "    extracted_sequence = gene_sequence[seq_start: seq_end]\n",
    "    return extracted_sequence"
   ]
  },
  {
   "cell_type": "code",
   "execution_count": 38,
   "metadata": {},
   "outputs": [
    {
     "data": {
      "text/plain": [
       "(64, 47, 15)"
      ]
     },
     "execution_count": 38,
     "metadata": {},
     "output_type": "execute_result"
    }
   ],
   "source": [
    "#| hide\n",
    "example_intron_edge_left = excise_gene_sequence(\n",
    "    example_chromosome,\n",
    "    genes_path,\n",
    "    example_gene,\n",
    "    example_intron.intron_start, # offset by half the sequence size\n",
    "    64\n",
    ")\n",
    "example_intron_edge_middle = excise_gene_sequence(\n",
    "    example_chromosome,\n",
    "    genes_path,\n",
    "    example_gene,\n",
    "    example_intron.intron_start - 32, # offset by half the sequence size\n",
    "    64\n",
    ")\n",
    "example_intron_edge_right = excise_gene_sequence(\n",
    "    example_chromosome,\n",
    "    genes_path,\n",
    "    example_gene,\n",
    "    example_intron.intron_start - 64, # offset by half the sequence size\n",
    "    64\n",
    ")\n",
    "\n",
    "len(example_intron_edge_left), len(example_intron_edge_middle), len(example_intron_edge_right)"
   ]
  },
  {
   "cell_type": "markdown",
   "metadata": {},
   "source": [
    "## 2. mRNA Edge Sequence Generation"
   ]
  },
  {
   "cell_type": "code",
   "execution_count": null,
   "metadata": {},
   "outputs": [],
   "source": []
  },
  {
   "cell_type": "markdown",
   "metadata": {},
   "source": [
    "## 3. Generate Training Instances"
   ]
  },
  {
   "cell_type": "code",
   "execution_count": null,
   "metadata": {},
   "outputs": [],
   "source": []
  },
  {
   "cell_type": "code",
   "execution_count": 10,
   "metadata": {},
   "outputs": [],
   "source": [
    "#| hide\n",
    "import nbdev; nbdev.nbdev_export()"
   ]
  },
  {
   "cell_type": "code",
   "execution_count": null,
   "metadata": {},
   "outputs": [],
   "source": []
  }
 ],
 "metadata": {
  "kernelspec": {
   "display_name": "venv",
   "language": "python",
   "name": "python3"
  },
  "language_info": {
   "codemirror_mode": {
    "name": "ipython",
    "version": 3
   },
   "file_extension": ".py",
   "mimetype": "text/x-python",
   "name": "python",
   "nbconvert_exporter": "python",
   "pygments_lexer": "ipython3",
   "version": "3.10.6"
  },
  "orig_nbformat": 4
 },
 "nbformat": 4,
 "nbformat_minor": 2
}
