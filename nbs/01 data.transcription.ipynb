{
 "cells": [
  {
   "attachments": {},
   "cell_type": "markdown",
   "metadata": {},
   "source": [
    "# Making the Reference Genome more easily usable\n",
    "\n",
    "> Preparing genomic DNA for pre-training."
   ]
  },
  {
   "attachments": {},
   "cell_type": "markdown",
   "metadata": {},
   "source": [
    "## Notebook Goals\n",
    "\n",
    "Identify input and output sequences to train a transformer to transcribe DNA to mRNA.\n",
    "\n",
    "### Plan\n",
    "\n",
    "1. For each chromosome, identify genes and mRNA features\n",
    "2. Extract the input and output sequences for training our transformer, write to csv\n",
    "\n",
    "First we have to explore our data to figure out how to do this."
   ]
  },
  {
   "attachments": {},
   "cell_type": "markdown",
   "metadata": {},
   "source": [
    "### 0. Setup"
   ]
  },
  {
   "cell_type": "code",
   "execution_count": 15,
   "metadata": {},
   "outputs": [],
   "source": [
    "#| default_exp data.transcription"
   ]
  },
  {
   "cell_type": "code",
   "execution_count": 16,
   "metadata": {},
   "outputs": [],
   "source": [
    "#| hide\n",
    "from nbdev.showdoc import *"
   ]
  },
  {
   "cell_type": "code",
   "execution_count": 17,
   "metadata": {},
   "outputs": [],
   "source": [
    "#| export\n",
    "import os\n",
    "from pathlib import Path\n",
    "from Bio import SeqIO, SeqRecord, SeqFeature\n",
    "from Bio.SeqFeature import FeatureLocation\n",
    "from tqdm.auto import tqdm\n",
    "import numpy as np\n",
    "import pandas as pd\n",
    "import typing\n",
    "from tqdm.notebook import tqdm\n",
    "\n",
    "from llm_mito_scanner.data.download import load_config, \\\n",
    "    get_latest_assembly_path, get_genomic_genbank_path"
   ]
  },
  {
   "cell_type": "code",
   "execution_count": 18,
   "metadata": {},
   "outputs": [],
   "source": [
    "#| hide\n",
    "config = load_config()"
   ]
  },
  {
   "cell_type": "code",
   "execution_count": 34,
   "metadata": {},
   "outputs": [],
   "source": [
    "#| hide\n",
    "data_path = Path(config.get(\"data_path\"))\n",
    "data_raw_path = data_path / \"raw\"\n",
    "assemblies_path = data_raw_path / \"assemblies\"\n",
    "latest_assembly_path = get_latest_assembly_path(assemblies_path)\n",
    "genomic_genbank_path = get_genomic_genbank_path(latest_assembly_path)\n",
    "chromosomes_path = latest_assembly_path / \"chromosomes\"\n",
    "training_data_path = latest_assembly_path / \"training\"\n",
    "transcription_data_path = training_data_path / \"transcription\"\n",
    "if not transcription_data_path.exists():\n",
    "    transcription_data_path.mkdir(parents=True)"
   ]
  },
  {
   "attachments": {},
   "cell_type": "markdown",
   "metadata": {},
   "source": [
    "### 1. For each chromosome identify gene and mRNA features."
   ]
  },
  {
   "cell_type": "code",
   "execution_count": 20,
   "metadata": {},
   "outputs": [
    {
     "data": {
      "text/plain": [
       "Path('/mnt/e/Data/llm-mito-scanner-data/data/raw/assemblies/GCF_000001405.40_GRCh38.p14/chromosomes/NC_000001.11.gb')"
      ]
     },
     "execution_count": 20,
     "metadata": {},
     "output_type": "execute_result"
    }
   ],
   "source": [
    "#| hide\n",
    "sample_chromosome_path = next(chromosomes_path.glob(\"*.gb\"))\n",
    "sample_chromosome_path"
   ]
  },
  {
   "cell_type": "code",
   "execution_count": 21,
   "metadata": {},
   "outputs": [
    {
     "data": {
      "text/plain": [
       "SeqRecord(seq=Seq('NNNNNNNNNNNNNNNNNNNNNNNNNNNNNNNNNNNNNNNNNNNNNNNNNNNNNN...NNN'), id='NC_000001.11', name='NC_000001', description='Homo sapiens chromosome 1, GRCh38.p14 Primary Assembly', dbxrefs=['BioProject:PRJNA168', 'Assembly:GCF_000001405.40'])"
      ]
     },
     "execution_count": 21,
     "metadata": {},
     "output_type": "execute_result"
    }
   ],
   "source": [
    "#| hide\n",
    "with sample_chromosome_path.open(\"rt\") as f:\n",
    "    sample_chromosome = next(SeqIO.parse(f, \"genbank\"), None)\n",
    "sample_chromosome"
   ]
  },
  {
   "cell_type": "code",
   "execution_count": 22,
   "metadata": {},
   "outputs": [
    {
     "data": {
      "text/plain": [
       "51489"
      ]
     },
     "execution_count": 22,
     "metadata": {},
     "output_type": "execute_result"
    }
   ],
   "source": [
    "#| hide\n",
    "len(sample_chromosome.features)"
   ]
  },
  {
   "cell_type": "code",
   "execution_count": 23,
   "metadata": {},
   "outputs": [],
   "source": [
    "#| hide\n",
    "sample_chromosome_feature_gene = None\n",
    "sample_chromosome_feature_mrna = None\n",
    "for f in sample_chromosome.features:\n",
    "    if f.type == \"gene\":\n",
    "        sample_chromosome_feature_gene = f\n",
    "    if f.type == 'mRNA':\n",
    "        sample_chromosome_feature_mrna = f\n",
    "    if sample_chromosome_feature_gene is not None and sample_chromosome_feature_mrna is not None:\n",
    "        break"
   ]
  },
  {
   "cell_type": "code",
   "execution_count": 24,
   "metadata": {},
   "outputs": [
    {
     "data": {
      "text/plain": [
       "{'location': SimpleLocation(ExactPosition(65418), ExactPosition(71585), strand=1),\n",
       " 'type': 'gene',\n",
       " 'id': '<unknown id>',\n",
       " 'qualifiers': {'gene': ['OR4F5'],\n",
       "  'note': ['olfactory receptor family 4 subfamily F member 5; Derived by automated computational analysis using gene prediction method: BestRefSeq.'],\n",
       "  'db_xref': ['GeneID:79501', 'HGNC:HGNC:14825']}}"
      ]
     },
     "execution_count": 24,
     "metadata": {},
     "output_type": "execute_result"
    }
   ],
   "source": [
    "#| hide\n",
    "sample_chromosome_feature_gene.__dict__"
   ]
  },
  {
   "cell_type": "code",
   "execution_count": 25,
   "metadata": {},
   "outputs": [
    {
     "data": {
      "text/plain": [
       "{'location': CompoundLocation([SimpleLocation(ExactPosition(65418), ExactPosition(65433), strand=1), SimpleLocation(ExactPosition(65519), ExactPosition(65573), strand=1), SimpleLocation(ExactPosition(69036), ExactPosition(71585), strand=1)], 'join'),\n",
       " 'type': 'mRNA',\n",
       " 'id': '<unknown id>',\n",
       " 'qualifiers': {'gene': ['OR4F5'],\n",
       "  'product': ['olfactory receptor family 4 subfamily F member 5'],\n",
       "  'note': ['Derived by automated computational analysis using gene prediction method: BestRefSeq.'],\n",
       "  'transcript_id': ['NM_001005484.2'],\n",
       "  'db_xref': ['Ensembl:ENST00000641515.2', 'GeneID:79501', 'HGNC:HGNC:14825']}}"
      ]
     },
     "execution_count": 25,
     "metadata": {},
     "output_type": "execute_result"
    }
   ],
   "source": [
    "#| hide\n",
    "sample_chromosome_feature_mrna.__dict__"
   ]
  },
  {
   "cell_type": "code",
   "execution_count": 26,
   "metadata": {},
   "outputs": [],
   "source": [
    "#| export\n",
    "def get_feature_qualifiers(feature: SeqFeature) -> typing.Dict[str, typing.Any]:\n",
    "    return getattr(feature, \"qualifiers\", None)\n",
    "\n",
    "\n",
    "def get_feature_dbxrefs(feature: SeqFeature):\n",
    "    feature_qualifiers = get_feature_qualifiers(feature)\n",
    "    if feature_qualifiers is None:\n",
    "        return None\n",
    "    feature_dbxrefs = feature_qualifiers.get(\"db_xref\", None)\n",
    "    return feature_dbxrefs\n",
    "\n",
    "\n",
    "def get_feature_dbxref_xref(feature: SeqFeature, prefix: str):\n",
    "    feature_dbxrefs = get_feature_dbxrefs(feature)\n",
    "    if feature_dbxrefs is None:\n",
    "        return None\n",
    "    tag_db_xref = next(iter([x for x in feature_dbxrefs if x.startswith(prefix)]), None)\n",
    "    return tag_db_xref\n",
    "\n",
    "\n",
    "def get_feature_geneid(feature: SeqFeature):\n",
    "    return get_feature_dbxref_xref(feature, \"GeneID\")\n",
    "\n",
    "\n",
    "def get_feature_transcript_id(feature: SeqFeature):\n",
    "    return next(iter(get_feature_qualifiers(feature).get(\"transcript_id\", [])), None)"
   ]
  },
  {
   "cell_type": "code",
   "execution_count": 27,
   "metadata": {},
   "outputs": [
    {
     "data": {
      "text/plain": [
       "'GeneID:79501'"
      ]
     },
     "execution_count": 27,
     "metadata": {},
     "output_type": "execute_result"
    }
   ],
   "source": [
    "#| hide\n",
    "get_feature_geneid(sample_chromosome_feature_mrna)"
   ]
  },
  {
   "attachments": {},
   "cell_type": "markdown",
   "metadata": {},
   "source": [
    "#### 1.1 Plan\n",
    "\n",
    "Our strategy will be;\n",
    "\n",
    "1. Read through the features, collect every gene and mRNA feature\n",
    "2. Identify for every gene the child mRNA, write to disk\n",
    "3. Shard gene, mRNA pairs by chromosome\n",
    "4. Within each shard\n",
    "    1. Read the chromosome\n",
    "    2. Extract input DNA sequence from gene\n",
    "    3. Extract mRNA sequence\n",
    "    4. Fill gaps in mRNA sequence with intron tokens\n",
    "    5. Write to disc in csv"
   ]
  },
  {
   "attachments": {},
   "cell_type": "markdown",
   "metadata": {},
   "source": [
    "#### 1.1.1 Collect gene and mRNA features"
   ]
  },
  {
   "cell_type": "code",
   "execution_count": 28,
   "metadata": {},
   "outputs": [],
   "source": [
    "#| export\n",
    "def get_gene_and_mrna_features(record: SeqRecord):\n",
    "    gene_features = []\n",
    "    mrna_features = []\n",
    "    for i, f in enumerate(record.features):\n",
    "        if f.type == \"gene\":\n",
    "            gene_features.append((i, f))\n",
    "        elif f.type == \"mRNA\":\n",
    "            mrna_features.append((i, f))\n",
    "    return gene_features, mrna_features"
   ]
  },
  {
   "cell_type": "code",
   "execution_count": 29,
   "metadata": {},
   "outputs": [
    {
     "data": {
      "text/plain": [
       "(5501, 12841)"
      ]
     },
     "execution_count": 29,
     "metadata": {},
     "output_type": "execute_result"
    }
   ],
   "source": [
    "#| hide\n",
    "gene_features, mrna_features = get_gene_and_mrna_features(sample_chromosome)\n",
    "len(gene_features), len(mrna_features)"
   ]
  },
  {
   "cell_type": "code",
   "execution_count": 30,
   "metadata": {},
   "outputs": [
    {
     "data": {
      "text/plain": [
       "((2,\n",
       "  SeqFeature(SimpleLocation(ExactPosition(11873), ExactPosition(14409), strand=1), type='gene', qualifiers=...)),\n",
       " (22,\n",
       "  SeqFeature(CompoundLocation([SimpleLocation(ExactPosition(65418), ExactPosition(65433), strand=1), SimpleLocation(ExactPosition(65519), ExactPosition(65573), strand=1), SimpleLocation(ExactPosition(69036), ExactPosition(71585), strand=1)], 'join'), type='mRNA', location_operator='join', qualifiers=...)))"
      ]
     },
     "execution_count": 30,
     "metadata": {},
     "output_type": "execute_result"
    }
   ],
   "source": [
    "#| hide\n",
    "gene_features[0], mrna_features[0]"
   ]
  },
  {
   "attachments": {},
   "cell_type": "markdown",
   "metadata": {},
   "source": [
    "#### 1.1.2 Identify gene to mRNA feature relationships"
   ]
  },
  {
   "cell_type": "code",
   "execution_count": 31,
   "metadata": {},
   "outputs": [],
   "source": [
    "#| export\n",
    "def get_gene_and_mrna_relationships(\n",
    "        gene_features,\n",
    "        mrna_features\n",
    "        ) -> list[typing.Tuple[int, int]]:\n",
    "    \"\"\n",
    "    relationships = []\n",
    "    gene_index = {get_feature_geneid(f): i for i, f in gene_features}\n",
    "    for i, f in mrna_features:\n",
    "        f_gene_id = get_feature_geneid(f)\n",
    "        f_gene_idx = gene_index.get(f_gene_id, None)\n",
    "        if f_gene_idx is not None:\n",
    "            relationships.append((i, f_gene_idx))\n",
    "    return relationships"
   ]
  },
  {
   "cell_type": "code",
   "execution_count": 32,
   "metadata": {},
   "outputs": [
    {
     "data": {
      "text/plain": [
       "(12841, (22, 21))"
      ]
     },
     "execution_count": 32,
     "metadata": {},
     "output_type": "execute_result"
    }
   ],
   "source": [
    "#| hide\n",
    "mrna_to_protein_relationships = get_gene_and_mrna_relationships(\n",
    "    gene_features, mrna_features\n",
    ")\n",
    "len(mrna_to_protein_relationships), mrna_to_protein_relationships[0]"
   ]
  },
  {
   "cell_type": "code",
   "execution_count": 33,
   "metadata": {},
   "outputs": [
    {
     "data": {
      "text/plain": [
       "(22, 21)"
      ]
     },
     "execution_count": 33,
     "metadata": {},
     "output_type": "execute_result"
    }
   ],
   "source": [
    "#| hide\n",
    "mrna_to_protein_relationships[0]"
   ]
  },
  {
   "cell_type": "code",
   "execution_count": 38,
   "metadata": {},
   "outputs": [],
   "source": [
    "#| hide\n",
    "relationship_df = pd.DataFrame(mrna_to_protein_relationships, columns=['feature_idx_mrna', 'feature_idx_gene'])\n",
    "relationship_df.loc[:, 'chromosome'] = sample_chromosome_path.stem\n",
    "relationship_df.to_csv(transcription_data_path / \"relationships.csv\", index=False)"
   ]
  },
  {
   "cell_type": "code",
   "execution_count": 62,
   "metadata": {},
   "outputs": [],
   "source": [
    "#| export\n",
    "def extract_all_relationships(assembly_path: Path):\n",
    "    chromosomes_path = assembly_path / \"chromosomes\"\n",
    "    training_data_path = assembly_path / \"training\"\n",
    "    transcription_data_path = training_data_path / \"transcription\"\n",
    "    relationships_path = transcription_data_path / \"mrna_to_protein_feature_idx\"\n",
    "\n",
    "    if not relationships_path.exists():\n",
    "        relationships_path.mkdir(parents=True)\n",
    "\n",
    "    chromosome_files = list(chromosomes_path.glob(\"*.gb\"))\n",
    "\n",
    "    for chromosome_path in tqdm(chromosome_files, leave=False, ncols=80):\n",
    "        with chromosome_path.open(\"rt\") as f:\n",
    "            chromosome_seq_record = next(SeqIO.parse(f, \"genbank\"), None)\n",
    "        gene_features, mrna_features = get_gene_and_mrna_features(chromosome_seq_record)\n",
    "        chromosome_mrna_to_protein_relationships = get_gene_and_mrna_relationships(\n",
    "            gene_features, mrna_features\n",
    "        )\n",
    "        if len(chromosome_mrna_to_protein_relationships) > 0:\n",
    "            relationship_df = pd.DataFrame(chromosome_mrna_to_protein_relationships, columns=['feature_idx_mrna', 'feature_idx_gene'])\n",
    "            relationship_df.loc[:, 'chromosome'] = chromosome_path.stem\n",
    "            chromosome_relationship_path = relationships_path / f\"{chromosome_path.stem}.csv\"\n",
    "            relationship_df.to_csv(chromosome_relationship_path, index=False)\n"
   ]
  },
  {
   "attachments": {},
   "cell_type": "markdown",
   "metadata": {},
   "source": [
    "#### 1.1.3 Shard relationships"
   ]
  },
  {
   "cell_type": "code",
   "execution_count": 68,
   "metadata": {},
   "outputs": [],
   "source": [
    "#| export\n",
    "def get_all_relationships(assembly_path: Path):\n",
    "    training_data_path = assembly_path / \"training\"\n",
    "    transcription_data_path = training_data_path / \"transcription\"\n",
    "    relationships_path = transcription_data_path / \"mrna_to_protein_feature_idx\"\n",
    "    all_relationships = pd.concat(\n",
    "        [pd.read_csv(path) for path in relationships_path.glob(\"*.csv\")],\n",
    "        axis=0,\n",
    "        ignore_index=True\n",
    "    ).drop_duplicates()\n",
    "    return all_relationships\n",
    "\n",
    "\n",
    "def shard_relationships(relationship_df: pd.DataFrame, shard_count: int = os.cpu_count() - 1):\n",
    "    return np.array_split(relationship_df, shard_count)"
   ]
  },
  {
   "cell_type": "code",
   "execution_count": 70,
   "metadata": {},
   "outputs": [
    {
     "data": {
      "text/html": [
       "<div>\n",
       "<style scoped>\n",
       "    .dataframe tbody tr th:only-of-type {\n",
       "        vertical-align: middle;\n",
       "    }\n",
       "\n",
       "    .dataframe tbody tr th {\n",
       "        vertical-align: top;\n",
       "    }\n",
       "\n",
       "    .dataframe thead th {\n",
       "        text-align: right;\n",
       "    }\n",
       "</style>\n",
       "<table border=\"1\" class=\"dataframe\">\n",
       "  <thead>\n",
       "    <tr style=\"text-align: right;\">\n",
       "      <th></th>\n",
       "      <th>feature_idx_mrna</th>\n",
       "      <th>feature_idx_gene</th>\n",
       "      <th>chromosome</th>\n",
       "    </tr>\n",
       "  </thead>\n",
       "  <tbody>\n",
       "    <tr>\n",
       "      <th>0</th>\n",
       "      <td>22</td>\n",
       "      <td>21</td>\n",
       "      <td>NC_000001.11</td>\n",
       "    </tr>\n",
       "    <tr>\n",
       "      <th>1</th>\n",
       "      <td>80</td>\n",
       "      <td>79</td>\n",
       "      <td>NC_000001.11</td>\n",
       "    </tr>\n",
       "    <tr>\n",
       "      <th>2</th>\n",
       "      <td>85</td>\n",
       "      <td>84</td>\n",
       "      <td>NC_000001.11</td>\n",
       "    </tr>\n",
       "    <tr>\n",
       "      <th>3</th>\n",
       "      <td>96</td>\n",
       "      <td>95</td>\n",
       "      <td>NC_000001.11</td>\n",
       "    </tr>\n",
       "    <tr>\n",
       "      <th>4</th>\n",
       "      <td>126</td>\n",
       "      <td>125</td>\n",
       "      <td>NC_000001.11</td>\n",
       "    </tr>\n",
       "  </tbody>\n",
       "</table>\n",
       "</div>"
      ],
      "text/plain": [
       "   feature_idx_mrna  feature_idx_gene    chromosome\n",
       "0                22                21  NC_000001.11\n",
       "1                80                79  NC_000001.11\n",
       "2                85                84  NC_000001.11\n",
       "3                96                95  NC_000001.11\n",
       "4               126               125  NC_000001.11"
      ]
     },
     "execution_count": 70,
     "metadata": {},
     "output_type": "execute_result"
    }
   ],
   "source": [
    "#| hide\n",
    "all_relationships = get_all_relationships(latest_assembly_path)\n",
    "all_relationships.head()"
   ]
  },
  {
   "cell_type": "code",
   "execution_count": 71,
   "metadata": {},
   "outputs": [
    {
     "data": {
      "text/plain": [
       "chromosome\n",
       "NC_000001.11    12841\n",
       "NC_000002.12     9518\n",
       "NC_000003.12     8490\n",
       "NC_000019.10     7521\n",
       "NC_000011.10     7519\n",
       "NC_000017.11     7329\n",
       "NC_000012.12     7287\n",
       "NC_000006.12     6155\n",
       "NC_000010.11     6151\n",
       "NC_000007.14     5905\n",
       "NC_000005.10     5561\n",
       "NC_000009.12     5504\n",
       "NC_000004.12     5351\n",
       "NC_000016.10     5235\n",
       "NC_000008.11     4964\n",
       "NC_000023.11     4296\n",
       "NC_000015.10     4255\n",
       "NC_000014.9      3959\n",
       "NC_000020.11     3089\n",
       "NC_000022.11     2721\n",
       "NC_000018.10     2521\n",
       "NC_000013.11     2471\n",
       "NC_000021.9      1411\n",
       "NC_000024.10      366\n",
       "Name: count, dtype: int64"
      ]
     },
     "execution_count": 71,
     "metadata": {},
     "output_type": "execute_result"
    }
   ],
   "source": [
    "#| hide\n",
    "all_relationships.chromosome.value_counts()"
   ]
  },
  {
   "cell_type": "code",
   "execution_count": 72,
   "metadata": {},
   "outputs": [
    {
     "data": {
      "text/html": [
       "<div>\n",
       "<style scoped>\n",
       "    .dataframe tbody tr th:only-of-type {\n",
       "        vertical-align: middle;\n",
       "    }\n",
       "\n",
       "    .dataframe tbody tr th {\n",
       "        vertical-align: top;\n",
       "    }\n",
       "\n",
       "    .dataframe thead th {\n",
       "        text-align: right;\n",
       "    }\n",
       "</style>\n",
       "<table border=\"1\" class=\"dataframe\">\n",
       "  <thead>\n",
       "    <tr style=\"text-align: right;\">\n",
       "      <th></th>\n",
       "      <th>feature_idx_mrna</th>\n",
       "      <th>feature_idx_gene</th>\n",
       "      <th>chromosome</th>\n",
       "    </tr>\n",
       "  </thead>\n",
       "  <tbody>\n",
       "    <tr>\n",
       "      <th>0</th>\n",
       "      <td>22</td>\n",
       "      <td>21</td>\n",
       "      <td>NC_000001.11</td>\n",
       "    </tr>\n",
       "    <tr>\n",
       "      <th>1</th>\n",
       "      <td>80</td>\n",
       "      <td>79</td>\n",
       "      <td>NC_000001.11</td>\n",
       "    </tr>\n",
       "    <tr>\n",
       "      <th>2</th>\n",
       "      <td>85</td>\n",
       "      <td>84</td>\n",
       "      <td>NC_000001.11</td>\n",
       "    </tr>\n",
       "    <tr>\n",
       "      <th>3</th>\n",
       "      <td>96</td>\n",
       "      <td>95</td>\n",
       "      <td>NC_000001.11</td>\n",
       "    </tr>\n",
       "    <tr>\n",
       "      <th>4</th>\n",
       "      <td>126</td>\n",
       "      <td>125</td>\n",
       "      <td>NC_000001.11</td>\n",
       "    </tr>\n",
       "  </tbody>\n",
       "</table>\n",
       "</div>"
      ],
      "text/plain": [
       "   feature_idx_mrna  feature_idx_gene    chromosome\n",
       "0                22                21  NC_000001.11\n",
       "1                80                79  NC_000001.11\n",
       "2                85                84  NC_000001.11\n",
       "3                96                95  NC_000001.11\n",
       "4               126               125  NC_000001.11"
      ]
     },
     "execution_count": 72,
     "metadata": {},
     "output_type": "execute_result"
    }
   ],
   "source": [
    "#| hide\n",
    "shards = shard_relationships(all_relationships)\n",
    "shards[0].head()"
   ]
  },
  {
   "attachments": {},
   "cell_type": "markdown",
   "metadata": {},
   "source": [
    "### 2. Process Relationships\n",
    "\n",
    "\n",
    "For every relationship:\n",
    "1. Extract input DNA sequence from gene\n",
    "2. Extract mRNA sequence\n",
    "3. Fill gaps in mRNA sequence with intron tokens"
   ]
  },
  {
   "cell_type": "code",
   "execution_count": 74,
   "metadata": {},
   "outputs": [],
   "source": [
    "#| export\n",
    "def process_gene_mrna_pair(\n",
    "        chromosome: SeqRecord,\n",
    "        feature_gene_idx: int, \n",
    "        feature_mrna_idx: int,\n",
    "        intron_token: str = \"<intron>\"\n",
    "        ) -> pd.Series:\n",
    "    feature_gene = chromosome.features[feature_gene_idx]\n",
    "    feature_mrna = chromosome.features[feature_mrna_idx]\n",
    "    # Get gene sequence\n",
    "    gene_sequence = feature_gene.extract(chromosome)\n",
    "    # Get mRNA locations\n",
    "    mrna_locations = feature_mrna.location.parts\n",
    "    if feature_mrna.strand != 1:\n",
    "        mrna_locations = mrna_locations[::-1]\n",
    "    # Use mRNA locations to identify intron sections\n",
    "    mrna_sequence = []\n",
    "    last_end = None\n",
    "    for part in mrna_locations:\n",
    "        start = int(part.start)\n",
    "        end = int(part.end)\n",
    "        if last_end is not None:\n",
    "            # Add intron to sequence\n",
    "            intron_size = start - last_end\n",
    "            intron_tokens = [intron_token] * intron_size\n",
    "            mrna_sequence = mrna_sequence + intron_tokens\n",
    "        # Add part sequence\n",
    "        part_sequence = list(str(part.extract(chromosome).seq))\n",
    "        if mrna_sequence is None:\n",
    "            mrna_sequence = part_sequence\n",
    "        else:\n",
    "            mrna_sequence = mrna_sequence + part_sequence\n",
    "        last_end = end\n",
    "    # Inject intron sections into the mRNA sequence\n",
    "    # Make series\n",
    "    pair = pd.Series()\n",
    "    pair.at[\"gene\"] = \",\".join(gene_sequence.seq)\n",
    "    pair.at[\"mrna\"] = \",\".join(mrna_sequence)\n",
    "    return pair"
   ]
  },
  {
   "cell_type": "code",
   "execution_count": 75,
   "metadata": {},
   "outputs": [
    {
     "data": {
      "text/html": [
       "<div>\n",
       "<style scoped>\n",
       "    .dataframe tbody tr th:only-of-type {\n",
       "        vertical-align: middle;\n",
       "    }\n",
       "\n",
       "    .dataframe tbody tr th {\n",
       "        vertical-align: top;\n",
       "    }\n",
       "\n",
       "    .dataframe thead th {\n",
       "        text-align: right;\n",
       "    }\n",
       "</style>\n",
       "<table border=\"1\" class=\"dataframe\">\n",
       "  <thead>\n",
       "    <tr style=\"text-align: right;\">\n",
       "      <th></th>\n",
       "      <th>feature_idx_mrna</th>\n",
       "      <th>feature_idx_gene</th>\n",
       "      <th>chromosome</th>\n",
       "    </tr>\n",
       "  </thead>\n",
       "  <tbody>\n",
       "    <tr>\n",
       "      <th>0</th>\n",
       "      <td>22</td>\n",
       "      <td>21</td>\n",
       "      <td>NC_000001.11</td>\n",
       "    </tr>\n",
       "    <tr>\n",
       "      <th>1</th>\n",
       "      <td>80</td>\n",
       "      <td>79</td>\n",
       "      <td>NC_000001.11</td>\n",
       "    </tr>\n",
       "    <tr>\n",
       "      <th>2</th>\n",
       "      <td>85</td>\n",
       "      <td>84</td>\n",
       "      <td>NC_000001.11</td>\n",
       "    </tr>\n",
       "    <tr>\n",
       "      <th>3</th>\n",
       "      <td>96</td>\n",
       "      <td>95</td>\n",
       "      <td>NC_000001.11</td>\n",
       "    </tr>\n",
       "    <tr>\n",
       "      <th>4</th>\n",
       "      <td>126</td>\n",
       "      <td>125</td>\n",
       "      <td>NC_000001.11</td>\n",
       "    </tr>\n",
       "  </tbody>\n",
       "</table>\n",
       "</div>"
      ],
      "text/plain": [
       "   feature_idx_mrna  feature_idx_gene    chromosome\n",
       "0                22                21  NC_000001.11\n",
       "1                80                79  NC_000001.11\n",
       "2                85                84  NC_000001.11\n",
       "3                96                95  NC_000001.11\n",
       "4               126               125  NC_000001.11"
      ]
     },
     "execution_count": 75,
     "metadata": {},
     "output_type": "execute_result"
    }
   ],
   "source": [
    "#| hide\n",
    "all_relationships.head()"
   ]
  },
  {
   "cell_type": "code",
   "execution_count": 76,
   "metadata": {},
   "outputs": [
    {
     "data": {
      "text/plain": [
       "gene    C,C,C,A,G,A,T,C,T,C,T,T,C,A,G,G,T,A,C,A,T,C,T,...\n",
       "mrna    C,C,C,A,G,A,T,C,T,C,T,T,C,A,G,<intron>,<intron...\n",
       "dtype: object"
      ]
     },
     "execution_count": 76,
     "metadata": {},
     "output_type": "execute_result"
    }
   ],
   "source": [
    "#| hide\n",
    "process_gene_mrna_pair(\n",
    "    sample_chromosome, \n",
    "    21,\n",
    "    22\n",
    "    )"
   ]
  },
  {
   "attachments": {},
   "cell_type": "markdown",
   "metadata": {},
   "source": [
    "Lets bring this into a script so we can leverage proper processing."
   ]
  },
  {
   "cell_type": "code",
   "execution_count": 29,
   "metadata": {},
   "outputs": [],
   "source": [
    "#| hide\n",
    "import nbdev; nbdev.nbdev_export()"
   ]
  },
  {
   "cell_type": "code",
   "execution_count": null,
   "metadata": {},
   "outputs": [],
   "source": []
  }
 ],
 "metadata": {
  "kernelspec": {
   "display_name": "python3",
   "language": "python",
   "name": "python3"
  },
  "language_info": {
   "codemirror_mode": {
    "name": "ipython",
    "version": 3
   },
   "file_extension": ".py",
   "mimetype": "text/x-python",
   "name": "python",
   "nbconvert_exporter": "python",
   "pygments_lexer": "ipython3",
   "version": "3.10.6"
  }
 },
 "nbformat": 4,
 "nbformat_minor": 4
}
