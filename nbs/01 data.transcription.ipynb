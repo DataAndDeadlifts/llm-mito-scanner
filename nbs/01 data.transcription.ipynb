{
 "cells": [
  {
   "attachments": {},
   "cell_type": "markdown",
   "metadata": {},
   "source": [
    "# Making the Reference Genome more easily usable\n",
    "\n",
    "> Preparing genomic DNA for pre-training."
   ]
  },
  {
   "attachments": {},
   "cell_type": "markdown",
   "metadata": {},
   "source": [
    "## Notebook Goals\n",
    "\n",
    "Identify input and output sequences to train a transformer to transcribe DNA to mRNA.\n",
    "\n",
    "### Plan\n",
    "\n",
    "1. For each chromosome, identify genes and mRNA features\n",
    "2. Extract the input and output sequences for training our transformer, write to csv\n",
    "\n",
    "First we have to explore our data to figure out how to do this."
   ]
  },
  {
   "attachments": {},
   "cell_type": "markdown",
   "metadata": {},
   "source": [
    "### 0. Setup"
   ]
  },
  {
   "cell_type": "code",
   "execution_count": 2,
   "metadata": {},
   "outputs": [],
   "source": [
    "#| default_exp data.transcription"
   ]
  },
  {
   "cell_type": "code",
   "execution_count": 3,
   "metadata": {},
   "outputs": [],
   "source": [
    "#| hide\n",
    "from nbdev.showdoc import *"
   ]
  },
  {
   "cell_type": "code",
   "execution_count": 4,
   "metadata": {},
   "outputs": [
    {
     "name": "stderr",
     "output_type": "stream",
     "text": [
      "/home/jdb/projects/llm-mito-scanner/venv/lib/python3.10/site-packages/Bio/__init__.py:138: BiopythonWarning: You may be importing Biopython from inside the source tree. This is bad practice and might lead to downstream issues. In particular, you might encounter ImportErrors due to missing compiled C extensions. We recommend that you try running your code from outside the source tree. If you are outside the source tree then you have a setup.py file in an unexpected directory: /home/jdb/projects/llm-mito-scanner/venv/lib/python3.10/site-packages\n",
      "  warnings.warn(\n"
     ]
    }
   ],
   "source": [
    "#| export\n",
    "import os\n",
    "from pathlib import Path\n",
    "from Bio import SeqIO, SeqRecord, SeqFeature\n",
    "from Bio.SeqFeature import FeatureLocation\n",
    "from tqdm.auto import tqdm\n",
    "import numpy as np\n",
    "import pandas as pd\n",
    "import typing\n",
    "from tqdm.notebook import tqdm\n",
    "\n",
    "from llm_mito_scanner.data.download import load_config, \\\n",
    "    get_latest_assembly_path, get_genomic_genbank_path"
   ]
  },
  {
   "cell_type": "code",
   "execution_count": 5,
   "metadata": {},
   "outputs": [],
   "source": [
    "#| hide\n",
    "config = load_config()"
   ]
  },
  {
   "cell_type": "code",
   "execution_count": 6,
   "metadata": {},
   "outputs": [],
   "source": [
    "#| hide\n",
    "data_path = Path(config.get(\"data_path\"))\n",
    "data_raw_path = data_path / \"raw\"\n",
    "assemblies_path = data_raw_path / \"assemblies\"\n",
    "latest_assembly_path = get_latest_assembly_path(assemblies_path)\n",
    "genomic_genbank_path = get_genomic_genbank_path(latest_assembly_path)\n",
    "chromosomes_path = latest_assembly_path / \"chromosomes\""
   ]
  },
  {
   "attachments": {},
   "cell_type": "markdown",
   "metadata": {},
   "source": [
    "### 1. For each chromosome identify gene and mRNA features."
   ]
  },
  {
   "cell_type": "code",
   "execution_count": 7,
   "metadata": {},
   "outputs": [
    {
     "data": {
      "text/plain": [
       "Path('/mnt/e/Data/llm-mito-scanner-data/data/raw/assemblies/GCF_000001405.40_GRCh38.p14/chromosomes/NC_000001.11.gb')"
      ]
     },
     "execution_count": 7,
     "metadata": {},
     "output_type": "execute_result"
    }
   ],
   "source": [
    "#| hide\n",
    "sample_chromosome_path = next(chromosomes_path.glob(\"*.gb\"))\n",
    "sample_chromosome_path"
   ]
  },
  {
   "cell_type": "code",
   "execution_count": 8,
   "metadata": {},
   "outputs": [
    {
     "data": {
      "text/plain": [
       "SeqRecord(seq=Seq('NNNNNNNNNNNNNNNNNNNNNNNNNNNNNNNNNNNNNNNNNNNNNNNNNNNNNN...NNN'), id='NC_000001.11', name='NC_000001', description='Homo sapiens chromosome 1, GRCh38.p14 Primary Assembly', dbxrefs=['BioProject:PRJNA168', 'Assembly:GCF_000001405.40'])"
      ]
     },
     "execution_count": 8,
     "metadata": {},
     "output_type": "execute_result"
    }
   ],
   "source": [
    "#| hide\n",
    "with sample_chromosome_path.open(\"rt\") as f:\n",
    "    sample_chromosome = next(SeqIO.parse(f, \"genbank\"), None)\n",
    "sample_chromosome"
   ]
  },
  {
   "cell_type": "code",
   "execution_count": 9,
   "metadata": {},
   "outputs": [
    {
     "data": {
      "text/plain": [
       "51489"
      ]
     },
     "execution_count": 9,
     "metadata": {},
     "output_type": "execute_result"
    }
   ],
   "source": [
    "#| hide\n",
    "len(sample_chromosome.features)"
   ]
  },
  {
   "cell_type": "code",
   "execution_count": 10,
   "metadata": {},
   "outputs": [],
   "source": [
    "#| hide\n",
    "sample_chromosome_feature_gene = None\n",
    "sample_chromosome_feature_mrna = None\n",
    "for f in sample_chromosome.features:\n",
    "    if f.type == \"gene\":\n",
    "        sample_chromosome_feature_gene = f\n",
    "    if f.type == 'mRNA':\n",
    "        sample_chromosome_feature_mrna = f\n",
    "    if sample_chromosome_feature_gene is not None and sample_chromosome_feature_mrna is not None:\n",
    "        break"
   ]
  },
  {
   "cell_type": "code",
   "execution_count": 11,
   "metadata": {},
   "outputs": [
    {
     "data": {
      "text/plain": [
       "{'location': SimpleLocation(ExactPosition(65418), ExactPosition(71585), strand=1),\n",
       " 'type': 'gene',\n",
       " 'id': '<unknown id>',\n",
       " 'qualifiers': {'gene': ['OR4F5'],\n",
       "  'note': ['olfactory receptor family 4 subfamily F member 5; Derived by automated computational analysis using gene prediction method: BestRefSeq.'],\n",
       "  'db_xref': ['GeneID:79501', 'HGNC:HGNC:14825']}}"
      ]
     },
     "execution_count": 11,
     "metadata": {},
     "output_type": "execute_result"
    }
   ],
   "source": [
    "#| hide\n",
    "sample_chromosome_feature_gene.__dict__"
   ]
  },
  {
   "cell_type": "code",
   "execution_count": 12,
   "metadata": {},
   "outputs": [
    {
     "data": {
      "text/plain": [
       "{'location': CompoundLocation([SimpleLocation(ExactPosition(65418), ExactPosition(65433), strand=1), SimpleLocation(ExactPosition(65519), ExactPosition(65573), strand=1), SimpleLocation(ExactPosition(69036), ExactPosition(71585), strand=1)], 'join'),\n",
       " 'type': 'mRNA',\n",
       " 'id': '<unknown id>',\n",
       " 'qualifiers': {'gene': ['OR4F5'],\n",
       "  'product': ['olfactory receptor family 4 subfamily F member 5'],\n",
       "  'note': ['Derived by automated computational analysis using gene prediction method: BestRefSeq.'],\n",
       "  'transcript_id': ['NM_001005484.2'],\n",
       "  'db_xref': ['Ensembl:ENST00000641515.2', 'GeneID:79501', 'HGNC:HGNC:14825']}}"
      ]
     },
     "execution_count": 12,
     "metadata": {},
     "output_type": "execute_result"
    }
   ],
   "source": [
    "#| hide\n",
    "sample_chromosome_feature_mrna.__dict__"
   ]
  },
  {
   "cell_type": "code",
   "execution_count": 13,
   "metadata": {},
   "outputs": [],
   "source": [
    "#| export\n",
    "def get_feature_qualifiers(feature: SeqFeature) -> typing.Dict[str, typing.Any]:\n",
    "    return getattr(feature, \"qualifiers\", None)\n",
    "\n",
    "\n",
    "def get_feature_dbxrefs(feature: SeqFeature):\n",
    "    feature_qualifiers = get_feature_qualifiers(feature)\n",
    "    if feature_qualifiers is None:\n",
    "        return None\n",
    "    feature_dbxrefs = feature_qualifiers.get(\"db_xref\", None)\n",
    "    return feature_dbxrefs\n",
    "\n",
    "\n",
    "def get_feature_dbxref_xref(feature: SeqFeature, prefix: str):\n",
    "    feature_dbxrefs = get_feature_dbxrefs(feature)\n",
    "    if feature_dbxrefs is None:\n",
    "        return None\n",
    "    tag_db_xref = next(iter([x for x in feature_dbxrefs if x.startswith(prefix)]), None)\n",
    "    return tag_db_xref\n",
    "\n",
    "\n",
    "def get_feature_geneid(feature: SeqFeature):\n",
    "    return get_feature_dbxref_xref(feature, \"GeneID\")\n",
    "\n",
    "\n",
    "def get_feature_transcript_id(feature: SeqFeature):\n",
    "    return next(iter(get_feature_qualifiers(feature).get(\"transcript_id\", [])), None)"
   ]
  },
  {
   "cell_type": "code",
   "execution_count": 14,
   "metadata": {},
   "outputs": [
    {
     "data": {
      "text/plain": [
       "'GeneID:79501'"
      ]
     },
     "execution_count": 14,
     "metadata": {},
     "output_type": "execute_result"
    }
   ],
   "source": [
    "#| hide\n",
    "get_feature_geneid(sample_chromosome_feature_mrna)"
   ]
  },
  {
   "attachments": {},
   "cell_type": "markdown",
   "metadata": {},
   "source": [
    "#### 1.1 Plan\n",
    "\n",
    "Our strategy will be;\n",
    "\n",
    "1. Read through the features, collect every gene and mRNA\n",
    "2. Identify for every gene the child mRNA\n",
    "3. For every gene, mRNA pair;\n",
    "    1. Extract input DNA sequence from gene\n",
    "    2. Extract mRNA sequence\n",
    "    3. Fill gaps in mRNA sequence with intron tokens\n",
    "    4. Write to disc in csv"
   ]
  },
  {
   "attachments": {},
   "cell_type": "markdown",
   "metadata": {},
   "source": [
    "#### 1.1.1 Collect gene and mRNA features"
   ]
  },
  {
   "cell_type": "code",
   "execution_count": 15,
   "metadata": {},
   "outputs": [],
   "source": [
    "#| export\n",
    "def get_gene_and_mrna_features(record: SeqRecord):\n",
    "    gene_features = []\n",
    "    mrna_features = []\n",
    "    for i, f in enumerate(record.features):\n",
    "        if f.type == \"gene\":\n",
    "            gene_features.append((i, f))\n",
    "        elif f.type == \"mRNA\":\n",
    "            mrna_features.append((i, f))\n",
    "    return gene_features, mrna_features"
   ]
  },
  {
   "cell_type": "code",
   "execution_count": 16,
   "metadata": {},
   "outputs": [
    {
     "data": {
      "text/plain": [
       "(5501, 12841)"
      ]
     },
     "execution_count": 16,
     "metadata": {},
     "output_type": "execute_result"
    }
   ],
   "source": [
    "#| hide\n",
    "gene_features, mrna_features = get_gene_and_mrna_features(sample_chromosome)\n",
    "len(gene_features), len(mrna_features)"
   ]
  },
  {
   "cell_type": "code",
   "execution_count": 17,
   "metadata": {},
   "outputs": [
    {
     "data": {
      "text/plain": [
       "((2,\n",
       "  SeqFeature(SimpleLocation(ExactPosition(11873), ExactPosition(14409), strand=1), type='gene', qualifiers=...)),\n",
       " (22,\n",
       "  SeqFeature(CompoundLocation([SimpleLocation(ExactPosition(65418), ExactPosition(65433), strand=1), SimpleLocation(ExactPosition(65519), ExactPosition(65573), strand=1), SimpleLocation(ExactPosition(69036), ExactPosition(71585), strand=1)], 'join'), type='mRNA', location_operator='join', qualifiers=...)))"
      ]
     },
     "execution_count": 17,
     "metadata": {},
     "output_type": "execute_result"
    }
   ],
   "source": [
    "#| hide\n",
    "gene_features[0], mrna_features[0]"
   ]
  },
  {
   "attachments": {},
   "cell_type": "markdown",
   "metadata": {},
   "source": [
    "#### 1.1.2 Identify gene to mRNA feature relationships"
   ]
  },
  {
   "cell_type": "code",
   "execution_count": 18,
   "metadata": {},
   "outputs": [],
   "source": [
    "#| export\n",
    "def get_gene_and_mrna_relationships(\n",
    "        gene_features,\n",
    "        mrna_features\n",
    "        ) -> list[typing.Tuple[int, int]]:\n",
    "    \"\"\n",
    "    relationships = []\n",
    "    gene_index = {get_feature_geneid(f): i for i, f in gene_features}\n",
    "    for i, f in mrna_features:\n",
    "        f_gene_id = get_feature_geneid(f)\n",
    "        f_gene_idx = gene_index.get(f_gene_id, None)\n",
    "        if f_gene_idx is not None:\n",
    "            relationships.append((i, f_gene_idx))\n",
    "    return relationships"
   ]
  },
  {
   "cell_type": "code",
   "execution_count": 19,
   "metadata": {},
   "outputs": [
    {
     "data": {
      "text/plain": [
       "(12841, (22, 21))"
      ]
     },
     "execution_count": 19,
     "metadata": {},
     "output_type": "execute_result"
    }
   ],
   "source": [
    "#| hide\n",
    "mrna_to_protein_relationships = get_gene_and_mrna_relationships(\n",
    "    gene_features, mrna_features\n",
    ")\n",
    "len(mrna_to_protein_relationships), mrna_to_protein_relationships[0]"
   ]
  },
  {
   "attachments": {},
   "cell_type": "markdown",
   "metadata": {},
   "source": [
    "### 2. For every gene, mRNA pair;\n",
    "\n",
    "1. Extract input DNA sequence from gene\n",
    "2. Extract mRNA sequence\n",
    "3. Fill gaps in mRNA sequence with intron tokens"
   ]
  },
  {
   "cell_type": "code",
   "execution_count": 20,
   "metadata": {},
   "outputs": [
    {
     "data": {
      "text/plain": [
       "2618"
      ]
     },
     "execution_count": 20,
     "metadata": {},
     "output_type": "execute_result"
    }
   ],
   "source": [
    "#| hide\n",
    "len(mrna_features[0][1].extract(sample_chromosome).seq)"
   ]
  },
  {
   "cell_type": "code",
   "execution_count": 21,
   "metadata": {},
   "outputs": [
    {
     "data": {
      "text/plain": [
       "2618"
      ]
     },
     "execution_count": 21,
     "metadata": {},
     "output_type": "execute_result"
    }
   ],
   "source": [
    "#| hide\n",
    "sample_len = 0\n",
    "for p in mrna_features[0][1].location.parts:\n",
    "    sample_len += (p.end - p.start)\n",
    "sample_len"
   ]
  },
  {
   "cell_type": "code",
   "execution_count": 22,
   "metadata": {},
   "outputs": [
    {
     "data": {
      "text/plain": [
       "ExactPosition(65418)"
      ]
     },
     "execution_count": 22,
     "metadata": {},
     "output_type": "execute_result"
    }
   ],
   "source": [
    "#| hide\n",
    "mrna_features[0][1].location.parts[0].start"
   ]
  },
  {
   "cell_type": "code",
   "execution_count": 23,
   "metadata": {},
   "outputs": [
    {
     "data": {
      "text/plain": [
       "1"
      ]
     },
     "execution_count": 23,
     "metadata": {},
     "output_type": "execute_result"
    }
   ],
   "source": [
    "#| hide\n",
    "mrna_features[0][1].strand"
   ]
  },
  {
   "cell_type": "code",
   "execution_count": 24,
   "metadata": {},
   "outputs": [
    {
     "data": {
      "text/plain": [
       "'<intron><intron><intron>'"
      ]
     },
     "execution_count": 24,
     "metadata": {},
     "output_type": "execute_result"
    }
   ],
   "source": [
    "#| hide\n",
    "\"<intron>\" * 3"
   ]
  },
  {
   "cell_type": "code",
   "execution_count": 25,
   "metadata": {},
   "outputs": [],
   "source": [
    "#| export\n",
    "def process_gene_mrna_pair(\n",
    "        chromosome: SeqRecord,\n",
    "        feature_gene: SeqFeature, \n",
    "        feature_mrna: SeqFeature,\n",
    "        intron_token: str = \"<intron>\"\n",
    "        ) -> pd.Series:\n",
    "    # Get gene sequence\n",
    "    gene_sequence = feature_gene.extract(chromosome)\n",
    "    # Get mRNA locations\n",
    "    mrna_locations = feature_mrna.location.parts\n",
    "    if feature_mrna.strand != 1:\n",
    "        mrna_locations = mrna_locations[::-1]\n",
    "    # Use mRNA locations to identify intron sections\n",
    "    mrna_sequence = []\n",
    "    last_end = None\n",
    "    for part in mrna_locations:\n",
    "        start = int(part.start)\n",
    "        end = int(part.end)\n",
    "        if last_end is not None:\n",
    "            # Add intron to sequence\n",
    "            intron_size = start - last_end\n",
    "            intron_tokens = [intron_token] * intron_size\n",
    "            mrna_sequence = mrna_sequence + intron_tokens\n",
    "        # Add part sequence\n",
    "        part_sequence = list(str(part.extract(chromosome).seq))\n",
    "        if mrna_sequence is None:\n",
    "            mrna_sequence = part_sequence\n",
    "        else:\n",
    "            mrna_sequence = mrna_sequence + part_sequence\n",
    "        last_end = end\n",
    "    # Inject intron sections into the mRNA sequence\n",
    "    # Make series\n",
    "    pair = pd.Series()\n",
    "    pair.at[\"gene\"] = \",\".join(gene_sequence.seq)\n",
    "    pair.at[\"mrna\"] = \",\".join(mrna_sequence)\n",
    "    return pair"
   ]
  },
  {
   "attachments": {},
   "cell_type": "markdown",
   "metadata": {},
   "source": [
    "### 3. Process data efficiently\n",
    "\n",
    "1. Shard the data across n processes\n",
    "    1. Chromosome (Path)\n",
    "    2. gene_feature_idx\n",
    "    3. mrna_feature_idx\n",
    "2. Each process;\n",
    "    1. Reads the source chromosome from disk (SeqRecord)\n",
    "    2."
   ]
  },
  {
   "cell_type": "code",
   "execution_count": 26,
   "metadata": {},
   "outputs": [],
   "source": [
    "#| export\n",
    "def shard_features(relationships, processes: int = os.cpu_count() - 1):\n",
    "    shards = np.array_split(relationships, processes)\n",
    "    return shards"
   ]
  },
  {
   "cell_type": "code",
   "execution_count": 27,
   "metadata": {},
   "outputs": [
    {
     "data": {
      "text/plain": [
       "(11, 1168)"
      ]
     },
     "execution_count": 27,
     "metadata": {},
     "output_type": "execute_result"
    }
   ],
   "source": [
    "#| hide\n",
    "sharded_relationships = shard_features(mrna_to_protein_relationships)\n",
    "len(sharded_relationships), len(sharded_relationships[0])"
   ]
  },
  {
   "cell_type": "code",
   "execution_count": 28,
   "metadata": {},
   "outputs": [
    {
     "data": {
      "text/plain": [
       "12841"
      ]
     },
     "execution_count": 28,
     "metadata": {},
     "output_type": "execute_result"
    }
   ],
   "source": [
    "#| hide\n",
    "len(mrna_to_protein_relationships)"
   ]
  },
  {
   "attachments": {},
   "cell_type": "markdown",
   "metadata": {},
   "source": [
    "Lets bring this into a script so we can leverage proper processing."
   ]
  },
  {
   "cell_type": "code",
   "execution_count": 29,
   "metadata": {},
   "outputs": [],
   "source": [
    "#| hide\n",
    "import nbdev; nbdev.nbdev_export()"
   ]
  },
  {
   "cell_type": "code",
   "execution_count": null,
   "metadata": {},
   "outputs": [],
   "source": []
  }
 ],
 "metadata": {
  "kernelspec": {
   "display_name": "python3",
   "language": "python",
   "name": "python3"
  },
  "language_info": {
   "codemirror_mode": {
    "name": "ipython",
    "version": 3
   },
   "file_extension": ".py",
   "mimetype": "text/x-python",
   "name": "python",
   "nbconvert_exporter": "python",
   "pygments_lexer": "ipython3",
   "version": "3.10.6"
  }
 },
 "nbformat": 4,
 "nbformat_minor": 4
}
