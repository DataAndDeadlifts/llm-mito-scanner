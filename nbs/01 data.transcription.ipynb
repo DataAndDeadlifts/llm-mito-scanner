{
 "cells": [
  {
   "attachments": {},
   "cell_type": "markdown",
   "metadata": {},
   "source": [
    "# Making the Reference Genome more easily usable\n",
    "\n",
    "> Preparing genomic DNA for pre-training."
   ]
  },
  {
   "attachments": {},
   "cell_type": "markdown",
   "metadata": {},
   "source": [
    "## Notebook Goals\n",
    "\n",
    "Extract input and output sequences to train a transformer to transcribe DNA to mRNA."
   ]
  },
  {
   "attachments": {},
   "cell_type": "markdown",
   "metadata": {},
   "source": [
    "## Stuff I've learned\n",
    "\n",
    "1. Calling SeqFeature.extract is really expensive if the parent sequence is really long."
   ]
  },
  {
   "attachments": {},
   "cell_type": "markdown",
   "metadata": {},
   "source": [
    "### Plan\n",
    "\n",
    "1. For each chromosome file;\n",
    "    1. Extract all gene sequences to csv e.g. `assembly_path/genes/{chromosome}.csv`\n",
    "        1. Columns\n",
    "            1. geneid\n",
    "            2. Sequence\n",
    "            3. Positive strand 5' chromosome position\n",
    "            4. Negative strand 5' chromosome position\n",
    "    1. Get mRNA feature details\n",
    "        1. parent geneid\n",
    "        2. transcript_id\n",
    "        3. location parts\n",
    "    2. Identify mRNA to gene relationships, de-dupe, write e.g. `assembly_path/relationships/mrna_to_gene/{chromosome}.csv`\n",
    "2. For all mRNA to gene relationships\n",
    "    1. Normalize mRNA positions to written gene\n",
    "    2. Construct synthetic SeqFeature using first and last position of the mRNA (this is input sequence)\n",
    "    3. Construct mRNA sequence with intron tokens\n",
    "    4. Collect [3] and [4]\n",
    "    5. Write training instances to disk"
   ]
  },
  {
   "attachments": {},
   "cell_type": "markdown",
   "metadata": {},
   "source": [
    "## 0. Setup"
   ]
  },
  {
   "cell_type": "code",
   "execution_count": 1,
   "metadata": {},
   "outputs": [],
   "source": [
    "#| default_exp data.transcription"
   ]
  },
  {
   "cell_type": "code",
   "execution_count": 2,
   "metadata": {},
   "outputs": [],
   "source": [
    "#| hide\n",
    "from nbdev.showdoc import *"
   ]
  },
  {
   "cell_type": "code",
   "execution_count": 18,
   "metadata": {},
   "outputs": [],
   "source": [
    "#| export\n",
    "import os\n",
    "from pathlib import Path\n",
    "from Bio import SeqIO, SeqRecord\n",
    "from Bio.SeqFeature import SeqFeature, Position, SimpleLocation\n",
    "from tqdm.auto import tqdm\n",
    "import pandas as pd\n",
    "import typing\n",
    "from tqdm import tqdm\n",
    "from multiprocessing import current_process\n",
    "\n",
    "tqdm.pandas()\n",
    "\n",
    "from llm_mito_scanner.data.download import load_config, \\\n",
    "    get_latest_assembly_path, get_genomic_genbank_path"
   ]
  },
  {
   "cell_type": "code",
   "execution_count": 4,
   "metadata": {},
   "outputs": [],
   "source": [
    "#| hide\n",
    "config = load_config()"
   ]
  },
  {
   "cell_type": "code",
   "execution_count": 5,
   "metadata": {},
   "outputs": [],
   "source": [
    "#| hide\n",
    "data_path = Path(config.get(\"data_path\"))\n",
    "data_raw_path = data_path / \"raw\"\n",
    "assemblies_path = data_raw_path / \"assemblies\"\n",
    "latest_assembly_path = get_latest_assembly_path(assemblies_path)\n",
    "genomic_genbank_path = get_genomic_genbank_path(latest_assembly_path)\n",
    "chromosomes_path = latest_assembly_path / \"chromosomes\"\n",
    "training_data_path = latest_assembly_path / \"training\"\n",
    "transcription_data_path = training_data_path / \"transcription\"\n",
    "if not transcription_data_path.exists():\n",
    "    transcription_data_path.mkdir(parents=True)"
   ]
  },
  {
   "attachments": {},
   "cell_type": "markdown",
   "metadata": {},
   "source": [
    "## 1. Process chromosome files"
   ]
  },
  {
   "attachments": {},
   "cell_type": "markdown",
   "metadata": {},
   "source": [
    "### 1.1 Extract all gene sequences to csv e.g. `assembly_path/genes/{chromosome}.csv`\n",
    "Columns\n",
    "1. geneid\n",
    "2. Sequence\n",
    "3. Positive strand 5' chromosome position\n",
    "4. Negative strand 5' chromosome position"
   ]
  },
  {
   "cell_type": "code",
   "execution_count": 7,
   "metadata": {},
   "outputs": [
    {
     "data": {
      "text/plain": [
       "Path('/mnt/e/Data/llm-mito-scanner-data/data/raw/assemblies/GCF_000001405.40_GRCh38.p14/chromosomes/NC_000001.11.gb')"
      ]
     },
     "execution_count": 7,
     "metadata": {},
     "output_type": "execute_result"
    }
   ],
   "source": [
    "#| hide\n",
    "example_chromosome_path = next(chromosomes_path.glob(\"*.gb\"))\n",
    "example_chromosome_path"
   ]
  },
  {
   "cell_type": "code",
   "execution_count": 8,
   "metadata": {},
   "outputs": [
    {
     "data": {
      "text/plain": [
       "SeqRecord(seq=Seq('NNNNNNNNNNNNNNNNNNNNNNNNNNNNNNNNNNNNNNNNNNNNNNNNNNNNNN...NNN'), id='NC_000001.11', name='NC_000001', description='Homo sapiens chromosome 1, GRCh38.p14 Primary Assembly', dbxrefs=['BioProject:PRJNA168', 'Assembly:GCF_000001405.40'])"
      ]
     },
     "execution_count": 8,
     "metadata": {},
     "output_type": "execute_result"
    }
   ],
   "source": [
    "#| hide\n",
    "with example_chromosome_path.open(\"rt\") as f:\n",
    "    example_chromosome = next(SeqIO.parse(f, \"genbank\"), None)\n",
    "example_chromosome"
   ]
  },
  {
   "cell_type": "code",
   "execution_count": 9,
   "metadata": {},
   "outputs": [
    {
     "data": {
      "text/plain": [
       "51489"
      ]
     },
     "execution_count": 9,
     "metadata": {},
     "output_type": "execute_result"
    }
   ],
   "source": [
    "#| hide\n",
    "len(example_chromosome.features)"
   ]
  },
  {
   "cell_type": "code",
   "execution_count": 10,
   "metadata": {},
   "outputs": [],
   "source": [
    "#| export\n",
    "def filter_chromosome_features_by_type(\n",
    "        chromosome_record: SeqRecord, \n",
    "        feature_type: str,\n",
    "        ) -> list[tuple[int, SeqFeature]]:\n",
    "    return [(i, f) for i, f in enumerate(chromosome_record.features) if f.type == feature_type]"
   ]
  },
  {
   "cell_type": "code",
   "execution_count": 11,
   "metadata": {},
   "outputs": [],
   "source": [
    "#| export\n",
    "def get_feature_qualifiers(feature: SeqFeature) -> typing.Dict[str, typing.Any]:\n",
    "    return getattr(feature, \"qualifiers\", None)\n",
    "\n",
    "\n",
    "def get_feature_dbxrefs(feature: SeqFeature) -> str | None:\n",
    "    feature_qualifiers = get_feature_qualifiers(feature)\n",
    "    if feature_qualifiers is None:\n",
    "        return None\n",
    "    feature_dbxrefs = feature_qualifiers.get(\"db_xref\", None)\n",
    "    return feature_dbxrefs\n",
    "\n",
    "\n",
    "def get_feature_dbxref_xref(feature: SeqFeature, prefix: str) -> str | None:\n",
    "    feature_dbxrefs = get_feature_dbxrefs(feature)\n",
    "    if feature_dbxrefs is None:\n",
    "        return None\n",
    "    tag_db_xref = next(iter([x for x in feature_dbxrefs if x.startswith(prefix)]), None)\n",
    "    return tag_db_xref\n",
    "\n",
    "\n",
    "def get_feature_geneid(feature: SeqFeature) -> str | None:\n",
    "    return get_feature_dbxref_xref(feature, \"GeneID\")"
   ]
  },
  {
   "cell_type": "code",
   "execution_count": 12,
   "metadata": {},
   "outputs": [
    {
     "data": {
      "text/plain": [
       "5501"
      ]
     },
     "execution_count": 12,
     "metadata": {},
     "output_type": "execute_result"
    }
   ],
   "source": [
    "#| hide\n",
    "example_chromosome_genes = filter_chromosome_features_by_type(example_chromosome, \"gene\")\n",
    "len(example_chromosome_genes)"
   ]
  },
  {
   "cell_type": "code",
   "execution_count": 13,
   "metadata": {},
   "outputs": [],
   "source": [
    "#| hide\n",
    "example_chromosome_gene_positive = example_chromosome_genes[0][1]\n",
    "example_chromosome_gene_negative = example_chromosome_genes[1][1]"
   ]
  },
  {
   "cell_type": "code",
   "execution_count": 14,
   "metadata": {},
   "outputs": [
    {
     "data": {
      "text/plain": [
       "SimpleLocation(ExactPosition(11873), ExactPosition(14409), strand=1)"
      ]
     },
     "execution_count": 14,
     "metadata": {},
     "output_type": "execute_result"
    }
   ],
   "source": [
    "#| hide\n",
    "example_chromosome_gene_positive.location"
   ]
  },
  {
   "cell_type": "code",
   "execution_count": 15,
   "metadata": {},
   "outputs": [
    {
     "data": {
      "text/plain": [
       "11873"
      ]
     },
     "execution_count": 15,
     "metadata": {},
     "output_type": "execute_result"
    }
   ],
   "source": [
    "#| hide\n",
    "# Get pos and neg strand positions\n",
    "int(example_chromosome_gene_positive.location.start)"
   ]
  },
  {
   "cell_type": "code",
   "execution_count": 16,
   "metadata": {},
   "outputs": [
    {
     "data": {
      "text/plain": [
       "ExactPosition(29370)"
      ]
     },
     "execution_count": 16,
     "metadata": {},
     "output_type": "execute_result"
    }
   ],
   "source": [
    "#| hide\n",
    "example_chromosome_gene_negative.location.end"
   ]
  },
  {
   "cell_type": "code",
   "execution_count": 17,
   "metadata": {},
   "outputs": [
    {
     "data": {
      "text/plain": [
       "14361"
      ]
     },
     "execution_count": 17,
     "metadata": {},
     "output_type": "execute_result"
    }
   ],
   "source": [
    "#| hide\n",
    "int(example_chromosome_gene_negative.location.start)"
   ]
  },
  {
   "cell_type": "code",
   "execution_count": 49,
   "metadata": {},
   "outputs": [],
   "source": [
    "#| export\n",
    "def get_chromosome_gene_info(\n",
    "        chromosome_record: SeqRecord,\n",
    "        pbar_position: int = 0\n",
    "        ) -> pd.DataFrame:\n",
    "    chromosome_genes = [t[1] for t in filter_chromosome_features_by_type(chromosome_record, \"gene\")]\n",
    "    chromosome_gene_ids = list(map(get_feature_geneid, chromosome_genes))\n",
    "    chromosome_gene_sequences = list(map(\n",
    "        lambda seq_feature: str(seq_feature.extract(chromosome_record).seq),\n",
    "        tqdm(chromosome_genes, leave=False, ncols=80, position=pbar_position, desc=f\"Process-{pbar_position}\")\n",
    "    ))\n",
    "    pos_strand_positions = list(map(lambda f: f.location.start, chromosome_genes))\n",
    "    neg_strand_positions = list(map(lambda f: f.location.end, chromosome_genes))\n",
    "    gene_df = pd.DataFrame(\n",
    "        chromosome_gene_ids, columns=['geneid']\n",
    "    )\n",
    "    gene_df.loc[:, 'sequence'] = chromosome_gene_sequences\n",
    "    gene_df.loc[:, 'pos_strand_position'] = pos_strand_positions\n",
    "    gene_df.loc[:, 'neg_strand_position'] = neg_strand_positions\n",
    "    return gene_df\n",
    "    "
   ]
  },
  {
   "cell_type": "code",
   "execution_count": 50,
   "metadata": {},
   "outputs": [],
   "source": [
    "#| hide\n",
    "example_chromosome_gene_info_path = latest_assembly_path / \"genes\" / f\"{example_chromosome_path.stem}.csv\"\n",
    "if example_chromosome_gene_info_path.exists():\n",
    "    example_chromosome_gene_info = pd.read_csv(example_chromosome_gene_info_path)\n",
    "else:\n",
    "    example_chromosome_gene_info = get_chromosome_gene_info(example_chromosome)\n"
   ]
  },
  {
   "cell_type": "code",
   "execution_count": 51,
   "metadata": {},
   "outputs": [
    {
     "data": {
      "text/html": [
       "<div>\n",
       "<style scoped>\n",
       "    .dataframe tbody tr th:only-of-type {\n",
       "        vertical-align: middle;\n",
       "    }\n",
       "\n",
       "    .dataframe tbody tr th {\n",
       "        vertical-align: top;\n",
       "    }\n",
       "\n",
       "    .dataframe thead th {\n",
       "        text-align: right;\n",
       "    }\n",
       "</style>\n",
       "<table border=\"1\" class=\"dataframe\">\n",
       "  <thead>\n",
       "    <tr style=\"text-align: right;\">\n",
       "      <th></th>\n",
       "      <th>geneid</th>\n",
       "      <th>sequence</th>\n",
       "      <th>pos_strand_position</th>\n",
       "      <th>neg_strand_position</th>\n",
       "    </tr>\n",
       "  </thead>\n",
       "  <tbody>\n",
       "    <tr>\n",
       "      <th>0</th>\n",
       "      <td>GeneID:100287102</td>\n",
       "      <td>CTTGCCGTCAGCCTTTTCTTTGACCTCTTCTTTCTGTTCATGTGTA...</td>\n",
       "      <td>11873</td>\n",
       "      <td>14409</td>\n",
       "    </tr>\n",
       "    <tr>\n",
       "      <th>1</th>\n",
       "      <td>GeneID:653635</td>\n",
       "      <td>TCCGGCAGAGCGGAAGCGGCGGCGGGAGCTTCCGGGAGGGCGGCTC...</td>\n",
       "      <td>14361</td>\n",
       "      <td>29370</td>\n",
       "    </tr>\n",
       "    <tr>\n",
       "      <th>2</th>\n",
       "      <td>GeneID:102466751</td>\n",
       "      <td>TGTGGGAGAGGAACATGGGCTCAGGACAGCGGGTGTCAGCTTGCCT...</td>\n",
       "      <td>17368</td>\n",
       "      <td>17436</td>\n",
       "    </tr>\n",
       "    <tr>\n",
       "      <th>3</th>\n",
       "      <td>GeneID:107985730</td>\n",
       "      <td>TGCCCTCCAGCCCTACGCCTTGACCCGCTTTCCTGCGTCTCTCAGC...</td>\n",
       "      <td>29773</td>\n",
       "      <td>35418</td>\n",
       "    </tr>\n",
       "    <tr>\n",
       "      <th>4</th>\n",
       "      <td>GeneID:100302278</td>\n",
       "      <td>GGATGCCCAGCTAGTTTGAATTTTAGATAAACAACGAATAATTTCG...</td>\n",
       "      <td>30365</td>\n",
       "      <td>30503</td>\n",
       "    </tr>\n",
       "  </tbody>\n",
       "</table>\n",
       "</div>"
      ],
      "text/plain": [
       "             geneid                                           sequence   \n",
       "0  GeneID:100287102  CTTGCCGTCAGCCTTTTCTTTGACCTCTTCTTTCTGTTCATGTGTA...  \\\n",
       "1     GeneID:653635  TCCGGCAGAGCGGAAGCGGCGGCGGGAGCTTCCGGGAGGGCGGCTC...   \n",
       "2  GeneID:102466751  TGTGGGAGAGGAACATGGGCTCAGGACAGCGGGTGTCAGCTTGCCT...   \n",
       "3  GeneID:107985730  TGCCCTCCAGCCCTACGCCTTGACCCGCTTTCCTGCGTCTCTCAGC...   \n",
       "4  GeneID:100302278  GGATGCCCAGCTAGTTTGAATTTTAGATAAACAACGAATAATTTCG...   \n",
       "\n",
       "   pos_strand_position  neg_strand_position  \n",
       "0                11873                14409  \n",
       "1                14361                29370  \n",
       "2                17368                17436  \n",
       "3                29773                35418  \n",
       "4                30365                30503  "
      ]
     },
     "execution_count": 51,
     "metadata": {},
     "output_type": "execute_result"
    }
   ],
   "source": [
    "#| hide\n",
    "example_chromosome_gene_info.head()"
   ]
  },
  {
   "cell_type": "code",
   "execution_count": 52,
   "metadata": {},
   "outputs": [],
   "source": [
    "#| export\n",
    "def write_chromosome_gene_info(assembly_path: Path, chromosome_tag: str, frame: pd.DataFrame):\n",
    "    genes_path = assembly_path / \"genes\"\n",
    "    if not genes_path.exists():\n",
    "        genes_path.mkdir()\n",
    "    gene_info_path = genes_path / f\"{chromosome_tag}.csv\"\n",
    "    frame.to_csv(gene_info_path, index=False)"
   ]
  },
  {
   "cell_type": "code",
   "execution_count": 53,
   "metadata": {},
   "outputs": [],
   "source": [
    "#| hide\n",
    "if not example_chromosome_gene_info_path.exists():\n",
    "    write_chromosome_gene_info(latest_assembly_path, example_chromosome_path.stem, example_chromosome_gene_info)"
   ]
  },
  {
   "cell_type": "code",
   "execution_count": 54,
   "metadata": {},
   "outputs": [],
   "source": [
    "#| export\n",
    "def get_feature_transcript_id(feature: SeqFeature) -> str | None:\n",
    "    return next(iter(get_feature_qualifiers(feature).get(\"transcript_id\", [])), None)"
   ]
  },
  {
   "attachments": {},
   "cell_type": "markdown",
   "metadata": {},
   "source": [
    "1. feature index\n",
    "2. transcript_id\n",
    "3. location parts"
   ]
  },
  {
   "attachments": {},
   "cell_type": "markdown",
   "metadata": {},
   "source": [
    "### 1.2 Identify mRNA parent gene relationships"
   ]
  },
  {
   "cell_type": "code",
   "execution_count": 80,
   "metadata": {},
   "outputs": [],
   "source": [
    "#| export\n",
    "def get_gene_and_mrna_relationships(\n",
    "        chromosome: SeqRecord,\n",
    "        ) -> pd.DataFrame:\n",
    "    \"\"\n",
    "    mrna_features = filter_chromosome_features_by_type(chromosome, \"mRNA\")\n",
    "    relationships = set()\n",
    "    for idx, mrna in mrna_features:\n",
    "        mrna_transcript_id = get_feature_transcript_id(mrna)\n",
    "        mrna_gene_id = get_feature_geneid(mrna)\n",
    "        if mrna_gene_id is not None and mrna_transcript_id is not None:\n",
    "            relationship_tuple = (mrna_gene_id, mrna_transcript_id, idx)\n",
    "            relationships.add(relationship_tuple)\n",
    "\n",
    "    chromosome_relationships_df = pd.DataFrame(\n",
    "        relationships, \n",
    "        columns=['geneid', 'transcript_id', 'transcript_feature_idx']\n",
    "    ).drop_duplicates(subset=[\"geneid\", \"transcript_id\"]).sort_values(\"transcript_feature_idx\", ascending=True)\n",
    "\n",
    "    gene_idx = pd.DataFrame(\n",
    "        [(idx, get_feature_geneid(f)) for idx, f in filter_chromosome_features_by_type(chromosome, \"gene\")],\n",
    "        columns=[\"gene_feature_idx\", \"geneid\"]\n",
    "    ).drop_duplicates()\n",
    "\n",
    "    chromosome_relationships_df = chromosome_relationships_df.merge(\n",
    "        gene_idx, on=['geneid']\n",
    "    ).sort_values(\"gene_feature_idx\", ascending=True)\n",
    "    return chromosome_relationships_df"
   ]
  },
  {
   "cell_type": "code",
   "execution_count": 81,
   "metadata": {},
   "outputs": [],
   "source": [
    "#| hide\n",
    "example_chromosome_relationships = get_gene_and_mrna_relationships(\n",
    "    example_chromosome,\n",
    ")"
   ]
  },
  {
   "cell_type": "code",
   "execution_count": 83,
   "metadata": {},
   "outputs": [
    {
     "data": {
      "text/html": [
       "<div>\n",
       "<style scoped>\n",
       "    .dataframe tbody tr th:only-of-type {\n",
       "        vertical-align: middle;\n",
       "    }\n",
       "\n",
       "    .dataframe tbody tr th {\n",
       "        vertical-align: top;\n",
       "    }\n",
       "\n",
       "    .dataframe thead th {\n",
       "        text-align: right;\n",
       "    }\n",
       "</style>\n",
       "<table border=\"1\" class=\"dataframe\">\n",
       "  <thead>\n",
       "    <tr style=\"text-align: right;\">\n",
       "      <th></th>\n",
       "      <th>geneid</th>\n",
       "      <th>transcript_id</th>\n",
       "      <th>transcript_feature_idx</th>\n",
       "      <th>gene_feature_idx</th>\n",
       "    </tr>\n",
       "  </thead>\n",
       "  <tbody>\n",
       "    <tr>\n",
       "      <th>0</th>\n",
       "      <td>GeneID:79501</td>\n",
       "      <td>NM_001005484.2</td>\n",
       "      <td>22</td>\n",
       "      <td>21</td>\n",
       "    </tr>\n",
       "    <tr>\n",
       "      <th>1</th>\n",
       "      <td>GeneID:112268260</td>\n",
       "      <td>XM_047436352.1</td>\n",
       "      <td>80</td>\n",
       "      <td>79</td>\n",
       "    </tr>\n",
       "    <tr>\n",
       "      <th>2</th>\n",
       "      <td>GeneID:729759</td>\n",
       "      <td>NM_001005221.2</td>\n",
       "      <td>85</td>\n",
       "      <td>84</td>\n",
       "    </tr>\n",
       "    <tr>\n",
       "      <th>3</th>\n",
       "      <td>GeneID:105378947</td>\n",
       "      <td>XM_011542538.1</td>\n",
       "      <td>96</td>\n",
       "      <td>95</td>\n",
       "    </tr>\n",
       "    <tr>\n",
       "      <th>4</th>\n",
       "      <td>GeneID:81399</td>\n",
       "      <td>XM_024449992.2</td>\n",
       "      <td>126</td>\n",
       "      <td>125</td>\n",
       "    </tr>\n",
       "  </tbody>\n",
       "</table>\n",
       "</div>"
      ],
      "text/plain": [
       "             geneid   transcript_id  transcript_feature_idx  gene_feature_idx\n",
       "0      GeneID:79501  NM_001005484.2                      22                21\n",
       "1  GeneID:112268260  XM_047436352.1                      80                79\n",
       "2     GeneID:729759  NM_001005221.2                      85                84\n",
       "3  GeneID:105378947  XM_011542538.1                      96                95\n",
       "4      GeneID:81399  XM_024449992.2                     126               125"
      ]
     },
     "execution_count": 83,
     "metadata": {},
     "output_type": "execute_result"
    }
   ],
   "source": [
    "#| hide\n",
    "example_chromosome_relationships.head()"
   ]
  },
  {
   "attachments": {},
   "cell_type": "markdown",
   "metadata": {},
   "source": [
    "### 1.3 Write relationships"
   ]
  },
  {
   "cell_type": "code",
   "execution_count": 84,
   "metadata": {},
   "outputs": [],
   "source": [
    "#| export\n",
    "def write_mrna_gene_relationships(relationships: pd.DataFrame, chromosome: str, assembly_path: Path):\n",
    "    relationship_path = assembly_path / \"relationships\"\n",
    "    mrna_to_gene_path = relationship_path / \"mrna_to_gene\"\n",
    "    if not mrna_to_gene_path.exists():\n",
    "        mrna_to_gene_path.mkdir(parents=True)\n",
    "    chromosome_relationship_path = mrna_to_gene_path / f\"{chromosome}.csv\"\n",
    "    relationships.to_csv(chromosome_relationship_path, index=False)"
   ]
  },
  {
   "cell_type": "code",
   "execution_count": 85,
   "metadata": {},
   "outputs": [],
   "source": [
    "#| hide\n",
    "example_chromosome_relationships_path = latest_assembly_path / \"relationships\"/ \"mrna_to_gene\" / f\"{example_chromosome_path.stem}.csv\"\n",
    "if not example_chromosome_relationships_path.exists():\n",
    "    write_mrna_gene_relationships(example_chromosome_relationships, example_chromosome_path.stem, latest_assembly_path)"
   ]
  },
  {
   "attachments": {},
   "cell_type": "markdown",
   "metadata": {},
   "source": [
    "## 2. Process mRNA to gene relationships\n",
    "\n",
    "For all mRNA to gene relationships\n",
    "1. Normalize mRNA positions to written gene\n",
    "2. Construct synthetic SeqFeature using first and last position of the mRNA (this is input sequence)\n",
    "3. Construct mRNA sequence with intron tokens\n",
    "4. Collect [3] and [4]\n",
    "5. Write training instances to disk"
   ]
  },
  {
   "cell_type": "code",
   "execution_count": 86,
   "metadata": {},
   "outputs": [],
   "source": [
    "#| hide\n",
    "example_chromosome_mrna = filter_chromosome_features_by_type(example_chromosome, \"mRNA\")"
   ]
  },
  {
   "cell_type": "code",
   "execution_count": null,
   "metadata": {},
   "outputs": [],
   "source": [
    "#| export\n",
    "def normalize_mrna_positions(mrna: SeqFeature, gene: pd.Series) -> SeqFeature:\n",
    "    pass"
   ]
  },
  {
   "cell_type": "code",
   "execution_count": null,
   "metadata": {},
   "outputs": [],
   "source": [
    "#| export\n",
    "def get_input_sequence(mrna: SeqFeature, gene_sequence: str) -> str:\n",
    "    pass"
   ]
  },
  {
   "cell_type": "code",
   "execution_count": null,
   "metadata": {},
   "outputs": [],
   "source": [
    "#| export\n",
    "def get_target_sequence(normalized_mrna: SeqFeature, gene: str) -> str:\n",
    "    pass"
   ]
  },
  {
   "cell_type": "code",
   "execution_count": null,
   "metadata": {},
   "outputs": [],
   "source": [
    "#| export\n",
    "def get_all_input_and_target_sequences():\n",
    "    pass"
   ]
  },
  {
   "cell_type": "code",
   "execution_count": null,
   "metadata": {},
   "outputs": [],
   "source": [
    "#| export\n",
    "def write_input_and_target_sequences():\n",
    "    pass"
   ]
  },
  {
   "cell_type": "code",
   "execution_count": 62,
   "metadata": {},
   "outputs": [],
   "source": [
    "# sample_chromosome_name = sample_chromosome_file.stem\n",
    "# sample_chromosome_relationships_path = latest_assembly_path / \"relationships/mrna_to_gene\" / f\"{sample_chromosome_name}.csv\"\n",
    "# assert sample_chromosome_relationships_path.exists()\n",
    "# print(sample_chromosome_relationships_path)\n",
    "# sample_chromosome_relationships = pd.read_csv(sample_chromosome_relationships_path)\n",
    "# sample_chromosome_relationships.head()"
   ]
  },
  {
   "cell_type": "code",
   "execution_count": 63,
   "metadata": {},
   "outputs": [],
   "source": [
    "#| export\n",
    "# def get_mrna_gene_sequence(\n",
    "#         chromosome: SeqRecord,\n",
    "#         mrna_idx: int\n",
    "# ) -> str:\n",
    "#     \"1. Construct synthetic transcription input sequence using first and last position of the mRNA\"\n",
    "#     mrna = chromosome.features[mrna_idx]\n",
    "#     strand = mrna.strand\n",
    "#     positions = [int(p.start) for p in mrna.location.parts] + [int(p.end) for p in mrna.location.parts]\n",
    "#     position_max = max(positions)\n",
    "#     position_min = min(positions)\n",
    "#     location = SimpleLocation(position_min, position_max, strand=strand)\n",
    "#     transcription_target_feature = SeqFeature(\n",
    "#         location=location,\n",
    "#         type=\"mRNA\",\n",
    "#     )\n",
    "#     return \",\".join(list(str(transcription_target_feature.extract(chromosome).seq)))"
   ]
  },
  {
   "cell_type": "code",
   "execution_count": 64,
   "metadata": {},
   "outputs": [],
   "source": [
    "#| hide\n",
    "# sample_input = get_mrna_gene_sequence(\n",
    "#     sample_chromosome,\n",
    "#     sample_chromosome_relationships.iloc[0, 2]\n",
    "# )\n",
    "# sample_input.count(\",\")"
   ]
  },
  {
   "cell_type": "code",
   "execution_count": 65,
   "metadata": {},
   "outputs": [],
   "source": [
    "#| export\n",
    "# def get_mrna_locations(\n",
    "#         chromosome: SeqRecord,\n",
    "#         mrna_idx: int\n",
    "#         ) -> dict[str, list[tuple[int, int, int]]]:\n",
    "#     mrna_feature = chromosome.features[mrna_idx]\n",
    "#     location_parts = [(int(p.start), int(p.end), int(p.strand)) for p in mrna_feature.location.parts]\n",
    "#     return location_parts\n",
    "\n",
    "\n",
    "# def get_mrna_splice_locations(\n",
    "#         chromosome: SeqRecord,\n",
    "#         mrna_idx: int\n",
    "#         ) -> list[int, int]: # List of intron locations including Where they start and how large they are.\n",
    "#     \"\"\"\n",
    "#     We're going to read mRNA sequences where they're already oriented to their strand and spliced.\n",
    "#     We need to normalize the locations so they're sorted according to strand and\n",
    "#     normalized so they index to zero and ignore splice regions.\n",
    "#     This is so we can easily split an mRNA read from source and insert introns.\n",
    "#     \"\"\"\n",
    "#     locations = get_mrna_locations(\n",
    "#         chromosome,\n",
    "#         mrna_idx\n",
    "#     )\n",
    "#     locations_df = pd.DataFrame(locations, columns=['start', 'end', 'strand'])\n",
    "#     strand = locations_df.iloc[0, 2]\n",
    "#     ascending_sort = True if strand == 1 else False\n",
    "#     locations_df.sort_values(\"start\", \n",
    "#                              ascending=ascending_sort, \n",
    "#                              inplace=True)\n",
    "#     start_loc = locations_df.iloc[0, 0]\n",
    "#     locations_df.loc[:, 'start_norm'] = locations_df.start - start_loc\n",
    "#     locations_df.loc[:, 'end_norm'] = locations_df.end - start_loc\n",
    "#     locations_df.loc[:, 'end_norm_shift'] = locations_df.end_norm.shift(1)\n",
    "#     introns = locations_df.dropna(subset=['end_norm_shift']).astype(int)\n",
    "#     introns.loc[:, 'intron_size'] = introns.start_norm - introns.end_norm_shift\n",
    "#     intron_list = introns[['end_norm', 'intron_size']].apply(abs).values.tolist()\n",
    "#     return intron_list\n",
    "\n",
    "\n",
    "# def get_mrna_sequence_with_introns(\n",
    "#         chromosome: SeqRecord,\n",
    "#         mrna_idx: int,\n",
    "#         intron_token: str = \"<intron>\",\n",
    "#         debug: bool = False\n",
    "# ) -> str:\n",
    "#     \"2. Construct mRNA sequence with intron tokens.\"\n",
    "#     intron_list = get_mrna_splice_locations(\n",
    "#         chromosome,\n",
    "#         mrna_idx\n",
    "#         )\n",
    "#     mrna = chromosome.features[mrna_idx]\n",
    "#     mrna_sequence = str(mrna.extract(chromosome).seq)\n",
    "#     if len(intron_list) == 0:\n",
    "#         return \",\".join(list(mrna_sequence))\n",
    "#     if debug:\n",
    "#         print(len(mrna_sequence))\n",
    "#         print(intron_list)\n",
    "#     mrna_with_introns = []\n",
    "#     last_intron_start = 0\n",
    "#     for intron_start, intron_size in intron_list:\n",
    "#         intron_str = [intron_token] * intron_size\n",
    "#         spliced_mrna = list(mrna_sequence[last_intron_start:intron_start])\n",
    "#         mrna_with_introns = mrna_with_introns + spliced_mrna + intron_str\n",
    "#         last_intron_start = intron_start\n",
    "#     return \",\".join(mrna_with_introns)"
   ]
  },
  {
   "cell_type": "code",
   "execution_count": 66,
   "metadata": {},
   "outputs": [],
   "source": [
    "#| hide\n",
    "# sample_chromosome.features[80]"
   ]
  },
  {
   "cell_type": "code",
   "execution_count": 67,
   "metadata": {},
   "outputs": [],
   "source": [
    "#| hide\n",
    "# get_mrna_sequence_with_introns(sample_chromosome, 80, debug=True).count(\",\")"
   ]
  },
  {
   "cell_type": "code",
   "execution_count": 68,
   "metadata": {},
   "outputs": [],
   "source": [
    "#| hide\n",
    "# sample_target = get_mrna_sequence_with_introns(sample_chromosome, sample_chromosome_relationships.iloc[0, 2])\n",
    "# sample_target.count(\",\")"
   ]
  },
  {
   "cell_type": "code",
   "execution_count": 69,
   "metadata": {},
   "outputs": [],
   "source": [
    "#| export\n",
    "# def get_input_and_target_sequence(\n",
    "#         chromosome: SeqRecord,\n",
    "#         mrna_idx: int\n",
    "# ) -> list[tuple[str, str]]:\n",
    "#     \"3. Collect [3] and [4].\"\n",
    "#     input_sequence = get_mrna_gene_sequence(\n",
    "#         chromosome,\n",
    "#         mrna_idx\n",
    "#     )\n",
    "#     target_sequence = get_mrna_sequence_with_introns(\n",
    "#         chromosome, \n",
    "#         mrna_idx\n",
    "#     )\n",
    "#     return input_sequence, target_sequence"
   ]
  },
  {
   "cell_type": "code",
   "execution_count": 70,
   "metadata": {},
   "outputs": [],
   "source": [
    "#| hide\n",
    "# sample_input, sample_target = get_input_and_target_sequence(\n",
    "#     sample_chromosome,\n",
    "#     sample_chromosome_relationships.iloc[0, 2]\n",
    "# )\n",
    "# sample_input.count(\",\") == sample_target.count(\",\")"
   ]
  },
  {
   "cell_type": "code",
   "execution_count": 71,
   "metadata": {},
   "outputs": [],
   "source": [
    "#| hide\n",
    "# sample_chromosome_relationships_sample = sample_chromosome_relationships.sample(50)"
   ]
  },
  {
   "cell_type": "code",
   "execution_count": 72,
   "metadata": {},
   "outputs": [],
   "source": [
    "#| hide\n",
    "# pr = cProfile.Profile()\n",
    "# pr.enable()\n",
    "# sample_input_and_targets = sample_chromosome_relationships_sample.transcript_feature_idx.progress_apply(\n",
    "#     lambda idx: get_input_and_target_sequence(\n",
    "#         sample_chromosome,\n",
    "#         idx\n",
    "#     )\n",
    "# )\n",
    "# pr.disable()\n",
    "# s = io.StringIO()\n",
    "# sortby = SortKey.CUMULATIVE\n",
    "# ps = pstats.Stats(pr, stream=s).sort_stats(sortby)\n",
    "# ps.print_stats()"
   ]
  },
  {
   "cell_type": "code",
   "execution_count": 73,
   "metadata": {},
   "outputs": [],
   "source": [
    "# print(s.getvalue())"
   ]
  },
  {
   "cell_type": "code",
   "execution_count": 74,
   "metadata": {},
   "outputs": [],
   "source": [
    "#| hide\n",
    "# [(x[0].count(\",\"), x[1].count(\",\")) for x in sample_input_and_targets]"
   ]
  },
  {
   "cell_type": "code",
   "execution_count": 75,
   "metadata": {},
   "outputs": [],
   "source": [
    "#| hide\n",
    "# sample_input_and_targets_df = pd.DataFrame(sample_input_and_targets.values.tolist(), columns=['input', 'target']).merge(\n",
    "#     sample_chromosome_relationships.head(5),\n",
    "#     left_index=True,\n",
    "#     right_index=True\n",
    "#     )\n",
    "# sample_input_and_targets_df.loc[:, 'input_len'] = sample_input_and_targets_df['input'].apply(lambda s: s.count(\",\"))\n",
    "# sample_input_and_targets_df.loc[:, 'target_len'] = sample_input_and_targets_df['target'].apply(lambda s: s.count(\",\"))"
   ]
  },
  {
   "cell_type": "code",
   "execution_count": 76,
   "metadata": {},
   "outputs": [],
   "source": [
    "#| hide\n",
    "# sample_input_and_targets_df"
   ]
  },
  {
   "cell_type": "code",
   "execution_count": 77,
   "metadata": {},
   "outputs": [],
   "source": [
    "#| export\n",
    "# def get_all_input_and_target_sequences(\n",
    "#         chromosome: SeqRecord,\n",
    "#         relationships: pd.DataFrame\n",
    "# ):\n",
    "#     # Has to be processed sequentially\n",
    "    \n",
    "#     pass"
   ]
  },
  {
   "cell_type": "code",
   "execution_count": 78,
   "metadata": {},
   "outputs": [],
   "source": [
    "#| export\n",
    "# def write_input_and_output_sequences(\n",
    "        \n",
    "# ):\n",
    "#     \"4. Write training instances to disk.\""
   ]
  },
  {
   "cell_type": "code",
   "execution_count": 79,
   "metadata": {},
   "outputs": [],
   "source": [
    "#| hide\n",
    "import nbdev; nbdev.nbdev_export()"
   ]
  }
 ],
 "metadata": {
  "kernelspec": {
   "display_name": "python3",
   "language": "python",
   "name": "python3"
  },
  "language_info": {
   "codemirror_mode": {
    "name": "ipython",
    "version": 3
   },
   "file_extension": ".py",
   "mimetype": "text/x-python",
   "name": "python",
   "nbconvert_exporter": "python",
   "pygments_lexer": "ipython3",
   "version": "3.10.6"
  }
 },
 "nbformat": 4,
 "nbformat_minor": 4
}
