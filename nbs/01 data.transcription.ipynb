{
 "cells": [
  {
   "attachments": {},
   "cell_type": "markdown",
   "metadata": {},
   "source": [
    "# Making the Reference Genome more easily usable\n",
    "\n",
    "> Preparing genomic DNA for pre-training."
   ]
  },
  {
   "attachments": {},
   "cell_type": "markdown",
   "metadata": {},
   "source": [
    "## Notebook Goals\n",
    "\n",
    "Identify input and output sequences to train a transformer to transcribe DNA to mRNA.\n",
    "\n",
    "### Plan\n",
    "\n",
    "1. For each chromosome file;\n",
    "    1. Get mRNA feature details\n",
    "        1. feature index\n",
    "        2. transcript_id\n",
    "        3. location parts\n",
    "    2. Identify mRNA to gene relationships, de-dupe\n",
    "    3. Collect all for all chromosomes, write to disk\n",
    "2. For all mRNA to gene relationships\n",
    "    1. Construct synthetic SeqFeature using first and last position of the mRNA (this is input sequence)\n",
    "    2. Construct mRNA sequence with intron tokens\n",
    "    3. Collect [3] and [4]\n",
    "    4. Write training instnaces to disk"
   ]
  },
  {
   "attachments": {},
   "cell_type": "markdown",
   "metadata": {},
   "source": [
    "## 0. Setup"
   ]
  },
  {
   "cell_type": "code",
   "execution_count": 1,
   "metadata": {},
   "outputs": [],
   "source": [
    "#| default_exp data.transcription"
   ]
  },
  {
   "cell_type": "code",
   "execution_count": 2,
   "metadata": {},
   "outputs": [],
   "source": [
    "#| hide\n",
    "from nbdev.showdoc import *"
   ]
  },
  {
   "cell_type": "code",
   "execution_count": 3,
   "metadata": {},
   "outputs": [
    {
     "name": "stderr",
     "output_type": "stream",
     "text": [
      "/home/jdb/projects/llm-mito-scanner/venv/lib/python3.10/site-packages/Bio/__init__.py:138: BiopythonWarning: You may be importing Biopython from inside the source tree. This is bad practice and might lead to downstream issues. In particular, you might encounter ImportErrors due to missing compiled C extensions. We recommend that you try running your code from outside the source tree. If you are outside the source tree then you have a setup.py file in an unexpected directory: /home/jdb/projects/llm-mito-scanner/venv/lib/python3.10/site-packages\n",
      "  warnings.warn(\n"
     ]
    }
   ],
   "source": [
    "#| export\n",
    "import os\n",
    "from pathlib import Path\n",
    "from Bio import SeqIO, SeqRecord, Seq\n",
    "from Bio.SeqFeature import SeqFeature, Position, SimpleLocation\n",
    "from tqdm.auto import tqdm\n",
    "import numpy as np\n",
    "import pandas as pd\n",
    "import typing\n",
    "import gzip\n",
    "from tqdm.notebook import tqdm\n",
    "\n",
    "from llm_mito_scanner.data.download import load_config, \\\n",
    "    get_latest_assembly_path, get_genomic_genbank_path"
   ]
  },
  {
   "cell_type": "code",
   "execution_count": 4,
   "metadata": {},
   "outputs": [],
   "source": [
    "#| hide\n",
    "config = load_config()"
   ]
  },
  {
   "cell_type": "code",
   "execution_count": 5,
   "metadata": {},
   "outputs": [],
   "source": [
    "#| hide\n",
    "data_path = Path(config.get(\"data_path\"))\n",
    "data_raw_path = data_path / \"raw\"\n",
    "assemblies_path = data_raw_path / \"assemblies\"\n",
    "latest_assembly_path = get_latest_assembly_path(assemblies_path)\n",
    "genomic_genbank_path = get_genomic_genbank_path(latest_assembly_path)\n",
    "chromosomes_path = latest_assembly_path / \"chromosomes\"\n",
    "training_data_path = latest_assembly_path / \"training\"\n",
    "transcription_data_path = training_data_path / \"transcription\"\n",
    "if not transcription_data_path.exists():\n",
    "    transcription_data_path.mkdir(parents=True)"
   ]
  },
  {
   "attachments": {},
   "cell_type": "markdown",
   "metadata": {},
   "source": [
    "## 1. Process chromosome files"
   ]
  },
  {
   "attachments": {},
   "cell_type": "markdown",
   "metadata": {},
   "source": [
    "### 1.1 Get mRNA feature details"
   ]
  },
  {
   "cell_type": "code",
   "execution_count": 6,
   "metadata": {},
   "outputs": [
    {
     "data": {
      "text/plain": [
       "Path('/mnt/e/Data/llm-mito-scanner-data/data/raw/assemblies/GCF_000001405.40_GRCh38.p14/chromosomes/NC_000001.11.gb')"
      ]
     },
     "execution_count": 6,
     "metadata": {},
     "output_type": "execute_result"
    }
   ],
   "source": [
    "#| hide\n",
    "chromosome_path = next(chromosomes_path.glob(\"*.gb\"))\n",
    "chromosome_path"
   ]
  },
  {
   "cell_type": "code",
   "execution_count": 7,
   "metadata": {},
   "outputs": [
    {
     "data": {
      "text/plain": [
       "SeqRecord(seq=Seq('NNNNNNNNNNNNNNNNNNNNNNNNNNNNNNNNNNNNNNNNNNNNNNNNNNNNNN...NNN'), id='NC_000001.11', name='NC_000001', description='Homo sapiens chromosome 1, GRCh38.p14 Primary Assembly', dbxrefs=['BioProject:PRJNA168', 'Assembly:GCF_000001405.40'])"
      ]
     },
     "execution_count": 7,
     "metadata": {},
     "output_type": "execute_result"
    }
   ],
   "source": [
    "#| hide\n",
    "with chromosome_path.open(\"rt\") as f:\n",
    "    chromosome = next(SeqIO.parse(f, \"genbank\"), None)\n",
    "chromosome"
   ]
  },
  {
   "cell_type": "code",
   "execution_count": 8,
   "metadata": {},
   "outputs": [
    {
     "data": {
      "text/plain": [
       "51489"
      ]
     },
     "execution_count": 8,
     "metadata": {},
     "output_type": "execute_result"
    }
   ],
   "source": [
    "#| hide\n",
    "len(chromosome.features)"
   ]
  },
  {
   "cell_type": "code",
   "execution_count": 9,
   "metadata": {},
   "outputs": [],
   "source": [
    "#| export\n",
    "def filter_chromosome_features_by_type(\n",
    "        chromosome_record: SeqRecord, \n",
    "        feature_type: str,\n",
    "        ) -> list[tuple[int, SeqFeature]]:\n",
    "    return [(i, f) for i, f in enumerate(chromosome_record.features) if f.type == feature_type]"
   ]
  },
  {
   "cell_type": "code",
   "execution_count": 10,
   "metadata": {},
   "outputs": [
    {
     "data": {
      "text/plain": [
       "12841"
      ]
     },
     "execution_count": 10,
     "metadata": {},
     "output_type": "execute_result"
    }
   ],
   "source": [
    "#| hide\n",
    "chromosome_mrna = filter_chromosome_features_by_type(chromosome, \"mRNA\")\n",
    "len(chromosome_mrna)"
   ]
  },
  {
   "cell_type": "code",
   "execution_count": 11,
   "metadata": {},
   "outputs": [
    {
     "data": {
      "text/plain": [
       "['Ensembl:ENST00000641515.2', 'GeneID:79501', 'HGNC:HGNC:14825']"
      ]
     },
     "execution_count": 11,
     "metadata": {},
     "output_type": "execute_result"
    }
   ],
   "source": [
    "#| hide\n",
    "chromosome_mrna[0][1].qualifiers.get(\"db_xref\")"
   ]
  },
  {
   "cell_type": "code",
   "execution_count": 12,
   "metadata": {},
   "outputs": [],
   "source": [
    "#| export\n",
    "def get_feature_qualifiers(feature: SeqFeature) -> typing.Dict[str, typing.Any]:\n",
    "    return getattr(feature, \"qualifiers\", None)\n",
    "\n",
    "\n",
    "def get_feature_dbxrefs(feature: SeqFeature) -> str | None:\n",
    "    feature_qualifiers = get_feature_qualifiers(feature)\n",
    "    if feature_qualifiers is None:\n",
    "        return None\n",
    "    feature_dbxrefs = feature_qualifiers.get(\"db_xref\", None)\n",
    "    return feature_dbxrefs\n",
    "\n",
    "\n",
    "def get_feature_dbxref_xref(feature: SeqFeature, prefix: str) -> str | None:\n",
    "    feature_dbxrefs = get_feature_dbxrefs(feature)\n",
    "    if feature_dbxrefs is None:\n",
    "        return None\n",
    "    tag_db_xref = next(iter([x for x in feature_dbxrefs if x.startswith(prefix)]), None)\n",
    "    return tag_db_xref\n",
    "\n",
    "\n",
    "def get_feature_geneid(feature: SeqFeature) -> str | None:\n",
    "    return get_feature_dbxref_xref(feature, \"GeneID\")\n",
    "\n",
    "\n",
    "def get_feature_transcript_id(feature: SeqFeature) -> str | None:\n",
    "    return next(iter(get_feature_qualifiers(feature).get(\"transcript_id\", [])), None)"
   ]
  },
  {
   "attachments": {},
   "cell_type": "markdown",
   "metadata": {},
   "source": [
    "1. feature index\n",
    "2. transcript_id\n",
    "3. location parts"
   ]
  },
  {
   "cell_type": "code",
   "execution_count": 13,
   "metadata": {},
   "outputs": [],
   "source": [
    "#| export\n",
    "def get_mrna_details(idx, mrna: SeqFeature) -> tuple[int, str, list[Position]]:\n",
    "    return idx, get_feature_transcript_id(mrna), mrna.location.parts"
   ]
  },
  {
   "cell_type": "code",
   "execution_count": 14,
   "metadata": {},
   "outputs": [
    {
     "data": {
      "text/plain": [
       "(22,\n",
       " 'NM_001005484.2',\n",
       " [SimpleLocation(ExactPosition(65418), ExactPosition(65433), strand=1),\n",
       "  SimpleLocation(ExactPosition(65519), ExactPosition(65573), strand=1),\n",
       "  SimpleLocation(ExactPosition(69036), ExactPosition(71585), strand=1)])"
      ]
     },
     "execution_count": 14,
     "metadata": {},
     "output_type": "execute_result"
    }
   ],
   "source": [
    "#| hide\n",
    "get_mrna_details(*chromosome_mrna[0])"
   ]
  },
  {
   "attachments": {},
   "cell_type": "markdown",
   "metadata": {},
   "source": [
    "### 1.2 Identify mRNA parent gene relationships"
   ]
  },
  {
   "cell_type": "code",
   "execution_count": 15,
   "metadata": {},
   "outputs": [],
   "source": [
    "#| export\n",
    "def get_gene_and_mrna_relationships(\n",
    "        chromosome: SeqRecord,\n",
    "        ) -> pd.DataFrame:\n",
    "    \"\"\n",
    "    mrna_features = filter_chromosome_features_by_type(chromosome, \"mRNA\")\n",
    "    relationships = set()\n",
    "    for idx, mrna in mrna_features:\n",
    "        mrna_transcript_id = get_feature_transcript_id(mrna)\n",
    "        mrna_gene_id = get_feature_geneid(mrna)\n",
    "        if mrna_gene_id is not None and mrna_transcript_id is not None:\n",
    "            relationship_tuple = (mrna_gene_id, mrna_transcript_id, idx)\n",
    "            relationships.add(relationship_tuple)\n",
    "\n",
    "    chromosome_relationships_df = pd.DataFrame(\n",
    "        relationships, \n",
    "        columns=['geneid', 'transcript_id', 'transcript_feature_idx']\n",
    "    ).drop_duplicates(subset=[\"geneid\", \"transcript_id\"]).sort_values(\"transcript_feature_idx\", ascending=True)\n",
    "\n",
    "    gene_idx = pd.DataFrame(\n",
    "        [(idx, get_feature_geneid(f)) for idx, f in filter_chromosome_features_by_type(chromosome, \"gene\")],\n",
    "        columns=[\"gene_feature_idx\", \"geneid\"]\n",
    "    ).drop_duplicates()\n",
    "\n",
    "    chromosome_relationships_df = chromosome_relationships_df.merge(\n",
    "        gene_idx, on=['geneid']\n",
    "    ).sort_values(\"gene_feature_idx\", ascending=True)\n",
    "    return chromosome_relationships_df"
   ]
  },
  {
   "cell_type": "code",
   "execution_count": 16,
   "metadata": {},
   "outputs": [],
   "source": [
    "#| hide\n",
    "chromosome_relationships = get_gene_and_mrna_relationships(\n",
    "    chromosome,\n",
    ")"
   ]
  },
  {
   "cell_type": "code",
   "execution_count": 17,
   "metadata": {},
   "outputs": [
    {
     "data": {
      "text/html": [
       "<div>\n",
       "<style scoped>\n",
       "    .dataframe tbody tr th:only-of-type {\n",
       "        vertical-align: middle;\n",
       "    }\n",
       "\n",
       "    .dataframe tbody tr th {\n",
       "        vertical-align: top;\n",
       "    }\n",
       "\n",
       "    .dataframe thead th {\n",
       "        text-align: right;\n",
       "    }\n",
       "</style>\n",
       "<table border=\"1\" class=\"dataframe\">\n",
       "  <thead>\n",
       "    <tr style=\"text-align: right;\">\n",
       "      <th></th>\n",
       "      <th>geneid</th>\n",
       "      <th>transcript_id</th>\n",
       "      <th>transcript_feature_idx</th>\n",
       "      <th>gene_feature_idx</th>\n",
       "    </tr>\n",
       "  </thead>\n",
       "  <tbody>\n",
       "    <tr>\n",
       "      <th>0</th>\n",
       "      <td>GeneID:79501</td>\n",
       "      <td>NM_001005484.2</td>\n",
       "      <td>22</td>\n",
       "      <td>21</td>\n",
       "    </tr>\n",
       "    <tr>\n",
       "      <th>1</th>\n",
       "      <td>GeneID:112268260</td>\n",
       "      <td>XM_047436352.1</td>\n",
       "      <td>80</td>\n",
       "      <td>79</td>\n",
       "    </tr>\n",
       "    <tr>\n",
       "      <th>2</th>\n",
       "      <td>GeneID:729759</td>\n",
       "      <td>NM_001005221.2</td>\n",
       "      <td>85</td>\n",
       "      <td>84</td>\n",
       "    </tr>\n",
       "    <tr>\n",
       "      <th>3</th>\n",
       "      <td>GeneID:105378947</td>\n",
       "      <td>XM_011542538.1</td>\n",
       "      <td>96</td>\n",
       "      <td>95</td>\n",
       "    </tr>\n",
       "    <tr>\n",
       "      <th>4</th>\n",
       "      <td>GeneID:81399</td>\n",
       "      <td>XM_024449992.2</td>\n",
       "      <td>126</td>\n",
       "      <td>125</td>\n",
       "    </tr>\n",
       "  </tbody>\n",
       "</table>\n",
       "</div>"
      ],
      "text/plain": [
       "             geneid   transcript_id  transcript_feature_idx  gene_feature_idx\n",
       "0      GeneID:79501  NM_001005484.2                      22                21\n",
       "1  GeneID:112268260  XM_047436352.1                      80                79\n",
       "2     GeneID:729759  NM_001005221.2                      85                84\n",
       "3  GeneID:105378947  XM_011542538.1                      96                95\n",
       "4      GeneID:81399  XM_024449992.2                     126               125"
      ]
     },
     "execution_count": 17,
     "metadata": {},
     "output_type": "execute_result"
    }
   ],
   "source": [
    "#| hide\n",
    "chromosome_relationships.head()"
   ]
  },
  {
   "attachments": {},
   "cell_type": "markdown",
   "metadata": {},
   "source": [
    "### 1.3 Write relationships"
   ]
  },
  {
   "cell_type": "code",
   "execution_count": 18,
   "metadata": {},
   "outputs": [],
   "source": [
    "#| export\n",
    "def write_mrna_gene_relationships(relationships: pd.DataFrame, chromosome: str, assembly_path: Path):\n",
    "    relationship_path = assembly_path / \"relationships\"\n",
    "    mrna_to_gene_path = relationship_path / \"mrna_to_gene\"\n",
    "    if not mrna_to_gene_path.exists():\n",
    "        mrna_to_gene_path.mkdir(parents=True)\n",
    "    chromosome_relationship_path = mrna_to_gene_path / f\"{chromosome}.csv\"\n",
    "    relationships.to_csv(chromosome_relationship_path, index=False)"
   ]
  },
  {
   "cell_type": "code",
   "execution_count": 19,
   "metadata": {},
   "outputs": [],
   "source": [
    "#| hide\n",
    "if not (latest_assembly_path / \"relationships\"/ \"mrna_to_gene\" / f\"{chromosome_path.stem}.csv\").exists():\n",
    "    write_mrna_gene_relationships(chromosome_relationships, chromosome_path.stem, latest_assembly_path)"
   ]
  },
  {
   "cell_type": "code",
   "execution_count": 20,
   "metadata": {},
   "outputs": [
    {
     "data": {
      "application/vnd.jupyter.widget-view+json": {
       "model_id": "064aacbb1fdd45e1897ffbd1452f5209",
       "version_major": 2,
       "version_minor": 0
      },
      "text/plain": [
       "  0%|                                                    | 0/25 [00:00<?, ?it/s]"
      ]
     },
     "metadata": {},
     "output_type": "display_data"
    }
   ],
   "source": [
    "#| hide\n",
    "mrna_to_gene_relationship_path = latest_assembly_path / \"relationships/mrna_to_gene\"\n",
    "chromosome_files = tqdm(\n",
    "    list(chromosomes_path.glob(\"*.gb\")),\n",
    "    leave=False,\n",
    "    ncols=80\n",
    "    )\n",
    "for chromosome_file in chromosome_files:\n",
    "    if not (mrna_to_gene_relationship_path / f\"{chromosome_file.stem}.csv\").exists():\n",
    "        with chromosome_file.open(\"rt\") as f:\n",
    "            chromosome = next(SeqIO.parse(f, \"genbank\"), None)\n",
    "        chromosome_relationships = get_gene_and_mrna_relationships(chromosome)\n",
    "        write_mrna_gene_relationships(chromosome_relationships, chromosome_file.stem, latest_assembly_path)\n"
   ]
  },
  {
   "attachments": {},
   "cell_type": "markdown",
   "metadata": {},
   "source": [
    "## 2. Process mRNA to gene relationships\n",
    "\n",
    "For all mRNA to gene relationships\n",
    "1. Construct synthetic SeqFeature using first and last position of the mRNA (this is input sequence)\n",
    "2. Construct mRNA sequence with intron tokens\n",
    "3. Collect [3] and [4]\n",
    "4. Write training instnaces to disk\n",
    "\n",
    "Goals\n",
    "1. Process safe\n",
    "2. Thread safe\n",
    "3. Finish within 20 minutes"
   ]
  },
  {
   "cell_type": "code",
   "execution_count": 21,
   "metadata": {},
   "outputs": [
    {
     "name": "stdout",
     "output_type": "stream",
     "text": [
      "/mnt/e/Data/llm-mito-scanner-data/data/raw/assemblies/GCF_000001405.40_GRCh38.p14/chromosomes/NC_000001.11.gb\n"
     ]
    }
   ],
   "source": [
    "#| hide\n",
    "sample_chromosome_file = next(iter(chromosomes_path.glob(\"*.gb\")))\n",
    "print(sample_chromosome_file)\n",
    "with sample_chromosome_file.open(\"rt\") as f:\n",
    "    sample_chromosome = next(SeqIO.parse(f, \"genbank\"))"
   ]
  },
  {
   "cell_type": "code",
   "execution_count": 22,
   "metadata": {},
   "outputs": [
    {
     "name": "stdout",
     "output_type": "stream",
     "text": [
      "/mnt/e/Data/llm-mito-scanner-data/data/raw/assemblies/GCF_000001405.40_GRCh38.p14/relationships/mrna_to_gene/NC_000001.11.csv\n"
     ]
    },
    {
     "data": {
      "text/html": [
       "<div>\n",
       "<style scoped>\n",
       "    .dataframe tbody tr th:only-of-type {\n",
       "        vertical-align: middle;\n",
       "    }\n",
       "\n",
       "    .dataframe tbody tr th {\n",
       "        vertical-align: top;\n",
       "    }\n",
       "\n",
       "    .dataframe thead th {\n",
       "        text-align: right;\n",
       "    }\n",
       "</style>\n",
       "<table border=\"1\" class=\"dataframe\">\n",
       "  <thead>\n",
       "    <tr style=\"text-align: right;\">\n",
       "      <th></th>\n",
       "      <th>geneid</th>\n",
       "      <th>transcript_id</th>\n",
       "      <th>transcript_feature_idx</th>\n",
       "      <th>gene_feature_idx</th>\n",
       "    </tr>\n",
       "  </thead>\n",
       "  <tbody>\n",
       "    <tr>\n",
       "      <th>0</th>\n",
       "      <td>GeneID:79501</td>\n",
       "      <td>NM_001005484.2</td>\n",
       "      <td>22</td>\n",
       "      <td>21</td>\n",
       "    </tr>\n",
       "    <tr>\n",
       "      <th>1</th>\n",
       "      <td>GeneID:112268260</td>\n",
       "      <td>XM_047436352.1</td>\n",
       "      <td>80</td>\n",
       "      <td>79</td>\n",
       "    </tr>\n",
       "    <tr>\n",
       "      <th>2</th>\n",
       "      <td>GeneID:729759</td>\n",
       "      <td>NM_001005221.2</td>\n",
       "      <td>85</td>\n",
       "      <td>84</td>\n",
       "    </tr>\n",
       "    <tr>\n",
       "      <th>3</th>\n",
       "      <td>GeneID:105378947</td>\n",
       "      <td>XM_011542538.1</td>\n",
       "      <td>96</td>\n",
       "      <td>95</td>\n",
       "    </tr>\n",
       "    <tr>\n",
       "      <th>4</th>\n",
       "      <td>GeneID:81399</td>\n",
       "      <td>XM_024449992.2</td>\n",
       "      <td>126</td>\n",
       "      <td>125</td>\n",
       "    </tr>\n",
       "  </tbody>\n",
       "</table>\n",
       "</div>"
      ],
      "text/plain": [
       "             geneid   transcript_id  transcript_feature_idx  gene_feature_idx\n",
       "0      GeneID:79501  NM_001005484.2                      22                21\n",
       "1  GeneID:112268260  XM_047436352.1                      80                79\n",
       "2     GeneID:729759  NM_001005221.2                      85                84\n",
       "3  GeneID:105378947  XM_011542538.1                      96                95\n",
       "4      GeneID:81399  XM_024449992.2                     126               125"
      ]
     },
     "execution_count": 22,
     "metadata": {},
     "output_type": "execute_result"
    }
   ],
   "source": [
    "sample_chromosome_name = sample_chromosome_file.stem\n",
    "sample_chromosome_relationships_path = latest_assembly_path / \"relationships/mrna_to_gene\" / f\"{sample_chromosome_name}.csv\"\n",
    "assert sample_chromosome_relationships_path.exists()\n",
    "print(sample_chromosome_relationships_path)\n",
    "sample_chromosome_relationships = pd.read_csv(sample_chromosome_relationships_path)\n",
    "sample_chromosome_relationships.head()"
   ]
  },
  {
   "cell_type": "code",
   "execution_count": 23,
   "metadata": {},
   "outputs": [],
   "source": [
    "#| export\n",
    "def get_mrna_gene_sequence(\n",
    "        chromosome: SeqRecord,\n",
    "        mrna_idx: int\n",
    ") -> str:\n",
    "    \"1. Construct synthetic transcription input sequence using first and last position of the mRNA\"\n",
    "    mrna = chromosome.features[mrna_idx]\n",
    "    strand = mrna.strand\n",
    "    positions = [int(p.start) for p in mrna.location.parts] + [int(p.end) for p in mrna.location.parts]\n",
    "    position_max = max(positions)\n",
    "    position_min = min(positions)\n",
    "    location = SimpleLocation(position_min, position_max, strand=strand)\n",
    "    transcription_target_feature = SeqFeature(\n",
    "        location=location,\n",
    "        type=\"mRNA\",\n",
    "    )\n",
    "    return \",\".join(list(str(transcription_target_feature.extract(chromosome).seq)))"
   ]
  },
  {
   "cell_type": "code",
   "execution_count": 24,
   "metadata": {},
   "outputs": [
    {
     "data": {
      "text/plain": [
       "6166"
      ]
     },
     "execution_count": 24,
     "metadata": {},
     "output_type": "execute_result"
    }
   ],
   "source": [
    "#| hide\n",
    "sample_input = get_mrna_gene_sequence(\n",
    "    sample_chromosome,\n",
    "    sample_chromosome_relationships.iloc[0, 2]\n",
    ")\n",
    "sample_input.count(\",\")"
   ]
  },
  {
   "cell_type": "code",
   "execution_count": 25,
   "metadata": {},
   "outputs": [],
   "source": [
    "#| export\n",
    "def get_mrna_locations(\n",
    "        chromosome: SeqRecord,\n",
    "        mrna_idx: int\n",
    "        ) -> dict[str, list[tuple[int, int, int]]]:\n",
    "    mrna_feature = chromosome.features[mrna_idx]\n",
    "    location_parts = [(int(p.start), int(p.end), int(p.strand)) for p in mrna_feature.location.parts]\n",
    "    return location_parts\n",
    "\n",
    "\n",
    "def get_mrna_splice_locations(\n",
    "        chromosome: SeqRecord,\n",
    "        mrna_idx: int\n",
    "        ) -> list[int, int]: # List of intron locations including Where they start and how large they are.\n",
    "    \"\"\"\n",
    "    We're going to read mRNA sequences where they're already oriented to their strand and spliced.\n",
    "    We need to normalize the locations so they're sorted according to strand and\n",
    "    normalized so they index to zero and ignore splice regions.\n",
    "    This is so we can easily split an mRNA read from source and insert introns.\n",
    "    \"\"\"\n",
    "    locations = get_mrna_locations(\n",
    "        chromosome,\n",
    "        mrna_idx\n",
    "    )\n",
    "    locations_df = pd.DataFrame(locations, columns=['start', 'end', 'strand'])\n",
    "    strand = locations_df.iloc[0, 2]\n",
    "    ascending_sort = True if strand == 1 else False\n",
    "    locations_df.sort_values(\"start\", \n",
    "                             ascending=ascending_sort, \n",
    "                             inplace=True)\n",
    "    start_loc = locations_df.iloc[0, 0]\n",
    "    locations_df.loc[:, 'start_norm'] = locations_df.start - start_loc\n",
    "    locations_df.loc[:, 'end_norm'] = locations_df.end - start_loc\n",
    "    locations_df.loc[:, 'end_norm_shift'] = locations_df.end_norm.shift(1)\n",
    "    introns = locations_df.dropna(subset=['end_norm_shift']).astype(int)\n",
    "    introns.loc[:, 'intron_size'] = introns.start_norm - introns.end_norm_shift\n",
    "    intron_list = introns[['end_norm', 'intron_size']].apply(abs).values.tolist()\n",
    "    return intron_list\n",
    "\n",
    "\n",
    "def get_mrna_sequence_with_introns(\n",
    "        chromosome: SeqRecord,\n",
    "        mrna_idx: int,\n",
    "        intron_token: str = \"<intron>\",\n",
    "        debug: bool = False\n",
    ") -> str:\n",
    "    \"2. Construct mRNA sequence with intron tokens.\"\n",
    "    intron_list = get_mrna_splice_locations(\n",
    "        chromosome,\n",
    "        mrna_idx\n",
    "        )\n",
    "    mrna = chromosome.features[mrna_idx]\n",
    "    mrna_sequence = str(mrna.extract(chromosome).seq)\n",
    "    if len(intron_list) == 0:\n",
    "        return \",\".join(list(mrna_sequence))\n",
    "    if debug:\n",
    "        print(len(mrna_sequence))\n",
    "        print(intron_list)\n",
    "    mrna_with_introns = []\n",
    "    last_intron_start = 0\n",
    "    for intron_start, intron_size in intron_list:\n",
    "        intron_str = [intron_token] * intron_size\n",
    "        spliced_mrna = list(mrna_sequence[last_intron_start:intron_start])\n",
    "        mrna_with_introns = mrna_with_introns + spliced_mrna + intron_str\n",
    "        last_intron_start = intron_start\n",
    "    return \",\".join(mrna_with_introns)"
   ]
  },
  {
   "cell_type": "code",
   "execution_count": 26,
   "metadata": {},
   "outputs": [
    {
     "data": {
      "text/plain": [
       "SeqFeature(CompoundLocation([SimpleLocation(ExactPosition(382049), ExactPosition(382235), strand=-1), SimpleLocation(ExactPosition(380896), ExactPosition(381688), strand=-1), SimpleLocation(ExactPosition(379768), ExactPosition(379870), strand=-1), SimpleLocation(ExactPosition(373143), ExactPosition(373323), strand=-1), SimpleLocation(ExactPosition(365133), ExactPosition(365692), strand=-1)], 'join'), type='mRNA', location_operator='join', qualifiers=...)"
      ]
     },
     "execution_count": 26,
     "metadata": {},
     "output_type": "execute_result"
    }
   ],
   "source": [
    "#| hide\n",
    "sample_chromosome.features[80]"
   ]
  },
  {
   "cell_type": "code",
   "execution_count": 27,
   "metadata": {},
   "outputs": [
    {
     "name": "stdout",
     "output_type": "stream",
     "text": [
      "1819\n",
      "[[361, 1339], [2179, 1920], [8726, 6727], [16357, 8190]]\n"
     ]
    },
    {
     "data": {
      "text/plain": [
       "19994"
      ]
     },
     "execution_count": 27,
     "metadata": {},
     "output_type": "execute_result"
    }
   ],
   "source": [
    "#| hide\n",
    "get_mrna_sequence_with_introns(sample_chromosome, 80, debug=True).count(\",\")"
   ]
  },
  {
   "cell_type": "code",
   "execution_count": 28,
   "metadata": {},
   "outputs": [
    {
     "data": {
      "text/plain": [
       "6166"
      ]
     },
     "execution_count": 28,
     "metadata": {},
     "output_type": "execute_result"
    }
   ],
   "source": [
    "#| hide\n",
    "sample_target = get_mrna_sequence_with_introns(sample_chromosome, sample_chromosome_relationships.iloc[0, 2])\n",
    "sample_target.count(\",\")"
   ]
  },
  {
   "cell_type": "code",
   "execution_count": 29,
   "metadata": {},
   "outputs": [],
   "source": [
    "#| export\n",
    "def get_input_and_target_sequence(\n",
    "        chromosome: SeqRecord,\n",
    "        mrna_idx: int\n",
    ") -> list[tuple[str, str]]:\n",
    "    \"3. Collect [3] and [4].\"\n",
    "    input_sequence = get_mrna_gene_sequence(\n",
    "        chromosome,\n",
    "        mrna_idx\n",
    "    )\n",
    "    target_sequence = get_mrna_sequence_with_introns(\n",
    "        chromosome, \n",
    "        mrna_idx\n",
    "    )\n",
    "    return input_sequence, target_sequence"
   ]
  },
  {
   "cell_type": "code",
   "execution_count": 30,
   "metadata": {},
   "outputs": [
    {
     "data": {
      "text/plain": [
       "True"
      ]
     },
     "execution_count": 30,
     "metadata": {},
     "output_type": "execute_result"
    }
   ],
   "source": [
    "#| hide\n",
    "sample_input, sample_target = get_input_and_target_sequence(\n",
    "    sample_chromosome,\n",
    "    sample_chromosome_relationships.iloc[0, 2]\n",
    ")\n",
    "sample_input.count(\",\") == sample_target.count(\",\")"
   ]
  },
  {
   "cell_type": "code",
   "execution_count": 31,
   "metadata": {},
   "outputs": [],
   "source": [
    "#| hide\n",
    "sample_input_and_targets = sample_chromosome_relationships.head(5).transcript_feature_idx.apply(\n",
    "    lambda idx: get_input_and_target_sequence(\n",
    "        sample_chromosome,\n",
    "        idx\n",
    "    )\n",
    ")"
   ]
  },
  {
   "cell_type": "code",
   "execution_count": 32,
   "metadata": {},
   "outputs": [
    {
     "data": {
      "text/plain": [
       "[(6166, 6166), (17101, 19994), (938, 938), (25010, 29438), (44025, 57099)]"
      ]
     },
     "execution_count": 32,
     "metadata": {},
     "output_type": "execute_result"
    }
   ],
   "source": [
    "#| hide\n",
    "[(x[0].count(\",\"), x[1].count(\",\")) for x in sample_input_and_targets]"
   ]
  },
  {
   "cell_type": "code",
   "execution_count": 33,
   "metadata": {},
   "outputs": [],
   "source": [
    "#| hide\n",
    "sample_input_and_targets_df = pd.DataFrame(sample_input_and_targets.values.tolist(), columns=['input', 'target']).merge(\n",
    "    sample_chromosome_relationships.head(5),\n",
    "    left_index=True,\n",
    "    right_index=True\n",
    "    )\n",
    "sample_input_and_targets_df.loc[:, 'input_len'] = sample_input_and_targets_df['input'].apply(lambda s: s.count(\",\"))\n",
    "sample_input_and_targets_df.loc[:, 'target_len'] = sample_input_and_targets_df['target'].apply(lambda s: s.count(\",\"))"
   ]
  },
  {
   "cell_type": "code",
   "execution_count": 34,
   "metadata": {},
   "outputs": [
    {
     "data": {
      "text/html": [
       "<div>\n",
       "<style scoped>\n",
       "    .dataframe tbody tr th:only-of-type {\n",
       "        vertical-align: middle;\n",
       "    }\n",
       "\n",
       "    .dataframe tbody tr th {\n",
       "        vertical-align: top;\n",
       "    }\n",
       "\n",
       "    .dataframe thead th {\n",
       "        text-align: right;\n",
       "    }\n",
       "</style>\n",
       "<table border=\"1\" class=\"dataframe\">\n",
       "  <thead>\n",
       "    <tr style=\"text-align: right;\">\n",
       "      <th></th>\n",
       "      <th>input</th>\n",
       "      <th>target</th>\n",
       "      <th>geneid</th>\n",
       "      <th>transcript_id</th>\n",
       "      <th>transcript_feature_idx</th>\n",
       "      <th>gene_feature_idx</th>\n",
       "      <th>input_len</th>\n",
       "      <th>target_len</th>\n",
       "    </tr>\n",
       "  </thead>\n",
       "  <tbody>\n",
       "    <tr>\n",
       "      <th>0</th>\n",
       "      <td>C,C,C,A,G,A,T,C,T,C,T,T,C,A,G,G,T,A,C,A,T,C,T,...</td>\n",
       "      <td>C,C,C,A,G,A,T,C,T,C,T,T,C,A,G,T,T,T,T,T,A,T,G,...</td>\n",
       "      <td>GeneID:79501</td>\n",
       "      <td>NM_001005484.2</td>\n",
       "      <td>22</td>\n",
       "      <td>21</td>\n",
       "      <td>6166</td>\n",
       "      <td>6166</td>\n",
       "    </tr>\n",
       "    <tr>\n",
       "      <th>1</th>\n",
       "      <td>A,T,G,C,C,T,A,G,A,C,A,C,A,C,A,C,A,T,C,C,T,T,A,...</td>\n",
       "      <td>A,T,G,C,C,T,A,G,A,C,A,C,A,C,A,C,A,T,C,C,T,T,A,...</td>\n",
       "      <td>GeneID:112268260</td>\n",
       "      <td>XM_047436352.1</td>\n",
       "      <td>80</td>\n",
       "      <td>79</td>\n",
       "      <td>17101</td>\n",
       "      <td>19994</td>\n",
       "    </tr>\n",
       "    <tr>\n",
       "      <th>2</th>\n",
       "      <td>A,T,G,G,A,T,G,G,A,G,A,G,A,A,T,C,A,C,T,C,A,G,T,...</td>\n",
       "      <td>A,T,G,G,A,T,G,G,A,G,A,G,A,A,T,C,A,C,T,C,A,G,T,...</td>\n",
       "      <td>GeneID:729759</td>\n",
       "      <td>NM_001005221.2</td>\n",
       "      <td>85</td>\n",
       "      <td>84</td>\n",
       "      <td>938</td>\n",
       "      <td>938</td>\n",
       "    </tr>\n",
       "    <tr>\n",
       "      <th>3</th>\n",
       "      <td>A,T,G,C,G,T,A,G,A,C,A,C,A,C,A,C,A,T,C,C,T,T,A,...</td>\n",
       "      <td>A,T,G,C,G,T,A,G,A,C,A,C,A,C,A,C,A,T,C,C,T,T,A,...</td>\n",
       "      <td>GeneID:105378947</td>\n",
       "      <td>XM_011542538.1</td>\n",
       "      <td>96</td>\n",
       "      <td>95</td>\n",
       "      <td>25010</td>\n",
       "      <td>29438</td>\n",
       "    </tr>\n",
       "    <tr>\n",
       "      <th>4</th>\n",
       "      <td>T,A,T,A,A,A,A,T,G,A,A,A,G,C,T,G,C,C,T,C,T,G,A,...</td>\n",
       "      <td>T,A,T,A,A,A,A,T,G,A,A,A,G,C,T,G,C,C,T,C,T,G,A,...</td>\n",
       "      <td>GeneID:81399</td>\n",
       "      <td>XM_024449992.2</td>\n",
       "      <td>126</td>\n",
       "      <td>125</td>\n",
       "      <td>44025</td>\n",
       "      <td>57099</td>\n",
       "    </tr>\n",
       "  </tbody>\n",
       "</table>\n",
       "</div>"
      ],
      "text/plain": [
       "                                               input   \n",
       "0  C,C,C,A,G,A,T,C,T,C,T,T,C,A,G,G,T,A,C,A,T,C,T,...  \\\n",
       "1  A,T,G,C,C,T,A,G,A,C,A,C,A,C,A,C,A,T,C,C,T,T,A,...   \n",
       "2  A,T,G,G,A,T,G,G,A,G,A,G,A,A,T,C,A,C,T,C,A,G,T,...   \n",
       "3  A,T,G,C,G,T,A,G,A,C,A,C,A,C,A,C,A,T,C,C,T,T,A,...   \n",
       "4  T,A,T,A,A,A,A,T,G,A,A,A,G,C,T,G,C,C,T,C,T,G,A,...   \n",
       "\n",
       "                                              target            geneid   \n",
       "0  C,C,C,A,G,A,T,C,T,C,T,T,C,A,G,T,T,T,T,T,A,T,G,...      GeneID:79501  \\\n",
       "1  A,T,G,C,C,T,A,G,A,C,A,C,A,C,A,C,A,T,C,C,T,T,A,...  GeneID:112268260   \n",
       "2  A,T,G,G,A,T,G,G,A,G,A,G,A,A,T,C,A,C,T,C,A,G,T,...     GeneID:729759   \n",
       "3  A,T,G,C,G,T,A,G,A,C,A,C,A,C,A,C,A,T,C,C,T,T,A,...  GeneID:105378947   \n",
       "4  T,A,T,A,A,A,A,T,G,A,A,A,G,C,T,G,C,C,T,C,T,G,A,...      GeneID:81399   \n",
       "\n",
       "    transcript_id  transcript_feature_idx  gene_feature_idx  input_len   \n",
       "0  NM_001005484.2                      22                21       6166  \\\n",
       "1  XM_047436352.1                      80                79      17101   \n",
       "2  NM_001005221.2                      85                84        938   \n",
       "3  XM_011542538.1                      96                95      25010   \n",
       "4  XM_024449992.2                     126               125      44025   \n",
       "\n",
       "   target_len  \n",
       "0        6166  \n",
       "1       19994  \n",
       "2         938  \n",
       "3       29438  \n",
       "4       57099  "
      ]
     },
     "execution_count": 34,
     "metadata": {},
     "output_type": "execute_result"
    }
   ],
   "source": [
    "#| hide\n",
    "sample_input_and_targets_df"
   ]
  },
  {
   "cell_type": "code",
   "execution_count": 35,
   "metadata": {},
   "outputs": [],
   "source": [
    "#| export\n",
    "def get_all_input_and_target_sequences(\n",
    "        chromosome: SeqRecord,\n",
    "        relationships: pd.DataFrame\n",
    "):\n",
    "    # Has to be processed sequentially\n",
    "    \n",
    "    pass"
   ]
  },
  {
   "cell_type": "code",
   "execution_count": 36,
   "metadata": {},
   "outputs": [],
   "source": [
    "#| export\n",
    "def write_input_and_output_sequences(\n",
    "        \n",
    "):\n",
    "    \"4. Write training instances to disk.\""
   ]
  },
  {
   "cell_type": "code",
   "execution_count": 38,
   "metadata": {},
   "outputs": [],
   "source": [
    "#| hide\n",
    "import nbdev; nbdev.nbdev_export()"
   ]
  },
  {
   "cell_type": "code",
   "execution_count": null,
   "metadata": {},
   "outputs": [],
   "source": []
  }
 ],
 "metadata": {
  "kernelspec": {
   "display_name": "python3",
   "language": "python",
   "name": "python3"
  },
  "language_info": {
   "codemirror_mode": {
    "name": "ipython",
    "version": 3
   },
   "file_extension": ".py",
   "mimetype": "text/x-python",
   "name": "python",
   "nbconvert_exporter": "python",
   "pygments_lexer": "ipython3",
   "version": "3.10.6"
  }
 },
 "nbformat": 4,
 "nbformat_minor": 4
}
