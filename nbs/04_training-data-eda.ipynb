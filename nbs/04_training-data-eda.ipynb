{
 "cells": [
  {
   "cell_type": "markdown",
   "id": "be09f4b3-3c91-47d9-bf0e-adafe9304d08",
   "metadata": {},
   "source": [
    "# Analyze the extracted sequences for training\n",
    "\n",
    "> \"Before we train, lets see what our corpus is like.\""
   ]
  },
  {
   "cell_type": "code",
   "execution_count": null,
   "id": "0240f590-9b0f-4d95-88ba-631f3dbbba03",
   "metadata": {},
   "outputs": [],
   "source": [
    "#| default_exp analysis.training"
   ]
  },
  {
   "cell_type": "code",
   "execution_count": null,
   "id": "71cc7c98-7fa8-4d34-81f8-0ddbd21e3a35",
   "metadata": {},
   "outputs": [],
   "source": [
    "#| hide\n",
    "from nbdev.showdoc import *"
   ]
  },
  {
   "cell_type": "code",
   "execution_count": null,
   "id": "7472d260-2098-406b-b84d-f7c355a185e5",
   "metadata": {},
   "outputs": [
    {
     "name": "stderr",
     "output_type": "stream",
     "text": [
      "/home/jdb/projects/llm-mito-scanner/venv/lib/python3.10/site-packages/Bio/__init__.py:138: BiopythonWarning: You may be importing Biopython from inside the source tree. This is bad practice and might lead to downstream issues. In particular, you might encounter ImportErrors due to missing compiled C extensions. We recommend that you try running your code from outside the source tree. If you are outside the source tree then you have a setup.py file in an unexpected directory: /home/jdb/projects/llm-mito-scanner/venv/lib/python3.10/site-packages\n",
      "  warnings.warn(\n"
     ]
    }
   ],
   "source": [
    "#| export\n",
    "import pandas as pd\n",
    "from pathlib import Path\n",
    "from tqdm.auto import tqdm\n",
    "from Bio import SeqIO"
   ]
  },
  {
   "cell_type": "code",
   "execution_count": null,
   "id": "637110e4-e712-41c8-8c0d-296bcac49d0b",
   "metadata": {},
   "outputs": [],
   "source": [
    "#| hide\n",
    "from yaml import safe_load\n",
    "\n",
    "tqdm.pandas(ncols=80, leave=False)\n",
    "\n",
    "with open(\"../config.yml\") as f:\n",
    "    config = safe_load(f)"
   ]
  },
  {
   "cell_type": "code",
   "execution_count": null,
   "id": "6ee23662-8099-4647-b18a-097dc25f719a",
   "metadata": {},
   "outputs": [],
   "source": [
    "#| hide\n",
    "import json\n",
    "\n",
    "data_path = Path(config.get(\"data_path\"))\n",
    "annotations_path = data_path / \"annotations\"\n",
    "genome_path = data_path / \"genome\"\n",
    "sequences_path = data_path / \"entrez_genes_sequences\"\n",
    "protein_path = data_path / \"protein\"\n",
    "training_data_path = data_path / \"training\""
   ]
  },
  {
   "cell_type": "markdown",
   "id": "39bde699-6961-4163-924a-8bad7ee5d611",
   "metadata": {},
   "source": [
    "## Indexing what data we have\n",
    "\n",
    "> \"How much data did we extract / generate?\""
   ]
  },
  {
   "cell_type": "code",
   "execution_count": null,
   "id": "0bc2ddf0-fe11-4857-b925-a98412cb7ac3",
   "metadata": {},
   "outputs": [
    {
     "name": "stdout",
     "output_type": "stream",
     "text": [
      "560\n"
     ]
    },
    {
     "data": {
      "text/html": [
       "<div>\n",
       "<style scoped>\n",
       "    .dataframe tbody tr th:only-of-type {\n",
       "        vertical-align: middle;\n",
       "    }\n",
       "\n",
       "    .dataframe tbody tr th {\n",
       "        vertical-align: top;\n",
       "    }\n",
       "\n",
       "    .dataframe thead th {\n",
       "        text-align: right;\n",
       "    }\n",
       "</style>\n",
       "<table border=\"1\" class=\"dataframe\">\n",
       "  <thead>\n",
       "    <tr style=\"text-align: right;\">\n",
       "      <th></th>\n",
       "      <th>annotation_path</th>\n",
       "      <th>annotation</th>\n",
       "    </tr>\n",
       "  </thead>\n",
       "  <tbody>\n",
       "    <tr>\n",
       "      <th>0</th>\n",
       "      <td>/mnt/e/Data/llm-mito-scanner-data/data/trainin...</td>\n",
       "      <td>NC_000001</td>\n",
       "    </tr>\n",
       "    <tr>\n",
       "      <th>1</th>\n",
       "      <td>/mnt/e/Data/llm-mito-scanner-data/data/trainin...</td>\n",
       "      <td>NC_000002</td>\n",
       "    </tr>\n",
       "    <tr>\n",
       "      <th>2</th>\n",
       "      <td>/mnt/e/Data/llm-mito-scanner-data/data/trainin...</td>\n",
       "      <td>NC_000003</td>\n",
       "    </tr>\n",
       "    <tr>\n",
       "      <th>3</th>\n",
       "      <td>/mnt/e/Data/llm-mito-scanner-data/data/trainin...</td>\n",
       "      <td>NC_000004</td>\n",
       "    </tr>\n",
       "    <tr>\n",
       "      <th>4</th>\n",
       "      <td>/mnt/e/Data/llm-mito-scanner-data/data/trainin...</td>\n",
       "      <td>NC_000005</td>\n",
       "    </tr>\n",
       "  </tbody>\n",
       "</table>\n",
       "</div>"
      ],
      "text/plain": [
       "                                     annotation_path annotation\n",
       "0  /mnt/e/Data/llm-mito-scanner-data/data/trainin...  NC_000001\n",
       "1  /mnt/e/Data/llm-mito-scanner-data/data/trainin...  NC_000002\n",
       "2  /mnt/e/Data/llm-mito-scanner-data/data/trainin...  NC_000003\n",
       "3  /mnt/e/Data/llm-mito-scanner-data/data/trainin...  NC_000004\n",
       "4  /mnt/e/Data/llm-mito-scanner-data/data/trainin...  NC_000005"
      ]
     },
     "execution_count": null,
     "metadata": {},
     "output_type": "execute_result"
    }
   ],
   "source": [
    "#| hide\n",
    "# Training data is organized by annotation id, then gene\n",
    "training_annotation_directories = pd.Series(training_data_path.glob(\"*\"))\n",
    "training_annotation_directories.name = \"annotation_path\"\n",
    "training_data = training_annotation_directories.to_frame()\n",
    "training_data.loc[:, 'annotation'] = training_data.annotation_path.apply(lambda p: p.stem)\n",
    "print(training_data.shape[0])\n",
    "training_data.head()"
   ]
  },
  {
   "cell_type": "code",
   "execution_count": null,
   "id": "2212e59b-65f6-4524-bce1-eb9953de0513",
   "metadata": {},
   "outputs": [
    {
     "data": {
      "text/plain": [
       "0    [/mnt/e/Data/llm-mito-scanner-data/data/traini...\n",
       "1    [/mnt/e/Data/llm-mito-scanner-data/data/traini...\n",
       "2    [/mnt/e/Data/llm-mito-scanner-data/data/traini...\n",
       "3    [/mnt/e/Data/llm-mito-scanner-data/data/traini...\n",
       "4    [/mnt/e/Data/llm-mito-scanner-data/data/traini...\n",
       "Name: annotation_objects, dtype: object"
      ]
     },
     "execution_count": null,
     "metadata": {},
     "output_type": "execute_result"
    }
   ],
   "source": [
    "#| hide\n",
    "# Which of these directories has nothing but the gene to protein map?\n",
    "training_data.loc[:, 'annotation_objects'] = training_data.annotation_path.apply(lambda p: list(p.glob(\"*\")))\n",
    "training_data.annotation_objects.iloc[:5]"
   ]
  },
  {
   "cell_type": "code",
   "execution_count": null,
   "id": "e79894ea-aa3a-4727-a8c4-68f13e3a858f",
   "metadata": {},
   "outputs": [
    {
     "data": {
      "text/plain": [
       "16866"
      ]
     },
     "execution_count": null,
     "metadata": {},
     "output_type": "execute_result"
    }
   ],
   "source": [
    "#| hide\n",
    "# How many objects are under each annotation directory in total?\n",
    "training_data.annotation_objects.apply(len).sum()"
   ]
  },
  {
   "cell_type": "code",
   "execution_count": null,
   "id": "37efcd58-5fe0-4171-8db4-e09beec64c15",
   "metadata": {},
   "outputs": [
    {
     "data": {
      "text/plain": [
       "count     560.000000\n",
       "mean       30.117857\n",
       "std       150.516453\n",
       "min         1.000000\n",
       "25%         1.000000\n",
       "50%         1.000000\n",
       "75%         1.000000\n",
       "max      1278.000000\n",
       "Name: annotation_objects, dtype: float64"
      ]
     },
     "execution_count": null,
     "metadata": {},
     "output_type": "execute_result"
    }
   ],
   "source": [
    "#| hide\n",
    "# How many objects are under each annotation directory?\n",
    "training_data.annotation_objects.apply(len).describe()"
   ]
  },
  {
   "cell_type": "code",
   "execution_count": null,
   "id": "b7d0b976-c85d-45ad-9c70-890caeb4114c",
   "metadata": {},
   "outputs": [],
   "source": [
    "#| export\n",
    "def detect_gene_to_protein_map(list_of_paths: list[Path]):\n",
    "    list_of_paths_is_protein_map = [p for p in list_of_paths if p.stem == \"gene_to_protein_map\"]\n",
    "    if len(list_of_paths_is_protein_map) == 0:\n",
    "        return None\n",
    "    elif len(list_of_paths_is_protein_map) > 1:\n",
    "        raise ValueError(\"Somehow there are two gene to protein maps\")\n",
    "    return list_of_paths_is_protein_map[0]"
   ]
  },
  {
   "cell_type": "code",
   "execution_count": null,
   "id": "643607e8-d5f5-4134-b9a0-d2cd3a63c049",
   "metadata": {},
   "outputs": [
    {
     "data": {
      "text/plain": [
       "protein_map_file\n",
       "<class 'pathlib.PosixPath'>    560\n",
       "Name: count, dtype: int64"
      ]
     },
     "execution_count": null,
     "metadata": {},
     "output_type": "execute_result"
    }
   ],
   "source": [
    "#| hide\n",
    "training_data.loc[:, 'protein_map_file'] = training_data.annotation_objects.apply(detect_gene_to_protein_map)\n",
    "training_data.protein_map_file.apply(type).value_counts()"
   ]
  },
  {
   "cell_type": "code",
   "execution_count": null,
   "id": "8a5fbc4f-7a58-4ecd-a4a3-740de2784202",
   "metadata": {},
   "outputs": [
    {
     "data": {
      "application/vnd.jupyter.widget-view+json": {
       "model_id": "",
       "version_major": 2,
       "version_minor": 0
      },
      "text/plain": [
       "  0%|                                                   | 0/560 [00:00<?, ?it/s]"
      ]
     },
     "metadata": {},
     "output_type": "display_data"
    }
   ],
   "source": [
    "#| hide\n",
    "training_data.loc[:, \"gene_directories\"] = training_data.annotation_objects.progress_apply(lambda anno_list: [obj for obj in anno_list if obj.is_dir()])"
   ]
  },
  {
   "cell_type": "code",
   "execution_count": null,
   "id": "97564def-d4e1-4f8e-82a1-68e09a6b3578",
   "metadata": {},
   "outputs": [
    {
     "data": {
      "text/plain": [
       "560"
      ]
     },
     "execution_count": null,
     "metadata": {},
     "output_type": "execute_result"
    }
   ],
   "source": [
    "#| hide\n",
    "gene_to_protein_map_paths = training_data.set_index('annotation').protein_map_file.drop_duplicates().to_dict()\n",
    "len(gene_to_protein_map_paths)"
   ]
  },
  {
   "cell_type": "code",
   "execution_count": null,
   "id": "efb26c73-624a-46b3-a26e-a55aa913c254",
   "metadata": {},
   "outputs": [
    {
     "data": {
      "text/html": [
       "<div>\n",
       "<style scoped>\n",
       "    .dataframe tbody tr th:only-of-type {\n",
       "        vertical-align: middle;\n",
       "    }\n",
       "\n",
       "    .dataframe tbody tr th {\n",
       "        vertical-align: top;\n",
       "    }\n",
       "\n",
       "    .dataframe thead th {\n",
       "        text-align: right;\n",
       "    }\n",
       "</style>\n",
       "<table border=\"1\" class=\"dataframe\">\n",
       "  <thead>\n",
       "    <tr style=\"text-align: right;\">\n",
       "      <th></th>\n",
       "      <th>gene_directories</th>\n",
       "    </tr>\n",
       "    <tr>\n",
       "      <th>annotation</th>\n",
       "      <th></th>\n",
       "    </tr>\n",
       "  </thead>\n",
       "  <tbody>\n",
       "    <tr>\n",
       "      <th>NC_000003</th>\n",
       "      <td>/mnt/e/Data/llm-mito-scanner-data/data/trainin...</td>\n",
       "    </tr>\n",
       "    <tr>\n",
       "      <th>NC_000003</th>\n",
       "      <td>/mnt/e/Data/llm-mito-scanner-data/data/trainin...</td>\n",
       "    </tr>\n",
       "    <tr>\n",
       "      <th>NC_000003</th>\n",
       "      <td>/mnt/e/Data/llm-mito-scanner-data/data/trainin...</td>\n",
       "    </tr>\n",
       "    <tr>\n",
       "      <th>NC_000003</th>\n",
       "      <td>/mnt/e/Data/llm-mito-scanner-data/data/trainin...</td>\n",
       "    </tr>\n",
       "    <tr>\n",
       "      <th>NC_000003</th>\n",
       "      <td>/mnt/e/Data/llm-mito-scanner-data/data/trainin...</td>\n",
       "    </tr>\n",
       "  </tbody>\n",
       "</table>\n",
       "</div>"
      ],
      "text/plain": [
       "                                             gene_directories\n",
       "annotation                                                   \n",
       "NC_000003   /mnt/e/Data/llm-mito-scanner-data/data/trainin...\n",
       "NC_000003   /mnt/e/Data/llm-mito-scanner-data/data/trainin...\n",
       "NC_000003   /mnt/e/Data/llm-mito-scanner-data/data/trainin...\n",
       "NC_000003   /mnt/e/Data/llm-mito-scanner-data/data/trainin...\n",
       "NC_000003   /mnt/e/Data/llm-mito-scanner-data/data/trainin..."
      ]
     },
     "execution_count": null,
     "metadata": {},
     "output_type": "execute_result"
    }
   ],
   "source": [
    "#| hide\n",
    "gene_annotations = training_data[training_data.gene_directories.apply(len) > 0].set_index('annotation').explode('gene_directories').drop(\n",
    "    [\"protein_map_file\", \"annotation_objects\", \"annotation_path\"], \n",
    "    axis=1\n",
    ")\n",
    "gene_annotations.head()"
   ]
  },
  {
   "cell_type": "code",
   "execution_count": null,
   "id": "e55bc4cd-0cea-45af-9182-2f7f2a243a9a",
   "metadata": {},
   "outputs": [
    {
     "data": {
      "application/vnd.jupyter.widget-view+json": {
       "model_id": "",
       "version_major": 2,
       "version_minor": 0
      },
      "text/plain": [
       "  0%|                                                 | 0/16306 [00:00<?, ?it/s]"
      ]
     },
     "metadata": {},
     "output_type": "display_data"
    }
   ],
   "source": [
    "#| hide\n",
    "gene_annotations.loc[:, 'annotations'] = gene_annotations.gene_directories.progress_apply(lambda p: list(p.glob(\"*.txt\")))"
   ]
  },
  {
   "cell_type": "code",
   "execution_count": null,
   "id": "b163fc0c-23ed-4285-b601-012d48c6f7bf",
   "metadata": {},
   "outputs": [
    {
     "data": {
      "application/vnd.jupyter.widget-view+json": {
       "model_id": "",
       "version_major": 2,
       "version_minor": 0
      },
      "text/plain": [
       "  0%|                                                 | 0/16306 [00:00<?, ?it/s]"
      ]
     },
     "metadata": {},
     "output_type": "display_data"
    }
   ],
   "source": [
    "#| hide\n",
    "gene_annotations.loc[:, 'gene_annotation'] = gene_annotations.annotations.progress_apply(lambda anno_list: next(iter([p for p in anno_list if p.stem == \"gene\"]), None))"
   ]
  },
  {
   "cell_type": "code",
   "execution_count": null,
   "id": "922dcdf7-b42d-465e-b3dd-e99449a8bea1",
   "metadata": {},
   "outputs": [],
   "source": [
    "#| hide\n",
    "gene_annotations.loc[:, 'protein_annotations'] = gene_annotations.annotations.apply(lambda anno_list: [p for p in anno_list if p.stem != \"gene\"])"
   ]
  },
  {
   "cell_type": "code",
   "execution_count": null,
   "id": "5128dd3c-8942-40f6-8c47-272586d878da",
   "metadata": {},
   "outputs": [],
   "source": [
    "#| hide\n",
    "gene_annotations.loc[:, 'gene'] = gene_annotations.gene_directories.apply(lambda p: p.stem)"
   ]
  },
  {
   "cell_type": "code",
   "execution_count": null,
   "id": "8f35fa45-0e29-4a6f-ab98-0df071a09b9e",
   "metadata": {},
   "outputs": [
    {
     "data": {
      "text/html": [
       "<div>\n",
       "<style scoped>\n",
       "    .dataframe tbody tr th:only-of-type {\n",
       "        vertical-align: middle;\n",
       "    }\n",
       "\n",
       "    .dataframe tbody tr th {\n",
       "        vertical-align: top;\n",
       "    }\n",
       "\n",
       "    .dataframe thead th {\n",
       "        text-align: right;\n",
       "    }\n",
       "</style>\n",
       "<table border=\"1\" class=\"dataframe\">\n",
       "  <thead>\n",
       "    <tr style=\"text-align: right;\">\n",
       "      <th></th>\n",
       "      <th>gene_directories</th>\n",
       "      <th>annotations</th>\n",
       "      <th>gene_annotation</th>\n",
       "      <th>protein_annotations</th>\n",
       "      <th>gene</th>\n",
       "    </tr>\n",
       "    <tr>\n",
       "      <th>annotation</th>\n",
       "      <th></th>\n",
       "      <th></th>\n",
       "      <th></th>\n",
       "      <th></th>\n",
       "      <th></th>\n",
       "    </tr>\n",
       "  </thead>\n",
       "  <tbody>\n",
       "    <tr>\n",
       "      <th>NC_000003</th>\n",
       "      <td>/mnt/e/Data/llm-mito-scanner-data/data/trainin...</td>\n",
       "      <td>[/mnt/e/Data/llm-mito-scanner-data/data/traini...</td>\n",
       "      <td>/mnt/e/Data/llm-mito-scanner-data/data/trainin...</td>\n",
       "      <td>[/mnt/e/Data/llm-mito-scanner-data/data/traini...</td>\n",
       "      <td>100129480</td>\n",
       "    </tr>\n",
       "    <tr>\n",
       "      <th>NC_000003</th>\n",
       "      <td>/mnt/e/Data/llm-mito-scanner-data/data/trainin...</td>\n",
       "      <td>[/mnt/e/Data/llm-mito-scanner-data/data/traini...</td>\n",
       "      <td>/mnt/e/Data/llm-mito-scanner-data/data/trainin...</td>\n",
       "      <td>[/mnt/e/Data/llm-mito-scanner-data/data/traini...</td>\n",
       "      <td>100131827</td>\n",
       "    </tr>\n",
       "    <tr>\n",
       "      <th>NC_000003</th>\n",
       "      <td>/mnt/e/Data/llm-mito-scanner-data/data/trainin...</td>\n",
       "      <td>[/mnt/e/Data/llm-mito-scanner-data/data/traini...</td>\n",
       "      <td>/mnt/e/Data/llm-mito-scanner-data/data/trainin...</td>\n",
       "      <td>[/mnt/e/Data/llm-mito-scanner-data/data/traini...</td>\n",
       "      <td>100132146</td>\n",
       "    </tr>\n",
       "    <tr>\n",
       "      <th>NC_000003</th>\n",
       "      <td>/mnt/e/Data/llm-mito-scanner-data/data/trainin...</td>\n",
       "      <td>[/mnt/e/Data/llm-mito-scanner-data/data/traini...</td>\n",
       "      <td>/mnt/e/Data/llm-mito-scanner-data/data/trainin...</td>\n",
       "      <td>[/mnt/e/Data/llm-mito-scanner-data/data/traini...</td>\n",
       "      <td>10015</td>\n",
       "    </tr>\n",
       "    <tr>\n",
       "      <th>NC_000003</th>\n",
       "      <td>/mnt/e/Data/llm-mito-scanner-data/data/trainin...</td>\n",
       "      <td>[/mnt/e/Data/llm-mito-scanner-data/data/traini...</td>\n",
       "      <td>/mnt/e/Data/llm-mito-scanner-data/data/trainin...</td>\n",
       "      <td>[/mnt/e/Data/llm-mito-scanner-data/data/traini...</td>\n",
       "      <td>100288801</td>\n",
       "    </tr>\n",
       "  </tbody>\n",
       "</table>\n",
       "</div>"
      ],
      "text/plain": [
       "                                             gene_directories   \n",
       "annotation                                                      \n",
       "NC_000003   /mnt/e/Data/llm-mito-scanner-data/data/trainin...  \\\n",
       "NC_000003   /mnt/e/Data/llm-mito-scanner-data/data/trainin...   \n",
       "NC_000003   /mnt/e/Data/llm-mito-scanner-data/data/trainin...   \n",
       "NC_000003   /mnt/e/Data/llm-mito-scanner-data/data/trainin...   \n",
       "NC_000003   /mnt/e/Data/llm-mito-scanner-data/data/trainin...   \n",
       "\n",
       "                                                  annotations   \n",
       "annotation                                                      \n",
       "NC_000003   [/mnt/e/Data/llm-mito-scanner-data/data/traini...  \\\n",
       "NC_000003   [/mnt/e/Data/llm-mito-scanner-data/data/traini...   \n",
       "NC_000003   [/mnt/e/Data/llm-mito-scanner-data/data/traini...   \n",
       "NC_000003   [/mnt/e/Data/llm-mito-scanner-data/data/traini...   \n",
       "NC_000003   [/mnt/e/Data/llm-mito-scanner-data/data/traini...   \n",
       "\n",
       "                                              gene_annotation   \n",
       "annotation                                                      \n",
       "NC_000003   /mnt/e/Data/llm-mito-scanner-data/data/trainin...  \\\n",
       "NC_000003   /mnt/e/Data/llm-mito-scanner-data/data/trainin...   \n",
       "NC_000003   /mnt/e/Data/llm-mito-scanner-data/data/trainin...   \n",
       "NC_000003   /mnt/e/Data/llm-mito-scanner-data/data/trainin...   \n",
       "NC_000003   /mnt/e/Data/llm-mito-scanner-data/data/trainin...   \n",
       "\n",
       "                                          protein_annotations       gene  \n",
       "annotation                                                                \n",
       "NC_000003   [/mnt/e/Data/llm-mito-scanner-data/data/traini...  100129480  \n",
       "NC_000003   [/mnt/e/Data/llm-mito-scanner-data/data/traini...  100131827  \n",
       "NC_000003   [/mnt/e/Data/llm-mito-scanner-data/data/traini...  100132146  \n",
       "NC_000003   [/mnt/e/Data/llm-mito-scanner-data/data/traini...      10015  \n",
       "NC_000003   [/mnt/e/Data/llm-mito-scanner-data/data/traini...  100288801  "
      ]
     },
     "execution_count": null,
     "metadata": {},
     "output_type": "execute_result"
    }
   ],
   "source": [
    "#| hide\n",
    "gene_annotations.head()"
   ]
  },
  {
   "cell_type": "code",
   "execution_count": null,
   "id": "071e61cc-7223-4d2c-8f64-4780d49ee7de",
   "metadata": {},
   "outputs": [
    {
     "data": {
      "text/html": [
       "<div>\n",
       "<style scoped>\n",
       "    .dataframe tbody tr th:only-of-type {\n",
       "        vertical-align: middle;\n",
       "    }\n",
       "\n",
       "    .dataframe tbody tr th {\n",
       "        vertical-align: top;\n",
       "    }\n",
       "\n",
       "    .dataframe thead th {\n",
       "        text-align: right;\n",
       "    }\n",
       "</style>\n",
       "<table border=\"1\" class=\"dataframe\">\n",
       "  <thead>\n",
       "    <tr style=\"text-align: right;\">\n",
       "      <th></th>\n",
       "      <th>annotation</th>\n",
       "      <th>gene</th>\n",
       "      <th>gene_annotation</th>\n",
       "      <th>protein_annotation</th>\n",
       "      <th>label_id</th>\n",
       "    </tr>\n",
       "  </thead>\n",
       "  <tbody>\n",
       "    <tr>\n",
       "      <th>0</th>\n",
       "      <td>NC_000003</td>\n",
       "      <td>100129480</td>\n",
       "      <td>/mnt/e/Data/llm-mito-scanner-data/data/trainin...</td>\n",
       "      <td>/mnt/e/Data/llm-mito-scanner-data/data/trainin...</td>\n",
       "      <td>rna-NM_001195279.2</td>\n",
       "    </tr>\n",
       "    <tr>\n",
       "      <th>1</th>\n",
       "      <td>NC_000003</td>\n",
       "      <td>100129480</td>\n",
       "      <td>/mnt/e/Data/llm-mito-scanner-data/data/trainin...</td>\n",
       "      <td>/mnt/e/Data/llm-mito-scanner-data/data/trainin...</td>\n",
       "      <td>rna-NM_001378007.1</td>\n",
       "    </tr>\n",
       "    <tr>\n",
       "      <th>2</th>\n",
       "      <td>NC_000003</td>\n",
       "      <td>100129480</td>\n",
       "      <td>/mnt/e/Data/llm-mito-scanner-data/data/trainin...</td>\n",
       "      <td>/mnt/e/Data/llm-mito-scanner-data/data/trainin...</td>\n",
       "      <td>rna-NM_001378008.1</td>\n",
       "    </tr>\n",
       "    <tr>\n",
       "      <th>3</th>\n",
       "      <td>NC_000003</td>\n",
       "      <td>100129480</td>\n",
       "      <td>/mnt/e/Data/llm-mito-scanner-data/data/trainin...</td>\n",
       "      <td>/mnt/e/Data/llm-mito-scanner-data/data/trainin...</td>\n",
       "      <td>rna-NM_001378009.1</td>\n",
       "    </tr>\n",
       "    <tr>\n",
       "      <th>4</th>\n",
       "      <td>NC_000003</td>\n",
       "      <td>100129480</td>\n",
       "      <td>/mnt/e/Data/llm-mito-scanner-data/data/trainin...</td>\n",
       "      <td>/mnt/e/Data/llm-mito-scanner-data/data/trainin...</td>\n",
       "      <td>rna-NM_001378010.1</td>\n",
       "    </tr>\n",
       "  </tbody>\n",
       "</table>\n",
       "</div>"
      ],
      "text/plain": [
       "  annotation       gene                                    gene_annotation   \n",
       "0  NC_000003  100129480  /mnt/e/Data/llm-mito-scanner-data/data/trainin...  \\\n",
       "1  NC_000003  100129480  /mnt/e/Data/llm-mito-scanner-data/data/trainin...   \n",
       "2  NC_000003  100129480  /mnt/e/Data/llm-mito-scanner-data/data/trainin...   \n",
       "3  NC_000003  100129480  /mnt/e/Data/llm-mito-scanner-data/data/trainin...   \n",
       "4  NC_000003  100129480  /mnt/e/Data/llm-mito-scanner-data/data/trainin...   \n",
       "\n",
       "                                  protein_annotation            label_id  \n",
       "0  /mnt/e/Data/llm-mito-scanner-data/data/trainin...  rna-NM_001195279.2  \n",
       "1  /mnt/e/Data/llm-mito-scanner-data/data/trainin...  rna-NM_001378007.1  \n",
       "2  /mnt/e/Data/llm-mito-scanner-data/data/trainin...  rna-NM_001378008.1  \n",
       "3  /mnt/e/Data/llm-mito-scanner-data/data/trainin...  rna-NM_001378009.1  \n",
       "4  /mnt/e/Data/llm-mito-scanner-data/data/trainin...  rna-NM_001378010.1  "
      ]
     },
     "execution_count": null,
     "metadata": {},
     "output_type": "execute_result"
    }
   ],
   "source": [
    "#| hide\n",
    "training_annotations = gene_annotations.set_index('gene', append=True).drop(\n",
    "    [\n",
    "        \"annotations\", \n",
    "        \"gene_directories\",\n",
    "    ],\n",
    "    axis=1\n",
    ").explode('protein_annotations').reset_index(drop=False).rename(\n",
    "    {\n",
    "        \"protein_annotations\": \"protein_annotation\"\n",
    "    },\n",
    "    axis=1\n",
    ").dropna(subset=['protein_annotation'])\n",
    "training_annotations.loc[:, 'label_id'] = training_annotations.protein_annotation.apply(lambda p: p.stem)\n",
    "training_annotations.head()"
   ]
  },
  {
   "cell_type": "code",
   "execution_count": null,
   "id": "b5c6d03f-5f14-4da5-98f2-3c4634d3c3d0",
   "metadata": {},
   "outputs": [
    {
     "data": {
      "text/plain": [
       "106832"
      ]
     },
     "execution_count": null,
     "metadata": {},
     "output_type": "execute_result"
    }
   ],
   "source": [
    "#| hide\n",
    "training_annotations.shape[0]"
   ]
  },
  {
   "cell_type": "code",
   "execution_count": null,
   "id": "f67af04e-4daf-4cec-a0a6-56d5cb29c388",
   "metadata": {},
   "outputs": [],
   "source": [
    "#| export\n",
    "def get_training_annotation_paths(training_data_path: Path) -> (dict, pd.DataFrame):\n",
    "    \"\"\"\n",
    "    Search the training data path for actual annotations to use.\n",
    "    \"\"\"\n",
    "    training_annotation_directories = pd.Series(training_data_path.glob(\"*\"))\n",
    "    training_annotation_directories.name = \"annotation_path\"\n",
    "    training_data = training_annotation_directories.to_frame()\n",
    "    training_data.loc[:, 'annotation'] = training_data.annotation_path.apply(lambda p: p.stem)\n",
    "    del training_annotation_directories\n",
    "    # Get all gene directories,  under the annotation directories\n",
    "    training_data.loc[:, 'annotation_objects'] = training_data.annotation_path.progress_apply(\n",
    "        lambda p: [p for p in list(p.glob(\"*\")) if p.is_dir()]\n",
    "    )\n",
    "    # Get the path for the protein to gene map file\n",
    "    training_data.loc[:, 'protein_map_file'] = training_data.annotation_path.apply(\n",
    "        lambda anno_path: next(anno_path.glob(\"gene_to_protein_map.csv\"), None)\n",
    "    )\n",
    "    # Get the files under the \n",
    "    training_data.loc[:, \"gene_directories\"] = training_data.annotation_objects.progress_apply(\n",
    "        lambda anno_list: [obj for obj in anno_list if obj.is_dir()]\n",
    "    )\n",
    "    # Get the annotation, gene to protein map file map\n",
    "    gene_to_protein_maps = training_data.set_index('annotation').protein_map_file\n",
    "    gene_annotations = training_data[\n",
    "        training_data.gene_directories.apply(len) > 0\n",
    "    ].set_index('annotation').explode('gene_directories').drop(\n",
    "        [\"protein_map_file\", \"annotation_objects\", \"annotation_path\"], \n",
    "        axis=1\n",
    "    )\n",
    "    gene_annotations.loc[:, 'annotations'] = gene_annotations.gene_directories.progress_apply(\n",
    "        lambda p: list(p.glob(\"*.txt\"))\n",
    "    )\n",
    "    gene_annotations.loc[:, 'gene_annotation'] = gene_annotations.annotations.progress_apply(\n",
    "        lambda anno_list: next(iter([p for p in anno_list if p.stem == \"gene\"]), None)\n",
    "    )\n",
    "    gene_annotations.loc[:, 'protein_annotations'] = gene_annotations.annotations.apply(\n",
    "        lambda anno_list: [p for p in anno_list if p.stem != \"gene\"]\n",
    "    )\n",
    "    gene_annotations.loc[:, 'gene'] = gene_annotations.gene_directories.apply(\n",
    "        lambda p: p.stem\n",
    "    )\n",
    "    training_annotations = gene_annotations.set_index('gene', append=True).drop(\n",
    "        [\n",
    "            \"annotations\", \n",
    "            \"gene_directories\",\n",
    "        ],\n",
    "        axis=1\n",
    "    ).explode('protein_annotations').reset_index(drop=False).rename(\n",
    "        {\n",
    "            \"protein_annotations\": \"protein_annotation\"\n",
    "        },\n",
    "        axis=1\n",
    "    )\n",
    "    return gene_to_protein_maps, training_annotations"
   ]
  },
  {
   "cell_type": "code",
   "execution_count": null,
   "id": "5b27a8ad-d28b-4d11-a746-89a6503f3d9c",
   "metadata": {},
   "outputs": [],
   "source": [
    "#| hide\n",
    "# gene_to_protein_map, training_annotations = get_training_data_paths(training_data_path)"
   ]
  },
  {
   "cell_type": "code",
   "execution_count": null,
   "id": "202b44b2-4447-4f12-8ede-31cd64a5ad39",
   "metadata": {},
   "outputs": [
    {
     "data": {
      "text/plain": [
       "array([Path('/mnt/e/Data/llm-mito-scanner-data/data/training/NC_000007.14/1804/gene.txt')],\n",
       "      dtype=object)"
      ]
     },
     "execution_count": null,
     "metadata": {},
     "output_type": "execute_result"
    }
   ],
   "source": [
    "training_annotations[training_annotations.gene == \"1804\"].gene_annotation.unique()"
   ]
  },
  {
   "cell_type": "markdown",
   "id": "6b3b8dad-d1fb-4a2a-9150-374f6b41be57",
   "metadata": {},
   "source": [
    "## Analyzing the Annotations\n",
    "\n",
    "> \"What can we learn about our training data?\"\n",
    "\n",
    "1. Lengths of sequences\n",
    "2. Most prevalent tokens (input vs output)\n",
    "3. Input-to-output character co-occurrences\n",
    "4. Most common doublet, triplets"
   ]
  },
  {
   "cell_type": "code",
   "execution_count": null,
   "id": "6e6e7696-7606-4521-b745-986e3bee976f",
   "metadata": {},
   "outputs": [],
   "source": [
    "#| export\n",
    "def get_annotation(path: Path):\n",
    "    with path.open(\"r\") as f:\n",
    "        return f.read().split(\" \")"
   ]
  },
  {
   "cell_type": "markdown",
   "id": "468c3698-86af-4d1e-a8fb-f7f12ad2c7f6",
   "metadata": {},
   "source": [
    "### 1. Lengths of sequences"
   ]
  },
  {
   "cell_type": "code",
   "execution_count": null,
   "id": "cc57e1ff-3038-4aa4-a869-7535a9e86eee",
   "metadata": {},
   "outputs": [],
   "source": [
    "#| export\n",
    "def get_annotation_length(annotation: list[str]):\n",
    "    return len(annotation)"
   ]
  },
  {
   "cell_type": "code",
   "execution_count": null,
   "id": "65cac8cb-1de5-47e1-9a6d-e59d9127ee2d",
   "metadata": {},
   "outputs": [],
   "source": [
    "#| export\n",
    "def record_annotation_length(annotation_label: str, annotation_path: Path, length_record: dict):\n",
    "    if annotation_label in length_record:\n",
    "        return\n",
    "    annotation = get_annotation(annotation_path)\n",
    "    annotation_length = get_annotation_length(annotation)\n",
    "    length_record[annotation_label] = annotation_length"
   ]
  },
  {
   "cell_type": "code",
   "execution_count": null,
   "id": "b4340338-3255-4942-933f-9381a499e49c",
   "metadata": {},
   "outputs": [
    {
     "data": {
      "application/vnd.jupyter.widget-view+json": {
       "model_id": "",
       "version_major": 2,
       "version_minor": 0
      },
      "text/plain": [
       "  0%|                                                | 0/106832 [00:00<?, ?it/s]"
      ]
     },
     "metadata": {},
     "output_type": "display_data"
    },
    {
     "data": {
      "text/plain": [
       "0         None\n",
       "1         None\n",
       "2         None\n",
       "3         None\n",
       "4         None\n",
       "          ... \n",
       "106839    None\n",
       "106840    None\n",
       "106841    None\n",
       "106842    None\n",
       "106843    None\n",
       "Length: 106832, dtype: object"
      ]
     },
     "execution_count": null,
     "metadata": {},
     "output_type": "execute_result"
    }
   ],
   "source": [
    "#| hide\n",
    "gene_annotation_lengths = {}\n",
    "\n",
    "training_annotations.progress_apply(\n",
    "    lambda row: record_annotation_length(\n",
    "        row.gene, \n",
    "        row.gene_annotation, \n",
    "        gene_annotation_lengths\n",
    "    ), \n",
    "    axis=1\n",
    ")"
   ]
  },
  {
   "cell_type": "code",
   "execution_count": null,
   "id": "e0d1badb-1d1c-4870-9f75-1e110505d8fb",
   "metadata": {},
   "outputs": [],
   "source": [
    "#| hide\n",
    "# Gene annotation length dataframe\n",
    "gene_annotation_lengths_df = pd.DataFrame.from_dict(gene_annotation_lengths, orient='index', columns=['length'])"
   ]
  },
  {
   "cell_type": "code",
   "execution_count": null,
   "id": "9ec4da86-e2c4-4bf7-8fe8-e09d4805c108",
   "metadata": {},
   "outputs": [
    {
     "data": {
      "text/plain": [
       "count    1.533900e+04\n",
       "mean     6.762722e+04\n",
       "std      1.359158e+05\n",
       "min      1.530000e+02\n",
       "25%      8.924000e+03\n",
       "50%      2.504500e+04\n",
       "75%      6.833750e+04\n",
       "max      2.473620e+06\n",
       "Name: length, dtype: float64"
      ]
     },
     "execution_count": null,
     "metadata": {},
     "output_type": "execute_result"
    }
   ],
   "source": [
    "#| hide\n",
    "# Basic stats of gene annotations lengths\n",
    "gene_annotation_lengths_df.length.describe()"
   ]
  },
  {
   "cell_type": "code",
   "execution_count": null,
   "id": "2ba91b7e-d09c-43c0-8019-1d3c2181b1b1",
   "metadata": {},
   "outputs": [
    {
     "data": {
      "text/plain": [
       "1037333927"
      ]
     },
     "execution_count": null,
     "metadata": {},
     "output_type": "execute_result"
    }
   ],
   "source": [
    "#| hide\n",
    "# Total corpus length\n",
    "gene_annotation_lengths_df.length.sum()"
   ]
  },
  {
   "cell_type": "code",
   "execution_count": null,
   "id": "59d01f8b-2881-4d7c-9a61-f5d82ffcb35f",
   "metadata": {},
   "outputs": [
    {
     "data": {
      "text/plain": [
       "10684"
      ]
     },
     "execution_count": null,
     "metadata": {},
     "output_type": "execute_result"
    }
   ],
   "source": [
    "#| hide\n",
    "import math\n",
    "\n",
    "sample_proportion = 0.1\n",
    "sample_n = math.ceil(training_annotations.shape[0] * sample_proportion)\n",
    "sample_n"
   ]
  },
  {
   "cell_type": "code",
   "execution_count": null,
   "id": "700333e4-b593-41f4-a8ac-1b4f9ac1905d",
   "metadata": {},
   "outputs": [],
   "source": [
    "#| hide\n",
    "protein_annotation_lengths = {}"
   ]
  },
  {
   "cell_type": "code",
   "execution_count": null,
   "id": "42c34878-da3e-4723-8604-782af1f18091",
   "metadata": {},
   "outputs": [
    {
     "data": {
      "application/vnd.jupyter.widget-view+json": {
       "model_id": "",
       "version_major": 2,
       "version_minor": 0
      },
      "text/plain": [
       "  0%|                                                 | 0/10684 [00:00<?, ?it/s]"
      ]
     },
     "metadata": {},
     "output_type": "display_data"
    }
   ],
   "source": [
    "#| hide\n",
    "try:\n",
    "    training_annotations.sample(sample_n).progress_apply(\n",
    "        lambda row: record_annotation_length(\n",
    "            row.label_id, \n",
    "            row.protein_annotation, \n",
    "            protein_annotation_lengths\n",
    "        ), \n",
    "        axis=1\n",
    "    )\n",
    "except KeyboardInterrupt:\n",
    "    pass"
   ]
  },
  {
   "cell_type": "code",
   "execution_count": null,
   "id": "5e200b51-24a4-479a-800a-f892be0ff7e6",
   "metadata": {},
   "outputs": [],
   "source": [
    "#| hide\n",
    "protein_annotation_lengths_df = pd.DataFrame.from_dict(protein_annotation_lengths, orient='index', columns=['length'])"
   ]
  },
  {
   "cell_type": "code",
   "execution_count": null,
   "id": "8221f165-f567-4de4-b557-05b41b0d1815",
   "metadata": {},
   "outputs": [
    {
     "data": {
      "text/plain": [
       "count    1.068400e+04\n",
       "mean     1.197432e+05\n",
       "std      1.973424e+05\n",
       "min      2.930000e+02\n",
       "25%      1.978725e+04\n",
       "50%      5.463000e+04\n",
       "75%      1.346910e+05\n",
       "max      2.473620e+06\n",
       "Name: length, dtype: float64"
      ]
     },
     "execution_count": null,
     "metadata": {},
     "output_type": "execute_result"
    }
   ],
   "source": [
    "#| hide\n",
    "protein_annotation_lengths_df.length.describe()"
   ]
  },
  {
   "cell_type": "code",
   "execution_count": null,
   "id": "77c87f2d-3edb-4dca-aff0-f8889d0cb54f",
   "metadata": {},
   "outputs": [
    {
     "data": {
      "text/plain": [
       "12793365160"
      ]
     },
     "execution_count": null,
     "metadata": {},
     "output_type": "execute_result"
    }
   ],
   "source": [
    "#| hide\n",
    "math.ceil(protein_annotation_lengths_df.length.sum() / sample_proportion)"
   ]
  },
  {
   "cell_type": "markdown",
   "id": "f53301c4-15bf-4947-a387-e0cd44df0f48",
   "metadata": {},
   "source": [
    "#### Takeaways\n",
    "\n",
    "- Input lengths are substantial, over 1 billion tokens!\n",
    "- Label sequence lengths are very large, estimated over 12 billion tokens!"
   ]
  },
  {
   "cell_type": "markdown",
   "id": "59630ff8-3e3d-4041-a93f-1d9699cedcee",
   "metadata": {},
   "source": [
    "### 2. Most prevalent tokens"
   ]
  },
  {
   "cell_type": "code",
   "execution_count": null,
   "id": "cddbf232-ee63-4b10-be0d-763b12dde1b4",
   "metadata": {},
   "outputs": [],
   "source": [
    "#| export\n",
    "from collections import Counter\n",
    "\n",
    "def get_annotation_token_count(annotation: list[str]):\n",
    "    token_count = Counter(annotation)\n",
    "    return token_count\n",
    "\n",
    "\n",
    "def record_token_count(annotation_id: str, annotation_path: Path, token_count_record: dict):\n",
    "    if annotation_id in token_count_record:\n",
    "        return\n",
    "    annotation = get_annotation(annotation_path)\n",
    "    annotation_token_count = get_annotation_token_count(annotation)\n",
    "    token_count_record[annotation_id] = annotation_token_count"
   ]
  },
  {
   "cell_type": "markdown",
   "id": "db04a9e9-f45c-463d-846c-e074e903b434",
   "metadata": {},
   "source": [
    "#### Gene token counts"
   ]
  },
  {
   "cell_type": "code",
   "execution_count": null,
   "id": "b38f776c-175e-4603-959c-254a18aff7c3",
   "metadata": {},
   "outputs": [
    {
     "data": {
      "application/vnd.jupyter.widget-view+json": {
       "model_id": "",
       "version_major": 2,
       "version_minor": 0
      },
      "text/plain": [
       "  0%|                                                | 0/106832 [00:00<?, ?it/s]"
      ]
     },
     "metadata": {},
     "output_type": "display_data"
    },
    {
     "data": {
      "text/plain": [
       "0         None\n",
       "1         None\n",
       "2         None\n",
       "3         None\n",
       "4         None\n",
       "          ... \n",
       "106839    None\n",
       "106840    None\n",
       "106841    None\n",
       "106842    None\n",
       "106843    None\n",
       "Length: 106832, dtype: object"
      ]
     },
     "execution_count": null,
     "metadata": {},
     "output_type": "execute_result"
    }
   ],
   "source": [
    "#| hide\n",
    "gene_token_counts = {}\n",
    "\n",
    "training_annotations.progress_apply(\n",
    "    lambda row: record_token_count(\n",
    "        row.gene, \n",
    "        row.gene_annotation, \n",
    "        gene_token_counts\n",
    "    ),\n",
    "    axis=1\n",
    ")"
   ]
  },
  {
   "cell_type": "code",
   "execution_count": null,
   "id": "de85f760-5551-4737-a240-c652573a2fb5",
   "metadata": {},
   "outputs": [
    {
     "data": {
      "text/html": [
       "<div>\n",
       "<style scoped>\n",
       "    .dataframe tbody tr th:only-of-type {\n",
       "        vertical-align: middle;\n",
       "    }\n",
       "\n",
       "    .dataframe tbody tr th {\n",
       "        vertical-align: top;\n",
       "    }\n",
       "\n",
       "    .dataframe thead th {\n",
       "        text-align: right;\n",
       "    }\n",
       "</style>\n",
       "<table border=\"1\" class=\"dataframe\">\n",
       "  <thead>\n",
       "    <tr style=\"text-align: right;\">\n",
       "      <th></th>\n",
       "      <th>[N]A</th>\n",
       "      <th>[N]C</th>\n",
       "      <th>[N]T</th>\n",
       "      <th>[N]G</th>\n",
       "      <th>[N]Y</th>\n",
       "      <th>[N]N</th>\n",
       "      <th>[N]W</th>\n",
       "      <th>[N]B</th>\n",
       "      <th>[N]R</th>\n",
       "      <th>[N]S</th>\n",
       "      <th>[N]K</th>\n",
       "    </tr>\n",
       "  </thead>\n",
       "  <tbody>\n",
       "    <tr>\n",
       "      <th>100129480</th>\n",
       "      <td>5699</td>\n",
       "      <td>4888</td>\n",
       "      <td>6113</td>\n",
       "      <td>4524</td>\n",
       "      <td>0.0</td>\n",
       "      <td>0.0</td>\n",
       "      <td>0.0</td>\n",
       "      <td>0.0</td>\n",
       "      <td>0.0</td>\n",
       "      <td>0.0</td>\n",
       "      <td>0.0</td>\n",
       "    </tr>\n",
       "    <tr>\n",
       "      <th>100131827</th>\n",
       "      <td>24339</td>\n",
       "      <td>18662</td>\n",
       "      <td>29016</td>\n",
       "      <td>18832</td>\n",
       "      <td>0.0</td>\n",
       "      <td>0.0</td>\n",
       "      <td>0.0</td>\n",
       "      <td>0.0</td>\n",
       "      <td>0.0</td>\n",
       "      <td>0.0</td>\n",
       "      <td>0.0</td>\n",
       "    </tr>\n",
       "    <tr>\n",
       "      <th>100132146</th>\n",
       "      <td>3785</td>\n",
       "      <td>3116</td>\n",
       "      <td>4283</td>\n",
       "      <td>2835</td>\n",
       "      <td>0.0</td>\n",
       "      <td>0.0</td>\n",
       "      <td>0.0</td>\n",
       "      <td>0.0</td>\n",
       "      <td>0.0</td>\n",
       "      <td>0.0</td>\n",
       "      <td>0.0</td>\n",
       "    </tr>\n",
       "    <tr>\n",
       "      <th>10015</th>\n",
       "      <td>20449</td>\n",
       "      <td>12305</td>\n",
       "      <td>24439</td>\n",
       "      <td>13881</td>\n",
       "      <td>0.0</td>\n",
       "      <td>0.0</td>\n",
       "      <td>0.0</td>\n",
       "      <td>0.0</td>\n",
       "      <td>0.0</td>\n",
       "      <td>0.0</td>\n",
       "      <td>0.0</td>\n",
       "    </tr>\n",
       "    <tr>\n",
       "      <th>100288801</th>\n",
       "      <td>772</td>\n",
       "      <td>593</td>\n",
       "      <td>801</td>\n",
       "      <td>680</td>\n",
       "      <td>0.0</td>\n",
       "      <td>0.0</td>\n",
       "      <td>0.0</td>\n",
       "      <td>0.0</td>\n",
       "      <td>0.0</td>\n",
       "      <td>0.0</td>\n",
       "      <td>0.0</td>\n",
       "    </tr>\n",
       "  </tbody>\n",
       "</table>\n",
       "</div>"
      ],
      "text/plain": [
       "            [N]A   [N]C   [N]T   [N]G  [N]Y  [N]N  [N]W  [N]B  [N]R  [N]S   \n",
       "100129480   5699   4888   6113   4524   0.0   0.0   0.0   0.0   0.0   0.0  \\\n",
       "100131827  24339  18662  29016  18832   0.0   0.0   0.0   0.0   0.0   0.0   \n",
       "100132146   3785   3116   4283   2835   0.0   0.0   0.0   0.0   0.0   0.0   \n",
       "10015      20449  12305  24439  13881   0.0   0.0   0.0   0.0   0.0   0.0   \n",
       "100288801    772    593    801    680   0.0   0.0   0.0   0.0   0.0   0.0   \n",
       "\n",
       "           [N]K  \n",
       "100129480   0.0  \n",
       "100131827   0.0  \n",
       "100132146   0.0  \n",
       "10015       0.0  \n",
       "100288801   0.0  "
      ]
     },
     "execution_count": null,
     "metadata": {},
     "output_type": "execute_result"
    }
   ],
   "source": [
    "#| hide\n",
    "gene_token_counts_df = pd.DataFrame.from_dict(gene_token_counts, orient='index').fillna(0)\n",
    "gene_token_counts_df.head()"
   ]
  },
  {
   "cell_type": "code",
   "execution_count": null,
   "id": "ebf58760-0c3a-4be4-9180-790d5e56da50",
   "metadata": {},
   "outputs": [
    {
     "data": {
      "text/html": [
       "<div>\n",
       "<style scoped>\n",
       "    .dataframe tbody tr th:only-of-type {\n",
       "        vertical-align: middle;\n",
       "    }\n",
       "\n",
       "    .dataframe tbody tr th {\n",
       "        vertical-align: top;\n",
       "    }\n",
       "\n",
       "    .dataframe thead th {\n",
       "        text-align: right;\n",
       "    }\n",
       "</style>\n",
       "<table border=\"1\" class=\"dataframe\">\n",
       "  <thead>\n",
       "    <tr style=\"text-align: right;\">\n",
       "      <th></th>\n",
       "      <th>[N]A</th>\n",
       "      <th>[N]C</th>\n",
       "      <th>[N]T</th>\n",
       "      <th>[N]G</th>\n",
       "      <th>[N]Y</th>\n",
       "      <th>[N]N</th>\n",
       "      <th>[N]W</th>\n",
       "      <th>[N]B</th>\n",
       "      <th>[N]R</th>\n",
       "      <th>[N]S</th>\n",
       "      <th>[N]K</th>\n",
       "    </tr>\n",
       "  </thead>\n",
       "  <tbody>\n",
       "    <tr>\n",
       "      <th>115286</th>\n",
       "      <td>68453</td>\n",
       "      <td>47769</td>\n",
       "      <td>79193</td>\n",
       "      <td>49901</td>\n",
       "      <td>2.0</td>\n",
       "      <td>0.0</td>\n",
       "      <td>0.0</td>\n",
       "      <td>0.0</td>\n",
       "      <td>0.0</td>\n",
       "      <td>0.0</td>\n",
       "      <td>0.0</td>\n",
       "    </tr>\n",
       "    <tr>\n",
       "      <th>1804</th>\n",
       "      <td>318732</td>\n",
       "      <td>245703</td>\n",
       "      <td>330608</td>\n",
       "      <td>251106</td>\n",
       "      <td>2.0</td>\n",
       "      <td>0.0</td>\n",
       "      <td>0.0</td>\n",
       "      <td>0.0</td>\n",
       "      <td>1.0</td>\n",
       "      <td>1.0</td>\n",
       "      <td>0.0</td>\n",
       "    </tr>\n",
       "    <tr>\n",
       "      <th>22877</th>\n",
       "      <td>15223</td>\n",
       "      <td>16425</td>\n",
       "      <td>18828</td>\n",
       "      <td>18112</td>\n",
       "      <td>1.0</td>\n",
       "      <td>0.0</td>\n",
       "      <td>0.0</td>\n",
       "      <td>0.0</td>\n",
       "      <td>0.0</td>\n",
       "      <td>0.0</td>\n",
       "      <td>0.0</td>\n",
       "    </tr>\n",
       "    <tr>\n",
       "      <th>63977</th>\n",
       "      <td>18425</td>\n",
       "      <td>18898</td>\n",
       "      <td>21195</td>\n",
       "      <td>22599</td>\n",
       "      <td>1.0</td>\n",
       "      <td>0.0</td>\n",
       "      <td>0.0</td>\n",
       "      <td>0.0</td>\n",
       "      <td>0.0</td>\n",
       "      <td>0.0</td>\n",
       "      <td>2.0</td>\n",
       "    </tr>\n",
       "  </tbody>\n",
       "</table>\n",
       "</div>"
      ],
      "text/plain": [
       "          [N]A    [N]C    [N]T    [N]G  [N]Y  [N]N  [N]W  [N]B  [N]R  [N]S   \n",
       "115286   68453   47769   79193   49901   2.0   0.0   0.0   0.0   0.0   0.0  \\\n",
       "1804    318732  245703  330608  251106   2.0   0.0   0.0   0.0   1.0   1.0   \n",
       "22877    15223   16425   18828   18112   1.0   0.0   0.0   0.0   0.0   0.0   \n",
       "63977    18425   18898   21195   22599   1.0   0.0   0.0   0.0   0.0   0.0   \n",
       "\n",
       "        [N]K  \n",
       "115286   0.0  \n",
       "1804     0.0  \n",
       "22877    0.0  \n",
       "63977    2.0  "
      ]
     },
     "execution_count": null,
     "metadata": {},
     "output_type": "execute_result"
    }
   ],
   "source": [
    "#| hide\n",
    "gene_token_counts_df[gene_token_counts_df[\"[N]Y\"] > 0]"
   ]
  },
  {
   "cell_type": "code",
   "execution_count": null,
   "id": "544aaeb0-6cb3-4c52-9715-3088a70fa0dc",
   "metadata": {},
   "outputs": [
    {
     "data": {
      "text/plain": [
       "[N]W            1.0\n",
       "[N]B            1.0\n",
       "[N]S            1.0\n",
       "[N]R            3.0\n",
       "[N]K            3.0\n",
       "[N]Y            6.0\n",
       "[N]N       651556.0\n",
       "[N]C    211956248.0\n",
       "[N]G    220929908.0\n",
       "[N]A    288616684.0\n",
       "[N]T    315179516.0\n",
       "dtype: float64"
      ]
     },
     "execution_count": null,
     "metadata": {},
     "output_type": "execute_result"
    }
   ],
   "source": [
    "#| hide\n",
    "gene_token_counts_df.sum().sort_values()"
   ]
  },
  {
   "cell_type": "code",
   "execution_count": null,
   "id": "a1350463-eba8-4905-a023-1d9a63c44743",
   "metadata": {},
   "outputs": [
    {
     "data": {
      "text/plain": [
       "<Axes: >"
      ]
     },
     "execution_count": null,
     "metadata": {},
     "output_type": "execute_result"
    },
    {
     "data": {
      "image/png": "[encoded data removed]",
      "text/plain": [
       "<Figure size 640x480 with 1 Axes>"
      ]
     },
     "metadata": {},
     "output_type": "display_data"
    }
   ],
   "source": [
    "#| hide\n",
    "gene_token_counts_df.sum().sort_values().plot(kind='barh')"
   ]
  },
  {
   "cell_type": "markdown",
   "id": "6805238d-11d8-4366-9c64-7890defea8ac",
   "metadata": {},
   "source": [
    "#### Protein token counts"
   ]
  },
  {
   "cell_type": "code",
   "execution_count": null,
   "id": "3d3ea435-8345-474e-b70a-98948392e0aa",
   "metadata": {},
   "outputs": [
    {
     "data": {
      "application/vnd.jupyter.widget-view+json": {
       "model_id": "",
       "version_major": 2,
       "version_minor": 0
      },
      "text/plain": [
       "  0%|                                                 | 0/10684 [00:00<?, ?it/s]"
      ]
     },
     "metadata": {},
     "output_type": "display_data"
    },
    {
     "data": {
      "text/plain": [
       "27598     None\n",
       "101411    None\n",
       "48325     None\n",
       "78774     None\n",
       "97967     None\n",
       "          ... \n",
       "1305      None\n",
       "74618     None\n",
       "65597     None\n",
       "5982      None\n",
       "80562     None\n",
       "Length: 10684, dtype: object"
      ]
     },
     "execution_count": null,
     "metadata": {},
     "output_type": "execute_result"
    }
   ],
   "source": [
    "#| hide\n",
    "protein_token_counts = {}\n",
    "\n",
    "# take 10 samples\n",
    "training_annotations.sample(sample_n).progress_apply(\n",
    "    lambda row: record_token_count(\n",
    "        row.label_id, \n",
    "        row.protein_annotation, \n",
    "        protein_token_counts\n",
    "    ),\n",
    "    axis=1\n",
    ")"
   ]
  },
  {
   "cell_type": "code",
   "execution_count": null,
   "id": "8a31b3ab-1243-49b2-9aef-e7f78d9f3b29",
   "metadata": {},
   "outputs": [
    {
     "data": {
      "text/html": [
       "<div>\n",
       "<style scoped>\n",
       "    .dataframe tbody tr th:only-of-type {\n",
       "        vertical-align: middle;\n",
       "    }\n",
       "\n",
       "    .dataframe tbody tr th {\n",
       "        vertical-align: top;\n",
       "    }\n",
       "\n",
       "    .dataframe thead th {\n",
       "        text-align: right;\n",
       "    }\n",
       "</style>\n",
       "<table border=\"1\" class=\"dataframe\">\n",
       "  <thead>\n",
       "    <tr style=\"text-align: right;\">\n",
       "      <th></th>\n",
       "      <th>[exon]</th>\n",
       "      <th>[intron]</th>\n",
       "      <th>[A]-E-1</th>\n",
       "      <th>[A]-Q-3</th>\n",
       "      <th>[A]-Q-2</th>\n",
       "      <th>[A]-Q-1</th>\n",
       "      <th>[A]-L-3</th>\n",
       "      <th>[A]-L-2</th>\n",
       "      <th>[A]-L-1</th>\n",
       "      <th>[A]-S-3</th>\n",
       "      <th>...</th>\n",
       "      <th>[A]-E-2</th>\n",
       "      <th>[N]A</th>\n",
       "      <th>[N]G</th>\n",
       "      <th>[N]T</th>\n",
       "      <th>[N]C</th>\n",
       "      <th>[A]-U-3</th>\n",
       "      <th>[A]-U-2</th>\n",
       "      <th>[A]-U-1</th>\n",
       "      <th>[N]W</th>\n",
       "      <th>[N]N</th>\n",
       "    </tr>\n",
       "  </thead>\n",
       "  <tbody>\n",
       "    <tr>\n",
       "      <th>rna-NM_001388041.1</th>\n",
       "      <td>1358.0</td>\n",
       "      <td>2714.0</td>\n",
       "      <td>32.0</td>\n",
       "      <td>30.0</td>\n",
       "      <td>30.0</td>\n",
       "      <td>30.0</td>\n",
       "      <td>45.0</td>\n",
       "      <td>45.0</td>\n",
       "      <td>45.0</td>\n",
       "      <td>38.0</td>\n",
       "      <td>...</td>\n",
       "      <td>32.0</td>\n",
       "      <td>0.0</td>\n",
       "      <td>0.0</td>\n",
       "      <td>0.0</td>\n",
       "      <td>0.0</td>\n",
       "      <td>0.0</td>\n",
       "      <td>0.0</td>\n",
       "      <td>0.0</td>\n",
       "      <td>0.0</td>\n",
       "      <td>0.0</td>\n",
       "    </tr>\n",
       "    <tr>\n",
       "      <th>rna-XM_047442443.1</th>\n",
       "      <td>6463.0</td>\n",
       "      <td>55855.0</td>\n",
       "      <td>65.0</td>\n",
       "      <td>30.0</td>\n",
       "      <td>30.0</td>\n",
       "      <td>30.0</td>\n",
       "      <td>42.0</td>\n",
       "      <td>42.0</td>\n",
       "      <td>42.0</td>\n",
       "      <td>63.0</td>\n",
       "      <td>...</td>\n",
       "      <td>65.0</td>\n",
       "      <td>419.0</td>\n",
       "      <td>859.0</td>\n",
       "      <td>462.0</td>\n",
       "      <td>681.0</td>\n",
       "      <td>0.0</td>\n",
       "      <td>0.0</td>\n",
       "      <td>0.0</td>\n",
       "      <td>0.0</td>\n",
       "      <td>0.0</td>\n",
       "    </tr>\n",
       "    <tr>\n",
       "      <th>rna-XM_017017167.2</th>\n",
       "      <td>1434.0</td>\n",
       "      <td>32862.0</td>\n",
       "      <td>33.0</td>\n",
       "      <td>27.0</td>\n",
       "      <td>27.0</td>\n",
       "      <td>27.0</td>\n",
       "      <td>77.0</td>\n",
       "      <td>77.0</td>\n",
       "      <td>77.0</td>\n",
       "      <td>49.0</td>\n",
       "      <td>...</td>\n",
       "      <td>33.0</td>\n",
       "      <td>2803.0</td>\n",
       "      <td>3379.0</td>\n",
       "      <td>2902.0</td>\n",
       "      <td>3442.0</td>\n",
       "      <td>0.0</td>\n",
       "      <td>0.0</td>\n",
       "      <td>0.0</td>\n",
       "      <td>0.0</td>\n",
       "      <td>0.0</td>\n",
       "    </tr>\n",
       "    <tr>\n",
       "      <th>rna-XM_047435234.1</th>\n",
       "      <td>4196.0</td>\n",
       "      <td>86306.0</td>\n",
       "      <td>88.0</td>\n",
       "      <td>75.0</td>\n",
       "      <td>75.0</td>\n",
       "      <td>75.0</td>\n",
       "      <td>105.0</td>\n",
       "      <td>105.0</td>\n",
       "      <td>105.0</td>\n",
       "      <td>173.0</td>\n",
       "      <td>...</td>\n",
       "      <td>88.0</td>\n",
       "      <td>0.0</td>\n",
       "      <td>0.0</td>\n",
       "      <td>0.0</td>\n",
       "      <td>0.0</td>\n",
       "      <td>0.0</td>\n",
       "      <td>0.0</td>\n",
       "      <td>0.0</td>\n",
       "      <td>0.0</td>\n",
       "      <td>0.0</td>\n",
       "    </tr>\n",
       "    <tr>\n",
       "      <th>rna-NM_001329536.1</th>\n",
       "      <td>477.0</td>\n",
       "      <td>6674.0</td>\n",
       "      <td>19.0</td>\n",
       "      <td>17.0</td>\n",
       "      <td>17.0</td>\n",
       "      <td>17.0</td>\n",
       "      <td>78.0</td>\n",
       "      <td>78.0</td>\n",
       "      <td>78.0</td>\n",
       "      <td>32.0</td>\n",
       "      <td>...</td>\n",
       "      <td>19.0</td>\n",
       "      <td>0.0</td>\n",
       "      <td>0.0</td>\n",
       "      <td>0.0</td>\n",
       "      <td>0.0</td>\n",
       "      <td>0.0</td>\n",
       "      <td>0.0</td>\n",
       "      <td>0.0</td>\n",
       "      <td>0.0</td>\n",
       "      <td>0.0</td>\n",
       "    </tr>\n",
       "  </tbody>\n",
       "</table>\n",
       "<p>5 rows × 74 columns</p>\n",
       "</div>"
      ],
      "text/plain": [
       "                    [exon]  [intron]  [A]-E-1  [A]-Q-3  [A]-Q-2  [A]-Q-1   \n",
       "rna-NM_001388041.1  1358.0    2714.0     32.0     30.0     30.0     30.0  \\\n",
       "rna-XM_047442443.1  6463.0   55855.0     65.0     30.0     30.0     30.0   \n",
       "rna-XM_017017167.2  1434.0   32862.0     33.0     27.0     27.0     27.0   \n",
       "rna-XM_047435234.1  4196.0   86306.0     88.0     75.0     75.0     75.0   \n",
       "rna-NM_001329536.1   477.0    6674.0     19.0     17.0     17.0     17.0   \n",
       "\n",
       "                    [A]-L-3  [A]-L-2  [A]-L-1  [A]-S-3  ...  [A]-E-2    [N]A   \n",
       "rna-NM_001388041.1     45.0     45.0     45.0     38.0  ...     32.0     0.0  \\\n",
       "rna-XM_047442443.1     42.0     42.0     42.0     63.0  ...     65.0   419.0   \n",
       "rna-XM_017017167.2     77.0     77.0     77.0     49.0  ...     33.0  2803.0   \n",
       "rna-XM_047435234.1    105.0    105.0    105.0    173.0  ...     88.0     0.0   \n",
       "rna-NM_001329536.1     78.0     78.0     78.0     32.0  ...     19.0     0.0   \n",
       "\n",
       "                      [N]G    [N]T    [N]C  [A]-U-3  [A]-U-2  [A]-U-1  [N]W   \n",
       "rna-NM_001388041.1     0.0     0.0     0.0      0.0      0.0      0.0   0.0  \\\n",
       "rna-XM_047442443.1   859.0   462.0   681.0      0.0      0.0      0.0   0.0   \n",
       "rna-XM_017017167.2  3379.0  2902.0  3442.0      0.0      0.0      0.0   0.0   \n",
       "rna-XM_047435234.1     0.0     0.0     0.0      0.0      0.0      0.0   0.0   \n",
       "rna-NM_001329536.1     0.0     0.0     0.0      0.0      0.0      0.0   0.0   \n",
       "\n",
       "                    [N]N  \n",
       "rna-NM_001388041.1   0.0  \n",
       "rna-XM_047442443.1   0.0  \n",
       "rna-XM_017017167.2   0.0  \n",
       "rna-XM_047435234.1   0.0  \n",
       "rna-NM_001329536.1   0.0  \n",
       "\n",
       "[5 rows x 74 columns]"
      ]
     },
     "execution_count": null,
     "metadata": {},
     "output_type": "execute_result"
    }
   ],
   "source": [
    "#| hide\n",
    "protein_token_counts_df = pd.DataFrame.from_dict(protein_token_counts, orient='index').fillna(0)\n",
    "protein_token_counts_df.head()"
   ]
  },
  {
   "cell_type": "code",
   "execution_count": null,
   "id": "ded16e43-bbd4-498e-91eb-39bf463ff340",
   "metadata": {},
   "outputs": [
    {
     "data": {
      "text/html": [
       "<div>\n",
       "<style scoped>\n",
       "    .dataframe tbody tr th:only-of-type {\n",
       "        vertical-align: middle;\n",
       "    }\n",
       "\n",
       "    .dataframe tbody tr th {\n",
       "        vertical-align: top;\n",
       "    }\n",
       "\n",
       "    .dataframe thead th {\n",
       "        text-align: right;\n",
       "    }\n",
       "</style>\n",
       "<table border=\"1\" class=\"dataframe\">\n",
       "  <thead>\n",
       "    <tr style=\"text-align: right;\">\n",
       "      <th></th>\n",
       "      <th>token</th>\n",
       "      <th>count</th>\n",
       "    </tr>\n",
       "    <tr>\n",
       "      <th>token_norm</th>\n",
       "      <th></th>\n",
       "      <th></th>\n",
       "    </tr>\n",
       "  </thead>\n",
       "  <tbody>\n",
       "    <tr>\n",
       "      <th>[exon]</th>\n",
       "      <td>[exon]</td>\n",
       "      <td>24368885.0</td>\n",
       "    </tr>\n",
       "    <tr>\n",
       "      <th>[intron]</th>\n",
       "      <td>[intron]</td>\n",
       "      <td>967862789.0</td>\n",
       "    </tr>\n",
       "    <tr>\n",
       "      <th>[A]-E</th>\n",
       "      <td>[A]-E-1</td>\n",
       "      <td>546626.0</td>\n",
       "    </tr>\n",
       "    <tr>\n",
       "      <th>[A]-Q</th>\n",
       "      <td>[A]-Q-3</td>\n",
       "      <td>372778.0</td>\n",
       "    </tr>\n",
       "    <tr>\n",
       "      <th>[A]-L</th>\n",
       "      <td>[A]-L-3</td>\n",
       "      <td>722536.0</td>\n",
       "    </tr>\n",
       "  </tbody>\n",
       "</table>\n",
       "</div>"
      ],
      "text/plain": [
       "               token        count\n",
       "token_norm                       \n",
       "[exon]        [exon]   24368885.0\n",
       "[intron]    [intron]  967862789.0\n",
       "[A]-E        [A]-E-1     546626.0\n",
       "[A]-Q        [A]-Q-3     372778.0\n",
       "[A]-L        [A]-L-3     722536.0"
      ]
     },
     "execution_count": null,
     "metadata": {},
     "output_type": "execute_result"
    }
   ],
   "source": [
    "#| hide\n",
    "protein_token_counts_df_sum = protein_token_counts_df.sum()\n",
    "protein_token_counts_df_sum.name = \"count\"\n",
    "protein_token_counts_df_sum = protein_token_counts_df_sum.to_frame().reset_index(drop=False).rename({\"index\": \"token\"}, axis=1)\n",
    "protein_token_counts_df_sum.loc[:, 'token_norm'] = protein_token_counts_df_sum.token.apply(lambda token: token.rsplit(\"-\", 1)[0])\n",
    "protein_token_counts_df_sum = protein_token_counts_df_sum.drop_duplicates(subset=['token_norm'])\n",
    "protein_token_counts_df_sum.set_index(\"token_norm\", inplace=True)\n",
    "protein_token_counts_df_sum.head()"
   ]
  },
  {
   "cell_type": "code",
   "execution_count": null,
   "id": "dce84ef5-da71-487d-bda2-ea173ffd5153",
   "metadata": {},
   "outputs": [],
   "source": [
    "#| hide\n",
    "# Amino acid labels\n",
    "protein_token_is_amino_acid_mask = protein_token_counts_df_sum.index.map(lambda idx: idx.startswith(\"[A]\"))"
   ]
  },
  {
   "cell_type": "code",
   "execution_count": null,
   "id": "8c2c32ee-1544-4497-85e2-22b432fb0c15",
   "metadata": {},
   "outputs": [
    {
     "data": {
      "text/plain": [
       "<Axes: ylabel='token_norm'>"
      ]
     },
     "execution_count": null,
     "metadata": {},
     "output_type": "execute_result"
    },
    {
     "data": {
      "image/png": "[encoded data removed]",
      "text/plain": [
       "<Figure size 640x480 with 1 Axes>"
      ]
     },
     "metadata": {},
     "output_type": "display_data"
    }
   ],
   "source": [
    "#| hide\n",
    "protein_token_counts_df_sum[protein_token_is_amino_acid_mask]['count'].sort_values().plot.barh()"
   ]
  },
  {
   "cell_type": "code",
   "execution_count": null,
   "id": "3a4ddee6-df25-4693-8bd7-1dad6160e254",
   "metadata": {},
   "outputs": [
    {
     "data": {
      "text/plain": [
       "<Axes: ylabel='token_norm'>"
      ]
     },
     "execution_count": null,
     "metadata": {},
     "output_type": "execute_result"
    },
    {
     "data": {
      "image/png": "[encoded data removed]",
      "text/plain": [
       "<Figure size 640x480 with 1 Axes>"
      ]
     },
     "metadata": {},
     "output_type": "display_data"
    }
   ],
   "source": [
    "#| hide\n",
    "# Nucleotides in the label sequences\n",
    "protein_token_counts_df_sum[~protein_token_is_amino_acid_mask]['count'].sort_values().plot.barh()"
   ]
  },
  {
   "cell_type": "code",
   "execution_count": null,
   "id": "7a1ed28f-7099-4f8c-8783-f62467a65079",
   "metadata": {},
   "outputs": [
    {
     "data": {
      "text/plain": [
       "(967862789.0, 722536.0)"
      ]
     },
     "execution_count": null,
     "metadata": {},
     "output_type": "execute_result"
    }
   ],
   "source": [
    "#| hide\n",
    "protein_token_counts_df_sum.loc[\"[intron]\", \"count\"], protein_token_counts_df_sum.loc[\"[A]-L\", \"count\"]"
   ]
  },
  {
   "cell_type": "code",
   "execution_count": null,
   "id": "31b011d4-c099-4c9a-bd27-df0ede3a26e8",
   "metadata": {},
   "outputs": [
    {
     "data": {
      "text/plain": [
       "'Amino acids make up 17.42% of all label tokens'"
      ]
     },
     "execution_count": null,
     "metadata": {},
     "output_type": "execute_result"
    }
   ],
   "source": [
    "#| hide\n",
    "# Nucleotide + intron / exon vs amino acid tokens\n",
    "protein_vs_gene_annotation_proportion = (\n",
    "    protein_token_counts_df_sum[protein_token_is_amino_acid_mask]['count'].mul(3).div(sample_proportion).sum() / \\\n",
    "    protein_token_counts_df_sum[~protein_token_is_amino_acid_mask]['count'].sum()\n",
    ") * 100\n",
    "\n",
    "\"Amino acids make up {:0.2f}% of all label tokens\".format(protein_vs_gene_annotation_proportion)"
   ]
  },
  {
   "cell_type": "markdown",
   "id": "5fffc149-e4f0-4d90-bb77-71d1b930ea05",
   "metadata": {},
   "source": [
    "#### Takeaways\n",
    "\n",
    "Genes (input)\n",
    "- The input gene annotations have some \"wildcard\" nucleotide annotations. These nucleotide values reflect that in sequencing, the nucleotide read at that position could be one or more different nucleotides.\n",
    "- The most prevalent nucleotide is Thymine, with 315,179,516 tokens\n",
    "\n",
    "Proteins (labels)\n",
    "- The labels are still largely genomic information, less than 18% of annotation tokens are amino acid related.\n",
    "- The most prevalent mRNA annotation is [intron], with 967,862,789 tokens\n",
    "- The most prevalent amino acid annotation is Leucine, with 722,536 tokens\n",
    "\n",
    "Overall\n",
    "- As it stands, we may want to consider weighting training instances so that the model can better learn what drives translation. As it is it may learn what creates an intron more than anything and miss the point of what we are trying to do."
   ]
  },
  {
   "cell_type": "markdown",
   "id": "f63292ef-cc90-42d8-b10b-81d7f21cfd75",
   "metadata": {},
   "source": [
    "### The effect of window size\n",
    "\n",
    "> \"How many training instances do we have if we institute a window size of size *n*?\""
   ]
  },
  {
   "cell_type": "code",
   "execution_count": null,
   "id": "e5fb2162-7bba-4fa1-98bf-68beae19d52a",
   "metadata": {},
   "outputs": [],
   "source": [
    "#| hide\n",
    "window_sizes = [\n",
    "    512,\n",
    "    1024,\n",
    "    2048,\n",
    "    4096,\n",
    "    8192,\n",
    "    16384,\n",
    "    32768,\n",
    "    65536\n",
    "]"
   ]
  },
  {
   "cell_type": "code",
   "execution_count": null,
   "id": "c5af965c-7bad-4857-aeb3-418a0cad176d",
   "metadata": {},
   "outputs": [],
   "source": [
    "#| export\n",
    "def count_training_instances_with_window_size(annotation_size: int, window_sizes: list[int]) -> dict:\n",
    "    instance_counts = {}\n",
    "    for window in window_sizes:\n",
    "        instance_counts[window] = math.floor(annotation_size / window)\n",
    "    return instance_counts"
   ]
  },
  {
   "cell_type": "code",
   "execution_count": null,
   "id": "17b4aeba-1556-4017-8edd-409b2b90985d",
   "metadata": {},
   "outputs": [
    {
     "data": {
      "text/html": [
       "<div>\n",
       "<style scoped>\n",
       "    .dataframe tbody tr th:only-of-type {\n",
       "        vertical-align: middle;\n",
       "    }\n",
       "\n",
       "    .dataframe tbody tr th {\n",
       "        vertical-align: top;\n",
       "    }\n",
       "\n",
       "    .dataframe thead th {\n",
       "        text-align: right;\n",
       "    }\n",
       "</style>\n",
       "<table border=\"1\" class=\"dataframe\">\n",
       "  <thead>\n",
       "    <tr style=\"text-align: right;\">\n",
       "      <th></th>\n",
       "      <th>512</th>\n",
       "      <th>1024</th>\n",
       "      <th>2048</th>\n",
       "      <th>4096</th>\n",
       "      <th>8192</th>\n",
       "      <th>16384</th>\n",
       "      <th>32768</th>\n",
       "      <th>65536</th>\n",
       "    </tr>\n",
       "  </thead>\n",
       "  <tbody>\n",
       "    <tr>\n",
       "      <th>100129480</th>\n",
       "      <td>41</td>\n",
       "      <td>20</td>\n",
       "      <td>10</td>\n",
       "      <td>5</td>\n",
       "      <td>2</td>\n",
       "      <td>1</td>\n",
       "      <td>0</td>\n",
       "      <td>0</td>\n",
       "    </tr>\n",
       "    <tr>\n",
       "      <th>100131827</th>\n",
       "      <td>177</td>\n",
       "      <td>88</td>\n",
       "      <td>44</td>\n",
       "      <td>22</td>\n",
       "      <td>11</td>\n",
       "      <td>5</td>\n",
       "      <td>2</td>\n",
       "      <td>1</td>\n",
       "    </tr>\n",
       "    <tr>\n",
       "      <th>100132146</th>\n",
       "      <td>27</td>\n",
       "      <td>13</td>\n",
       "      <td>6</td>\n",
       "      <td>3</td>\n",
       "      <td>1</td>\n",
       "      <td>0</td>\n",
       "      <td>0</td>\n",
       "      <td>0</td>\n",
       "    </tr>\n",
       "    <tr>\n",
       "      <th>10015</th>\n",
       "      <td>138</td>\n",
       "      <td>69</td>\n",
       "      <td>34</td>\n",
       "      <td>17</td>\n",
       "      <td>8</td>\n",
       "      <td>4</td>\n",
       "      <td>2</td>\n",
       "      <td>1</td>\n",
       "    </tr>\n",
       "    <tr>\n",
       "      <th>100288801</th>\n",
       "      <td>5</td>\n",
       "      <td>2</td>\n",
       "      <td>1</td>\n",
       "      <td>0</td>\n",
       "      <td>0</td>\n",
       "      <td>0</td>\n",
       "      <td>0</td>\n",
       "      <td>0</td>\n",
       "    </tr>\n",
       "  </tbody>\n",
       "</table>\n",
       "</div>"
      ],
      "text/plain": [
       "           512    1024   2048   4096   8192   16384  32768  65536\n",
       "100129480     41     20     10      5      2      1      0      0\n",
       "100131827    177     88     44     22     11      5      2      1\n",
       "100132146     27     13      6      3      1      0      0      0\n",
       "10015        138     69     34     17      8      4      2      1\n",
       "100288801      5      2      1      0      0      0      0      0"
      ]
     },
     "execution_count": null,
     "metadata": {},
     "output_type": "execute_result"
    }
   ],
   "source": [
    "#| hide\n",
    "gene_annotation_window_size_instances = gene_annotation_lengths_df.length.apply(\n",
    "    lambda l: count_training_instances_with_window_size(l, window_sizes)\n",
    ").apply(pd.Series)\n",
    "gene_annotation_window_size_instances.head()"
   ]
  },
  {
   "cell_type": "code",
   "execution_count": null,
   "id": "996cea8a-0689-40ff-b7f0-21f92339c3b6",
   "metadata": {},
   "outputs": [
    {
     "data": {
      "text/plain": [
       "512      2018346\n",
       "1024     1005306\n",
       "2048      498835\n",
       "4096      245699\n",
       "8192      119220\n",
       "16384      56285\n",
       "32768      25339\n",
       "65536      10542\n",
       "dtype: int64"
      ]
     },
     "execution_count": null,
     "metadata": {},
     "output_type": "execute_result"
    }
   ],
   "source": [
    "#| hide\n",
    "gene_annotation_window_size_instances.sum()"
   ]
  },
  {
   "cell_type": "code",
   "execution_count": null,
   "id": "7d9cca7c-1e4a-439d-9000-6b675cdaf7b2",
   "metadata": {},
   "outputs": [
    {
     "data": {
      "text/html": [
       "<div>\n",
       "<style scoped>\n",
       "    .dataframe tbody tr th:only-of-type {\n",
       "        vertical-align: middle;\n",
       "    }\n",
       "\n",
       "    .dataframe tbody tr th {\n",
       "        vertical-align: top;\n",
       "    }\n",
       "\n",
       "    .dataframe thead th {\n",
       "        text-align: right;\n",
       "    }\n",
       "</style>\n",
       "<table border=\"1\" class=\"dataframe\">\n",
       "  <thead>\n",
       "    <tr style=\"text-align: right;\">\n",
       "      <th></th>\n",
       "      <th>512</th>\n",
       "      <th>1024</th>\n",
       "      <th>2048</th>\n",
       "      <th>4096</th>\n",
       "      <th>8192</th>\n",
       "      <th>16384</th>\n",
       "      <th>32768</th>\n",
       "      <th>65536</th>\n",
       "    </tr>\n",
       "  </thead>\n",
       "  <tbody>\n",
       "    <tr>\n",
       "      <th>rna-NM_001142426.2</th>\n",
       "      <td>24</td>\n",
       "      <td>12</td>\n",
       "      <td>6</td>\n",
       "      <td>3</td>\n",
       "      <td>1</td>\n",
       "      <td>0</td>\n",
       "      <td>0</td>\n",
       "      <td>0</td>\n",
       "    </tr>\n",
       "    <tr>\n",
       "      <th>rna-NM_005834.5</th>\n",
       "      <td>9</td>\n",
       "      <td>4</td>\n",
       "      <td>2</td>\n",
       "      <td>1</td>\n",
       "      <td>0</td>\n",
       "      <td>0</td>\n",
       "      <td>0</td>\n",
       "      <td>0</td>\n",
       "    </tr>\n",
       "    <tr>\n",
       "      <th>rna-XM_011529575.4</th>\n",
       "      <td>1064</td>\n",
       "      <td>532</td>\n",
       "      <td>266</td>\n",
       "      <td>133</td>\n",
       "      <td>66</td>\n",
       "      <td>33</td>\n",
       "      <td>16</td>\n",
       "      <td>8</td>\n",
       "    </tr>\n",
       "    <tr>\n",
       "      <th>rna-NM_198382.3</th>\n",
       "      <td>130</td>\n",
       "      <td>65</td>\n",
       "      <td>32</td>\n",
       "      <td>16</td>\n",
       "      <td>8</td>\n",
       "      <td>4</td>\n",
       "      <td>2</td>\n",
       "      <td>1</td>\n",
       "    </tr>\n",
       "    <tr>\n",
       "      <th>rna-NM_001142502.2</th>\n",
       "      <td>52</td>\n",
       "      <td>26</td>\n",
       "      <td>13</td>\n",
       "      <td>6</td>\n",
       "      <td>3</td>\n",
       "      <td>1</td>\n",
       "      <td>0</td>\n",
       "      <td>0</td>\n",
       "    </tr>\n",
       "  </tbody>\n",
       "</table>\n",
       "</div>"
      ],
      "text/plain": [
       "                    512    1024   2048   4096   8192   16384  32768  65536\n",
       "rna-NM_001142426.2     24     12      6      3      1      0      0      0\n",
       "rna-NM_005834.5         9      4      2      1      0      0      0      0\n",
       "rna-XM_011529575.4   1064    532    266    133     66     33     16      8\n",
       "rna-NM_198382.3       130     65     32     16      8      4      2      1\n",
       "rna-NM_001142502.2     52     26     13      6      3      1      0      0"
      ]
     },
     "execution_count": null,
     "metadata": {},
     "output_type": "execute_result"
    }
   ],
   "source": [
    "#| hide\n",
    "protein_annotation_window_size_instances = protein_annotation_lengths_df.length.apply(\n",
    "    lambda l: count_training_instances_with_window_size(l, window_sizes)\n",
    ").apply(pd.Series)\n",
    "protein_annotation_window_size_instances.head()"
   ]
  },
  {
   "cell_type": "code",
   "execution_count": null,
   "id": "42d6ac4b-c085-4a85-ab9c-a4cf221e272d",
   "metadata": {},
   "outputs": [
    {
     "data": {
      "text/plain": [
       "512      24933310\n",
       "1024     12440540\n",
       "2048      6193530\n",
       "4096      3070390\n",
       "8192      1508450\n",
       "16384      728420\n",
       "32768      339830\n",
       "65536      149620\n",
       "dtype: int64"
      ]
     },
     "execution_count": null,
     "metadata": {},
     "output_type": "execute_result"
    }
   ],
   "source": [
    "#| hide\n",
    "# Account for sample size\n",
    "protein_annotation_window_size_instances.sum().mul(10)"
   ]
  },
  {
   "cell_type": "markdown",
   "id": "b8137ff7-e238-4974-b536-21bddfedc7b9",
   "metadata": {},
   "source": [
    "#### Takeaways\n",
    "\n",
    "- The \"normal\" window size of 512 gives us the most training instances of nearly 25 million."
   ]
  },
  {
   "cell_type": "code",
   "execution_count": null,
   "id": "8e6a8cf5-f5b7-4289-ac16-edf94711ee4c",
   "metadata": {},
   "outputs": [],
   "source": [
    "#| hide\n",
    "import nbdev; nbdev.nbdev_export()"
   ]
  },
  {
   "cell_type": "code",
   "execution_count": null,
   "id": "5fc30d59-babb-4520-8769-dbcb5e0d655b",
   "metadata": {},
   "outputs": [],
   "source": []
  }
 ],
 "metadata": {
  "kernelspec": {
   "display_name": "python3",
   "language": "python",
   "name": "python3"
  }
 },
 "nbformat": 4,
 "nbformat_minor": 5
}
