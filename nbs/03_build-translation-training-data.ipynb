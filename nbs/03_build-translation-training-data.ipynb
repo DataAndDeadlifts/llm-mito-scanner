{
 "cells": [
  {
   "cell_type": "markdown",
   "id": "24d5ea54-dd16-460c-9994-6138bce56164",
   "metadata": {},
   "source": [
    "# Getting training data for translation\n",
    "\n",
    "> \"Build our training data using the annotations we brokedown and the genome sequences we've stored.\"\n",
    "\n",
    "We need to know which sequences of DNA create which sequences of protein.\n",
    "\n",
    "A gene can be made up of multiple coding and non-coding sequences.\n",
    "\n",
    "Our training task is translation from genomic DNA (skipping transcription) to protein sequences.\n",
    "\n",
    "This means that some sections of genomic DNA will produce no protein sequences and others will, even within the same gene.\n",
    "\n",
    "I also have to plan around the fact that I have limited computing resources, and I may not be able to train a model with sufficient window size to encapsulate an entire gene.\n",
    "\n",
    "With this in mind, we need to be able to flexibly get training data where we can slice genomic dna at any location and get the protein sequences that slice is responsible for creating.\n",
    "\n",
    "I.E.\n",
    "\n",
    "Gene X has a sequence of 1,000 base pairs.\n",
    "\n",
    "There is a coding sequence from bases 0 to 100 and from 200 to 1000.\n",
    "\n",
    "What does the training data look like if we sliced gene X from;\n",
    "\n",
    "1. positions 0 to 100?\n",
    "2. positions 0 to 150?\n",
    "3. positions 150 to 300?\n",
    "4. positions 500 to 1,000?"
   ]
  },
  {
   "cell_type": "code",
   "execution_count": null,
   "id": "a6b4642d-ef1f-4b2f-bd60-509aaaac3192",
   "metadata": {},
   "outputs": [],
   "source": [
    "#| default_exp features.annotations"
   ]
  },
  {
   "cell_type": "code",
   "execution_count": null,
   "id": "7162353e-346c-4f30-b037-93d0b3e6201f",
   "metadata": {},
   "outputs": [],
   "source": [
    "#| hide\n",
    "from nbdev.showdoc import *"
   ]
  },
  {
   "cell_type": "code",
   "execution_count": null,
   "id": "ddaea32a-8e47-41d8-8b12-34ebeae00cf5",
   "metadata": {},
   "outputs": [
    {
     "name": "stderr",
     "output_type": "stream",
     "text": [
      "/home/jdb/projects/llm-mito-scanner/venv/lib/python3.10/site-packages/Bio/__init__.py:138: BiopythonWarning: You may be importing Biopython from inside the source tree. This is bad practice and might lead to downstream issues. In particular, you might encounter ImportErrors due to missing compiled C extensions. We recommend that you try running your code from outside the source tree. If you are outside the source tree then you have a setup.py file in an unexpected directory: /home/jdb/projects/llm-mito-scanner/venv/lib/python3.10/site-packages\n",
      "  warnings.warn(\n"
     ]
    }
   ],
   "source": [
    "#| export\n",
    "import pandas as pd\n",
    "from pathlib import Path\n",
    "from tqdm.auto import tqdm\n",
    "from Bio import SeqIO, Entrez\n",
    "from Bio.SeqFeature import SeqFeature, FeatureLocation\n",
    "import re\n",
    "import json\n",
    "from multiprocessing import Pool\n",
    "import os\n",
    "import sys\n",
    "\n",
    "pd.options.mode.chained_assignment = None"
   ]
  },
  {
   "cell_type": "code",
   "execution_count": null,
   "id": "82e9f00b-235f-44ae-a8a4-cfd53eefe53c",
   "metadata": {},
   "outputs": [],
   "source": [
    "#| hide\n",
    "from io import StringIO\n",
    "from yaml import safe_load\n",
    "\n",
    "tqdm.pandas(ncols=80, leave=False)\n",
    "\n",
    "with open(\"../config.yml\") as f:\n",
    "    config = safe_load(f)"
   ]
  },
  {
   "cell_type": "code",
   "execution_count": null,
   "id": "b5630e48-2b47-449b-ba1c-134b72c01104",
   "metadata": {},
   "outputs": [],
   "source": [
    "#| hide\n",
    "data_path = Path(config.get(\"data_path\"))\n",
    "annotations_path = data_path / \"annotations\"\n",
    "genome_path = data_path / \"genome\"\n",
    "sequences_path = data_path / \"entrez_genes_sequences\"\n",
    "protein_path = data_path / \"protein\"\n",
    "if not sequences_path.exists():\n",
    "    sequences_path.mkdir()\n",
    "\n",
    "Entrez.email = config.get(\"email\")\n",
    "Entrez.api_key = config.get(\"nih_api_key\")"
   ]
  },
  {
   "cell_type": "markdown",
   "id": "0ac2ff73-a2d9-4922-8688-06ef803e9b1a",
   "metadata": {},
   "source": [
    "## Get gene annotations"
   ]
  },
  {
   "cell_type": "code",
   "execution_count": null,
   "id": "44987b6e-3cc7-4872-851c-7148b833aa45",
   "metadata": {},
   "outputs": [],
   "source": [
    "#| hide\n",
    "annotation_id = \"NC_000014.9\"\n",
    "test_annotation_file = annotations_path / f\"{annotation_id}.csv\""
   ]
  },
  {
   "cell_type": "code",
   "execution_count": null,
   "id": "2bdeb162-5283-4012-b273-280d33f1ce4f",
   "metadata": {},
   "outputs": [
    {
     "data": {
      "text/html": [
       "<div>\n",
       "<style scoped>\n",
       "    .dataframe tbody tr th:only-of-type {\n",
       "        vertical-align: middle;\n",
       "    }\n",
       "\n",
       "    .dataframe tbody tr th {\n",
       "        vertical-align: top;\n",
       "    }\n",
       "\n",
       "    .dataframe thead th {\n",
       "        text-align: right;\n",
       "    }\n",
       "</style>\n",
       "<table border=\"1\" class=\"dataframe\">\n",
       "  <thead>\n",
       "    <tr style=\"text-align: right;\">\n",
       "      <th></th>\n",
       "      <th>seqid</th>\n",
       "      <th>source</th>\n",
       "      <th>type</th>\n",
       "      <th>start</th>\n",
       "      <th>end</th>\n",
       "      <th>score</th>\n",
       "      <th>strand</th>\n",
       "      <th>phase</th>\n",
       "      <th>attributes</th>\n",
       "    </tr>\n",
       "  </thead>\n",
       "  <tbody>\n",
       "    <tr>\n",
       "      <th>23436</th>\n",
       "      <td>NC_000014.9</td>\n",
       "      <td>BestRefSeq</td>\n",
       "      <td>exon</td>\n",
       "      <td>35312881</td>\n",
       "      <td>35313059</td>\n",
       "      <td>NaN</td>\n",
       "      <td>+</td>\n",
       "      <td>NaN</td>\n",
       "      <td>ID=exon-NR_182667.1-12;Parent=rna-NR_182667.1;...</td>\n",
       "    </tr>\n",
       "    <tr>\n",
       "      <th>36655</th>\n",
       "      <td>NC_000014.9</td>\n",
       "      <td>Gnomon</td>\n",
       "      <td>exon</td>\n",
       "      <td>50735516</td>\n",
       "      <td>50735617</td>\n",
       "      <td>NaN</td>\n",
       "      <td>-</td>\n",
       "      <td>NaN</td>\n",
       "      <td>ID=exon-XM_047431440.1-27;Parent=rna-XM_047431...</td>\n",
       "    </tr>\n",
       "    <tr>\n",
       "      <th>65338</th>\n",
       "      <td>NC_000014.9</td>\n",
       "      <td>BestRefSeq</td>\n",
       "      <td>exon</td>\n",
       "      <td>65629492</td>\n",
       "      <td>65629606</td>\n",
       "      <td>NaN</td>\n",
       "      <td>+</td>\n",
       "      <td>NaN</td>\n",
       "      <td>ID=exon-NM_001371536.1-7;Parent=rna-NM_0013715...</td>\n",
       "    </tr>\n",
       "    <tr>\n",
       "      <th>53006</th>\n",
       "      <td>NC_000014.9</td>\n",
       "      <td>Gnomon</td>\n",
       "      <td>exon</td>\n",
       "      <td>60027884</td>\n",
       "      <td>60028101</td>\n",
       "      <td>NaN</td>\n",
       "      <td>+</td>\n",
       "      <td>NaN</td>\n",
       "      <td>ID=exon-XM_024449564.2-28;Parent=rna-XM_024449...</td>\n",
       "    </tr>\n",
       "    <tr>\n",
       "      <th>104928</th>\n",
       "      <td>NC_000014.9</td>\n",
       "      <td>Gnomon</td>\n",
       "      <td>exon</td>\n",
       "      <td>93528558</td>\n",
       "      <td>93528646</td>\n",
       "      <td>NaN</td>\n",
       "      <td>+</td>\n",
       "      <td>NaN</td>\n",
       "      <td>ID=exon-XM_011537018.3-9;Parent=rna-XM_0115370...</td>\n",
       "    </tr>\n",
       "  </tbody>\n",
       "</table>\n",
       "</div>"
      ],
      "text/plain": [
       "              seqid      source  type     start       end  score strand   \n",
       "23436   NC_000014.9  BestRefSeq  exon  35312881  35313059    NaN      +  \\\n",
       "36655   NC_000014.9      Gnomon  exon  50735516  50735617    NaN      -   \n",
       "65338   NC_000014.9  BestRefSeq  exon  65629492  65629606    NaN      +   \n",
       "53006   NC_000014.9      Gnomon  exon  60027884  60028101    NaN      +   \n",
       "104928  NC_000014.9      Gnomon  exon  93528558  93528646    NaN      +   \n",
       "\n",
       "        phase                                         attributes  \n",
       "23436     NaN  ID=exon-NR_182667.1-12;Parent=rna-NR_182667.1;...  \n",
       "36655     NaN  ID=exon-XM_047431440.1-27;Parent=rna-XM_047431...  \n",
       "65338     NaN  ID=exon-NM_001371536.1-7;Parent=rna-NM_0013715...  \n",
       "53006     NaN  ID=exon-XM_024449564.2-28;Parent=rna-XM_024449...  \n",
       "104928    NaN  ID=exon-XM_011537018.3-9;Parent=rna-XM_0115370...  "
      ]
     },
     "execution_count": null,
     "metadata": {},
     "output_type": "execute_result"
    }
   ],
   "source": [
    "#| hide\n",
    "test_annotations = pd.read_csv(test_annotation_file)\n",
    "test_annotations.sample(5)"
   ]
  },
  {
   "cell_type": "code",
   "execution_count": null,
   "id": "a473824e-8fa4-44df-a611-fc51884eb934",
   "metadata": {},
   "outputs": [
    {
     "data": {
      "text/plain": [
       "seqid                                               NC_000014.9\n",
       "source                                                   RefSeq\n",
       "type                                                     region\n",
       "start                                                         1\n",
       "end                                                   107043718\n",
       "score                                                       NaN\n",
       "strand                                                        +\n",
       "phase                                                       NaN\n",
       "attributes    ID=NC_000014.9:1..107043718;Dbxref=taxon:9606;...\n",
       "Name: 0, dtype: object"
      ]
     },
     "execution_count": null,
     "metadata": {},
     "output_type": "execute_result"
    }
   ],
   "source": [
    "#| hide\n",
    "test_annotations.iloc[0, :]"
   ]
  },
  {
   "cell_type": "code",
   "execution_count": null,
   "id": "a1b2e92f-7748-4c7a-b566-b33f38c6db23",
   "metadata": {},
   "outputs": [],
   "source": [
    "#| export\n",
    "def parse_annotation_value(annotation_value: str):\n",
    "    \"\"\"\n",
    "    Handle multiple values in the attribute.\n",
    "    Return value if list or dict if key-value pair\n",
    "    \"\"\"\n",
    "    annotation_split = annotation_value.split(\":\")\n",
    "    if len(annotation_split) == 1:\n",
    "        return annotation_value\n",
    "    return {annotation_split[0]: annotation_split[1]}\n",
    "\n",
    "\n",
    "def parse_annotation_attribute_values(attribute_values: str) -> object:\n",
    "    \"\"\"\n",
    "    Detect if an attribute value is really a dict or list.\n",
    "    \"\"\"\n",
    "    value_list = attribute_values.split(\",\")\n",
    "    if len(value_list) == 1:\n",
    "        return attribute_values\n",
    "    parsed_values = [parse_annotation_value(value) for value in value_list]\n",
    "    # Dict within a list\n",
    "    if \":\" in value_list[0]:\n",
    "        attribute_values = {}\n",
    "        for parsed_value in parsed_values:\n",
    "            if isinstance(parsed_value, dict):\n",
    "                attribute_values.update(parsed_value)\n",
    "    # Just a list within a list\n",
    "    else:\n",
    "        attribute_values = parsed_values\n",
    "    return attribute_values\n",
    "\n",
    "\n",
    "def parse_entrez_gff3_annotation_attributes(attributes_str: str):\n",
    "    \"\"\"\n",
    "    Convert attribute string to parsed attribute dict.\n",
    "    \n",
    "    Split on ';' to get attributes.\n",
    "    Values can also be nested as a dict or list.\n",
    "    \"\"\"\n",
    "    attr_list = attributes_str.split(\";\")\n",
    "    attr_dict = {\n",
    "        k: parse_annotation_attribute_values(v) for k, v in [attr.split(\"=\") for attr in attr_list]\n",
    "    }\n",
    "    return attr_dict"
   ]
  },
  {
   "cell_type": "code",
   "execution_count": null,
   "id": "889db3d9-5676-43f2-8368-ce65f5ced480",
   "metadata": {},
   "outputs": [],
   "source": [
    "#| hide\n",
    "test_annotations.loc[:, 'attributes_dict'] = test_annotations.attributes.apply(parse_entrez_gff3_annotation_attributes)"
   ]
  },
  {
   "cell_type": "code",
   "execution_count": null,
   "id": "963a62bd-6946-446d-be9c-ce9c822e944a",
   "metadata": {},
   "outputs": [
    {
     "data": {
      "text/plain": [
       "seqid     NC_000014.9\n",
       "source         RefSeq\n",
       "type           region\n",
       "start               1\n",
       "end         107043718\n",
       "score             NaN\n",
       "strand              +\n",
       "phase             NaN\n",
       "Name: 0, dtype: object"
      ]
     },
     "metadata": {},
     "output_type": "display_data"
    },
    {
     "data": {
      "text/plain": [
       "{'ID': 'NC_000014.9:1..107043718',\n",
       " 'Dbxref': 'taxon:9606',\n",
       " 'Name': '14',\n",
       " 'chromosome': '14',\n",
       " 'gbkey': 'Src',\n",
       " 'genome': 'chromosome',\n",
       " 'mol_type': 'genomic DNA'}"
      ]
     },
     "execution_count": null,
     "metadata": {},
     "output_type": "execute_result"
    }
   ],
   "source": [
    "#| hide\n",
    "test_row = 0\n",
    "display(test_annotations.iloc[test_row, :-2])\n",
    "test_annotations.iloc[test_row, -1]"
   ]
  },
  {
   "cell_type": "markdown",
   "id": "77a38433-10e8-46ce-a467-7e625dc5cacd",
   "metadata": {},
   "source": [
    "### Summary:\n",
    "\n",
    "For each annotations document:\n",
    "- Read it as a csv via pandas\n",
    "- Parse the annotations column\n",
    "- Return dataframe with annotations_dict column"
   ]
  },
  {
   "cell_type": "markdown",
   "id": "31d69d0b-88ee-4de1-888a-fa25f7e7fe6d",
   "metadata": {},
   "source": [
    "## Converting annotations to SeqRecords for training.\n",
    "\n",
    "Genes are made up of multiple elements.\n",
    "\n",
    "- Genes\n",
    "    - Entire DNA sequence encoding the information for a protein.\n",
    "- Introns\n",
    "    - Sections of DNA ignored during transcription.\n",
    "- Exons\n",
    "    - Sections of DNA included in the transcription product.\n",
    "- UTRs (Untranslated Retions)\n",
    "    - Sections of mRNA ignored during translation.\n",
    "- CDS (Coding Sequence)\n",
    "    - Sections of mRNA that are translated to protein.\n",
    "\n",
    "    \n",
    "The annotations we have include all this information. Lets extract a SeqRecord object using the annotations that has all this information."
   ]
  },
  {
   "cell_type": "markdown",
   "id": "0c2b84a2-85d4-4068-85df-33e74f8ecce6",
   "metadata": {},
   "source": [
    "Transformation plan:\n",
    "\n",
    "1. Filter gff features to those belonging to a gene\n",
    "2. Create the initial SeqRecord from the feature with `featuretype='gene'`\n",
    "3. Collect all features with geneID belonging to SeqRecord from [2] (for each)\n",
    "4. Annotate SeqRecord with features\n",
    "5. Write SeqRecord with features"
   ]
  },
  {
   "cell_type": "code",
   "execution_count": null,
   "id": "69d9ab3f-f902-446d-bac3-b20196492392",
   "metadata": {},
   "outputs": [],
   "source": [
    "#| export\n",
    "def get_gene_id_from_attribute_dict(attribute_dict: dict):\n",
    "    dbxref = attribute_dict.get(\"Dbxref\", {})\n",
    "    if isinstance(dbxref, str):\n",
    "        return None\n",
    "    elif isinstance(dbxref, dict):\n",
    "        return dbxref.get(\"GeneID\", None)\n",
    "    else:\n",
    "        return None"
   ]
  },
  {
   "cell_type": "code",
   "execution_count": null,
   "id": "667cf034-6b09-496d-a775-72ae84bd0f9c",
   "metadata": {},
   "outputs": [
    {
     "data": {
      "text/html": [
       "<div>\n",
       "<style scoped>\n",
       "    .dataframe tbody tr th:only-of-type {\n",
       "        vertical-align: middle;\n",
       "    }\n",
       "\n",
       "    .dataframe tbody tr th {\n",
       "        vertical-align: top;\n",
       "    }\n",
       "\n",
       "    .dataframe thead th {\n",
       "        text-align: right;\n",
       "    }\n",
       "</style>\n",
       "<table border=\"1\" class=\"dataframe\">\n",
       "  <thead>\n",
       "    <tr style=\"text-align: right;\">\n",
       "      <th></th>\n",
       "      <th>seqid</th>\n",
       "      <th>source</th>\n",
       "      <th>type</th>\n",
       "      <th>start</th>\n",
       "      <th>end</th>\n",
       "      <th>score</th>\n",
       "      <th>strand</th>\n",
       "      <th>phase</th>\n",
       "      <th>attributes</th>\n",
       "      <th>attributes_dict</th>\n",
       "      <th>annotation_id</th>\n",
       "      <th>gene_id</th>\n",
       "      <th>protein_id</th>\n",
       "      <th>parent_annotation_id</th>\n",
       "    </tr>\n",
       "  </thead>\n",
       "  <tbody>\n",
       "    <tr>\n",
       "      <th>0</th>\n",
       "      <td>NC_000014.9</td>\n",
       "      <td>RefSeq</td>\n",
       "      <td>region</td>\n",
       "      <td>1</td>\n",
       "      <td>107043718</td>\n",
       "      <td>NaN</td>\n",
       "      <td>+</td>\n",
       "      <td>NaN</td>\n",
       "      <td>ID=NC_000014.9:1..107043718;Dbxref=taxon:9606;...</td>\n",
       "      <td>{'ID': 'NC_000014.9:1..107043718', 'Dbxref': '...</td>\n",
       "      <td>NC_000014.9:1..107043718</td>\n",
       "      <td>None</td>\n",
       "      <td>None</td>\n",
       "      <td>None</td>\n",
       "    </tr>\n",
       "    <tr>\n",
       "      <th>1</th>\n",
       "      <td>NC_000014.9</td>\n",
       "      <td>RefSeq</td>\n",
       "      <td>centromere</td>\n",
       "      <td>16000001</td>\n",
       "      <td>18173523</td>\n",
       "      <td>NaN</td>\n",
       "      <td>+</td>\n",
       "      <td>NaN</td>\n",
       "      <td>ID=id-NC_000014.9:16000001..18173523;Note=Line...</td>\n",
       "      <td>{'ID': 'id-NC_000014.9:16000001..18173523', 'N...</td>\n",
       "      <td>id-NC_000014.9:16000001..18173523</td>\n",
       "      <td>None</td>\n",
       "      <td>None</td>\n",
       "      <td>None</td>\n",
       "    </tr>\n",
       "    <tr>\n",
       "      <th>2</th>\n",
       "      <td>NC_000014.9</td>\n",
       "      <td>Curated Genomic</td>\n",
       "      <td>pseudogene</td>\n",
       "      <td>16024658</td>\n",
       "      <td>16025641</td>\n",
       "      <td>NaN</td>\n",
       "      <td>+</td>\n",
       "      <td>NaN</td>\n",
       "      <td>ID=gene-DUX4L48;Dbxref=GeneID:107105251,HGNC:H...</td>\n",
       "      <td>{'ID': 'gene-DUX4L48', 'Dbxref': {'GeneID': '1...</td>\n",
       "      <td>gene-DUX4L48</td>\n",
       "      <td>107105251</td>\n",
       "      <td>None</td>\n",
       "      <td>None</td>\n",
       "    </tr>\n",
       "    <tr>\n",
       "      <th>3</th>\n",
       "      <td>NC_000014.9</td>\n",
       "      <td>Curated Genomic</td>\n",
       "      <td>pseudogene</td>\n",
       "      <td>16028061</td>\n",
       "      <td>16028716</td>\n",
       "      <td>NaN</td>\n",
       "      <td>+</td>\n",
       "      <td>NaN</td>\n",
       "      <td>ID=gene-PCMTD1P6;Dbxref=GeneID:107105255,HGNC:...</td>\n",
       "      <td>{'ID': 'gene-PCMTD1P6', 'Dbxref': {'GeneID': '...</td>\n",
       "      <td>gene-PCMTD1P6</td>\n",
       "      <td>107105255</td>\n",
       "      <td>None</td>\n",
       "      <td>None</td>\n",
       "    </tr>\n",
       "    <tr>\n",
       "      <th>4</th>\n",
       "      <td>NC_000014.9</td>\n",
       "      <td>Curated Genomic</td>\n",
       "      <td>exon</td>\n",
       "      <td>16028061</td>\n",
       "      <td>16028716</td>\n",
       "      <td>NaN</td>\n",
       "      <td>+</td>\n",
       "      <td>NaN</td>\n",
       "      <td>ID=id-PCMTD1P6;Parent=gene-PCMTD1P6;Dbxref=Gen...</td>\n",
       "      <td>{'ID': 'id-PCMTD1P6', 'Parent': 'gene-PCMTD1P6...</td>\n",
       "      <td>id-PCMTD1P6</td>\n",
       "      <td>107105255</td>\n",
       "      <td>None</td>\n",
       "      <td>gene-PCMTD1P6</td>\n",
       "    </tr>\n",
       "  </tbody>\n",
       "</table>\n",
       "</div>"
      ],
      "text/plain": [
       "         seqid           source        type     start        end  score   \n",
       "0  NC_000014.9           RefSeq      region         1  107043718    NaN  \\\n",
       "1  NC_000014.9           RefSeq  centromere  16000001   18173523    NaN   \n",
       "2  NC_000014.9  Curated Genomic  pseudogene  16024658   16025641    NaN   \n",
       "3  NC_000014.9  Curated Genomic  pseudogene  16028061   16028716    NaN   \n",
       "4  NC_000014.9  Curated Genomic        exon  16028061   16028716    NaN   \n",
       "\n",
       "  strand  phase                                         attributes   \n",
       "0      +    NaN  ID=NC_000014.9:1..107043718;Dbxref=taxon:9606;...  \\\n",
       "1      +    NaN  ID=id-NC_000014.9:16000001..18173523;Note=Line...   \n",
       "2      +    NaN  ID=gene-DUX4L48;Dbxref=GeneID:107105251,HGNC:H...   \n",
       "3      +    NaN  ID=gene-PCMTD1P6;Dbxref=GeneID:107105255,HGNC:...   \n",
       "4      +    NaN  ID=id-PCMTD1P6;Parent=gene-PCMTD1P6;Dbxref=Gen...   \n",
       "\n",
       "                                     attributes_dict   \n",
       "0  {'ID': 'NC_000014.9:1..107043718', 'Dbxref': '...  \\\n",
       "1  {'ID': 'id-NC_000014.9:16000001..18173523', 'N...   \n",
       "2  {'ID': 'gene-DUX4L48', 'Dbxref': {'GeneID': '1...   \n",
       "3  {'ID': 'gene-PCMTD1P6', 'Dbxref': {'GeneID': '...   \n",
       "4  {'ID': 'id-PCMTD1P6', 'Parent': 'gene-PCMTD1P6...   \n",
       "\n",
       "                       annotation_id    gene_id protein_id   \n",
       "0           NC_000014.9:1..107043718       None       None  \\\n",
       "1  id-NC_000014.9:16000001..18173523       None       None   \n",
       "2                       gene-DUX4L48  107105251       None   \n",
       "3                      gene-PCMTD1P6  107105255       None   \n",
       "4                        id-PCMTD1P6  107105255       None   \n",
       "\n",
       "  parent_annotation_id  \n",
       "0                 None  \n",
       "1                 None  \n",
       "2                 None  \n",
       "3                 None  \n",
       "4        gene-PCMTD1P6  "
      ]
     },
     "execution_count": null,
     "metadata": {},
     "output_type": "execute_result"
    }
   ],
   "source": [
    "#| hide\n",
    "test_annotations.loc[:, 'annotation_id'] = test_annotations.attributes_dict.apply(lambda d: d.get(\"ID\"))\n",
    "test_annotations.loc[:, 'gene_id'] = test_annotations.attributes_dict.apply(get_gene_id_from_attribute_dict)\n",
    "test_annotations.loc[:, 'protein_id'] = test_annotations.attributes_dict.apply(lambda d: d.get(\"protein_id\"))\n",
    "test_annotations.loc[:, 'parent_annotation_id'] = test_annotations.attributes_dict.apply(lambda d: d.get(\"Parent\"))\n",
    "\n",
    "test_annotations.head()"
   ]
  },
  {
   "cell_type": "code",
   "execution_count": null,
   "id": "6d0e275e-8c22-44bf-9ca1-11f4a9835917",
   "metadata": {},
   "outputs": [
    {
     "data": {
      "text/plain": [
       "count    52792.000000\n",
       "mean       162.975924\n",
       "std        259.262548\n",
       "min          0.000000\n",
       "25%         82.000000\n",
       "50%        120.000000\n",
       "75%        170.000000\n",
       "max      16736.000000\n",
       "dtype: float64"
      ]
     },
     "execution_count": null,
     "metadata": {},
     "output_type": "execute_result"
    }
   ],
   "source": [
    "#| hide\n",
    "# How long are these coding sequences anyway?\n",
    "test_annotations_cds = test_annotations[test_annotations.type == \"CDS\"]\n",
    "(test_annotations_cds.end - test_annotations_cds.start).describe()"
   ]
  },
  {
   "cell_type": "code",
   "execution_count": null,
   "id": "4c07384b-9867-4249-93c6-766a99254d8c",
   "metadata": {},
   "outputs": [
    {
     "data": {
      "text/html": [
       "<div>\n",
       "<style scoped>\n",
       "    .dataframe tbody tr th:only-of-type {\n",
       "        vertical-align: middle;\n",
       "    }\n",
       "\n",
       "    .dataframe tbody tr th {\n",
       "        vertical-align: top;\n",
       "    }\n",
       "\n",
       "    .dataframe thead th {\n",
       "        text-align: right;\n",
       "    }\n",
       "</style>\n",
       "<table border=\"1\" class=\"dataframe\">\n",
       "  <thead>\n",
       "    <tr style=\"text-align: right;\">\n",
       "      <th></th>\n",
       "      <th>gene_id</th>\n",
       "      <th>protein_id</th>\n",
       "    </tr>\n",
       "  </thead>\n",
       "  <tbody>\n",
       "    <tr>\n",
       "      <th>377</th>\n",
       "      <td>10278</td>\n",
       "      <td>NP_001372536.1</td>\n",
       "    </tr>\n",
       "    <tr>\n",
       "      <th>3869</th>\n",
       "      <td>113146</td>\n",
       "      <td>XP_024305231.1</td>\n",
       "    </tr>\n",
       "    <tr>\n",
       "      <th>37</th>\n",
       "      <td>7011</td>\n",
       "      <td>XP_011535412.1</td>\n",
       "    </tr>\n",
       "    <tr>\n",
       "      <th>118</th>\n",
       "      <td>57447</td>\n",
       "      <td>NP_963833.1</td>\n",
       "    </tr>\n",
       "    <tr>\n",
       "      <th>3734</th>\n",
       "      <td>3831</td>\n",
       "      <td>NP_001381773.1</td>\n",
       "    </tr>\n",
       "  </tbody>\n",
       "</table>\n",
       "</div>"
      ],
      "text/plain": [
       "     gene_id      protein_id\n",
       "377    10278  NP_001372536.1\n",
       "3869  113146  XP_024305231.1\n",
       "37      7011  XP_011535412.1\n",
       "118    57447     NP_963833.1\n",
       "3734    3831  NP_001381773.1"
      ]
     },
     "execution_count": null,
     "metadata": {},
     "output_type": "execute_result"
    }
   ],
   "source": [
    "#| hide\n",
    "gene_to_protein_map = test_annotations[['gene_id', 'protein_id']].dropna().drop_duplicates().reset_index(drop=True)\n",
    "gene_to_protein_map.sample(5)"
   ]
  },
  {
   "cell_type": "code",
   "execution_count": null,
   "id": "8693375d-c957-473d-9fea-aa56f7d7f76c",
   "metadata": {},
   "outputs": [
    {
     "data": {
      "text/plain": [
       "<Axes: xlabel='protein_id'>"
      ]
     },
     "execution_count": null,
     "metadata": {},
     "output_type": "execute_result"
    },
    {
     "data": {
      "image/png": "[encoded data removed]",
      "text/plain": [
       "<Figure size 640x480 with 1 Axes>"
      ]
     },
     "metadata": {},
     "output_type": "display_data"
    }
   ],
   "source": [
    "#| hide\n",
    "# The number of gene ids with **x** protein_ids. \n",
    "# I.E. x = 1 and y = ~140 means there are 140 gene ids with one protein.\n",
    "gene_to_protein_map.groupby(\"gene_id\").protein_id.nunique().value_counts().plot(kind='bar')"
   ]
  },
  {
   "cell_type": "code",
   "execution_count": null,
   "id": "6c82c8da-b16f-43f8-b2f0-8e7d66b5e2e0",
   "metadata": {},
   "outputs": [],
   "source": [
    "#| hide\n",
    "genes_that_encode_protein = gene_to_protein_map.gene_id.unique().tolist()"
   ]
  },
  {
   "cell_type": "code",
   "execution_count": null,
   "id": "eec60ecf-fa41-4f55-89eb-763ca9b110c0",
   "metadata": {},
   "outputs": [
    {
     "data": {
      "text/plain": [
       "118010"
      ]
     },
     "execution_count": null,
     "metadata": {},
     "output_type": "execute_result"
    }
   ],
   "source": [
    "#| hide\n",
    "test_gene_annotations_df = test_annotations[test_annotations.gene_id.isin(genes_that_encode_protein)]\n",
    "test_gene_annotations_df.shape[0]"
   ]
  },
  {
   "cell_type": "code",
   "execution_count": null,
   "id": "2cad986c-c1fb-4bb9-b74d-e91f7fbfaab0",
   "metadata": {},
   "outputs": [],
   "source": [
    "#| hide\n",
    "test_gene_reference_sequence_id = test_gene_annotations_df.seqid.values[0]\n",
    "test_reference_sequence_path = genome_path / f\"{test_gene_reference_sequence_id}.fasta\"\n",
    "test_gene_reference_sequence = next(SeqIO.parse(test_reference_sequence_path.resolve(), \"fasta\"))"
   ]
  },
  {
   "cell_type": "code",
   "execution_count": null,
   "id": "5ad7ae06-b8c6-430f-bffa-d216dfad751f",
   "metadata": {},
   "outputs": [],
   "source": [
    "#| export\n",
    "def get_sequence_from_file(\n",
    "    start: int, end: int, strand: str = \"+\", \n",
    "    sequence_record: SeqIO.SeqRecord = None, fasta_path: Path = None) -> SeqIO.SeqRecord:\n",
    "    \"\"\"\n",
    "    The Fasta file at fasta_path is a single record.\n",
    "    If strand is positive, index and return sequence.\n",
    "    If strand is negative, reverse the index and return.\n",
    "    \"\"\"\n",
    "    if sequence_record is None and fasta_path is None:\n",
    "        raise ValueError(\"Both sequence_record and fasta_path cannot be None\")\n",
    "    if sequence_record is None:\n",
    "        sequence_record = next(SeqIO.parse(fasta_path.resolve(), \"fasta\"))\n",
    "    selected_sequence = sequence_record[start - 1: end]\n",
    "    if strand == \"-\":\n",
    "        selected_sequence = selected_sequence.reverse_complement()\n",
    "    return selected_sequence.upper()"
   ]
  },
  {
   "cell_type": "markdown",
   "id": "63c5e52b-e68d-46db-914c-8808e5f8171f",
   "metadata": {},
   "source": [
    "Plan is;\n",
    "\n",
    "1. Group on gene_id\n",
    "2. Build initial \"source\" gene sequence record\n",
    "3. Identify \"groups\" of feature rows by their parent-child references\n",
    "4. For each group of features, create an annotated sequence"
   ]
  },
  {
   "cell_type": "code",
   "execution_count": null,
   "id": "a347b48d-ed7b-4f4c-9400-5433be344d31",
   "metadata": {},
   "outputs": [
    {
     "data": {
      "text/html": [
       "<div>\n",
       "<style scoped>\n",
       "    .dataframe tbody tr th:only-of-type {\n",
       "        vertical-align: middle;\n",
       "    }\n",
       "\n",
       "    .dataframe tbody tr th {\n",
       "        vertical-align: top;\n",
       "    }\n",
       "\n",
       "    .dataframe thead th {\n",
       "        text-align: right;\n",
       "    }\n",
       "</style>\n",
       "<table border=\"1\" class=\"dataframe\">\n",
       "  <thead>\n",
       "    <tr style=\"text-align: right;\">\n",
       "      <th></th>\n",
       "      <th>seqid</th>\n",
       "      <th>source</th>\n",
       "      <th>type</th>\n",
       "      <th>start</th>\n",
       "      <th>end</th>\n",
       "      <th>score</th>\n",
       "      <th>strand</th>\n",
       "      <th>phase</th>\n",
       "      <th>attributes</th>\n",
       "      <th>attributes_dict</th>\n",
       "      <th>annotation_id</th>\n",
       "      <th>gene_id</th>\n",
       "      <th>protein_id</th>\n",
       "      <th>parent_annotation_id</th>\n",
       "    </tr>\n",
       "  </thead>\n",
       "  <tbody>\n",
       "    <tr>\n",
       "      <th>298</th>\n",
       "      <td>NC_000014.9</td>\n",
       "      <td>BestRefSeq%2CGnomon</td>\n",
       "      <td>gene</td>\n",
       "      <td>19743571</td>\n",
       "      <td>19752334</td>\n",
       "      <td>NaN</td>\n",
       "      <td>+</td>\n",
       "      <td>NaN</td>\n",
       "      <td>ID=gene-OR4Q3;Dbxref=GeneID:441669,HGNC:HGNC:1...</td>\n",
       "      <td>{'ID': 'gene-OR4Q3', 'Dbxref': {'GeneID': '441...</td>\n",
       "      <td>gene-OR4Q3</td>\n",
       "      <td>441669</td>\n",
       "      <td>None</td>\n",
       "      <td>None</td>\n",
       "    </tr>\n",
       "    <tr>\n",
       "      <th>299</th>\n",
       "      <td>NC_000014.9</td>\n",
       "      <td>BestRefSeq</td>\n",
       "      <td>mRNA</td>\n",
       "      <td>19743571</td>\n",
       "      <td>19749469</td>\n",
       "      <td>NaN</td>\n",
       "      <td>+</td>\n",
       "      <td>NaN</td>\n",
       "      <td>ID=rna-NM_001405963.1;Parent=gene-OR4Q3;Dbxref...</td>\n",
       "      <td>{'ID': 'rna-NM_001405963.1', 'Parent': 'gene-O...</td>\n",
       "      <td>rna-NM_001405963.1</td>\n",
       "      <td>441669</td>\n",
       "      <td>None</td>\n",
       "      <td>gene-OR4Q3</td>\n",
       "    </tr>\n",
       "    <tr>\n",
       "      <th>300</th>\n",
       "      <td>NC_000014.9</td>\n",
       "      <td>BestRefSeq</td>\n",
       "      <td>exon</td>\n",
       "      <td>19743571</td>\n",
       "      <td>19743671</td>\n",
       "      <td>NaN</td>\n",
       "      <td>+</td>\n",
       "      <td>NaN</td>\n",
       "      <td>ID=exon-NM_001405963.1-1;Parent=rna-NM_0014059...</td>\n",
       "      <td>{'ID': 'exon-NM_001405963.1-1', 'Parent': 'rna...</td>\n",
       "      <td>exon-NM_001405963.1-1</td>\n",
       "      <td>441669</td>\n",
       "      <td>None</td>\n",
       "      <td>rna-NM_001405963.1</td>\n",
       "    </tr>\n",
       "    <tr>\n",
       "      <th>301</th>\n",
       "      <td>NC_000014.9</td>\n",
       "      <td>BestRefSeq</td>\n",
       "      <td>exon</td>\n",
       "      <td>19747406</td>\n",
       "      <td>19749469</td>\n",
       "      <td>NaN</td>\n",
       "      <td>+</td>\n",
       "      <td>NaN</td>\n",
       "      <td>ID=exon-NM_001405963.1-2;Parent=rna-NM_0014059...</td>\n",
       "      <td>{'ID': 'exon-NM_001405963.1-2', 'Parent': 'rna...</td>\n",
       "      <td>exon-NM_001405963.1-2</td>\n",
       "      <td>441669</td>\n",
       "      <td>None</td>\n",
       "      <td>rna-NM_001405963.1</td>\n",
       "    </tr>\n",
       "    <tr>\n",
       "      <th>302</th>\n",
       "      <td>NC_000014.9</td>\n",
       "      <td>BestRefSeq</td>\n",
       "      <td>CDS</td>\n",
       "      <td>19743670</td>\n",
       "      <td>19743671</td>\n",
       "      <td>NaN</td>\n",
       "      <td>+</td>\n",
       "      <td>0.0</td>\n",
       "      <td>ID=cds-NP_001392892.1;Parent=rna-NM_001405963....</td>\n",
       "      <td>{'ID': 'cds-NP_001392892.1', 'Parent': 'rna-NM...</td>\n",
       "      <td>cds-NP_001392892.1</td>\n",
       "      <td>441669</td>\n",
       "      <td>NP_001392892.1</td>\n",
       "      <td>rna-NM_001405963.1</td>\n",
       "    </tr>\n",
       "  </tbody>\n",
       "</table>\n",
       "</div>"
      ],
      "text/plain": [
       "           seqid               source  type     start       end  score strand   \n",
       "298  NC_000014.9  BestRefSeq%2CGnomon  gene  19743571  19752334    NaN      +  \\\n",
       "299  NC_000014.9           BestRefSeq  mRNA  19743571  19749469    NaN      +   \n",
       "300  NC_000014.9           BestRefSeq  exon  19743571  19743671    NaN      +   \n",
       "301  NC_000014.9           BestRefSeq  exon  19747406  19749469    NaN      +   \n",
       "302  NC_000014.9           BestRefSeq   CDS  19743670  19743671    NaN      +   \n",
       "\n",
       "     phase                                         attributes   \n",
       "298    NaN  ID=gene-OR4Q3;Dbxref=GeneID:441669,HGNC:HGNC:1...  \\\n",
       "299    NaN  ID=rna-NM_001405963.1;Parent=gene-OR4Q3;Dbxref...   \n",
       "300    NaN  ID=exon-NM_001405963.1-1;Parent=rna-NM_0014059...   \n",
       "301    NaN  ID=exon-NM_001405963.1-2;Parent=rna-NM_0014059...   \n",
       "302    0.0  ID=cds-NP_001392892.1;Parent=rna-NM_001405963....   \n",
       "\n",
       "                                       attributes_dict          annotation_id   \n",
       "298  {'ID': 'gene-OR4Q3', 'Dbxref': {'GeneID': '441...             gene-OR4Q3  \\\n",
       "299  {'ID': 'rna-NM_001405963.1', 'Parent': 'gene-O...     rna-NM_001405963.1   \n",
       "300  {'ID': 'exon-NM_001405963.1-1', 'Parent': 'rna...  exon-NM_001405963.1-1   \n",
       "301  {'ID': 'exon-NM_001405963.1-2', 'Parent': 'rna...  exon-NM_001405963.1-2   \n",
       "302  {'ID': 'cds-NP_001392892.1', 'Parent': 'rna-NM...     cds-NP_001392892.1   \n",
       "\n",
       "    gene_id      protein_id parent_annotation_id  \n",
       "298  441669            None                 None  \n",
       "299  441669            None           gene-OR4Q3  \n",
       "300  441669            None   rna-NM_001405963.1  \n",
       "301  441669            None   rna-NM_001405963.1  \n",
       "302  441669  NP_001392892.1   rna-NM_001405963.1  "
      ]
     },
     "execution_count": null,
     "metadata": {},
     "output_type": "execute_result"
    }
   ],
   "source": [
    "#| hide\n",
    "test_gene_id_groups = test_gene_annotations_df.groupby(\"gene_id\")\n",
    "# test_gene_id_group_id = list(test_gene_id_groups.groups.keys())[0]\n",
    "test_gene_id_group_id = \"441669\"\n",
    "# test_gene_id_group_id = \"100128927\"\n",
    "test_gene_id_group = test_gene_id_groups.get_group(test_gene_id_group_id)\n",
    "test_gene_id_group.head()"
   ]
  },
  {
   "cell_type": "code",
   "execution_count": null,
   "id": "3b7e6095-3cbf-4ca8-9939-325bae95d635",
   "metadata": {},
   "outputs": [],
   "source": [
    "#| export\n",
    "def get_gene_row_from_annotation_group(annotations: pd.DataFrame) -> pd.Series:\n",
    "    gene_rows = annotations[annotations.type == \"gene\"]\n",
    "    if gene_rows.shape[0] == 0:\n",
    "        raise ValueError(\"There are no 'gene' rows\")\n",
    "    elif gene_rows.shape[0] > 1:\n",
    "        display(gene_rows)\n",
    "        raise ValueError(\"There are more than 1 'gene' rows\")\n",
    "    gene_row = gene_rows.iloc[0, :]\n",
    "    return gene_row\n",
    "\n",
    "\n",
    "def get_row_sequence(\n",
    "    sequence_row: pd.Series, \n",
    "    reference_sequence: SeqIO.SeqRecord\n",
    ") -> SeqIO.SeqRecord:\n",
    "    \"\"\"\n",
    "    \"\"\"\n",
    "    sequence_record = get_sequence_from_file(\n",
    "        int(sequence_row.start), int(sequence_row.end), sequence_row.strand, \n",
    "        reference_sequence\n",
    "    )\n",
    "    sequence_record.id = sequence_row.annotation_id\n",
    "    sequence_record.annotations = sequence_row.attributes_dict\n",
    "    return sequence_record"
   ]
  },
  {
   "cell_type": "code",
   "execution_count": null,
   "id": "609e1746-0524-40a2-aca7-dca45042a4c8",
   "metadata": {},
   "outputs": [],
   "source": [
    "#| hide\n",
    "test_gene_id_group_gene_row = get_gene_row_from_annotation_group(test_gene_id_group)"
   ]
  },
  {
   "cell_type": "code",
   "execution_count": null,
   "id": "d2f384e1-23f0-439d-905f-311c4223a63c",
   "metadata": {},
   "outputs": [],
   "source": [
    "#| hide\n",
    "test_gene_id_group_gene_sequence = get_row_sequence(\n",
    "    test_gene_id_group_gene_row,\n",
    "    test_gene_reference_sequence\n",
    ")"
   ]
  },
  {
   "cell_type": "code",
   "execution_count": null,
   "id": "68f031fb-e318-4969-8b1e-866e1e4e6664",
   "metadata": {},
   "outputs": [
    {
     "data": {
      "text/plain": [
       "SeqRecord(seq=Seq('GCCCATTTTGCTGGCCTGAGGCTGAAGAGAGGGTTGATAGGATGAATGGCAGGA...CAA'), id='gene-OR4Q3', name='NC_000014.9', description='NC_000014.9 Homo sapiens chromosome 14, GRCh38.p14 Primary Assembly', dbxrefs=[])"
      ]
     },
     "execution_count": null,
     "metadata": {},
     "output_type": "execute_result"
    }
   ],
   "source": [
    "#| hide\n",
    "test_gene_id_group_gene_sequence"
   ]
  },
  {
   "cell_type": "code",
   "execution_count": null,
   "id": "6f9bc002-82c4-4aff-9ca4-077c9e21cdb0",
   "metadata": {},
   "outputs": [
    {
     "data": {
      "text/plain": [
       "seqid                                                         NC_000014.9\n",
       "source                                                         BestRefSeq\n",
       "type                                                                 gene\n",
       "start                                                            18601117\n",
       "end                                                              18602097\n",
       "score                                                                 NaN\n",
       "strand                                                                  +\n",
       "phase                                                                 NaN\n",
       "attributes              ID=gene-OR11H12;Dbxref=GeneID:440153,HGNC:HGNC...\n",
       "attributes_dict         {'ID': 'gene-OR11H12', 'Dbxref': {'GeneID': '4...\n",
       "annotation_id                                                gene-OR11H12\n",
       "gene_id                                                            440153\n",
       "protein_id                                                           None\n",
       "parent_annotation_id                                                 None\n",
       "Name: 22, dtype: object"
      ]
     },
     "execution_count": null,
     "metadata": {},
     "output_type": "execute_result"
    }
   ],
   "source": [
    "#| hide\n",
    "# Validate on a positive strand gene\n",
    "validation_positive_strand_gene_row = test_gene_annotations_df[\n",
    "    (test_gene_annotations_df.strand == \"+\") &\n",
    "    (test_gene_annotations_df.type == \"gene\")\n",
    "].iloc[0, :]\n",
    "validation_positive_strand_gene_row"
   ]
  },
  {
   "cell_type": "code",
   "execution_count": null,
   "id": "777cf72c-d4e1-4bab-be3d-90f4ffeb76e2",
   "metadata": {},
   "outputs": [],
   "source": [
    "#| hide\n",
    "# Get the validation sequence\n",
    "validation_positive_strand_gene_sequence = get_row_sequence(\n",
    "    validation_positive_strand_gene_row,\n",
    "    test_gene_reference_sequence\n",
    ")"
   ]
  },
  {
   "cell_type": "markdown",
   "id": "ffb5b867-ec4b-4459-b10c-0b9353d56b3b",
   "metadata": {},
   "source": [
    "Okay, we can get genes, lets get the base annotation and start annotating it with more info."
   ]
  },
  {
   "cell_type": "code",
   "execution_count": null,
   "id": "6ff52cb7-296a-41ec-8249-ad5b51acaa71",
   "metadata": {},
   "outputs": [],
   "source": [
    "#| export\n",
    "def annotate_token(token: str, token_type: str, token_position: int = None):\n",
    "    if token_type == \"nucleotide\":\n",
    "        return f\"[N]{token}\"\n",
    "    elif token_type == \"aminoacid\":\n",
    "        if token_position is None:\n",
    "            raise ValueError(\"token_position cannot be None if token_type is 'aminoacid'\")\n",
    "        return f\"f[A]{token}-{token_position}\"\n",
    "    else:\n",
    "        raise ValueError(f\"Unknown token_type passed: {token_type}\")\n",
    "        \n",
    "        \n",
    "def annotate_sequence(sequence: list[str], token_type: str):\n",
    "    sequence_annotation = list(\n",
    "        map(\n",
    "            lambda token: annotate_token(\n",
    "                token, token_type\n",
    "            ), \n",
    "            sequence\n",
    "        )\n",
    "    )\n",
    "    return sequence_annotation"
   ]
  },
  {
   "cell_type": "code",
   "execution_count": null,
   "id": "2fb0279b-d5ae-4a3e-8dbe-a0713a817cea",
   "metadata": {},
   "outputs": [
    {
     "data": {
      "text/plain": [
       "['[N]G', '[N]C', '[N]C', '[N]C', '[N]A']"
      ]
     },
     "execution_count": null,
     "metadata": {},
     "output_type": "execute_result"
    }
   ],
   "source": [
    "#| hide\n",
    "test_gene_id_gene_annotation = annotate_sequence(\n",
    "    list(test_gene_id_group_gene_sequence.seq),\n",
    "    \"nucleotide\"\n",
    ")\n",
    "test_gene_id_gene_annotation[:5]"
   ]
  },
  {
   "cell_type": "code",
   "execution_count": null,
   "id": "7506dbaa-481e-4612-bc55-3051db58c379",
   "metadata": {},
   "outputs": [],
   "source": [
    "#| export\n",
    "def validate_gene_annotation(gene_row: pd.Series, annotation: list[str]):\n",
    "    gene_length = gene_row.end - gene_row.start + 1\n",
    "    assert len(annotation) == gene_length"
   ]
  },
  {
   "cell_type": "code",
   "execution_count": null,
   "id": "c1c5cdc2-81e4-4320-b4e3-2c4d44bb3550",
   "metadata": {},
   "outputs": [],
   "source": [
    "#| hide\n",
    "validate_gene_annotation(test_gene_id_group_gene_row, test_gene_id_gene_annotation)"
   ]
  },
  {
   "cell_type": "markdown",
   "id": "ea43bdb0-7637-4c72-96df-90814cc136c0",
   "metadata": {},
   "source": [
    "Now lets annotate the mRNA sequences.\n",
    "\n",
    "This is complicated. You can't validate your mRNA against the source sequence in Entrez until you handle splicing.\n",
    "\n",
    "To do so we need to utilize the rows with their type == `mRNA` and `exon`.\n",
    "\n",
    "We also need to keep in mind how this maps back to our input-output training data.\n",
    "\n",
    "We need to annotate every DNA nucleotide with what it contributes to translation.\n",
    "\n",
    "This means that intronic and exonic mRNA needs to be labeled.\n",
    "\n",
    "There are various things that happen to mRNA as well that make it impossible to map directly from the reference genome to mRNA. The best we can do with that in mind is to identify what we need to annotate our data.\n",
    "\n",
    "Lets get intronic and exonic index values in the annotation sequence."
   ]
  },
  {
   "cell_type": "code",
   "execution_count": null,
   "id": "e30defad-ee36-46e1-b522-81affcf87150",
   "metadata": {},
   "outputs": [],
   "source": [
    "#| export\n",
    "def get_mrna_exon_idx(gene_row: pd.Series, mrna_row: pd.Series, exon_rows: pd.DataFrame) -> set[int]:\n",
    "    exon_idx = set()\n",
    "    # For each exon, mark sequence as exonic\n",
    "    for idx, ex_row in exon_rows.iterrows():\n",
    "        # Normalize the index values to the mrna sequence zero-index\n",
    "        rel_start = ex_row.start - gene_row.start\n",
    "        rel_end = ex_row.end - gene_row.start + 1\n",
    "        exon_idx.update(list(range(rel_start, rel_end)))\n",
    "    # Get intron idx\n",
    "    intron_idx = [i for i in range(mrna_row.start, mrna_row.end + 1) if i not in exon_idx]\n",
    "    return exon_idx\n",
    "\n",
    "\n",
    "def get_mrna_annotations(\n",
    "    gene_row: pd.Series,\n",
    "    annotations: pd.DataFrame, \n",
    "    reference_sequence: SeqIO.SeqRecord\n",
    ") -> pd.DataFrame:\n",
    "    mrna_rows = annotations[annotations.type == \"mRNA\"]\n",
    "    if mrna_rows.shape[0] == 0:\n",
    "        return\n",
    "    # Get the base sequences\n",
    "    mrna_rows.loc[:, 'record'] = mrna_rows.apply(\n",
    "        lambda row: get_sequence_from_file(\n",
    "            row.start, row.end, row.strand, \n",
    "            reference_sequence\n",
    "        ), \n",
    "        axis=1\n",
    "    )\n",
    "    exon_rows = annotations[annotations.type == \"exon\"]\n",
    "    exon_rows.loc[:, 'record'] = exon_rows.apply(\n",
    "        lambda row: get_sequence_from_file(\n",
    "            row.start, row.end, row.strand, \n",
    "            reference_sequence\n",
    "        ), \n",
    "        axis=1\n",
    "    )\n",
    "    # Now, assign exons to their mRNA sequences\n",
    "    mrna_rows.loc[:, 'exon_idx'] = mrna_rows.apply(\n",
    "        lambda row: get_mrna_exon_idx(gene_row, row, exon_rows[exon_rows.parent_annotation_id == row.annotation_id]),\n",
    "        axis=1\n",
    "    )\n",
    "    return mrna_rows"
   ]
  },
  {
   "cell_type": "code",
   "execution_count": null,
   "id": "8dffc350-8968-4636-b8a4-99fd9f75b488",
   "metadata": {},
   "outputs": [
    {
     "data": {
      "text/html": [
       "<div>\n",
       "<style scoped>\n",
       "    .dataframe tbody tr th:only-of-type {\n",
       "        vertical-align: middle;\n",
       "    }\n",
       "\n",
       "    .dataframe tbody tr th {\n",
       "        vertical-align: top;\n",
       "    }\n",
       "\n",
       "    .dataframe thead th {\n",
       "        text-align: right;\n",
       "    }\n",
       "</style>\n",
       "<table border=\"1\" class=\"dataframe\">\n",
       "  <thead>\n",
       "    <tr style=\"text-align: right;\">\n",
       "      <th></th>\n",
       "      <th>seqid</th>\n",
       "      <th>source</th>\n",
       "      <th>type</th>\n",
       "      <th>start</th>\n",
       "      <th>end</th>\n",
       "      <th>score</th>\n",
       "      <th>strand</th>\n",
       "      <th>phase</th>\n",
       "      <th>attributes</th>\n",
       "      <th>attributes_dict</th>\n",
       "      <th>annotation_id</th>\n",
       "      <th>gene_id</th>\n",
       "      <th>protein_id</th>\n",
       "      <th>parent_annotation_id</th>\n",
       "      <th>record</th>\n",
       "      <th>exon_idx</th>\n",
       "    </tr>\n",
       "  </thead>\n",
       "  <tbody>\n",
       "    <tr>\n",
       "      <th>299</th>\n",
       "      <td>NC_000014.9</td>\n",
       "      <td>BestRefSeq</td>\n",
       "      <td>mRNA</td>\n",
       "      <td>19743571</td>\n",
       "      <td>19749469</td>\n",
       "      <td>NaN</td>\n",
       "      <td>+</td>\n",
       "      <td>NaN</td>\n",
       "      <td>ID=rna-NM_001405963.1;Parent=gene-OR4Q3;Dbxref...</td>\n",
       "      <td>{'ID': 'rna-NM_001405963.1', 'Parent': 'gene-O...</td>\n",
       "      <td>rna-NM_001405963.1</td>\n",
       "      <td>441669</td>\n",
       "      <td>None</td>\n",
       "      <td>gene-OR4Q3</td>\n",
       "      <td>(G, C, C, C, A, T, T, T, T, G, C, T, G, G, C, ...</td>\n",
       "      <td>{0, 1, 2, 3, 4, 5, 6, 7, 8, 9, 10, 11, 12, 13,...</td>\n",
       "    </tr>\n",
       "    <tr>\n",
       "      <th>304</th>\n",
       "      <td>NC_000014.9</td>\n",
       "      <td>Gnomon</td>\n",
       "      <td>mRNA</td>\n",
       "      <td>19744740</td>\n",
       "      <td>19752334</td>\n",
       "      <td>NaN</td>\n",
       "      <td>+</td>\n",
       "      <td>NaN</td>\n",
       "      <td>ID=rna-XM_024449618.1;Parent=gene-OR4Q3;Dbxref...</td>\n",
       "      <td>{'ID': 'rna-XM_024449618.1', 'Parent': 'gene-O...</td>\n",
       "      <td>rna-XM_024449618.1</td>\n",
       "      <td>441669</td>\n",
       "      <td>None</td>\n",
       "      <td>gene-OR4Q3</td>\n",
       "      <td>(A, T, G, A, A, G, C, T, G, G, T, G, T, T, T, ...</td>\n",
       "      <td>{4096, 4097, 4098, 4099, 4100, 4101, 4102, 410...</td>\n",
       "    </tr>\n",
       "    <tr>\n",
       "      <th>313</th>\n",
       "      <td>NC_000014.9</td>\n",
       "      <td>BestRefSeq</td>\n",
       "      <td>mRNA</td>\n",
       "      <td>19747428</td>\n",
       "      <td>19748369</td>\n",
       "      <td>NaN</td>\n",
       "      <td>+</td>\n",
       "      <td>NaN</td>\n",
       "      <td>ID=rna-NM_172194.1;Parent=gene-OR4Q3;Dbxref=Ge...</td>\n",
       "      <td>{'ID': 'rna-NM_172194.1', 'Parent': 'gene-OR4Q...</td>\n",
       "      <td>rna-NM_172194.1</td>\n",
       "      <td>441669</td>\n",
       "      <td>None</td>\n",
       "      <td>gene-OR4Q3</td>\n",
       "      <td>(A, T, G, A, A, A, A, A, A, G, A, A, C, A, A, ...</td>\n",
       "      <td>{4096, 4097, 4098, 4099, 4100, 4101, 4102, 410...</td>\n",
       "    </tr>\n",
       "  </tbody>\n",
       "</table>\n",
       "</div>"
      ],
      "text/plain": [
       "           seqid      source  type     start       end  score strand  phase   \n",
       "299  NC_000014.9  BestRefSeq  mRNA  19743571  19749469    NaN      +    NaN  \\\n",
       "304  NC_000014.9      Gnomon  mRNA  19744740  19752334    NaN      +    NaN   \n",
       "313  NC_000014.9  BestRefSeq  mRNA  19747428  19748369    NaN      +    NaN   \n",
       "\n",
       "                                            attributes   \n",
       "299  ID=rna-NM_001405963.1;Parent=gene-OR4Q3;Dbxref...  \\\n",
       "304  ID=rna-XM_024449618.1;Parent=gene-OR4Q3;Dbxref...   \n",
       "313  ID=rna-NM_172194.1;Parent=gene-OR4Q3;Dbxref=Ge...   \n",
       "\n",
       "                                       attributes_dict       annotation_id   \n",
       "299  {'ID': 'rna-NM_001405963.1', 'Parent': 'gene-O...  rna-NM_001405963.1  \\\n",
       "304  {'ID': 'rna-XM_024449618.1', 'Parent': 'gene-O...  rna-XM_024449618.1   \n",
       "313  {'ID': 'rna-NM_172194.1', 'Parent': 'gene-OR4Q...     rna-NM_172194.1   \n",
       "\n",
       "    gene_id protein_id parent_annotation_id   \n",
       "299  441669       None           gene-OR4Q3  \\\n",
       "304  441669       None           gene-OR4Q3   \n",
       "313  441669       None           gene-OR4Q3   \n",
       "\n",
       "                                                record   \n",
       "299  (G, C, C, C, A, T, T, T, T, G, C, T, G, G, C, ...  \\\n",
       "304  (A, T, G, A, A, G, C, T, G, G, T, G, T, T, T, ...   \n",
       "313  (A, T, G, A, A, A, A, A, A, G, A, A, C, A, A, ...   \n",
       "\n",
       "                                              exon_idx  \n",
       "299  {0, 1, 2, 3, 4, 5, 6, 7, 8, 9, 10, 11, 12, 13,...  \n",
       "304  {4096, 4097, 4098, 4099, 4100, 4101, 4102, 410...  \n",
       "313  {4096, 4097, 4098, 4099, 4100, 4101, 4102, 410...  "
      ]
     },
     "execution_count": null,
     "metadata": {},
     "output_type": "execute_result"
    }
   ],
   "source": [
    "#| hide\n",
    "test_gene_id_mrna_sequences = get_mrna_annotations(test_gene_id_group_gene_row, test_gene_id_group, test_gene_reference_sequence)\n",
    "test_gene_id_mrna_sequences"
   ]
  },
  {
   "cell_type": "code",
   "execution_count": null,
   "id": "82fe08b5-e60a-4235-b9d2-5fc21daf226b",
   "metadata": {},
   "outputs": [],
   "source": [
    "#| export\n",
    "def get_mrna_annotation(gene_row: pd.Series, base_annotation: list[str], mrna_row: pd.Series) -> list[str]:\n",
    "    mrna_start_norm = mrna_row.start - gene_row.start\n",
    "    mrna_end_norm = mrna_row.end + 1 - gene_row.start\n",
    "    mrna_annotation = base_annotation.copy()\n",
    "    # print(mrna_start_norm, mrna_end_norm)\n",
    "    mrna_annotation[mrna_start_norm: mrna_end_norm] = [\"[intron]\"] * (mrna_end_norm - mrna_start_norm)\n",
    "    assert len(mrna_annotation) == len(base_annotation)\n",
    "    exon_idx = mrna_row.exon_idx\n",
    "    mrna_annotation = [\"[exon]\" if (i in exon_idx) else val for i, val in enumerate(mrna_annotation)]\n",
    "    return mrna_annotation"
   ]
  },
  {
   "cell_type": "code",
   "execution_count": null,
   "id": "ca40f22f-567d-435f-bd6f-bd8070fd2ca8",
   "metadata": {},
   "outputs": [
    {
     "data": {
      "text/plain": [
       "Counter({'[intron]': 3734,\n",
       "         '[exon]': 2165,\n",
       "         '[N]T': 1074,\n",
       "         '[N]A': 772,\n",
       "         '[N]C': 527,\n",
       "         '[N]G': 492})"
      ]
     },
     "execution_count": null,
     "metadata": {},
     "output_type": "execute_result"
    }
   ],
   "source": [
    "#| hide\n",
    "from collections import Counter\n",
    "\n",
    "test_gene_id_mrna_sequence_annotations = test_gene_id_mrna_sequences.apply(\n",
    "    lambda row: get_mrna_annotation(\n",
    "        test_gene_id_group_gene_row, \n",
    "        test_gene_id_gene_annotation,\n",
    "        row\n",
    "    ),\n",
    "    axis=1\n",
    ")\n",
    "test_gene_id_mrna_sequence_annotations.index = test_gene_id_mrna_sequences.annotation_id\n",
    "\n",
    "Counter(test_gene_id_mrna_sequence_annotations.iloc[0])"
   ]
  },
  {
   "cell_type": "code",
   "execution_count": null,
   "id": "da5cac8a-b749-4780-891e-d37571ba360e",
   "metadata": {},
   "outputs": [
    {
     "data": {
      "text/plain": [
       "annotation_id\n",
       "rna-NM_001405963.1    [[exon], [exon], [exon], [exon], [exon], [exon...\n",
       "rna-XM_024449618.1    [[N]G, [N]C, [N]C, [N]C, [N]A, [N]T, [N]T, [N]...\n",
       "rna-NM_172194.1       [[N]G, [N]C, [N]C, [N]C, [N]A, [N]T, [N]T, [N]...\n",
       "dtype: object"
      ]
     },
     "execution_count": null,
     "metadata": {},
     "output_type": "execute_result"
    }
   ],
   "source": [
    "#| hide\n",
    "test_gene_id_mrna_sequence_annotations"
   ]
  },
  {
   "cell_type": "code",
   "execution_count": null,
   "id": "cc0f2c71-15cb-4cf5-85cf-c6b4a5458ece",
   "metadata": {},
   "outputs": [],
   "source": [
    "#| export\n",
    "# Validate\n",
    "def detect_mrna_character(character: str) -> bool:\n",
    "    return \"[A]\" in character or character in ['[intron]', '[exon]']\n",
    "\n",
    "\n",
    "def validate_mrna_annotations(gene_row: pd.Series, mrna_rows: pd.DataFrame, annotations: pd.Series):\n",
    "    \"\"\"\n",
    "    Test for the following;\n",
    "    \n",
    "    For each annotation:\n",
    "    1. There must be as much non-nucleotide annotations as there are mRNA nucleotides\n",
    "    \"\"\"\n",
    "    # The +1 is to account for python zero-indexing\n",
    "    # Check [1]\n",
    "    gene_length = gene_row.end + 1 - gene_row.start\n",
    "    annotation_lengths = annotations.apply(len).rename(\"annotation_length\")\n",
    "    if not (annotation_lengths == gene_length).all():\n",
    "        raise AssertionError(f\"Annotations are not the same length of the gene, {annotations.apply(len)} - {gene_length}\")\n",
    "    # Check [2]\n",
    "    annotation_mrna_length = annotations.apply(\n",
    "        lambda annotation: [char for char in annotation if detect_mrna_character(char)]\n",
    "    ).apply(len).rename(\"annotation_length\")\n",
    "    mrna_lengths = (mrna_rows.end + 1 - mrna_rows.start)\n",
    "    mrna_lengths.name = \"mrna_length\"\n",
    "    mrna_lengths.index = mrna_rows.annotation_id\n",
    "    mrna_validation = mrna_lengths.to_frame().merge(\n",
    "        annotation_mrna_length, \n",
    "        left_index=True, \n",
    "        right_index=True\n",
    "    )\n",
    "    mrna_validation.loc[:, 'valid'] = mrna_validation.mrna_length == mrna_validation.annotation_length\n",
    "    return mrna_validation[mrna_validation.valid == True].index\n",
    "    # if not mrna_validation.valid.all():\n",
    "    #     raise AssertionError(f\"Some mrna are not the same length as the source mRNA; {mrna_validation}\")"
   ]
  },
  {
   "cell_type": "code",
   "execution_count": null,
   "id": "9e9e23ba-6671-4efb-bf0f-0b6520ea27e0",
   "metadata": {},
   "outputs": [
    {
     "data": {
      "text/plain": [
       "Index(['rna-NM_001405963.1', 'rna-XM_024449618.1', 'rna-NM_172194.1'], dtype='object', name='annotation_id')"
      ]
     },
     "execution_count": null,
     "metadata": {},
     "output_type": "execute_result"
    }
   ],
   "source": [
    "#| hide\n",
    "validate_mrna_annotations(test_gene_id_group_gene_row, test_gene_id_mrna_sequences, test_gene_id_mrna_sequence_annotations)"
   ]
  },
  {
   "cell_type": "markdown",
   "id": "b87e8eb1-42b9-4cf7-981b-f332086b6ea2",
   "metadata": {},
   "source": [
    "Now we have mRNA annotations, lets do the final step of annotating the protein coding sequences.\n",
    "\n",
    "This is tough because mRNA are in pieces across the input annotation. So we need to track which positions encode partial codons.\n",
    "\n",
    "Lets get the CDS rows and handle this."
   ]
  },
  {
   "cell_type": "code",
   "execution_count": null,
   "id": "5c69357f-a87a-4a82-b36b-76b36d1bf10d",
   "metadata": {},
   "outputs": [],
   "source": [
    "#| export\n",
    "def make_cds_annotation_map(annotation_idx: list[(int, int)], protein_id: str, protein_path: Path) -> dict:\n",
    "    \"\"\"\n",
    "    Get our protein annotation, indexed to be applied to the base annotation.\n",
    "    \"\"\"\n",
    "    # Load protein sequence\n",
    "    try:\n",
    "        protein = next(SeqIO.parse(protein_path / f\"{protein_id}.fasta\", \"fasta\"))\n",
    "        protein_annotation_length = (len(protein.seq) * 3) + 3\n",
    "        protein_annotations = []\n",
    "        for char in list(protein.seq):\n",
    "            char_multiple = char * 3\n",
    "            char_annotation = [f\"[A]-{char}-{i+1}\" for i, char in enumerate(char_multiple)]\n",
    "            protein_annotations.extend(char_annotation)\n",
    "        idx_list = []\n",
    "        for idx in annotation_idx:\n",
    "            idx_index = reversed(list(range(idx[0], idx[1])))\n",
    "            idx_list.extend(idx_index)\n",
    "        if len(protein_annotations) == (len(idx_list) - 3):\n",
    "            protein_annotations.extend([f\"[A]-[stop]-{i+1}\" for i in range(3)])\n",
    "        else:\n",
    "            # bad protein cds annotation\n",
    "            print(f\"Protein {protein_id} has bad cds annotations\")\n",
    "            return None\n",
    "        annotation_map = pd.Series(idx_list, name='index').to_frame()\n",
    "        annotation_map.loc[:, 'annotation'] = protein_annotations\n",
    "        annotation_map_dict = annotation_map.set_index(\"index\").annotation.to_dict()\n",
    "        return annotation_map_dict\n",
    "    except Exception as e:\n",
    "        raise Exception(f\"Failed processing annotation for protein {protein_id}\") from e\n",
    "        \n",
    "\n",
    "def get_cds_protein_id(cds_rows: pd.DataFrame) -> str:\n",
    "    if isinstance(cds_rows, pd.Series):\n",
    "        cds_rows = cds_rows.to_frame().T\n",
    "    protein_id_list = cds_rows.protein_id.unique().tolist()\n",
    "    if len(protein_id_list) == 0:\n",
    "        raise ValueError(\"For some reason this group of CDS don't code for protein?\")\n",
    "    if len(protein_id_list) > 1:\n",
    "        raise ValueError(\"Multiple proteins for this group of CDS\")\n",
    "    return protein_id_list[0]\n",
    "\n",
    "\n",
    "def get_cds_sequence_idx(cds_rows: pd.DataFrame, reference_sequence: SeqIO.SeqRecord) -> list[(int, int)]:\n",
    "    if isinstance(cds_rows, pd.Series):\n",
    "        cds_rows = cds_rows.to_frame().T\n",
    "    strand = cds_rows.strand.unique().tolist()[0]\n",
    "    cds_rows = cds_rows.sort_values(\"start\", ascending=strand == \"+\")\n",
    "    cds_length = (cds_rows.end - cds_rows.start).sum()\n",
    "    cds_idx = []\n",
    "    cds_rows.apply(\n",
    "        lambda row: cds_idx.append((row.start, row.end)),\n",
    "        axis=1\n",
    "    ).tolist()\n",
    "    return cds_idx\n",
    "\n",
    "\n",
    "def get_cds_rows(annotations: pd.DataFrame) -> pd.DataFrame:\n",
    "    return annotations[\n",
    "        (annotations.type == \"CDS\")\n",
    "    ].set_index(\"parent_annotation_id\")\n",
    "\n",
    "\n",
    "def get_cds_annotation_idx(\n",
    "    gene_row: pd.Series, \n",
    "    mrna_rows: pd.DataFrame, \n",
    "    cds_rows: pd.DataFrame,\n",
    "    reference_sequence: SeqIO.SeqRecord,\n",
    "    protein_path: Path\n",
    "):\n",
    "    try:\n",
    "        mrna_rows.loc[:, 'cds_idx'] = mrna_rows.apply(\n",
    "            lambda row: get_cds_sequence_idx(\n",
    "                cds_rows.loc[row.annotation_id, :], \n",
    "                reference_sequence\n",
    "            ), \n",
    "            axis=1\n",
    "        )\n",
    "    except TypeError as e:\n",
    "        display(mrna_rows)\n",
    "        display(cds_rows)\n",
    "        raise e\n",
    "    # Norm the idx to the gene indices\n",
    "    mrna_rows.loc[:, 'cds_idx_norm'] = mrna_rows.cds_idx.apply(lambda idx_list: [(idx[0] - gene_row.start, idx[1] - gene_row.start + 1) for idx in idx_list])\n",
    "    # Get protein ids\n",
    "    mrna_rows.loc[:, 'cds_protein_id'] = mrna_rows.apply(lambda row: get_cds_protein_id(\n",
    "        cds_rows.loc[row.annotation_id, :]\n",
    "    ), axis=1)\n",
    "    cds_sequence_annotation_idx = mrna_rows.apply(\n",
    "        lambda row: make_cds_annotation_map(\n",
    "            row.cds_idx_norm, \n",
    "            row.cds_protein_id,\n",
    "            protein_path\n",
    "        ), \n",
    "        axis=1\n",
    "    )\n",
    "    cds_sequence_annotation_idx.name = \"annotation_idx\"\n",
    "    cds_sequence_annotation_idx.index = mrna_rows.annotation_id\n",
    "    # cds_sequence_annotations = \n",
    "    return cds_sequence_annotation_idx"
   ]
  },
  {
   "cell_type": "code",
   "execution_count": null,
   "id": "edcc6c7a-e53b-44c2-a873-6f204282b091",
   "metadata": {},
   "outputs": [
    {
     "name": "stdout",
     "output_type": "stream",
     "text": [
      "Protein XP_024305386.1 has bad cds annotations\n"
     ]
    }
   ],
   "source": [
    "#| hide\n",
    "test_gene_id_mrna_cds_rows = get_cds_rows(test_gene_id_group)\n",
    "test_gene_id_mrna_cds_sequences = get_cds_annotation_idx(\n",
    "    test_gene_id_group_gene_row, \n",
    "    test_gene_id_mrna_sequences, \n",
    "    test_gene_id_mrna_cds_rows, \n",
    "    test_gene_reference_sequence,\n",
    "    protein_path\n",
    ")"
   ]
  },
  {
   "cell_type": "code",
   "execution_count": null,
   "id": "ea8734ae-e856-4c28-86f4-49fc5feaab2d",
   "metadata": {},
   "outputs": [
    {
     "data": {
      "text/plain": [
       "annotation_id\n",
       "rna-NM_001405963.1    {100: '[A]-M-1', 99: '[A]-M-2', 4798: '[A]-M-3...\n",
       "rna-XM_024449618.1                                                 None\n",
       "rna-NM_172194.1       {4798: '[A]-M-1', 4797: '[A]-M-2', 4796: '[A]-...\n",
       "Name: annotation_idx, dtype: object"
      ]
     },
     "execution_count": null,
     "metadata": {},
     "output_type": "execute_result"
    }
   ],
   "source": [
    "#| hide\n",
    "test_gene_id_mrna_cds_sequences"
   ]
  },
  {
   "cell_type": "markdown",
   "id": "3e51285d-a5d2-46bb-bc2b-5a0d293d3479",
   "metadata": {},
   "source": [
    "Now we've got the lookup for position in the original annotation, and the mapped protein annotation.\n",
    "\n",
    "All we've got left is updating the original annotation, then writing the result to disc so we can use for training."
   ]
  },
  {
   "cell_type": "code",
   "execution_count": null,
   "id": "6fa12a1a-9fbc-4bd6-9471-c8f085e7ad7e",
   "metadata": {},
   "outputs": [],
   "source": [
    "#| export\n",
    "def update_annotation_with_cds_annotation_idx(annotation: list[str], cds: dict):\n",
    "    new_annotation = annotation.copy()\n",
    "    for idx, value in cds.items():\n",
    "        new_annotation[idx] = value\n",
    "    return new_annotation"
   ]
  },
  {
   "cell_type": "code",
   "execution_count": null,
   "id": "117168e4-297c-44fa-9912-f58093baa4c3",
   "metadata": {},
   "outputs": [],
   "source": [
    "#| hide\n",
    "test_gene_id_annotations =  pd.Series()\n",
    "for anno_id, cds_idx in test_gene_id_mrna_cds_sequences.items():\n",
    "    if cds_idx is None:\n",
    "        continue\n",
    "    test_gene_id_annotations.loc[anno_id] = update_annotation_with_cds_annotation_idx(\n",
    "        test_gene_id_mrna_sequence_annotations.loc[anno_id], \n",
    "        cds_idx\n",
    "    )\n",
    "    \n",
    "test_gene_id_annotations.name = \"annotations\""
   ]
  },
  {
   "cell_type": "code",
   "execution_count": null,
   "id": "80c72056-be40-484b-becf-b3425f1438fd",
   "metadata": {},
   "outputs": [],
   "source": [
    "#| export\n",
    "# Validate\n",
    "def validate_cds_annotations(cds_rows: pd.DataFrame, annotations: pd.Series):\n",
    "    \"\"\"\n",
    "    Test for the following;\n",
    "    \n",
    "    For each annotation:\n",
    "    1. There must be as many amino acid annotations as there are CDS nucleotides\n",
    "    \"\"\"\n",
    "    # The +1 is to account for python zero-indexing\n",
    "    # Check [1]\n",
    "    cds_row_lengths = (cds_rows.end + 1 - cds_rows.start).rename(\"cds_length\").reset_index(drop=False).groupby(\"parent_annotation_id\").sum()\n",
    "    annotation_cds_counts = annotations.apply(lambda annotation: len([ann for ann in annotation if ann.startswith(\"[A]\")])).rename(\"annotation_length\")\n",
    "    cds_validation = cds_row_lengths.merge(annotation_cds_counts, left_index=True, right_index=True)\n",
    "    cds_validation.loc[:, 'valid'] = cds_validation.cds_length == cds_validation.annotation_length\n",
    "    return cds_validation[cds_validation.valid == True].index"
   ]
  },
  {
   "cell_type": "code",
   "execution_count": null,
   "id": "1bed7a4a-a04c-4653-9908-e046694d89ab",
   "metadata": {},
   "outputs": [
    {
     "data": {
      "text/plain": [
       "Index(['rna-NM_001405963.1', 'rna-NM_172194.1'], dtype='object')"
      ]
     },
     "execution_count": null,
     "metadata": {},
     "output_type": "execute_result"
    }
   ],
   "source": [
    "#| hide\n",
    "validate_cds_annotations(test_gene_id_mrna_cds_rows, test_gene_id_annotations)"
   ]
  },
  {
   "cell_type": "markdown",
   "id": "c442560a-8766-4987-99d0-ab22db15a619",
   "metadata": {},
   "source": [
    "Ok, our annotations look good, lets write these annotations as a test set and then write the processing block for an entire annotation file."
   ]
  },
  {
   "cell_type": "code",
   "execution_count": null,
   "id": "0d1d573a-de0d-4b10-8503-42ffef0378dd",
   "metadata": {},
   "outputs": [],
   "source": [
    "#| export\n",
    "def write_annotations(\n",
    "    write_path: Path, \n",
    "    annotation_id: str, \n",
    "    gene_id: str,\n",
    "    genomic_annotation: str,\n",
    "    protein_annotations: pd.Series\n",
    "):\n",
    "    \"\"\"\n",
    "    Write the annotations as strings, with space separators\n",
    "    \"\"\"\n",
    "    annotation_write_path = write_path / annotation_id / gene_id\n",
    "    if not annotation_write_path.exists():\n",
    "        annotation_write_path.mkdir(parents=True)\n",
    "    with (annotation_write_path / \"gene.txt\").open(\"w+\") as f:\n",
    "        f.write(genomic_annotation)\n",
    "    for idx, annotation in protein_annotations.items():\n",
    "        with (annotation_write_path / f\"{idx}.txt\").open(\"w+\") as f:\n",
    "            f.write(annotation)"
   ]
  },
  {
   "cell_type": "code",
   "execution_count": null,
   "id": "447003c5-c298-4f38-8de5-5fbb14dc5886",
   "metadata": {},
   "outputs": [],
   "source": [
    "#| hide\n",
    "training_data_write_path = data_path / \"training\"\n",
    "test_gene_id = test_gene_id_group_gene_row.gene_id\n",
    "test_gene_id_gene_annotation_str = \" \".join(test_gene_id_gene_annotation)\n",
    "test_gene_id_protein_annotations_str = test_gene_id_annotations.apply(lambda anno: \" \".join(anno))\n",
    "\n",
    "write_annotations(\n",
    "    write_path=training_data_write_path, \n",
    "    annotation_id=annotation_id, \n",
    "    gene_id=test_gene_id,\n",
    "    genomic_annotation=test_gene_id_gene_annotation_str,\n",
    "    protein_annotations=test_gene_id_protein_annotations_str\n",
    ")"
   ]
  },
  {
   "cell_type": "markdown",
   "id": "fe020f4e-bfd8-4c20-ad64-5b9f55284e38",
   "metadata": {},
   "source": [
    "Ok, I think we've done it. Lets process everything and see what the training dataset looks like."
   ]
  },
  {
   "cell_type": "markdown",
   "id": "f4a2ae10-531e-4333-bfe8-47696e4a207b",
   "metadata": {},
   "source": [
    "### Processing our input data to training data\n",
    "\n",
    "0. Index all annotation files\n",
    "1. Make multiprocessing tasks, each task is an annotation file\n",
    "2. Write the multi-processing function\n",
    "    1. Input\n",
    "        1. Annotation file path\n",
    "    2. Output\n",
    "        1. write_path = data_path / training / annotation_id / gene_id\n",
    "        1. write_path / gene.txt (input to model)\n",
    "        2. write_path / {mrna_annotation_id}.txt (labels)\n",
    "    2. Steps\n",
    "        1. Identify annotation id\n",
    "        2. Load annotations as Dataframe\n",
    "        3. Parse the annotations dict\n",
    "        4. Add columns with info from annotations\n",
    "            1. gene_id\n",
    "            2. annotation_id\n",
    "            3. parent_annotation_id\n",
    "            4. protein_id\n",
    "        5. Make the gene_id to protein_id dataframe\n",
    "        6. Filter annotations dataframe to only gene_ids that produce protein\n",
    "        7. Load the reference SeqRecord for the annotation\n",
    "        8. Group annotations on gene_id\n",
    "        9. Construct annotations\n",
    "            1. Get gene_row\n",
    "            2. Get gene SeqRecord\n",
    "            3. Get the baseline annotation\n",
    "            4. Get the mRNA annotations\n",
    "            5. Get the protein annotations\n",
    "            5. Write baseline, protein annotations"
   ]
  },
  {
   "cell_type": "code",
   "execution_count": null,
   "id": "689269f3-b908-4ed2-9af9-e1d5c0afd926",
   "metadata": {},
   "outputs": [],
   "source": [
    "#| export\n",
    "def make_annotations_from_annotation_group(\n",
    "    gene_id_annotations: pd.DataFrame, \n",
    "    reference_sequence: SeqIO.SeqRecord, \n",
    "    protein_path: Path,\n",
    "    training_data_path: Path,\n",
    "    annotation_id: str\n",
    "):\n",
    "    \"\"\"\n",
    "    1. Get gene_row\n",
    "    2. Get gene SeqRecord\n",
    "    3. Get the baseline annotation\n",
    "    4. Get the mRNA annotations\n",
    "    5. Get the protein annotations\n",
    "    6. Write baseline, protein annotations\n",
    "    \"\"\"\n",
    "    # [1]\n",
    "    try:\n",
    "        gene_row = get_gene_row_from_annotation_group(gene_id_annotations)\n",
    "    except ValueError:\n",
    "        # There aren't any gene rows\n",
    "        print(f\"There aren't any `gene` rows for gene {gene_id_annotations.gene_id.unique()}\")\n",
    "        return\n",
    "    # [2]\n",
    "    gene_sequence_record = get_sequence_from_file(\n",
    "        int(gene_row.start), int(gene_row.end), gene_row.strand, \n",
    "        reference_sequence\n",
    "    )\n",
    "    # [3]\n",
    "    try:\n",
    "        gene_annotation = annotate_sequence(\n",
    "            list(gene_sequence_record.seq),\n",
    "            \"nucleotide\"\n",
    "        )\n",
    "    except Exception as e:\n",
    "        raise Exception(f\"[3] Failed getting the baseline gene annotation for gene: {{gene_row.gene_id}}\")\n",
    "    try:\n",
    "        validate_gene_annotation(gene_row, gene_annotation)\n",
    "    except AssertionError:\n",
    "        print(f\"Could not validate gene annotation for gene: {gene_row.gene_id}\")\n",
    "    # [4]\n",
    "    try:\n",
    "        gene_mrna_rows = get_mrna_annotations(\n",
    "            gene_row,\n",
    "            gene_id_annotations,\n",
    "            reference_sequence\n",
    "        )\n",
    "        gene_mrna_annotations = gene_mrna_rows.apply(\n",
    "            lambda row: get_mrna_annotation(\n",
    "                gene_row, \n",
    "                gene_annotation,\n",
    "                row\n",
    "            ),\n",
    "            axis=1\n",
    "        )\n",
    "        gene_mrna_annotations.index = gene_mrna_rows.annotation_id\n",
    "        valid_mrna_ids = validate_mrna_annotations(gene_row, gene_mrna_rows, gene_mrna_annotations)\n",
    "        if valid_mrna_ids.shape[0] == 0:\n",
    "            print(f\"Could not get any valid mRNA for gene: {gene_row.gene_id}\")\n",
    "            return\n",
    "        gene_mrna_annotations = gene_mrna_annotations[gene_mrna_annotations.index.isin(valid_mrna_ids)]\n",
    "    except Exception as e:\n",
    "        raise Exception(f\"[4] Failed getting mRNA annotations for gene: {{gene_row.gene_id}}\")\n",
    "    if gene_mrna_annotations.shape[0] == 0:\n",
    "        return\n",
    "    # [5]\n",
    "    try:\n",
    "        gene_mrna_cds_rows = get_cds_rows(gene_id_annotations)\n",
    "        gene_mrna_cds_sequences = get_cds_annotation_idx(\n",
    "            gene_row, \n",
    "            gene_mrna_rows, \n",
    "            gene_mrna_cds_rows, \n",
    "            reference_sequence,\n",
    "            protein_path\n",
    "        )\n",
    "        gene_mrna_cds_annotations = pd.Series()\n",
    "        for anno_id, cds_idx in gene_mrna_cds_sequences.items():\n",
    "            if cds_idx is None:\n",
    "                continue\n",
    "            gene_mrna_cds_annotations.loc[anno_id] = update_annotation_with_cds_annotation_idx(\n",
    "                gene_mrna_annotations.loc[anno_id], \n",
    "                cds_idx\n",
    "            )\n",
    "        gene_mrna_cds_annotations.name = \"annotations\"\n",
    "        valid_cds_annotations = validate_cds_annotations(\n",
    "            gene_mrna_cds_rows, \n",
    "            gene_mrna_cds_annotations\n",
    "        )\n",
    "        if valid_cds_annotations.shape[0] == 0:\n",
    "            print(f\"Could not get any valid cds annotations for gene: {gene_row.gene_id}\")\n",
    "            return\n",
    "        gene_mrna_cds_annotations = gene_mrna_cds_annotations[\n",
    "            gene_mrna_cds_annotations.index.isin(valid_cds_annotations)\n",
    "        ]\n",
    "    except Exception as e:\n",
    "        raise Exception(f\"[5] Failed getting protein annotations for gene: {{gene_row.gene_id}}\")\n",
    "    # [6]\n",
    "    try:\n",
    "        gene_annotation_str = \" \".join(gene_annotation)\n",
    "        gene_mrna_protein_annotations_str = gene_mrna_cds_annotations.apply(lambda anno: \" \".join(anno))\n",
    "        write_annotations(\n",
    "            write_path=training_data_path, \n",
    "            annotation_id=annotation_id, \n",
    "            gene_id=gene_row.gene_id,\n",
    "            genomic_annotation=gene_annotation_str,\n",
    "            protein_annotations=gene_mrna_protein_annotations_str\n",
    "        )\n",
    "    except Exception as e:\n",
    "        raise Exception(f\"[6] Failed writing annotations for gene {gene_row.gene_id}\") from e"
   ]
  },
  {
   "cell_type": "code",
   "execution_count": null,
   "id": "2ffc29ec-bc77-449c-9af4-47a2cc3a474b",
   "metadata": {},
   "outputs": [],
   "source": [
    "#| hide\n",
    "# This gene is causing issues, lets look at it\n",
    "# bad_gene_id = \"100128927\"\n",
    "# bad_gene_annotations = test_annotations[test_annotations.gene_id == bad_gene_id]\n",
    "# make_annotations_from_annotation_group(\n",
    "#     bad_gene_annotations, \n",
    "#     test_gene_reference_sequence, \n",
    "#     protein_path,\n",
    "#     training_data_write_path,\n",
    "#     annotation_id\n",
    "# )"
   ]
  },
  {
   "cell_type": "code",
   "execution_count": null,
   "id": "0ea5d813-31be-40c2-81bc-2a33edcd3514",
   "metadata": {},
   "outputs": [],
   "source": [
    "#| hide\n",
    "# bad_gene_annotations[bad_gene_annotations.type == \"gene\"]"
   ]
  },
  {
   "cell_type": "code",
   "execution_count": null,
   "id": "fc5a2203-f465-4ff9-b99e-258641e972e5",
   "metadata": {},
   "outputs": [],
   "source": [
    "#| hide\n",
    "# bad_gene_annotations[bad_gene_annotations.annotation_id == \"rna-NM_001137601.3\"]"
   ]
  },
  {
   "cell_type": "code",
   "execution_count": null,
   "id": "cac9a036-d3a2-4d74-896a-88f76d226467",
   "metadata": {},
   "outputs": [],
   "source": [
    "#| hide\n",
    "# bad_gene_annotations[bad_gene_annotations.parent_annotation_id == \"rna-NM_001137601.3\"]"
   ]
  },
  {
   "cell_type": "code",
   "execution_count": null,
   "id": "10e6b6d4-2778-41c5-86d8-d205b7608708",
   "metadata": {},
   "outputs": [
    {
     "name": "stdout",
     "output_type": "stream",
     "text": [
      "Protein XP_024305386.1 has bad cds annotations\n"
     ]
    }
   ],
   "source": [
    "make_annotations_from_annotation_group(\n",
    "    test_gene_id_group, \n",
    "    test_gene_reference_sequence, \n",
    "    protein_path,\n",
    "    training_data_write_path,\n",
    "    annotation_id\n",
    ")"
   ]
  },
  {
   "cell_type": "code",
   "execution_count": null,
   "id": "5b801624-6fa4-4c0a-8b33-f770a86c5eff",
   "metadata": {},
   "outputs": [],
   "source": [
    "#| export\n",
    "def make_training_data_from_annotation_file(args: dict):\n",
    "    \"\"\"\n",
    "    0. Get inputs\n",
    "    1. Identify annotation id\n",
    "    2. Load annotations as Dataframe\n",
    "    3. Parse the annotations dict\n",
    "    4. Add columns with info from annotations\n",
    "        1. gene_id\n",
    "        2. annotation_id\n",
    "        3. parent_annotation_id\n",
    "        4. protein_id\n",
    "    5. Make the gene_id to protein_id dataframe\n",
    "    6. Filter annotations dataframe to only gene_ids that produce protein\n",
    "    7. Load the reference SeqRecord for the annotation\n",
    "    8. Group annotations on gene_id\n",
    "    9. Construct annotations\n",
    "        1. Get gene_row\n",
    "        2. Get gene SeqRecord\n",
    "        3. Get the baseline annotation\n",
    "        4. Get the mRNA annotations\n",
    "        5. Get the protein annotations\n",
    "        5. Write baseline, protein annotations\n",
    "    \"\"\"\n",
    "    # [0]\n",
    "    genome_path = args.get(\"genome_path\")\n",
    "    protein_path = args.get(\"protein_path\")\n",
    "    training_data_path = args.get(\"training_data_path\")\n",
    "    annotation_file_path = args.get(\"annotation\")\n",
    "    # [1]\n",
    "    annotation_id = annotation_file_path.stem\n",
    "    # [2]\n",
    "    annotations = pd.read_csv(annotation_file_path)\n",
    "    # print(f\"Processing {annotations.shape[0]} annotations\")\n",
    "    # [3]\n",
    "    annotations.loc[:, 'attributes_dict'] = annotations.attributes.apply(parse_entrez_gff3_annotation_attributes)\n",
    "    # [4]\n",
    "    annotations.loc[:, 'annotation_id'] = annotations.attributes_dict.apply(lambda d: d.get(\"ID\"))\n",
    "    annotations.loc[:, 'gene_id'] = annotations.attributes_dict.apply(get_gene_id_from_attribute_dict)\n",
    "    annotations.loc[:, 'protein_id'] = annotations.attributes_dict.apply(lambda d: d.get(\"protein_id\"))\n",
    "    annotations.loc[:, 'parent_annotation_id'] = annotations.attributes_dict.apply(lambda d: d.get(\"Parent\"))\n",
    "    # display(annotations[[\"attributes_dict\", \"annotation_id\", \"gene_id\", \"protein_id\", \"parent_annotation_id\"]])\n",
    "    # [5]\n",
    "    annotations_gene_to_protein_map = annotations[['gene_id', 'protein_id']].dropna(how='any').drop_duplicates().reset_index(drop=True)\n",
    "    if annotations_gene_to_protein_map.shape[0] > 0:\n",
    "        if not (training_data_path / annotation_id).exists():\n",
    "            (training_data_path / annotation_id).mkdir()\n",
    "        annotations_gene_to_protein_map.to_csv(training_data_path / annotation_id / f\"gene_to_protein_map.csv\", index=False)\n",
    "        # No genes to process\n",
    "        return\n",
    "    # [6]\n",
    "    annotation_genes_that_encode_protein = annotations_gene_to_protein_map.gene_id.unique()\n",
    "    annotations_genes = annotations[annotations.gene_id.isin(annotation_genes_that_encode_protein)]\n",
    "    # [7]\n",
    "    annotation_reference_path = genome_path / f\"{annotation_id}.fasta\"\n",
    "    annotation_reference_sequence = next(SeqIO.parse(annotation_reference_path.resolve(), \"fasta\"))\n",
    "    # [8]\n",
    "    gene_annotations_grouped = annotations_genes.groupby(\"gene_id\")\n",
    "    # [9]\n",
    "    gene_annotations_grouped.apply(\n",
    "        lambda gene_annotations: make_annotations_from_annotation_group(\n",
    "            gene_id_annotations=gene_annotations, \n",
    "            reference_sequence=annotation_reference_sequence, \n",
    "            protein_path=protein_path,\n",
    "            training_data_path=training_data_path,\n",
    "            annotation_id=annotation_id\n",
    "        )\n",
    "    )"
   ]
  },
  {
   "cell_type": "code",
   "execution_count": null,
   "id": "1c53ae92-384a-4fb4-b18e-ff1b85106e38",
   "metadata": {},
   "outputs": [],
   "source": [
    "test_arg_dict = {\n",
    "    \"genome_path\": genome_path,\n",
    "    \"protein_path\": protein_path,\n",
    "    \"training_data_path\": training_data_write_path,\n",
    "    \"annotation\": test_annotation_file\n",
    "}\n",
    "\n",
    "# make_training_data_from_annotation_file(test_arg_dict)"
   ]
  },
  {
   "cell_type": "code",
   "execution_count": null,
   "id": "e1994482-736c-4915-842d-9c569c5729f4",
   "metadata": {},
   "outputs": [],
   "source": [
    "#| hide\n",
    "import nbdev; nbdev.nbdev_export()"
   ]
  },
  {
   "cell_type": "markdown",
   "id": "f9362de9-19bd-403c-957d-f1123456a446",
   "metadata": {},
   "source": [
    "Process everything"
   ]
  },
  {
   "cell_type": "code",
   "execution_count": null,
   "id": "7efdba2f-1d29-4f8d-a7fd-8b5a671874c2",
   "metadata": {},
   "outputs": [
    {
     "data": {
      "text/plain": [
       "705"
      ]
     },
     "execution_count": null,
     "metadata": {},
     "output_type": "execute_result"
    }
   ],
   "source": [
    "#| hide\n",
    "annotation_file_list = list(annotations_path.glob(\"*.csv\"))\n",
    "tasks = [\n",
    "    {\n",
    "        \"genome_path\": genome_path,\n",
    "        \"protein_path\": protein_path,\n",
    "        \"training_data_path\": training_data_write_path,\n",
    "        \"annotation\": annotation_path\n",
    "    } for annotation_path in annotation_file_list\n",
    "]\n",
    "len(tasks)"
   ]
  },
  {
   "cell_type": "code",
   "execution_count": null,
   "id": "6f8fe186-ecc7-4bf6-acc6-890417554015",
   "metadata": {},
   "outputs": [
    {
     "data": {
      "application/vnd.jupyter.widget-view+json": {
       "model_id": "56a61d3257974ee0807bdff59b772ae4",
       "version_major": 2,
       "version_minor": 0
      },
      "text/plain": [
       "  0%|          | 0/705 [00:00<?, ?it/s]"
      ]
     },
     "metadata": {},
     "output_type": "display_data"
    },
    {
     "data": {
      "text/plain": [
       "705"
      ]
     },
     "execution_count": null,
     "metadata": {},
     "output_type": "execute_result"
    }
   ],
   "source": [
    "#| hide\n",
    "pool = Pool(4)\n",
    "written_annotation_files = 0\n",
    "\n",
    "progress_bar = tqdm(total=len(tasks))\n",
    "\n",
    "try:\n",
    "    for result in pool.imap_unordered(make_training_data_from_annotation_file, tasks):\n",
    "        written_annotation_files += 1\n",
    "        progress_bar.update(1)\n",
    "except Exception as e:\n",
    "    raise e\n",
    "finally:\n",
    "    progress_bar.close()\n",
    "    pool.close()\n",
    "    \n",
    "written_annotation_files"
   ]
  },
  {
   "cell_type": "code",
   "execution_count": null,
   "id": "0c8a33b3-2ba8-4588-ba2d-5c84af701381",
   "metadata": {},
   "outputs": [],
   "source": []
  }
 ],
 "metadata": {
  "kernelspec": {
   "display_name": "python3",
   "language": "python",
   "name": "python3"
  }
 },
 "nbformat": 4,
 "nbformat_minor": 5
}
