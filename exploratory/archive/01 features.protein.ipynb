{
 "cells": [
  {
   "cell_type": "markdown",
   "id": "c35bd741-88b9-42d2-b9ee-2bf2b7f850f5",
   "metadata": {},
   "source": [
    "# Making the Reference Protein Fasta more easily usable\n",
    "\n",
    "> \"Using BioPython to convert the reference human genome proteins into individual fasta files.\""
   ]
  },
  {
   "cell_type": "code",
   "execution_count": null,
   "id": "b1d54343-5ea1-4280-8523-20c2cb3a933e",
   "metadata": {},
   "outputs": [],
   "source": [
    "#| default_exp features.protein"
   ]
  },
  {
   "cell_type": "code",
   "execution_count": null,
   "id": "f8f2eec3-38f8-4b95-bd12-e6c1bad42a8b",
   "metadata": {},
   "outputs": [],
   "source": [
    "#| hide\n",
    "from nbdev.showdoc import *"
   ]
  },
  {
   "cell_type": "code",
   "execution_count": null,
   "id": "25678b47-d054-4fc6-8360-1fbf044e4e3b",
   "metadata": {},
   "outputs": [],
   "source": [
    "#| export\n",
    "from Bio import SeqIO\n",
    "from pathlib import Path\n",
    "from yaml import safe_load\n",
    "from tqdm.auto import tqdm"
   ]
  },
  {
   "cell_type": "code",
   "execution_count": null,
   "id": "498af3f7-6750-4cea-b3f4-ac59cf6ec819",
   "metadata": {},
   "outputs": [],
   "source": [
    "#| hide\n",
    "with open(\"../config.yml\", \"r\") as f:\n",
    "    config = safe_load(f)\n",
    "    \n",
    "data_path = Path(config.get(\"data_path\"))"
   ]
  },
  {
   "cell_type": "code",
   "execution_count": null,
   "id": "de58be2c-0092-4b60-9835-199c1fccf851",
   "metadata": {},
   "outputs": [],
   "source": [
    "#| export\n",
    "def break_proteins_into_fasta_files(\n",
    "    protein_file_path: Path, \n",
    "    write_path: Path,\n",
    "):\n",
    "    \"\"\"\n",
    "    Insert the fasta-annotated sequence records from our reference genome \n",
    "    into our sqlite3 database.\n",
    "    \"\"\"\n",
    "    # This only works for fasta files\n",
    "    sequences = 0\n",
    "    with protein_file_path.open(\"r\") as f:\n",
    "        for line in f.readlines():\n",
    "            if line.startswith(\">\"):\n",
    "                sequences += 1\n",
    "    progress_bar = tqdm(total=sequences)\n",
    "    for i, seq_record in enumerate(SeqIO.parse(protein_file_path, \"fasta\")):\n",
    "        seq_record_write_path = write_path / f\"{seq_record.id}.fasta\"\n",
    "        if not seq_record_write_path.exists():\n",
    "            with seq_record_write_path.open(\"w+\") as out:\n",
    "                SeqIO.write([seq_record], out, \"fasta\")\n",
    "        progress_bar.update(1)\n",
    "    progress_bar.close()"
   ]
  },
  {
   "cell_type": "code",
   "execution_count": null,
   "id": "13651484-5847-4679-b566-e2b2cbaf5f20",
   "metadata": {},
   "outputs": [
    {
     "data": {
      "application/vnd.jupyter.widget-view+json": {
       "model_id": "16bc6438fff04622ba1de31d17e6085d",
       "version_major": 2,
       "version_minor": 0
      },
      "text/plain": [
       "  0%|          | 0/136193 [00:00<?, ?it/s]"
      ]
     },
     "metadata": {},
     "output_type": "display_data"
    }
   ],
   "source": [
    "#| hide\n",
    "protein_fasta_write_path = data_path / \"protein\"\n",
    "if not protein_fasta_write_path.exists():\n",
    "    protein_fasta_write_path.mkdir()\n",
    "\n",
    "break_proteins_into_fasta_files(\n",
    "    data_path / \"raw/GRCh38_latest_protein.faa\",\n",
    "    protein_fasta_write_path\n",
    ")"
   ]
  },
  {
   "cell_type": "code",
   "execution_count": null,
   "id": "1eb90f48-bd48-4c97-8a56-2fadc1623501",
   "metadata": {},
   "outputs": [
    {
     "data": {
      "text/plain": [
       "Counter({'L': 143,\n",
       "         'V': 139,\n",
       "         'S': 123,\n",
       "         'E': 104,\n",
       "         'T': 101,\n",
       "         'A': 93,\n",
       "         'G': 91,\n",
       "         'K': 89,\n",
       "         'P': 78,\n",
       "         'Q': 73,\n",
       "         'N': 64,\n",
       "         'F': 62,\n",
       "         'I': 57,\n",
       "         'Y': 56,\n",
       "         'D': 53,\n",
       "         'R': 46,\n",
       "         'H': 40,\n",
       "         'M': 26,\n",
       "         'C': 25,\n",
       "         'W': 11})"
      ]
     },
     "execution_count": null,
     "metadata": {},
     "output_type": "execute_result"
    }
   ],
   "source": [
    "#| hide\n",
    "# Load a sample protein fasta file\n",
    "from collections import Counter\n",
    "\n",
    "sample_protein_sequence = next(\n",
    "    SeqIO.parse(\n",
    "        next(\n",
    "            (data_path / \"protein\").glob(\"*.fasta\")\n",
    "        ),\n",
    "        \"fasta\"\n",
    "    )\n",
    ")\n",
    "protein_sequence_counter = Counter(sample_protein_sequence.seq)\n",
    "protein_sequence_counter"
   ]
  },
  {
   "cell_type": "code",
   "execution_count": null,
   "id": "c38142b4-fc1b-426d-869a-27b5c6862fc5",
   "metadata": {},
   "outputs": [
    {
     "data": {
      "text/plain": [
       "SeqRecord(seq=Seq('MGKNKLLHPSLVLLLLVLLPTDASVSGKPQYMVLVPSLLHTETTEKGCVLLSYL...GNA'), id='NP_000005.3', name='NP_000005.3', description='NP_000005.3 alpha-2-macroglobulin isoform a precursor [Homo sapiens]', dbxrefs=[])"
      ]
     },
     "execution_count": null,
     "metadata": {},
     "output_type": "execute_result"
    }
   ],
   "source": [
    "#| hide\n",
    "sample_protein_sequence"
   ]
  },
  {
   "cell_type": "code",
   "execution_count": null,
   "id": "5b22825d-d948-4695-a017-06c274f6f184",
   "metadata": {},
   "outputs": [],
   "source": [
    "#| hide\n",
    "import nbdev; nbdev.nbdev_export()"
   ]
  },
  {
   "cell_type": "code",
   "execution_count": null,
   "id": "2bf79138-c5b0-4a7a-8dcb-0e6808671558",
   "metadata": {},
   "outputs": [],
   "source": []
  }
 ],
 "metadata": {
  "kernelspec": {
   "display_name": "python3",
   "language": "python",
   "name": "python3"
  }
 },
 "nbformat": 4,
 "nbformat_minor": 5
}
